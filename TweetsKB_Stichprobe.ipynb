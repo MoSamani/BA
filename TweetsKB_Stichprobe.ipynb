{
 "cells": [
  {
   "cell_type": "code",
   "execution_count": 2,
   "id": "1cf9ba9d",
   "metadata": {},
   "outputs": [],
   "source": [
    "#CSV Bibliothek importieren \n",
    "import csv\n",
    "#Pandas importieren und als pd bezeichnen\n",
    "import pandas as pd\n",
    "#Numpy importieren und als np bezeichnen \n",
    "import numpy as np\n",
    "#Json Biliothek importieren\n",
    "import json\n",
    "#Obere Schranke für die Größe der Daten auf 100,000,000 setzen  \n",
    "csv.field_size_limit(100000000)\n",
    "#Maximale Anzahl von Zeilen und Spalten Zeigen \n",
    "pd.options.display.max_columns = None\n",
    "pd.options.display.max_rows = None"
   ]
  },
  {
   "cell_type": "markdown",
   "id": "cd5de0b8",
   "metadata": {},
   "source": [
    "---"
   ]
  },
  {
   "cell_type": "markdown",
   "id": "95224309",
   "metadata": {},
   "source": [
    "# TweetsKB"
   ]
  },
  {
   "cell_type": "markdown",
   "id": "dbea84e7",
   "metadata": {},
   "source": [
    "#### In diesem Notebook werden folgende Schritte unternommen:\n",
    "\n",
    "1. Es wird bestimmt, in welchem Zeitraum die in der Stichprobe gegebenen Tweets verfasst wurden.\n",
    "2. Die früher als 30.09.2019 geposteten Tweets werden aus Stichprobe entfernt. (Der früheste Tweet in TweetsCov19 wurde am 30.09.2019 gepostet).\n",
    "3. Die Stichprobe wird gespeichert."
   ]
  },
  {
   "cell_type": "markdown",
   "id": "926d531e",
   "metadata": {},
   "source": [
    "***"
   ]
  },
  {
   "cell_type": "code",
   "execution_count": 3,
   "id": "31288333",
   "metadata": {},
   "outputs": [
    {
     "name": "stdout",
     "output_type": "stream",
     "text": [
      "(9481019, 9)\n"
     ]
    },
    {
     "data": {
      "text/html": [
       "<div>\n",
       "<style scoped>\n",
       "    .dataframe tbody tr th:only-of-type {\n",
       "        vertical-align: middle;\n",
       "    }\n",
       "\n",
       "    .dataframe tbody tr th {\n",
       "        vertical-align: top;\n",
       "    }\n",
       "\n",
       "    .dataframe thead th {\n",
       "        text-align: right;\n",
       "    }\n",
       "</style>\n",
       "<table border=\"1\" class=\"dataframe\">\n",
       "  <thead>\n",
       "    <tr style=\"text-align: right;\">\n",
       "      <th></th>\n",
       "      <th>Tweet Id</th>\n",
       "      <th>Benutzername</th>\n",
       "      <th>Zeitstempel</th>\n",
       "      <th>Abonnenten</th>\n",
       "      <th>Abonnierten</th>\n",
       "      <th>Retweets</th>\n",
       "      <th>Likes</th>\n",
       "      <th>Text</th>\n",
       "      <th>URLs</th>\n",
       "    </tr>\n",
       "  </thead>\n",
       "  <tbody>\n",
       "    <tr>\n",
       "      <th>0</th>\n",
       "      <td>1002250450777792512</td>\n",
       "      <td>NakedPapis</td>\n",
       "      <td>Thu May 31 18:08:23 +0000 2018</td>\n",
       "      <td>51538</td>\n",
       "      <td>1</td>\n",
       "      <td>119</td>\n",
       "      <td>559</td>\n",
       "      <td>Chafa sucks Caution: https://t.co/MMsjQbGz1M h...</td>\n",
       "      <td>http://bilatinmen.com/latin_men_preview/model1...</td>\n",
       "    </tr>\n",
       "    <tr>\n",
       "      <th>1</th>\n",
       "      <td>1003106901515784193</td>\n",
       "      <td>PortlusGlam</td>\n",
       "      <td>Sun Jun 03 02:51:36 +0000 2018</td>\n",
       "      <td>6324</td>\n",
       "      <td>622</td>\n",
       "      <td>183</td>\n",
       "      <td>202</td>\n",
       "      <td>The plane Giuliani arrived in from London to U...</td>\n",
       "      <td>https://www.usnews.com/news/national-news/arti...</td>\n",
       "    </tr>\n",
       "    <tr>\n",
       "      <th>2</th>\n",
       "      <td>1003833136978022400</td>\n",
       "      <td>JiminUncut</td>\n",
       "      <td>Tue Jun 05 02:57:24 +0000 2018</td>\n",
       "      <td>25075</td>\n",
       "      <td>39</td>\n",
       "      <td>26</td>\n",
       "      <td>136</td>\n",
       "      <td>I feel what happens offstage is just as import...</td>\n",
       "      <td>null;</td>\n",
       "    </tr>\n",
       "    <tr>\n",
       "      <th>3</th>\n",
       "      <td>1004145784869347328</td>\n",
       "      <td>eXaltAircraft</td>\n",
       "      <td>Tue Jun 05 23:39:45 +0000 2018</td>\n",
       "      <td>19</td>\n",
       "      <td>2</td>\n",
       "      <td>3</td>\n",
       "      <td>2</td>\n",
       "      <td>eXalt #SOLO, play in the 3rd dimension without...</td>\n",
       "      <td>null;</td>\n",
       "    </tr>\n",
       "    <tr>\n",
       "      <th>4</th>\n",
       "      <td>1004464295348981761</td>\n",
       "      <td>Francis50441920</td>\n",
       "      <td>Wed Jun 06 20:45:24 +0000 2018</td>\n",
       "      <td>9081</td>\n",
       "      <td>9114</td>\n",
       "      <td>10</td>\n",
       "      <td>0</td>\n",
       "      <td>Who is the real father of Barack Hussein Obama...</td>\n",
       "      <td>null;</td>\n",
       "    </tr>\n",
       "    <tr>\n",
       "      <th>5</th>\n",
       "      <td>1005157223289507845</td>\n",
       "      <td>hoopsvids</td>\n",
       "      <td>Fri Jun 08 18:38:51 +0000 2018</td>\n",
       "      <td>96694</td>\n",
       "      <td>29113</td>\n",
       "      <td>167</td>\n",
       "      <td>440</td>\n",
       "      <td>What if this actually happened..... https://t....</td>\n",
       "      <td>https://twitter.com/johanbakerr/status/1004837...</td>\n",
       "    </tr>\n",
       "    <tr>\n",
       "      <th>6</th>\n",
       "      <td>1005196200088358912</td>\n",
       "      <td>blvck_Witch</td>\n",
       "      <td>Fri Jun 08 21:13:44 +0000 2018</td>\n",
       "      <td>38981</td>\n",
       "      <td>11831</td>\n",
       "      <td>2015</td>\n",
       "      <td>4021</td>\n",
       "      <td>It's scary knowing that any time could be the ...</td>\n",
       "      <td>null;</td>\n",
       "    </tr>\n",
       "    <tr>\n",
       "      <th>7</th>\n",
       "      <td>1005575915697516545</td>\n",
       "      <td>myflowerbyjbj</td>\n",
       "      <td>Sat Jun 09 22:22:35 +0000 2018</td>\n",
       "      <td>154</td>\n",
       "      <td>712</td>\n",
       "      <td>54</td>\n",
       "      <td>148</td>\n",
       "      <td>The Boyz covering The Boys by SNSD. Truly icon...</td>\n",
       "      <td>null;</td>\n",
       "    </tr>\n",
       "    <tr>\n",
       "      <th>8</th>\n",
       "      <td>1006595577394626560</td>\n",
       "      <td>TheeDreadGod</td>\n",
       "      <td>Tue Jun 12 17:54:21 +0000 2018</td>\n",
       "      <td>60423</td>\n",
       "      <td>39767</td>\n",
       "      <td>371</td>\n",
       "      <td>1103</td>\n",
       "      <td>My 8 or 9 people I wanna smash https://t.co/ig...</td>\n",
       "      <td>null;</td>\n",
       "    </tr>\n",
       "    <tr>\n",
       "      <th>9</th>\n",
       "      <td>1007108406165975040</td>\n",
       "      <td>coochieprintz</td>\n",
       "      <td>Thu Jun 14 03:52:09 +0000 2018</td>\n",
       "      <td>654</td>\n",
       "      <td>358</td>\n",
       "      <td>11782</td>\n",
       "      <td>31202</td>\n",
       "      <td>Dudes will be 46, have their age preference se...</td>\n",
       "      <td>null;</td>\n",
       "    </tr>\n",
       "  </tbody>\n",
       "</table>\n",
       "</div>"
      ],
      "text/plain": [
       "              Tweet Id     Benutzername                     Zeitstempel  \\\n",
       "0  1002250450777792512       NakedPapis  Thu May 31 18:08:23 +0000 2018   \n",
       "1  1003106901515784193      PortlusGlam  Sun Jun 03 02:51:36 +0000 2018   \n",
       "2  1003833136978022400       JiminUncut  Tue Jun 05 02:57:24 +0000 2018   \n",
       "3  1004145784869347328    eXaltAircraft  Tue Jun 05 23:39:45 +0000 2018   \n",
       "4  1004464295348981761  Francis50441920  Wed Jun 06 20:45:24 +0000 2018   \n",
       "5  1005157223289507845        hoopsvids  Fri Jun 08 18:38:51 +0000 2018   \n",
       "6  1005196200088358912      blvck_Witch  Fri Jun 08 21:13:44 +0000 2018   \n",
       "7  1005575915697516545    myflowerbyjbj  Sat Jun 09 22:22:35 +0000 2018   \n",
       "8  1006595577394626560     TheeDreadGod  Tue Jun 12 17:54:21 +0000 2018   \n",
       "9  1007108406165975040    coochieprintz  Thu Jun 14 03:52:09 +0000 2018   \n",
       "\n",
       "   Abonnenten  Abonnierten  Retweets  Likes  \\\n",
       "0       51538            1       119    559   \n",
       "1        6324          622       183    202   \n",
       "2       25075           39        26    136   \n",
       "3          19            2         3      2   \n",
       "4        9081         9114        10      0   \n",
       "5       96694        29113       167    440   \n",
       "6       38981        11831      2015   4021   \n",
       "7         154          712        54    148   \n",
       "8       60423        39767       371   1103   \n",
       "9         654          358     11782  31202   \n",
       "\n",
       "                                                Text  \\\n",
       "0  Chafa sucks Caution: https://t.co/MMsjQbGz1M h...   \n",
       "1  The plane Giuliani arrived in from London to U...   \n",
       "2  I feel what happens offstage is just as import...   \n",
       "3  eXalt #SOLO, play in the 3rd dimension without...   \n",
       "4  Who is the real father of Barack Hussein Obama...   \n",
       "5  What if this actually happened..... https://t....   \n",
       "6  It's scary knowing that any time could be the ...   \n",
       "7  The Boyz covering The Boys by SNSD. Truly icon...   \n",
       "8  My 8 or 9 people I wanna smash https://t.co/ig...   \n",
       "9  Dudes will be 46, have their age preference se...   \n",
       "\n",
       "                                                URLs  \n",
       "0  http://bilatinmen.com/latin_men_preview/model1...  \n",
       "1  https://www.usnews.com/news/national-news/arti...  \n",
       "2                                              null;  \n",
       "3                                              null;  \n",
       "4                                              null;  \n",
       "5  https://twitter.com/johanbakerr/status/1004837...  \n",
       "6                                              null;  \n",
       "7                                              null;  \n",
       "8                                              null;  \n",
       "9                                              null;  "
      ]
     },
     "execution_count": 3,
     "metadata": {},
     "output_type": "execute_result"
    }
   ],
   "source": [
    "#Die Stichprobe aus TweetsKB lesen.\n",
    "tsv1 = 'C:/Mo/tweetDB/tweetscov19/tweetsCov19_tsv/data_sample/random_sample_tweetskb.tsv'\n",
    "\n",
    "df_tweetskb = pd.read_csv(tsv1, sep='\\t', error_bad_lines=False, names=['Tweet Id', 'Benutzername', 'Zeitstempel', 'Abonnenten', 'Abonnierten', 'Retweets', 'Likes', 'Text', 'URLs'])\n",
    "print('Form', df_tweetskb.shape)\n",
    "df_tweetskb.head(10)"
   ]
  },
  {
   "cell_type": "code",
   "execution_count": 3,
   "id": "458ed998",
   "metadata": {},
   "outputs": [],
   "source": [
    "#Die Tweets nach ihrem Zetstempel aufsteigend sortieren.\n",
    "df_tweetskb.Zeitstempel = pd.to_datetime(df_tweetskb.Zeitstempel)\n",
    "df_tweetskb.sort_values(by = ['Zeitstempel'], inplace=True, ascending = True)"
   ]
  },
  {
   "cell_type": "code",
   "execution_count": 6,
   "id": "c4ef895d",
   "metadata": {},
   "outputs": [
    {
     "name": "stdout",
     "output_type": "stream",
     "text": [
      "Start :  2006-04-04 19:35:51+00:00\n",
      "End   :  2020-05-31 21:59:54+00:00\n"
     ]
    }
   ],
   "source": [
    "start = df_tweetskb.Zeitstempel.iloc[0]\n",
    "ende = df_tweetskb.Zeitstempel.iloc[-1]\n",
    "\n",
    "print('Start : ', start)\n",
    "print('End   : ', ende)"
   ]
  },
  {
   "cell_type": "code",
   "execution_count": 4,
   "id": "672abe35",
   "metadata": {},
   "outputs": [
    {
     "name": "stdout",
     "output_type": "stream",
     "text": [
      "Größe : (9409841, 29)\n"
     ]
    }
   ],
   "source": [
    "#Die im Zeitraum von 30.90.2019 bis 31.05.2020 verfassten Tweets werden hier ausgewählt\n",
    "\n",
    "start = '2019-09-30 22:00:00+00:00'\n",
    "ende  = '2020-05-31 21:59:54+00:00'\n",
    "\n",
    "cond = (df_tweetskb['Zeitstempel'] >= start) & (df_tweetskb['Zeitstempel'] <= ende)\n",
    "df_tweetskb = df_tweetskb[cond]\n",
    "print('Größe :', df_tweetskb.shape)"
   ]
  },
  {
   "cell_type": "code",
   "execution_count": 6,
   "id": "0ea34e61",
   "metadata": {},
   "outputs": [],
   "source": [
    "#Stichprobe wird hier gespeichert.\n",
    "pfad_TweetsKB_stichprobe = 'C:/Mo/tweetDB/tweetscov19/TweetsCov19_tsv/data_sample/TweetsKB_stichprobe.tsv'\n",
    "with open(pfad_TweetsKB_stichprobe, 'w', newline='', encoding=\"utf-8\") as out_file:\n",
    "        tsv_writer = csv.writer(out_file, delimiter=\"\\t\")\n",
    "        for idx, row in df_tweetskb.iterrows():\n",
    "            tsv_writer.writerow(row.values.tolist())"
   ]
  }
 ],
 "metadata": {
  "kernelspec": {
   "display_name": "Python 3",
   "language": "python",
   "name": "python3"
  },
  "language_info": {
   "codemirror_mode": {
    "name": "ipython",
    "version": 3
   },
   "file_extension": ".py",
   "mimetype": "text/x-python",
   "name": "python",
   "nbconvert_exporter": "python",
   "pygments_lexer": "ipython3",
   "version": "3.8.8"
  }
 },
 "nbformat": 4,
 "nbformat_minor": 5
}
