{
 "cells": [
  {
   "cell_type": "code",
   "execution_count": 3,
   "metadata": {},
   "outputs": [],
   "source": [
    "#CSV Bibliothek importieren \n",
    "import csv\n",
    "#Pandas importieren und als pd bezeichnen\n",
    "import pandas as pd\n",
    "#Numpy importieren und als np bezeichnen \n",
    "import numpy as np\n",
    "#Json Biliothek importieren\n",
    "import json\n",
    "#Obere Schranke für die Größe der Daten auf 100,000,000 setzen  \n",
    "csv.field_size_limit(100000000)\n",
    "#Maximale Anzahl von Zeilen und Spalten Zeigen \n",
    "pd.options.display.max_columns = None\n",
    "pd.options.display.max_rows = None\n",
    "#Um die Zeiträume bearbeiten zu können\n",
    "from datetime import datetime\n",
    "#Seaborn für die Plot importieren\n",
    "import seaborn as sns\n",
    "#matplotlib Importieren und als plt bezeichnen\n",
    "import matplotlib.pyplot as plt\n",
    "#Macht die Plots inline\n",
    "%matplotlib inline \n",
    "#dates importieren, um Zeitstempel bearbeiten zu können\n",
    "import matplotlib.dates as mdates\n",
    "#tick importieren\n",
    "import matplotlib.ticker as tick"
   ]
  },
  {
   "cell_type": "markdown",
   "metadata": {},
   "source": [
    "***"
   ]
  },
  {
   "cell_type": "markdown",
   "metadata": {},
   "source": [
    "# TweetsCov19 & TweetsKB"
   ]
  },
  {
   "cell_type": "markdown",
   "metadata": {},
   "source": [
    "***"
   ]
  },
  {
   "cell_type": "code",
   "execution_count": 2,
   "metadata": {},
   "outputs": [],
   "source": [
    "#Die Domän-Kategorien werden in gelöschten und nicht gelöschten Tweets dargestellt(TweetsKB) \n",
    "def gepostete_und_geloschte_Tweets_kb(tweetskb, tweetscovid19, titel, columns):\n",
    "    \n",
    "    list_alle_tweetskb = tweetskb\n",
    "    list_alle_tweetsCov19 = tweetscovid19\n",
    "    list_monaten = columns\n",
    "\n",
    "    x = np.arange(len(list_monaten))\n",
    "    w = 0.3\n",
    "    plt.rcParams[\"figure.figsize\"] = [10,7]\n",
    "    fig, ax = plt.subplots()\n",
    "    \n",
    "   \n",
    "    ax.bar(x + w/2, list_alle_tweetskb, w, label='TweetsKB(gelöscht)', color = 'tan')\n",
    "    ax.bar(x - w/2, list_alle_tweetsCov19, w, label='TweetsKB(nich gelöscht)', color = 'darkslateblue')\n",
    "\n",
    "    #ax.set_ylabel('Mittelwert', fontweight=\"bold\")\n",
    "    #ax.set_title(titel, fontweight=\"bold\")\n",
    "    ax.set_xticks(x)\n",
    "    ax.set_xticklabels(list_monaten, fontsize=27,  rotation='vertical')\n",
    "    ax.yaxis.set_major_formatter(tick.PercentFormatter())\n",
    "    ax.tick_params(axis='x', which='major', labelsize=21)\n",
    "    ax.tick_params(axis='y', which='major', labelsize=17)\n",
    "\n",
    "    ax.legend(fontsize=17)\n",
    "\n",
    "    fig.tight_layout()\n",
    "    plt.show()\n",
    "    \n",
    "    pfad='./plots_pdfs/tweets_'+ titel +'.pdf'\n",
    "    fig.savefig(pfad)"
   ]
  },
  {
   "cell_type": "code",
   "execution_count": 31,
   "metadata": {},
   "outputs": [],
   "source": [
    "#Die Domän-Kategorien werden in gelöschten und nicht gelöschten Tweets dargestellt(tweetsKB) \n",
    "#Englische Labels\n",
    "def gepostete_und_geloschte_Tweets_kb_en(tweetskb, tweetscovid19, titel, columns):\n",
    "    \n",
    "    list_alle_tweetskb = tweetskb\n",
    "    list_alle_tweetsCov19 = tweetscovid19\n",
    "    list_monaten = columns\n",
    "\n",
    "    x = np.arange(len(list_monaten))\n",
    "    w = 0.3\n",
    "    plt.rcParams[\"figure.figsize\"] = [10,7]\n",
    "    fig, ax = plt.subplots()\n",
    "    \n",
    "   \n",
    "    ax.bar(x + w/2, list_alle_tweetskb, w, label='TweetsKB(Deleted)', color = 'tan')\n",
    "    ax.bar(x - w/2, list_alle_tweetsCov19, w, label='TweetsKB(Non-Deleted)', color = 'darkslateblue')\n",
    "\n",
    "    #ax.set_ylabel('Average', fontweight=\"bold\")\n",
    "    #ax.set_title(titel, fontweight=\"bold\")\n",
    "    ax.set_xticks(x)\n",
    "    ax.set_xticklabels(list_monaten, fontsize=27,  rotation='vertical')\n",
    "    ax.yaxis.set_major_formatter(tick.PercentFormatter())\n",
    "    ax.tick_params(axis='x', which='major', labelsize=21)\n",
    "    ax.tick_params(axis='y', which='major', labelsize=17)\n",
    "\n",
    "    ax.legend(fontsize=17)\n",
    "\n",
    "    fig.tight_layout()\n",
    "    plt.show()\n",
    "    \n",
    "    pfad='./plots_pdfs/tweets_'+ titel +'.pdf'\n",
    "    fig.savefig(pfad)"
   ]
  },
  {
   "cell_type": "code",
   "execution_count": 38,
   "metadata": {},
   "outputs": [],
   "source": [
    "#Die Domän-Kategorien werden in gelöschten und nicht gelöschten Tweets dargestellt(TweetsCov19) \n",
    "def gepostete_und_geloschte_Tweets_Cov19(tweetskb, tweetscovid19, titel, columns):\n",
    "    \n",
    "    list_alle_tweetskb = tweetskb\n",
    "    list_alle_tweetsCov19 = tweetscovid19\n",
    "    list_monaten = columns\n",
    "\n",
    "    x = np.arange(len(list_monaten))\n",
    "    w = 0.3\n",
    "    plt.rcParams[\"figure.figsize\"] = [10,7]\n",
    "    fig, ax = plt.subplots()\n",
    "    \n",
    "   \n",
    "    ax.bar(x + w/2, list_alle_tweetskb, w, label='TweetsCov19(gelöscht)', color = 'tan')\n",
    "    ax.bar(x - w/2, list_alle_tweetsCov19, w, label='TweetsCov19(nich gelöscht)', color = 'darkslateblue')\n",
    "\n",
    "    #ax.set_ylabel('Mittelwert', fontweight=\"bold\")\n",
    "    #ax.set_title(titel, fontweight=\"bold\")\n",
    "    ax.set_xticks(x)\n",
    "    ax.set_xticklabels(list_monaten, fontsize=27,  rotation='vertical')\n",
    "    ax.yaxis.set_major_formatter(tick.PercentFormatter())\n",
    "    ax.tick_params(axis='x', which='major', labelsize=21)\n",
    "    ax.tick_params(axis='y', which='major', labelsize=17)\n",
    "\n",
    "    ax.legend(fontsize=17)\n",
    "\n",
    "    fig.tight_layout()\n",
    "    plt.show()\n",
    "    \n",
    "    pfad='./plots_pdfs/tweets_'+ titel +'.pdf'\n",
    "    fig.savefig(pfad)"
   ]
  },
  {
   "cell_type": "code",
   "execution_count": 33,
   "metadata": {},
   "outputs": [],
   "source": [
    "#Die Domän-Kategorien werden in gelöschten und nicht gelöschten Tweets dargestellt(TweetsCov19) \n",
    "#Englische Labels\n",
    "def gepostete_und_geloschte_Tweets_Cov19_en(tweetskb, tweetscovid19, titel, columns):\n",
    "    \n",
    "    list_alle_tweetskb = tweetskb\n",
    "    list_alle_tweetsCov19 = tweetscovid19\n",
    "    list_monaten = columns\n",
    "\n",
    "    x = np.arange(len(list_monaten))\n",
    "    w = 0.3\n",
    "    plt.rcParams[\"figure.figsize\"] = [10,7]\n",
    "    fig, ax = plt.subplots()\n",
    "    \n",
    "   \n",
    "    ax.bar(x + w/2, list_alle_tweetskb, w, label='TweetsCov19(Deleted)', color = 'tan')\n",
    "    ax.bar(x - w/2, list_alle_tweetsCov19, w, label='TweetsCov19(Non-deleted)', color = 'darkslateblue')\n",
    "\n",
    "    #ax.set_ylabel('Average', fontweight=\"bold\")\n",
    "    #ax.set_title(titel, fontweight=\"bold\")\n",
    "    ax.set_xticks(x)\n",
    "    ax.set_xticklabels(list_monaten, fontsize=27,  rotation='vertical')\n",
    "    ax.yaxis.set_major_formatter(tick.PercentFormatter())\n",
    "    ax.tick_params(axis='x', which='major', labelsize=21)\n",
    "    ax.tick_params(axis='y', which='major', labelsize=17)\n",
    "\n",
    "    ax.legend(fontsize=17)\n",
    "\n",
    "    fig.tight_layout()\n",
    "    plt.show()\n",
    "    \n",
    "    pfad='./plots_pdfs/tweets_'+ titel +'.pdf'\n",
    "    fig.savefig(pfad)"
   ]
  },
  {
   "cell_type": "code",
   "execution_count": 34,
   "metadata": {},
   "outputs": [],
   "source": [
    "#Die Domän-Kategorien werden in geposteten Tweets dargestellt(TweetsCov19 vs TweetsKB)\n",
    "#Englische Labels\n",
    "def gepostete_und_geloschte_Tweets_kb_Cov19_en(tweetskb, tweetscovid19, titel, columns):\n",
    "    \n",
    "    list_alle_tweetskb = tweetskb\n",
    "    list_alle_tweetsCov19 = tweetscovid19\n",
    "    list_monaten = columns\n",
    "\n",
    "    x = np.arange(len(list_monaten))\n",
    "    w = 0.3\n",
    "    plt.rcParams[\"figure.figsize\"] = [10,7]\n",
    "    fig, ax = plt.subplots()\n",
    "    \n",
    "   \n",
    "    ax.bar(x + w/2, list_alle_tweetskb, w, label='TweetsCov19', color = 'tan')\n",
    "    ax.bar(x - w/2, list_alle_tweetsCov19, w, label='TweetsKB', color = 'darkslateblue')\n",
    "\n",
    "    #ax.set_ylabel('Average', fontweight=\"bold\")\n",
    "    #ax.set_title(titel, fontweight=\"bold\")\n",
    "    ax.set_xticks(x)\n",
    "    ax.set_xticklabels(list_monaten, fontsize=27,  rotation='vertical')\n",
    "    ax.yaxis.set_major_formatter(tick.PercentFormatter())\n",
    "    ax.tick_params(axis='x', which='major', labelsize=21)\n",
    "    ax.tick_params(axis='y', which='major', labelsize=17)\n",
    "\n",
    "    ax.legend(fontsize=17)\n",
    "\n",
    "    fig.tight_layout()\n",
    "    plt.show()\n",
    "    \n",
    "    pfad='./plots_pdfs/tweets_'+ titel +'.pdf'\n",
    "    fig.savefig(pfad)"
   ]
  },
  {
   "cell_type": "code",
   "execution_count": 35,
   "metadata": {},
   "outputs": [],
   "source": [
    "#Die Domän-Kategorien werden in geposteten Tweets dargestellt(TweetsCov19 vs TweetsKB)\n",
    "def gepostete_und_geloschte_Tweets_kb_Cov19(tweetskb, tweetscovid19, titel, columns):\n",
    "    \n",
    "    list_alle_tweetskb = tweetskb\n",
    "    list_alle_tweetsCov19 = tweetscovid19\n",
    "    list_monaten = columns\n",
    "\n",
    "    x = np.arange(len(list_monaten))\n",
    "    w = 0.3\n",
    "    plt.rcParams[\"figure.figsize\"] = [10,7]\n",
    "    fig, ax = plt.subplots()\n",
    "    \n",
    "   \n",
    "    ax.bar(x + w/2, list_alle_tweetskb, w, label='TweetsCov19', color = 'tan')\n",
    "    ax.bar(x - w/2, list_alle_tweetsCov19, w, label='TweetsKB', color = 'darkslateblue')\n",
    "\n",
    "    #ax.set_ylabel('Mittelwert', fontweight=\"bold\")\n",
    "    #ax.set_title(titel, fontweight=\"bold\")\n",
    "    ax.set_xticks(x)\n",
    "    ax.set_xticklabels(list_monaten, fontsize=27,  rotation='vertical')\n",
    "    ax.yaxis.set_major_formatter(tick.PercentFormatter())\n",
    "    ax.tick_params(axis='x', which='major', labelsize=21)\n",
    "    ax.tick_params(axis='y', which='major', labelsize=17)\n",
    "\n",
    "    ax.legend(fontsize=17)\n",
    "\n",
    "    fig.tight_layout()\n",
    "    plt.show()\n",
    "    \n",
    "    pfad='./plots_pdfs/tweets_'+ titel +'.jpg'\n",
    "    fig.savefig(pfad)"
   ]
  },
  {
   "cell_type": "markdown",
   "metadata": {},
   "source": [
    "***"
   ]
  },
  {
   "cell_type": "markdown",
   "metadata": {},
   "source": [
    "## TweetsCov19:"
   ]
  },
  {
   "cell_type": "markdown",
   "metadata": {},
   "source": [
    "***"
   ]
  },
  {
   "cell_type": "code",
   "execution_count": 10,
   "metadata": {},
   "outputs": [
    {
     "name": "stdout",
     "output_type": "stream",
     "text": [
      "(9409841, 16)\n"
     ]
    },
    {
     "data": {
      "text/html": [
       "<div>\n",
       "<style scoped>\n",
       "    .dataframe tbody tr th:only-of-type {\n",
       "        vertical-align: middle;\n",
       "    }\n",
       "\n",
       "    .dataframe tbody tr th {\n",
       "        vertical-align: top;\n",
       "    }\n",
       "\n",
       "    .dataframe thead th {\n",
       "        text-align: right;\n",
       "    }\n",
       "</style>\n",
       "<table border=\"1\" class=\"dataframe\">\n",
       "  <thead>\n",
       "    <tr style=\"text-align: right;\">\n",
       "      <th></th>\n",
       "      <th>Tweet_Id</th>\n",
       "      <th>is_deleted</th>\n",
       "      <th>URLs_dom</th>\n",
       "      <th>URLs_num</th>\n",
       "      <th>dom_cat</th>\n",
       "      <th>news</th>\n",
       "      <th>socialnet</th>\n",
       "      <th>movies</th>\n",
       "      <th>searchengines</th>\n",
       "      <th>shopping</th>\n",
       "      <th>radiotv</th>\n",
       "      <th>forum</th>\n",
       "      <th>music</th>\n",
       "      <th>porn</th>\n",
       "      <th>government</th>\n",
       "      <th>others</th>\n",
       "    </tr>\n",
       "  </thead>\n",
       "  <tbody>\n",
       "    <tr>\n",
       "      <th>0</th>\n",
       "      <td>1178791787386814465</td>\n",
       "      <td>False</td>\n",
       "      <td>0</td>\n",
       "      <td>0</td>\n",
       "      <td>0</td>\n",
       "      <td>0.0</td>\n",
       "      <td>0.0</td>\n",
       "      <td>0.0</td>\n",
       "      <td>0.0</td>\n",
       "      <td>0.0</td>\n",
       "      <td>0.0</td>\n",
       "      <td>0.0</td>\n",
       "      <td>0.0</td>\n",
       "      <td>0.0</td>\n",
       "      <td>0.0</td>\n",
       "      <td>0.0</td>\n",
       "    </tr>\n",
       "    <tr>\n",
       "      <th>1</th>\n",
       "      <td>1178791985106153472</td>\n",
       "      <td>True</td>\n",
       "      <td>twitter.com</td>\n",
       "      <td>1</td>\n",
       "      <td>socialnet</td>\n",
       "      <td>0.0</td>\n",
       "      <td>1.0</td>\n",
       "      <td>0.0</td>\n",
       "      <td>0.0</td>\n",
       "      <td>0.0</td>\n",
       "      <td>0.0</td>\n",
       "      <td>0.0</td>\n",
       "      <td>0.0</td>\n",
       "      <td>0.0</td>\n",
       "      <td>0.0</td>\n",
       "      <td>0.0</td>\n",
       "    </tr>\n",
       "    <tr>\n",
       "      <th>2</th>\n",
       "      <td>1178793230223183872</td>\n",
       "      <td>False</td>\n",
       "      <td>goo.gl</td>\n",
       "      <td>1</td>\n",
       "      <td>urlshortener</td>\n",
       "      <td>0.0</td>\n",
       "      <td>0.0</td>\n",
       "      <td>0.0</td>\n",
       "      <td>0.0</td>\n",
       "      <td>0.0</td>\n",
       "      <td>0.0</td>\n",
       "      <td>0.0</td>\n",
       "      <td>0.0</td>\n",
       "      <td>0.0</td>\n",
       "      <td>0.0</td>\n",
       "      <td>1.0</td>\n",
       "    </tr>\n",
       "    <tr>\n",
       "      <th>3</th>\n",
       "      <td>1178795172206919680</td>\n",
       "      <td>True</td>\n",
       "      <td>0</td>\n",
       "      <td>0</td>\n",
       "      <td>0</td>\n",
       "      <td>0.0</td>\n",
       "      <td>0.0</td>\n",
       "      <td>0.0</td>\n",
       "      <td>0.0</td>\n",
       "      <td>0.0</td>\n",
       "      <td>0.0</td>\n",
       "      <td>0.0</td>\n",
       "      <td>0.0</td>\n",
       "      <td>0.0</td>\n",
       "      <td>0.0</td>\n",
       "      <td>0.0</td>\n",
       "    </tr>\n",
       "    <tr>\n",
       "      <th>4</th>\n",
       "      <td>1178798309491822592</td>\n",
       "      <td>False</td>\n",
       "      <td>0</td>\n",
       "      <td>0</td>\n",
       "      <td>0</td>\n",
       "      <td>0.0</td>\n",
       "      <td>0.0</td>\n",
       "      <td>0.0</td>\n",
       "      <td>0.0</td>\n",
       "      <td>0.0</td>\n",
       "      <td>0.0</td>\n",
       "      <td>0.0</td>\n",
       "      <td>0.0</td>\n",
       "      <td>0.0</td>\n",
       "      <td>0.0</td>\n",
       "      <td>0.0</td>\n",
       "    </tr>\n",
       "  </tbody>\n",
       "</table>\n",
       "</div>"
      ],
      "text/plain": [
       "              Tweet_Id  is_deleted     URLs_dom  URLs_num       dom_cat  news  \\\n",
       "0  1178791787386814465       False            0         0             0   0.0   \n",
       "1  1178791985106153472        True  twitter.com         1     socialnet   0.0   \n",
       "2  1178793230223183872       False       goo.gl         1  urlshortener   0.0   \n",
       "3  1178795172206919680        True            0         0             0   0.0   \n",
       "4  1178798309491822592       False            0         0             0   0.0   \n",
       "\n",
       "   socialnet  movies  searchengines  shopping  radiotv  forum  music  porn  \\\n",
       "0        0.0     0.0            0.0       0.0      0.0    0.0    0.0   0.0   \n",
       "1        1.0     0.0            0.0       0.0      0.0    0.0    0.0   0.0   \n",
       "2        0.0     0.0            0.0       0.0      0.0    0.0    0.0   0.0   \n",
       "3        0.0     0.0            0.0       0.0      0.0    0.0    0.0   0.0   \n",
       "4        0.0     0.0            0.0       0.0      0.0    0.0    0.0   0.0   \n",
       "\n",
       "   government  others  \n",
       "0         0.0     0.0  \n",
       "1         0.0     0.0  \n",
       "2         0.0     1.0  \n",
       "3         0.0     0.0  \n",
       "4         0.0     0.0  "
      ]
     },
     "execution_count": 10,
     "metadata": {},
     "output_type": "execute_result"
    }
   ],
   "source": [
    "#Die Dataframe, die die daten über Domänkategorien enthält, wird gelesen. \n",
    "pfad ='../Data/Dataframes/tweetscov19_domains_shalla_categorisieret_top_ten.tsv'\n",
    "\n",
    "df_tweetscov19_domains_shalla_cat = pd.read_csv(pfad, sep='\\t', error_bad_lines=False, names=['Tweet_Id', 'is_deleted', 'URLs_dom', 'URLs_num', 'dom_cat', 'news', 'socialnet', 'movies', 'searchengines', 'shopping', 'radiotv', 'forum', 'music', 'porn', 'government', 'others'])\n",
    "print(df_tweetscov19_domains_shalla_cat.shape)\n",
    "df_tweetscov19_domains_shalla_cat.head()"
   ]
  },
  {
   "cell_type": "code",
   "execution_count": 9,
   "metadata": {},
   "outputs": [],
   "source": [
    "#Die gelöschten tweets von nicht gelöschten Tweets werden gettrennt.\n",
    "df_tweetscov19_domains_shalla_cat_del = df_tweetscov19_domains_shalla_cat[df_tweetscov19_domains_shalla_cat['is_deleted'] == True]\n",
    "df_tweetscov19_domains_shalla_cat_undel = df_tweetscov19_domains_shalla_cat[df_tweetscov19_domains_shalla_cat['is_deleted'] == False]"
   ]
  },
  {
   "cell_type": "code",
   "execution_count": 10,
   "metadata": {},
   "outputs": [],
   "source": [
    "#Alle Tweets in TweetsCov19 werden gesucht, die einzigartige Kategorieren werden aussortieret\n",
    "#Es wird bestimmt, wie viele der Domain-Kategorien benutzt wurden. \n",
    "import ast\n",
    "df_tweetscov19_domains_shalla_cat['dom_cat'] = df_tweetscov19_domains_shalla_cat['dom_cat'].astype(str)\n",
    "\n",
    "dict_tweetscov_domains_cat = {}\n",
    "x = 0\n",
    "list_cat = []\n",
    "for idx, row in df_tweetscov19_domains_shalla_cat.iterrows():\n",
    "    list_cat = (row.values.tolist()[4])\n",
    "    list_cat = list_cat.split()\n",
    "    for i in range(0, len(list_cat)):\n",
    "        cat = list_cat[i]\n",
    "        x += 1\n",
    "        if cat not in dict_tweetscov_domains_cat:\n",
    "            dict_tweetscov_domains_cat[cat] = 1\n",
    "        else :\n",
    "            dict_tweetscov_domains_cat[cat] = dict_tweetscov_domains_cat[cat] +1\n",
    "    #if x == 50:\n",
    "    #    break"
   ]
  },
  {
   "cell_type": "code",
   "execution_count": 11,
   "metadata": {},
   "outputs": [],
   "source": [
    "#Das Dictionary zu Datframe umwandeln. \n",
    "df_dict_tweetscov19_dom_cat = pd.DataFrame(dict_tweetscov_domains_cat.items(), columns=['Domain_Cat','Zahl'])"
   ]
  },
  {
   "cell_type": "code",
   "execution_count": 12,
   "metadata": {},
   "outputs": [
    {
     "name": "stdout",
     "output_type": "stream",
     "text": [
      "Anzahl der Kategorien: 75\n"
     ]
    }
   ],
   "source": [
    "#Anzahl der benutzten Kategorien in TweetsCov19\n",
    "print('Anzahl der Kategorien:' ,df_dict_tweetscov19_dom_cat.Domain_Cat.size)"
   ]
  },
  {
   "cell_type": "code",
   "execution_count": 13,
   "metadata": {},
   "outputs": [
    {
     "data": {
      "text/plain": [
       "2508542"
      ]
     },
     "execution_count": 13,
     "metadata": {},
     "output_type": "execute_result"
    }
   ],
   "source": [
    "#Anzahl der benutzten Domäne(URLs) in TweetsCov19 \n",
    "Anzahl_URLs = df_tweetscov19_domains_shalla_cat.URLs_num.sum()\n",
    "Anzahl_URLs"
   ]
  },
  {
   "cell_type": "code",
   "execution_count": 14,
   "metadata": {},
   "outputs": [
    {
     "data": {
      "text/html": [
       "<div>\n",
       "<style scoped>\n",
       "    .dataframe tbody tr th:only-of-type {\n",
       "        vertical-align: middle;\n",
       "    }\n",
       "\n",
       "    .dataframe tbody tr th {\n",
       "        vertical-align: top;\n",
       "    }\n",
       "\n",
       "    .dataframe thead th {\n",
       "        text-align: right;\n",
       "    }\n",
       "</style>\n",
       "<table border=\"1\" class=\"dataframe\">\n",
       "  <thead>\n",
       "    <tr style=\"text-align: right;\">\n",
       "      <th></th>\n",
       "      <th>Domain_Cat</th>\n",
       "      <th>Zahl</th>\n",
       "      <th>prozent</th>\n",
       "    </tr>\n",
       "  </thead>\n",
       "  <tbody>\n",
       "    <tr>\n",
       "      <th>0</th>\n",
       "      <td>0</td>\n",
       "      <td>6990537</td>\n",
       "      <td>278.669323</td>\n",
       "    </tr>\n",
       "    <tr>\n",
       "      <th>5</th>\n",
       "      <td>nan</td>\n",
       "      <td>1126830</td>\n",
       "      <td>44.919718</td>\n",
       "    </tr>\n",
       "    <tr>\n",
       "      <th>4</th>\n",
       "      <td>news</td>\n",
       "      <td>641385</td>\n",
       "      <td>25.568039</td>\n",
       "    </tr>\n",
       "    <tr>\n",
       "      <th>1</th>\n",
       "      <td>socialnet</td>\n",
       "      <td>364531</td>\n",
       "      <td>14.531588</td>\n",
       "    </tr>\n",
       "    <tr>\n",
       "      <th>3</th>\n",
       "      <td>movies</td>\n",
       "      <td>125938</td>\n",
       "      <td>5.020366</td>\n",
       "    </tr>\n",
       "    <tr>\n",
       "      <th>11</th>\n",
       "      <td>searchengines</td>\n",
       "      <td>37265</td>\n",
       "      <td>1.485524</td>\n",
       "    </tr>\n",
       "    <tr>\n",
       "      <th>7</th>\n",
       "      <td>shopping</td>\n",
       "      <td>27715</td>\n",
       "      <td>1.104825</td>\n",
       "    </tr>\n",
       "    <tr>\n",
       "      <th>13</th>\n",
       "      <td>radiotv</td>\n",
       "      <td>23925</td>\n",
       "      <td>0.953741</td>\n",
       "    </tr>\n",
       "    <tr>\n",
       "      <th>8</th>\n",
       "      <td>forum</td>\n",
       "      <td>20242</td>\n",
       "      <td>0.806923</td>\n",
       "    </tr>\n",
       "    <tr>\n",
       "      <th>16</th>\n",
       "      <td>music</td>\n",
       "      <td>19372</td>\n",
       "      <td>0.772241</td>\n",
       "    </tr>\n",
       "  </tbody>\n",
       "</table>\n",
       "</div>"
      ],
      "text/plain": [
       "       Domain_Cat     Zahl     prozent\n",
       "0               0  6990537  278.669323\n",
       "5             nan  1126830   44.919718\n",
       "4            news   641385   25.568039\n",
       "1       socialnet   364531   14.531588\n",
       "3          movies   125938    5.020366\n",
       "11  searchengines    37265    1.485524\n",
       "7        shopping    27715    1.104825\n",
       "13        radiotv    23925    0.953741\n",
       "8           forum    20242    0.806923\n",
       "16          music    19372    0.772241"
      ]
     },
     "execution_count": 14,
     "metadata": {},
     "output_type": "execute_result"
    }
   ],
   "source": [
    "#Die Prozentzahl der benutzten Domäne werden in TweetsCov19 berechnet.\n",
    "df_dict_tweetscov19_dom_cat['prozent'] =  df_dict_tweetscov19_dom_cat['Zahl'].apply(lambda row : ((row /Anzahl_URLs) * 100) )\n",
    "\n",
    "df_dict_tweetscov19_dom_cat['Zahl'] = df_dict_tweetscov19_dom_cat['Zahl'].astype(int) \n",
    "df_dict_tweetscov19_dom_cat.sort_values(by = ['Zahl'], ascending = False, inplace = True)\n",
    "df_dict_tweetscov19_dom_cat.head(10)"
   ]
  },
  {
   "cell_type": "code",
   "execution_count": 15,
   "metadata": {},
   "outputs": [],
   "source": [
    "#Alle gelöschten Tweets in TweetsKB werden gesucht, die einzigartige Kategorieren werden aussortieret\n",
    "#Es wird bestimmt, wie viele der Domain-Kategorien benutzt wurden. \n",
    "import ast\n",
    "df_tweetscov19_domains_shalla_cat_del['dom_cat'] = df_tweetscov19_domains_shalla_cat_del['dom_cat'].astype(str)\n",
    "\n",
    "dict_tweetscov_domains_del_cat = {}\n",
    "x = 0\n",
    "list_cat = []\n",
    "for idx, row in df_tweetscov19_domains_shalla_cat_del.iterrows():\n",
    "    list_cat = (row.values.tolist()[4])\n",
    "    list_cat = list_cat.split()\n",
    "    for i in range(0, len(list_cat)):\n",
    "        cat = list_cat[i]\n",
    "        x += 1\n",
    "        if cat not in dict_tweetscov_domains_del_cat:\n",
    "            dict_tweetscov_domains_del_cat[cat] = 1\n",
    "        else :\n",
    "            dict_tweetscov_domains_del_cat[cat] = dict_tweetscov_domains_del_cat[cat] +1\n",
    "    #if x == 50:\n",
    "    #    break"
   ]
  },
  {
   "cell_type": "code",
   "execution_count": 16,
   "metadata": {},
   "outputs": [],
   "source": [
    "#Das Dictionary zu Dataframe umwandeln. \n",
    "df_dict_tweetscov19_del_dom_cat = pd.DataFrame(dict_tweetscov_domains_del_cat.items(), columns=['Domain_Cat','Zahl'])"
   ]
  },
  {
   "cell_type": "code",
   "execution_count": 17,
   "metadata": {},
   "outputs": [
    {
     "name": "stdout",
     "output_type": "stream",
     "text": [
      "Anzahl der Kategorien: 70\n"
     ]
    }
   ],
   "source": [
    "#Anzahl der benutzten Kategorien in TweetsCov19\n",
    "print('Anzahl der Kategorien:' ,df_dict_tweetscov19_del_dom_cat.Domain_Cat.size)"
   ]
  },
  {
   "cell_type": "code",
   "execution_count": 18,
   "metadata": {},
   "outputs": [
    {
     "data": {
      "text/plain": [
       "406264"
      ]
     },
     "execution_count": 18,
     "metadata": {},
     "output_type": "execute_result"
    }
   ],
   "source": [
    "#Anzahl der benutzten Domäne(URLs) in TweetsCov19 \n",
    "Anzahl_URLs_del = df_tweetscov19_domains_shalla_cat_del.URLs_num.sum()\n",
    "Anzahl_URLs_del"
   ]
  },
  {
   "cell_type": "code",
   "execution_count": 19,
   "metadata": {},
   "outputs": [
    {
     "data": {
      "text/html": [
       "<div>\n",
       "<style scoped>\n",
       "    .dataframe tbody tr th:only-of-type {\n",
       "        vertical-align: middle;\n",
       "    }\n",
       "\n",
       "    .dataframe tbody tr th {\n",
       "        vertical-align: top;\n",
       "    }\n",
       "\n",
       "    .dataframe thead th {\n",
       "        text-align: right;\n",
       "    }\n",
       "</style>\n",
       "<table border=\"1\" class=\"dataframe\">\n",
       "  <thead>\n",
       "    <tr style=\"text-align: right;\">\n",
       "      <th></th>\n",
       "      <th>Domain_Cat</th>\n",
       "      <th>Zahl</th>\n",
       "      <th>prozent</th>\n",
       "    </tr>\n",
       "  </thead>\n",
       "  <tbody>\n",
       "    <tr>\n",
       "      <th>1</th>\n",
       "      <td>0</td>\n",
       "      <td>1749033</td>\n",
       "      <td>430.516364</td>\n",
       "    </tr>\n",
       "    <tr>\n",
       "      <th>3</th>\n",
       "      <td>nan</td>\n",
       "      <td>189983</td>\n",
       "      <td>46.763435</td>\n",
       "    </tr>\n",
       "    <tr>\n",
       "      <th>2</th>\n",
       "      <td>news</td>\n",
       "      <td>73849</td>\n",
       "      <td>18.177589</td>\n",
       "    </tr>\n",
       "    <tr>\n",
       "      <th>0</th>\n",
       "      <td>socialnet</td>\n",
       "      <td>70230</td>\n",
       "      <td>17.286789</td>\n",
       "    </tr>\n",
       "    <tr>\n",
       "      <th>4</th>\n",
       "      <td>movies</td>\n",
       "      <td>30244</td>\n",
       "      <td>7.444420</td>\n",
       "    </tr>\n",
       "    <tr>\n",
       "      <th>5</th>\n",
       "      <td>porn</td>\n",
       "      <td>7835</td>\n",
       "      <td>1.928549</td>\n",
       "    </tr>\n",
       "    <tr>\n",
       "      <th>9</th>\n",
       "      <td>searchengines</td>\n",
       "      <td>5823</td>\n",
       "      <td>1.433304</td>\n",
       "    </tr>\n",
       "    <tr>\n",
       "      <th>7</th>\n",
       "      <td>shopping</td>\n",
       "      <td>4839</td>\n",
       "      <td>1.191097</td>\n",
       "    </tr>\n",
       "    <tr>\n",
       "      <th>15</th>\n",
       "      <td>music</td>\n",
       "      <td>4225</td>\n",
       "      <td>1.039964</td>\n",
       "    </tr>\n",
       "    <tr>\n",
       "      <th>6</th>\n",
       "      <td>forum</td>\n",
       "      <td>4139</td>\n",
       "      <td>1.018796</td>\n",
       "    </tr>\n",
       "  </tbody>\n",
       "</table>\n",
       "</div>"
      ],
      "text/plain": [
       "       Domain_Cat     Zahl     prozent\n",
       "1               0  1749033  430.516364\n",
       "3             nan   189983   46.763435\n",
       "2            news    73849   18.177589\n",
       "0       socialnet    70230   17.286789\n",
       "4          movies    30244    7.444420\n",
       "5            porn     7835    1.928549\n",
       "9   searchengines     5823    1.433304\n",
       "7        shopping     4839    1.191097\n",
       "15          music     4225    1.039964\n",
       "6           forum     4139    1.018796"
      ]
     },
     "execution_count": 19,
     "metadata": {},
     "output_type": "execute_result"
    }
   ],
   "source": [
    "#Die Prozentzahl der benutzten Domäne werden in tweetsCov19 berechnet.\n",
    "df_dict_tweetscov19_del_dom_cat['prozent'] =  df_dict_tweetscov19_del_dom_cat['Zahl'].apply(lambda row : ((row /Anzahl_URLs_del) * 100) )\n",
    "\n",
    "df_dict_tweetscov19_del_dom_cat['Zahl'] = df_dict_tweetscov19_del_dom_cat['Zahl'].astype(int) \n",
    "df_dict_tweetscov19_del_dom_cat.sort_values(by = ['Zahl'], ascending = False, inplace = True)\n",
    "df_dict_tweetscov19_del_dom_cat.head(10)"
   ]
  },
  {
   "cell_type": "code",
   "execution_count": 20,
   "metadata": {},
   "outputs": [],
   "source": [
    "#Alle nicht gelöschten Tweets in TweetsKB werden gesucht, die einzigartige Kategorieren werden aussortieret\n",
    "#Es wird bestimmt, wie viele der Domain-Kategorien benutzt wurden.\n",
    "import ast\n",
    "df_tweetscov19_domains_shalla_cat_undel['dom_cat'] = df_tweetscov19_domains_shalla_cat_undel['dom_cat'].astype(str)\n",
    "\n",
    "dict_tweetscov_domains_undel_cat = {}\n",
    "x = 0\n",
    "list_cat = []\n",
    "for idx, row in df_tweetscov19_domains_shalla_cat_undel.iterrows():\n",
    "    list_cat = (row.values.tolist()[4])\n",
    "    list_cat = list_cat.split()\n",
    "    for i in range(0, len(list_cat)):\n",
    "        cat = list_cat[i]\n",
    "        x += 1\n",
    "        if cat not in dict_tweetscov_domains_undel_cat:\n",
    "            dict_tweetscov_domains_undel_cat[cat] = 1\n",
    "        else :\n",
    "            dict_tweetscov_domains_undel_cat[cat] = dict_tweetscov_domains_undel_cat[cat] +1\n",
    "    #if x == 50:\n",
    "    #    break"
   ]
  },
  {
   "cell_type": "code",
   "execution_count": 21,
   "metadata": {},
   "outputs": [],
   "source": [
    "#Das Dictionary zu Datframe umwandeln. \n",
    "df_dict_tweetscov19_undel_dom_cat = pd.DataFrame(dict_tweetscov_domains_undel_cat.items(), columns=['Domain_Cat','Zahl'])"
   ]
  },
  {
   "cell_type": "code",
   "execution_count": 22,
   "metadata": {},
   "outputs": [
    {
     "name": "stdout",
     "output_type": "stream",
     "text": [
      "Anzahl der Kategorien: 73\n"
     ]
    }
   ],
   "source": [
    "#Anzahl der benutzten Kategorien in TweetsCov19\n",
    "print('Anzahl der Kategorien:' ,df_dict_tweetscov19_undel_dom_cat.Domain_Cat.size)"
   ]
  },
  {
   "cell_type": "code",
   "execution_count": 23,
   "metadata": {},
   "outputs": [
    {
     "data": {
      "text/plain": [
       "2102278"
      ]
     },
     "execution_count": 23,
     "metadata": {},
     "output_type": "execute_result"
    }
   ],
   "source": [
    "#Anzahl der benutzten Domäne(URLs) in TweetsCov19 \n",
    "Anzahl_URLs_undel = df_tweetscov19_domains_shalla_cat_undel.URLs_num.sum()\n",
    "Anzahl_URLs_undel"
   ]
  },
  {
   "cell_type": "code",
   "execution_count": 24,
   "metadata": {},
   "outputs": [
    {
     "data": {
      "text/html": [
       "<div>\n",
       "<style scoped>\n",
       "    .dataframe tbody tr th:only-of-type {\n",
       "        vertical-align: middle;\n",
       "    }\n",
       "\n",
       "    .dataframe tbody tr th {\n",
       "        vertical-align: top;\n",
       "    }\n",
       "\n",
       "    .dataframe thead th {\n",
       "        text-align: right;\n",
       "    }\n",
       "</style>\n",
       "<table border=\"1\" class=\"dataframe\">\n",
       "  <thead>\n",
       "    <tr style=\"text-align: right;\">\n",
       "      <th></th>\n",
       "      <th>Domain_Cat</th>\n",
       "      <th>Zahl</th>\n",
       "      <th>prozent</th>\n",
       "    </tr>\n",
       "  </thead>\n",
       "  <tbody>\n",
       "    <tr>\n",
       "      <th>0</th>\n",
       "      <td>0</td>\n",
       "      <td>5241504</td>\n",
       "      <td>249.324970</td>\n",
       "    </tr>\n",
       "    <tr>\n",
       "      <th>4</th>\n",
       "      <td>nan</td>\n",
       "      <td>936847</td>\n",
       "      <td>44.563421</td>\n",
       "    </tr>\n",
       "    <tr>\n",
       "      <th>3</th>\n",
       "      <td>news</td>\n",
       "      <td>567536</td>\n",
       "      <td>26.996239</td>\n",
       "    </tr>\n",
       "    <tr>\n",
       "      <th>5</th>\n",
       "      <td>socialnet</td>\n",
       "      <td>294301</td>\n",
       "      <td>13.999148</td>\n",
       "    </tr>\n",
       "    <tr>\n",
       "      <th>2</th>\n",
       "      <td>movies</td>\n",
       "      <td>95694</td>\n",
       "      <td>4.551919</td>\n",
       "    </tr>\n",
       "    <tr>\n",
       "      <th>11</th>\n",
       "      <td>searchengines</td>\n",
       "      <td>31442</td>\n",
       "      <td>1.495616</td>\n",
       "    </tr>\n",
       "    <tr>\n",
       "      <th>7</th>\n",
       "      <td>shopping</td>\n",
       "      <td>22876</td>\n",
       "      <td>1.088153</td>\n",
       "    </tr>\n",
       "    <tr>\n",
       "      <th>13</th>\n",
       "      <td>radiotv</td>\n",
       "      <td>21846</td>\n",
       "      <td>1.039158</td>\n",
       "    </tr>\n",
       "    <tr>\n",
       "      <th>8</th>\n",
       "      <td>forum</td>\n",
       "      <td>16103</td>\n",
       "      <td>0.765979</td>\n",
       "    </tr>\n",
       "    <tr>\n",
       "      <th>9</th>\n",
       "      <td>government</td>\n",
       "      <td>15423</td>\n",
       "      <td>0.733633</td>\n",
       "    </tr>\n",
       "  </tbody>\n",
       "</table>\n",
       "</div>"
      ],
      "text/plain": [
       "       Domain_Cat     Zahl     prozent\n",
       "0               0  5241504  249.324970\n",
       "4             nan   936847   44.563421\n",
       "3            news   567536   26.996239\n",
       "5       socialnet   294301   13.999148\n",
       "2          movies    95694    4.551919\n",
       "11  searchengines    31442    1.495616\n",
       "7        shopping    22876    1.088153\n",
       "13        radiotv    21846    1.039158\n",
       "8           forum    16103    0.765979\n",
       "9      government    15423    0.733633"
      ]
     },
     "execution_count": 24,
     "metadata": {},
     "output_type": "execute_result"
    }
   ],
   "source": [
    "#Die Prozentzahl der benutzten Domäne werden in TweetsCov19 berechnet.\n",
    "df_dict_tweetscov19_undel_dom_cat['prozent'] =  df_dict_tweetscov19_undel_dom_cat['Zahl'].apply(lambda row : ((row /Anzahl_URLs_undel) * 100) )\n",
    "\n",
    "df_dict_tweetscov19_undel_dom_cat['Zahl'] = df_dict_tweetscov19_undel_dom_cat['Zahl'].astype(int) \n",
    "df_dict_tweetscov19_undel_dom_cat.sort_values(by = ['Zahl'], ascending = False, inplace = True)\n",
    "df_dict_tweetscov19_undel_dom_cat.head(10)"
   ]
  },
  {
   "cell_type": "code",
   "execution_count": 25,
   "metadata": {},
   "outputs": [
    {
     "data": {
      "text/plain": [
       "['news', 'socialnet', 'movies', 'searchengines', 'shopping']"
      ]
     },
     "execution_count": 25,
     "metadata": {},
     "output_type": "execute_result"
    }
   ],
   "source": [
    "#5 Meist benutzte Kategorien auswählen\n",
    "list_domains = df_dict_tweetscov19_dom_cat.Domain_Cat.tolist()\n",
    "list_domains = list_domains[2:7]\n",
    "list_domains"
   ]
  },
  {
   "cell_type": "code",
   "execution_count": 26,
   "metadata": {},
   "outputs": [],
   "source": [
    "#Die Wertungen für die Kategorien nehmen.\n",
    "def get_values_of_domais(df, list_dom):\n",
    "    list_val = []\n",
    "    for i in range(0, len(list_dom)):\n",
    "        val = df.loc[df['Domain_Cat'] == list_dom[i]]\n",
    "        val = val.values.tolist()\n",
    "        #print(val)\n",
    "        list_val.append(val[0][2])\n",
    "    return list_val"
   ]
  },
  {
   "cell_type": "code",
   "execution_count": 27,
   "metadata": {},
   "outputs": [],
   "source": [
    "l_cov19_del = get_values_of_domais(df_dict_tweetscov19_del_dom_cat, list_domains)\n",
    "l_cov19_undel = get_values_of_domais(df_dict_tweetscov19_undel_dom_cat, list_domains)"
   ]
  },
  {
   "cell_type": "code",
   "execution_count": 39,
   "metadata": {},
   "outputs": [
    {
     "data": {
      "image/png": "[encoded data removed]",
      "text/plain": [
       "<Figure size 720x504 with 1 Axes>"
      ]
     },
     "metadata": {
      "needs_background": "light"
     },
     "output_type": "display_data"
    }
   ],
   "source": [
    "#Die Listen Ploten\n",
    "gepostete_und_geloschte_Tweets_Cov19(l_cov19_del, l_cov19_undel, 'Kategorisierung_der_Domäne_basierend_auf_Shalla_Liste(Tweetscov19)_4', ['News', 'Socialnet', 'Movies', 'Searchengines', 'Shopping'] )\n"
   ]
  },
  {
   "cell_type": "code",
   "execution_count": 40,
   "metadata": {},
   "outputs": [
    {
     "data": {
      "image/png": "[encoded data removed]",
      "text/plain": [
       "<Figure size 720x504 with 1 Axes>"
      ]
     },
     "metadata": {
      "needs_background": "light"
     },
     "output_type": "display_data"
    }
   ],
   "source": [
    "#Die Listen Ploten\n",
    "gepostete_und_geloschte_Tweets_Cov19_en(l_cov19_del, l_cov19_undel, 'Categorization of the domain based on Shalla list(Tweetscov19)_4',  ['News', 'Socialnet', 'Movies', 'Searchengines', 'Shopping'])\n"
   ]
  },
  {
   "cell_type": "markdown",
   "metadata": {},
   "source": [
    "***"
   ]
  },
  {
   "cell_type": "markdown",
   "metadata": {},
   "source": [
    "## TweetsKB:"
   ]
  },
  {
   "cell_type": "markdown",
   "metadata": {},
   "source": [
    "***"
   ]
  },
  {
   "cell_type": "code",
   "execution_count": 13,
   "metadata": {},
   "outputs": [
    {
     "name": "stdout",
     "output_type": "stream",
     "text": [
      "(9409841, 16)\n"
     ]
    },
    {
     "data": {
      "text/html": [
       "<div>\n",
       "<style scoped>\n",
       "    .dataframe tbody tr th:only-of-type {\n",
       "        vertical-align: middle;\n",
       "    }\n",
       "\n",
       "    .dataframe tbody tr th {\n",
       "        vertical-align: top;\n",
       "    }\n",
       "\n",
       "    .dataframe thead th {\n",
       "        text-align: right;\n",
       "    }\n",
       "</style>\n",
       "<table border=\"1\" class=\"dataframe\">\n",
       "  <thead>\n",
       "    <tr style=\"text-align: right;\">\n",
       "      <th></th>\n",
       "      <th>Tweet_Id</th>\n",
       "      <th>is_deleted</th>\n",
       "      <th>URLs_dom</th>\n",
       "      <th>URLs_num</th>\n",
       "      <th>dom_cat</th>\n",
       "      <th>socialnet</th>\n",
       "      <th>news</th>\n",
       "      <th>movies</th>\n",
       "      <th>fortunetelling</th>\n",
       "      <th>porn</th>\n",
       "      <th>music</th>\n",
       "      <th>hobby/games_misc</th>\n",
       "      <th>shopping</th>\n",
       "      <th>forum</th>\n",
       "      <th>searchengines</th>\n",
       "      <th>others</th>\n",
       "    </tr>\n",
       "  </thead>\n",
       "  <tbody>\n",
       "    <tr>\n",
       "      <th>0</th>\n",
       "      <td>1178791636039589889</td>\n",
       "      <td>False</td>\n",
       "      <td>dcuniverseinfinite.com</td>\n",
       "      <td>1</td>\n",
       "      <td>NaN</td>\n",
       "      <td>0.0</td>\n",
       "      <td>0.0</td>\n",
       "      <td>0.0</td>\n",
       "      <td>0.0</td>\n",
       "      <td>0.0</td>\n",
       "      <td>0.0</td>\n",
       "      <td>0.0</td>\n",
       "      <td>0.0</td>\n",
       "      <td>0.0</td>\n",
       "      <td>0.0</td>\n",
       "      <td>0.0</td>\n",
       "    </tr>\n",
       "    <tr>\n",
       "      <th>1</th>\n",
       "      <td>1178791641265639424</td>\n",
       "      <td>True</td>\n",
       "      <td>carrd.co</td>\n",
       "      <td>1</td>\n",
       "      <td>NaN</td>\n",
       "      <td>0.0</td>\n",
       "      <td>0.0</td>\n",
       "      <td>0.0</td>\n",
       "      <td>0.0</td>\n",
       "      <td>0.0</td>\n",
       "      <td>0.0</td>\n",
       "      <td>0.0</td>\n",
       "      <td>0.0</td>\n",
       "      <td>0.0</td>\n",
       "      <td>0.0</td>\n",
       "      <td>0.0</td>\n",
       "    </tr>\n",
       "    <tr>\n",
       "      <th>2</th>\n",
       "      <td>1178791640573579264</td>\n",
       "      <td>True</td>\n",
       "      <td>0</td>\n",
       "      <td>0</td>\n",
       "      <td>0</td>\n",
       "      <td>0.0</td>\n",
       "      <td>0.0</td>\n",
       "      <td>0.0</td>\n",
       "      <td>0.0</td>\n",
       "      <td>0.0</td>\n",
       "      <td>0.0</td>\n",
       "      <td>0.0</td>\n",
       "      <td>0.0</td>\n",
       "      <td>0.0</td>\n",
       "      <td>0.0</td>\n",
       "      <td>0.0</td>\n",
       "    </tr>\n",
       "    <tr>\n",
       "      <th>3</th>\n",
       "      <td>1178791644797255680</td>\n",
       "      <td>True</td>\n",
       "      <td>0</td>\n",
       "      <td>0</td>\n",
       "      <td>0</td>\n",
       "      <td>0.0</td>\n",
       "      <td>0.0</td>\n",
       "      <td>0.0</td>\n",
       "      <td>0.0</td>\n",
       "      <td>0.0</td>\n",
       "      <td>0.0</td>\n",
       "      <td>0.0</td>\n",
       "      <td>0.0</td>\n",
       "      <td>0.0</td>\n",
       "      <td>0.0</td>\n",
       "      <td>0.0</td>\n",
       "    </tr>\n",
       "    <tr>\n",
       "      <th>4</th>\n",
       "      <td>1178791648056217600</td>\n",
       "      <td>False</td>\n",
       "      <td>phenomhoopreport.com</td>\n",
       "      <td>1</td>\n",
       "      <td>NaN</td>\n",
       "      <td>0.0</td>\n",
       "      <td>0.0</td>\n",
       "      <td>0.0</td>\n",
       "      <td>0.0</td>\n",
       "      <td>0.0</td>\n",
       "      <td>0.0</td>\n",
       "      <td>0.0</td>\n",
       "      <td>0.0</td>\n",
       "      <td>0.0</td>\n",
       "      <td>0.0</td>\n",
       "      <td>0.0</td>\n",
       "    </tr>\n",
       "  </tbody>\n",
       "</table>\n",
       "</div>"
      ],
      "text/plain": [
       "              Tweet_Id  is_deleted                URLs_dom  URLs_num dom_cat  \\\n",
       "0  1178791636039589889       False  dcuniverseinfinite.com         1     NaN   \n",
       "1  1178791641265639424        True                carrd.co         1     NaN   \n",
       "2  1178791640573579264        True                       0         0       0   \n",
       "3  1178791644797255680        True                       0         0       0   \n",
       "4  1178791648056217600       False    phenomhoopreport.com         1     NaN   \n",
       "\n",
       "   socialnet  news  movies  fortunetelling  porn  music  hobby/games_misc  \\\n",
       "0        0.0   0.0     0.0             0.0   0.0    0.0               0.0   \n",
       "1        0.0   0.0     0.0             0.0   0.0    0.0               0.0   \n",
       "2        0.0   0.0     0.0             0.0   0.0    0.0               0.0   \n",
       "3        0.0   0.0     0.0             0.0   0.0    0.0               0.0   \n",
       "4        0.0   0.0     0.0             0.0   0.0    0.0               0.0   \n",
       "\n",
       "   shopping  forum  searchengines  others  \n",
       "0       0.0    0.0            0.0     0.0  \n",
       "1       0.0    0.0            0.0     0.0  \n",
       "2       0.0    0.0            0.0     0.0  \n",
       "3       0.0    0.0            0.0     0.0  \n",
       "4       0.0    0.0            0.0     0.0  "
      ]
     },
     "execution_count": 13,
     "metadata": {},
     "output_type": "execute_result"
    }
   ],
   "source": [
    "#Die Dataframe, die die daten über Domänkategorien enthält, wird gelesen \n",
    "pfad ='../Data/Dataframes/tweetskb_domains_shalla_categorisieret_top_ten.tsv'\n",
    "\n",
    "df_tweetskb_domains_shalla_cat = pd.read_csv(pfad, sep='\\t', error_bad_lines=False, names=['Tweet_Id', 'is_deleted', 'URLs_dom', 'URLs_num', 'dom_cat', 'socialnet', 'news', 'movies', 'fortunetelling', 'porn', 'music', 'hobby/games_misc', 'shopping', 'forum', 'searchengines', 'others'])\n",
    "print(df_tweetskb_domains_shalla_cat.shape)\n",
    "df_tweetskb_domains_shalla_cat.head()"
   ]
  },
  {
   "cell_type": "code",
   "execution_count": 42,
   "metadata": {},
   "outputs": [],
   "source": [
    "#Die gelöschten Tweets von nicht gelöschten Tweets werden getrennt.\n",
    "df_tweetskb_domains_shalla_cat_del = df_tweetskb_domains_shalla_cat[df_tweetskb_domains_shalla_cat['is_deleted'] == True]\n",
    "df_tweetskb_domains_shalla_cat_undel = df_tweetskb_domains_shalla_cat[df_tweetskb_domains_shalla_cat['is_deleted'] == False]"
   ]
  },
  {
   "cell_type": "code",
   "execution_count": 43,
   "metadata": {},
   "outputs": [],
   "source": [
    "#Alle Tweet in TweetsKB werden gesucht, die einzigartige Kategorieren werden aussortieret\n",
    "#Es wird bestimmt, wie viele der Domain-Kategorien benutzt wurden. \n",
    "import ast\n",
    "df_tweetskb_domains_shalla_cat['dom_cat'] = df_tweetskb_domains_shalla_cat['dom_cat'].astype(str)\n",
    "\n",
    "dict_tweetskb_domains_cat = {}\n",
    "x = 0\n",
    "list_cat = []\n",
    "for idx, row in df_tweetskb_domains_shalla_cat.iterrows():\n",
    "    list_cat = (row.values.tolist()[4])\n",
    "    list_cat = list_cat.split()\n",
    "    for i in range(0, len(list_cat)):\n",
    "        cat = list_cat[i]\n",
    "        x += 1\n",
    "        if cat not in dict_tweetskb_domains_cat:\n",
    "            dict_tweetskb_domains_cat[cat] = 1\n",
    "        else :\n",
    "            dict_tweetskb_domains_cat[cat] = dict_tweetskb_domains_cat[cat] +1\n",
    "    #if x == 50:\n",
    "    #    break"
   ]
  },
  {
   "cell_type": "code",
   "execution_count": 44,
   "metadata": {},
   "outputs": [],
   "source": [
    "#Das Dictionary zu Datframe umwandeln. \n",
    "df_dict_tweetskb_dom_cat = pd.DataFrame(dict_tweetskb_domains_cat.items(), columns=['Domain_Cat','Zahl'])"
   ]
  },
  {
   "cell_type": "code",
   "execution_count": 45,
   "metadata": {},
   "outputs": [
    {
     "name": "stdout",
     "output_type": "stream",
     "text": [
      "Anzahl der Kategorien: 76\n"
     ]
    }
   ],
   "source": [
    "#Anzahl der benutzten Kategorien in TweetsKB\n",
    "print('Anzahl der Kategorien:' ,df_dict_tweetskb_dom_cat.Domain_Cat.size)"
   ]
  },
  {
   "cell_type": "code",
   "execution_count": 46,
   "metadata": {},
   "outputs": [
    {
     "data": {
      "text/plain": [
       "1460380"
      ]
     },
     "execution_count": 46,
     "metadata": {},
     "output_type": "execute_result"
    }
   ],
   "source": [
    "#Anzahl der benutzten Domäne(URLs) in TweetsKB \n",
    "Anzahl_URLs = df_tweetskb_domains_shalla_cat.URLs_num.sum()\n",
    "Anzahl_URLs"
   ]
  },
  {
   "cell_type": "code",
   "execution_count": 47,
   "metadata": {},
   "outputs": [],
   "source": [
    "#Die Prozentzahl der benutzten Domäne werden in TweetsKB berechnet.\n",
    "df_dict_tweetskb_dom_cat['prozent'] =  df_dict_tweetskb_dom_cat['Zahl'].apply(lambda row : ((row /Anzahl_URLs) * 100) )"
   ]
  },
  {
   "cell_type": "code",
   "execution_count": 48,
   "metadata": {},
   "outputs": [
    {
     "data": {
      "text/html": [
       "<div>\n",
       "<style scoped>\n",
       "    .dataframe tbody tr th:only-of-type {\n",
       "        vertical-align: middle;\n",
       "    }\n",
       "\n",
       "    .dataframe tbody tr th {\n",
       "        vertical-align: top;\n",
       "    }\n",
       "\n",
       "    .dataframe thead th {\n",
       "        text-align: right;\n",
       "    }\n",
       "</style>\n",
       "<table border=\"1\" class=\"dataframe\">\n",
       "  <thead>\n",
       "    <tr style=\"text-align: right;\">\n",
       "      <th></th>\n",
       "      <th>Domain_Cat</th>\n",
       "      <th>Zahl</th>\n",
       "      <th>prozent</th>\n",
       "    </tr>\n",
       "  </thead>\n",
       "  <tbody>\n",
       "    <tr>\n",
       "      <th>1</th>\n",
       "      <td>0</td>\n",
       "      <td>8024014</td>\n",
       "      <td>549.446993</td>\n",
       "    </tr>\n",
       "    <tr>\n",
       "      <th>0</th>\n",
       "      <td>nan</td>\n",
       "      <td>687141</td>\n",
       "      <td>47.052206</td>\n",
       "    </tr>\n",
       "    <tr>\n",
       "      <th>3</th>\n",
       "      <td>socialnet</td>\n",
       "      <td>333322</td>\n",
       "      <td>22.824333</td>\n",
       "    </tr>\n",
       "    <tr>\n",
       "      <th>2</th>\n",
       "      <td>news</td>\n",
       "      <td>138386</td>\n",
       "      <td>9.476027</td>\n",
       "    </tr>\n",
       "    <tr>\n",
       "      <th>6</th>\n",
       "      <td>movies</td>\n",
       "      <td>94252</td>\n",
       "      <td>6.453937</td>\n",
       "    </tr>\n",
       "    <tr>\n",
       "      <th>23</th>\n",
       "      <td>fortunetelling</td>\n",
       "      <td>37554</td>\n",
       "      <td>2.571522</td>\n",
       "    </tr>\n",
       "    <tr>\n",
       "      <th>5</th>\n",
       "      <td>porn</td>\n",
       "      <td>33848</td>\n",
       "      <td>2.317753</td>\n",
       "    </tr>\n",
       "    <tr>\n",
       "      <th>9</th>\n",
       "      <td>music</td>\n",
       "      <td>19686</td>\n",
       "      <td>1.348005</td>\n",
       "    </tr>\n",
       "    <tr>\n",
       "      <th>12</th>\n",
       "      <td>hobby/games-misc</td>\n",
       "      <td>17182</td>\n",
       "      <td>1.176543</td>\n",
       "    </tr>\n",
       "    <tr>\n",
       "      <th>14</th>\n",
       "      <td>urlshortener</td>\n",
       "      <td>16777</td>\n",
       "      <td>1.148811</td>\n",
       "    </tr>\n",
       "  </tbody>\n",
       "</table>\n",
       "</div>"
      ],
      "text/plain": [
       "          Domain_Cat     Zahl     prozent\n",
       "1                  0  8024014  549.446993\n",
       "0                nan   687141   47.052206\n",
       "3          socialnet   333322   22.824333\n",
       "2               news   138386    9.476027\n",
       "6             movies    94252    6.453937\n",
       "23    fortunetelling    37554    2.571522\n",
       "5               porn    33848    2.317753\n",
       "9              music    19686    1.348005\n",
       "12  hobby/games-misc    17182    1.176543\n",
       "14      urlshortener    16777    1.148811"
      ]
     },
     "execution_count": 48,
     "metadata": {},
     "output_type": "execute_result"
    }
   ],
   "source": [
    "#Die Prozentzahl der benutzten Domäne in TweetsKB berechnen.\n",
    "df_dict_tweetskb_dom_cat['Zahl'] = df_dict_tweetskb_dom_cat['Zahl'].astype(int) \n",
    "df_dict_tweetskb_dom_cat.sort_values(by = ['Zahl'], ascending = False, inplace = True)\n",
    "df_dict_tweetskb_dom_cat.head(10)"
   ]
  },
  {
   "cell_type": "code",
   "execution_count": 49,
   "metadata": {},
   "outputs": [],
   "source": [
    "#Alle gelöschten Tweet in TweetsKB werden gesucht, die einzigartige Kategorieren werden aussortieret\n",
    "#Es wird bestimmt, wie viele der Domain-Kategorien benutzt wurden.\n",
    "import ast\n",
    "df_tweetskb_domains_shalla_cat_del['dom_cat'] = df_tweetskb_domains_shalla_cat_del['dom_cat'].astype(str)\n",
    "\n",
    "dict_tweetskb_domains_del_cat = {}\n",
    "x = 0\n",
    "list_cat = []\n",
    "for idx, row in df_tweetskb_domains_shalla_cat_del.iterrows():\n",
    "    list_cat = (row.values.tolist()[4])\n",
    "    list_cat = list_cat.split()\n",
    "    for i in range(0, len(list_cat)):\n",
    "        cat = list_cat[i]\n",
    "        x += 1\n",
    "        if cat not in dict_tweetskb_domains_del_cat:\n",
    "            dict_tweetskb_domains_del_cat[cat] = 1\n",
    "        else :\n",
    "            dict_tweetskb_domains_del_cat[cat] = dict_tweetskb_domains_del_cat[cat] +1\n",
    "    #if x == 50:\n",
    "    #    break"
   ]
  },
  {
   "cell_type": "code",
   "execution_count": 50,
   "metadata": {},
   "outputs": [],
   "source": [
    "#Das Dictionary zu Dataframe umwandeln. \n",
    "df_dict_tweetskb_dom_del_cat = pd.DataFrame(dict_tweetskb_domains_del_cat.items(), columns=['Domain_Cat','Zahl'])"
   ]
  },
  {
   "cell_type": "code",
   "execution_count": 51,
   "metadata": {},
   "outputs": [
    {
     "name": "stdout",
     "output_type": "stream",
     "text": [
      "Anzahl der Kategorien: 69\n"
     ]
    }
   ],
   "source": [
    "#Anzahl der benutzten Kategorien in gelöschten Tweets\n",
    "print('Anzahl der Kategorien:' ,df_dict_tweetskb_dom_del_cat.Domain_Cat.size)"
   ]
  },
  {
   "cell_type": "code",
   "execution_count": 52,
   "metadata": {},
   "outputs": [
    {
     "data": {
      "text/plain": [
       "329403"
      ]
     },
     "execution_count": 52,
     "metadata": {},
     "output_type": "execute_result"
    }
   ],
   "source": [
    "#Anzahl der benutzten Domäne(URLs) in gelöschten Tweets \n",
    "Anzahl_URLs_del = df_tweetskb_domains_shalla_cat_del.URLs_num.sum()\n",
    "Anzahl_URLs_del"
   ]
  },
  {
   "cell_type": "code",
   "execution_count": 53,
   "metadata": {},
   "outputs": [],
   "source": [
    "#Die Prozentzahl der benutzten Domäne in gelöschten Tweets berechnen.\n",
    "df_dict_tweetskb_dom_del_cat['prozent'] =  df_dict_tweetskb_dom_del_cat['Zahl'].apply(lambda row : ((row /Anzahl_URLs_del) * 100) )"
   ]
  },
  {
   "cell_type": "code",
   "execution_count": 54,
   "metadata": {},
   "outputs": [
    {
     "data": {
      "text/html": [
       "<div>\n",
       "<style scoped>\n",
       "    .dataframe tbody tr th:only-of-type {\n",
       "        vertical-align: middle;\n",
       "    }\n",
       "\n",
       "    .dataframe tbody tr th {\n",
       "        vertical-align: top;\n",
       "    }\n",
       "\n",
       "    .dataframe thead th {\n",
       "        text-align: right;\n",
       "    }\n",
       "</style>\n",
       "<table border=\"1\" class=\"dataframe\">\n",
       "  <thead>\n",
       "    <tr style=\"text-align: right;\">\n",
       "      <th></th>\n",
       "      <th>Domain_Cat</th>\n",
       "      <th>Zahl</th>\n",
       "      <th>prozent</th>\n",
       "    </tr>\n",
       "  </thead>\n",
       "  <tbody>\n",
       "    <tr>\n",
       "      <th>1</th>\n",
       "      <td>0</td>\n",
       "      <td>2414031</td>\n",
       "      <td>732.850338</td>\n",
       "    </tr>\n",
       "    <tr>\n",
       "      <th>0</th>\n",
       "      <td>nan</td>\n",
       "      <td>160178</td>\n",
       "      <td>48.626758</td>\n",
       "    </tr>\n",
       "    <tr>\n",
       "      <th>2</th>\n",
       "      <td>socialnet</td>\n",
       "      <td>78526</td>\n",
       "      <td>23.838884</td>\n",
       "    </tr>\n",
       "    <tr>\n",
       "      <th>8</th>\n",
       "      <td>movies</td>\n",
       "      <td>23788</td>\n",
       "      <td>7.221549</td>\n",
       "    </tr>\n",
       "    <tr>\n",
       "      <th>5</th>\n",
       "      <td>news</td>\n",
       "      <td>19950</td>\n",
       "      <td>6.056411</td>\n",
       "    </tr>\n",
       "    <tr>\n",
       "      <th>7</th>\n",
       "      <td>porn</td>\n",
       "      <td>14986</td>\n",
       "      <td>4.549442</td>\n",
       "    </tr>\n",
       "    <tr>\n",
       "      <th>9</th>\n",
       "      <td>music</td>\n",
       "      <td>5301</td>\n",
       "      <td>1.609275</td>\n",
       "    </tr>\n",
       "    <tr>\n",
       "      <th>3</th>\n",
       "      <td>forum</td>\n",
       "      <td>4894</td>\n",
       "      <td>1.485718</td>\n",
       "    </tr>\n",
       "    <tr>\n",
       "      <th>19</th>\n",
       "      <td>fortunetelling</td>\n",
       "      <td>3559</td>\n",
       "      <td>1.080439</td>\n",
       "    </tr>\n",
       "    <tr>\n",
       "      <th>15</th>\n",
       "      <td>hobby/games-misc</td>\n",
       "      <td>3319</td>\n",
       "      <td>1.007580</td>\n",
       "    </tr>\n",
       "  </tbody>\n",
       "</table>\n",
       "</div>"
      ],
      "text/plain": [
       "          Domain_Cat     Zahl     prozent\n",
       "1                  0  2414031  732.850338\n",
       "0                nan   160178   48.626758\n",
       "2          socialnet    78526   23.838884\n",
       "8             movies    23788    7.221549\n",
       "5               news    19950    6.056411\n",
       "7               porn    14986    4.549442\n",
       "9              music     5301    1.609275\n",
       "3              forum     4894    1.485718\n",
       "19    fortunetelling     3559    1.080439\n",
       "15  hobby/games-misc     3319    1.007580"
      ]
     },
     "execution_count": 54,
     "metadata": {},
     "output_type": "execute_result"
    }
   ],
   "source": [
    "#Die Prozentzahl der benutzten Domäne in gelöschten Tweets werden berechnet.\n",
    "df_dict_tweetskb_dom_del_cat['Zahl'] = df_dict_tweetskb_dom_del_cat['Zahl'].astype(int) \n",
    "df_dict_tweetskb_dom_del_cat.sort_values(by = ['Zahl'], ascending = False, inplace = True)\n",
    "df_dict_tweetskb_dom_del_cat.head(10)"
   ]
  },
  {
   "cell_type": "code",
   "execution_count": 55,
   "metadata": {},
   "outputs": [],
   "source": [
    "#Alle nicht gelöschten Tweets in TweetsKB werden gesucht, die einzigartige Kategorieren werden aussortieret\n",
    "#Es wird bestimmt, wie viele der Domain-Kategorien benutzt wurden.\n",
    "import ast\n",
    "df_tweetskb_domains_shalla_cat_undel['dom_cat'] = df_tweetskb_domains_shalla_cat_undel['dom_cat'].astype(str)\n",
    "\n",
    "dict_tweetskb_domains_undel_cat = {}\n",
    "x = 0\n",
    "list_cat = []\n",
    "for idx, row in df_tweetskb_domains_shalla_cat_undel.iterrows():\n",
    "    list_cat = (row.values.tolist()[4])\n",
    "    list_cat = list_cat.split()\n",
    "    for i in range(0, len(list_cat)):\n",
    "        cat = list_cat[i]\n",
    "        x += 1\n",
    "        if cat not in dict_tweetskb_domains_undel_cat:\n",
    "            dict_tweetskb_domains_undel_cat[cat] = 1\n",
    "        else :\n",
    "            dict_tweetskb_domains_undel_cat[cat] = dict_tweetskb_domains_undel_cat[cat] +1\n",
    "    #if x == 50:\n",
    "    #    break"
   ]
  },
  {
   "cell_type": "code",
   "execution_count": 56,
   "metadata": {},
   "outputs": [],
   "source": [
    "#Das Dictionary zu Dataframe umwandeln. \n",
    "df_dict_tweetskb_dom_undel_cat = pd.DataFrame(dict_tweetskb_domains_undel_cat.items(), columns=['Domain_Cat','Zahl'])"
   ]
  },
  {
   "cell_type": "code",
   "execution_count": 57,
   "metadata": {},
   "outputs": [
    {
     "name": "stdout",
     "output_type": "stream",
     "text": [
      "Anzahl der Kategorien: 76\n"
     ]
    }
   ],
   "source": [
    "#Anzahl der benutzten Kategorien in nicht gelöschten Tweets\n",
    "print('Anzahl der Kategorien:' ,df_dict_tweetskb_dom_undel_cat.Domain_Cat.size)"
   ]
  },
  {
   "cell_type": "code",
   "execution_count": 58,
   "metadata": {},
   "outputs": [
    {
     "data": {
      "text/plain": [
       "1130977"
      ]
     },
     "execution_count": 58,
     "metadata": {},
     "output_type": "execute_result"
    }
   ],
   "source": [
    "#Anzahl der benutzten Domäne(URLs) in nicht gelöschten Tweets \n",
    "Anzahl_URLs_undel = df_tweetskb_domains_shalla_cat_undel.URLs_num.sum()\n",
    "Anzahl_URLs_undel"
   ]
  },
  {
   "cell_type": "code",
   "execution_count": 59,
   "metadata": {},
   "outputs": [],
   "source": [
    "#Die Prozentzahl der benutzten Domäne in nicht gelöschten Tweets werden berechnet.\n",
    "df_dict_tweetskb_dom_undel_cat['prozent'] =  df_dict_tweetskb_dom_undel_cat['Zahl'].apply(lambda row : ((row /Anzahl_URLs_undel) * 100) )"
   ]
  },
  {
   "cell_type": "code",
   "execution_count": 60,
   "metadata": {},
   "outputs": [
    {
     "data": {
      "text/html": [
       "<div>\n",
       "<style scoped>\n",
       "    .dataframe tbody tr th:only-of-type {\n",
       "        vertical-align: middle;\n",
       "    }\n",
       "\n",
       "    .dataframe tbody tr th {\n",
       "        vertical-align: top;\n",
       "    }\n",
       "\n",
       "    .dataframe thead th {\n",
       "        text-align: right;\n",
       "    }\n",
       "</style>\n",
       "<table border=\"1\" class=\"dataframe\">\n",
       "  <thead>\n",
       "    <tr style=\"text-align: right;\">\n",
       "      <th></th>\n",
       "      <th>Domain_Cat</th>\n",
       "      <th>Zahl</th>\n",
       "      <th>prozent</th>\n",
       "    </tr>\n",
       "  </thead>\n",
       "  <tbody>\n",
       "    <tr>\n",
       "      <th>1</th>\n",
       "      <td>0</td>\n",
       "      <td>5609983</td>\n",
       "      <td>496.029804</td>\n",
       "    </tr>\n",
       "    <tr>\n",
       "      <th>0</th>\n",
       "      <td>nan</td>\n",
       "      <td>526963</td>\n",
       "      <td>46.593609</td>\n",
       "    </tr>\n",
       "    <tr>\n",
       "      <th>3</th>\n",
       "      <td>socialnet</td>\n",
       "      <td>254796</td>\n",
       "      <td>22.528840</td>\n",
       "    </tr>\n",
       "    <tr>\n",
       "      <th>2</th>\n",
       "      <td>news</td>\n",
       "      <td>118436</td>\n",
       "      <td>10.472008</td>\n",
       "    </tr>\n",
       "    <tr>\n",
       "      <th>6</th>\n",
       "      <td>movies</td>\n",
       "      <td>70464</td>\n",
       "      <td>6.230365</td>\n",
       "    </tr>\n",
       "    <tr>\n",
       "      <th>21</th>\n",
       "      <td>fortunetelling</td>\n",
       "      <td>33995</td>\n",
       "      <td>3.005808</td>\n",
       "    </tr>\n",
       "    <tr>\n",
       "      <th>5</th>\n",
       "      <td>porn</td>\n",
       "      <td>18862</td>\n",
       "      <td>1.667762</td>\n",
       "    </tr>\n",
       "    <tr>\n",
       "      <th>8</th>\n",
       "      <td>music</td>\n",
       "      <td>14385</td>\n",
       "      <td>1.271909</td>\n",
       "    </tr>\n",
       "    <tr>\n",
       "      <th>11</th>\n",
       "      <td>hobby/games-misc</td>\n",
       "      <td>13863</td>\n",
       "      <td>1.225754</td>\n",
       "    </tr>\n",
       "    <tr>\n",
       "      <th>14</th>\n",
       "      <td>urlshortener</td>\n",
       "      <td>13503</td>\n",
       "      <td>1.193923</td>\n",
       "    </tr>\n",
       "  </tbody>\n",
       "</table>\n",
       "</div>"
      ],
      "text/plain": [
       "          Domain_Cat     Zahl     prozent\n",
       "1                  0  5609983  496.029804\n",
       "0                nan   526963   46.593609\n",
       "3          socialnet   254796   22.528840\n",
       "2               news   118436   10.472008\n",
       "6             movies    70464    6.230365\n",
       "21    fortunetelling    33995    3.005808\n",
       "5               porn    18862    1.667762\n",
       "8              music    14385    1.271909\n",
       "11  hobby/games-misc    13863    1.225754\n",
       "14      urlshortener    13503    1.193923"
      ]
     },
     "execution_count": 60,
     "metadata": {},
     "output_type": "execute_result"
    }
   ],
   "source": [
    "#Die Prozentzahl der benutzten Domäne in nicht gelöschten Tweets berechnen.\n",
    "df_dict_tweetskb_dom_undel_cat['Zahl'] = df_dict_tweetskb_dom_undel_cat['Zahl'].astype(int) \n",
    "df_dict_tweetskb_dom_undel_cat.sort_values(by = ['Zahl'], ascending = False, inplace = True)\n",
    "df_dict_tweetskb_dom_undel_cat.head(10)"
   ]
  },
  {
   "cell_type": "code",
   "execution_count": 61,
   "metadata": {},
   "outputs": [
    {
     "data": {
      "text/plain": [
       "['socialnet', 'news', 'movies', 'fortunetelling', 'porn']"
      ]
     },
     "execution_count": 61,
     "metadata": {},
     "output_type": "execute_result"
    }
   ],
   "source": [
    "#5 Meist benutzte Kategorien auswählen\n",
    "list_domains = df_dict_tweetskb_dom_cat.Domain_Cat.tolist()\n",
    "list_domains = list_domains[2:7]\n",
    "list_domains"
   ]
  },
  {
   "cell_type": "code",
   "execution_count": 62,
   "metadata": {},
   "outputs": [],
   "source": [
    "l_kb_del = get_values_of_domais(df_dict_tweetskb_dom_del_cat, list_domains)\n",
    "l_kb_undel = get_values_of_domais(df_dict_tweetskb_dom_undel_cat, list_domains)"
   ]
  },
  {
   "cell_type": "code",
   "execution_count": 63,
   "metadata": {},
   "outputs": [
    {
     "data": {
      "image/png": "[encoded data removed]",
      "text/plain": [
       "<Figure size 720x504 with 1 Axes>"
      ]
     },
     "metadata": {
      "needs_background": "light"
     },
     "output_type": "display_data"
    }
   ],
   "source": [
    "#Die Wertungen der Listen darstellen\n",
    "gepostete_und_geloschte_Tweets_kb(l_kb_del, l_kb_undel, 'Kategorisierung_der_Domäne_basierend_auf_Shalla_Liste(TweetsKB)_4',  ['Socialnet', 'News', 'Movies', 'Fortunetelling', 'Porn'])\n"
   ]
  },
  {
   "cell_type": "code",
   "execution_count": 64,
   "metadata": {},
   "outputs": [
    {
     "data": {
      "image/png": "[encoded data removed]",
      "text/plain": [
       "<Figure size 720x504 with 1 Axes>"
      ]
     },
     "metadata": {
      "needs_background": "light"
     },
     "output_type": "display_data"
    }
   ],
   "source": [
    "#Die Wertungen der Listen werden dargestellt\n",
    "gepostete_und_geloschte_Tweets_kb_en(l_kb_del, l_kb_undel, 'Categorization of the domain based on Shalla list(TweetsKB)_4',  ['Socialnet', 'News', 'Movies', 'Fortunetelling', 'Porn'])\n"
   ]
  },
  {
   "cell_type": "code",
   "execution_count": null,
   "metadata": {},
   "outputs": [],
   "source": []
  }
 ],
 "metadata": {
  "kernelspec": {
   "display_name": "Python 3",
   "language": "python",
   "name": "python3"
  },
  "language_info": {
   "codemirror_mode": {
    "name": "ipython",
    "version": 3
   },
   "file_extension": ".py",
   "mimetype": "text/x-python",
   "name": "python",
   "nbconvert_exporter": "python",
   "pygments_lexer": "ipython3",
   "version": "3.8.8"
  }
 },
 "nbformat": 4,
 "nbformat_minor": 4
}
