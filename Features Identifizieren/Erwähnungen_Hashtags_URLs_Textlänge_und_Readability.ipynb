{
 "cells": [
  {
   "cell_type": "code",
   "execution_count": 2,
   "id": "6e7233a6",
   "metadata": {},
   "outputs": [],
   "source": [
    "#CSV Bibliothek importieren \n",
    "import csv\n",
    "#Pandas importieren und als pd bezeichnen\n",
    "import pandas as pd\n",
    "#Numpy importieren und als np bezeichnen \n",
    "import numpy as np\n",
    "#Json Biliothek importieren\n",
    "import json\n",
    "#Obere Schranke für die Größe der Daten auf 100,000,000 setzen  \n",
    "csv.field_size_limit(100000000)\n",
    "#Maximale Anzahl von Zeilen und Spalten Zeigen \n",
    "pd.options.display.max_columns = None\n",
    "pd.options.display.max_rows = None\n",
    "#Imortiert die Bibliothel tldextract, um die Domaine zu extrahieren\n",
    "import tldextract\n",
    "#Diese Biliothek berechnet die Lesbarkeit\n",
    "from fkscore import fkscore\n",
    "#RegEx-bibliothek importieren\n",
    "import re"
   ]
  },
  {
   "cell_type": "markdown",
   "id": "615a199a",
   "metadata": {},
   "source": [
    "----"
   ]
  },
  {
   "cell_type": "markdown",
   "id": "c9ddb329",
   "metadata": {},
   "source": [
    "# Anzahl der Hashtags, Erwähnungen, URLs sowie Lesbarkeit und Textlänge\n",
    "#### Zuerst werden die Tweets in TweetsCov19 bearbeitet, dann die Tweets in TweetsKB"
   ]
  },
  {
   "cell_type": "markdown",
   "id": "1b63f483",
   "metadata": {},
   "source": [
    "****"
   ]
  },
  {
   "cell_type": "markdown",
   "id": "5b668958",
   "metadata": {},
   "source": [
    "## TweetsCov19:"
   ]
  },
  {
   "cell_type": "markdown",
   "id": "0bfe6de5",
   "metadata": {},
   "source": [
    "1. Die **Anzahl der Erwähnungen** werden berechnet\n",
    "2. Die **Anzahl der Hashtags** werden berechnet\n",
    "3. Die **Anzahl der URLs** werden berechnet\n",
    "4. Die **Domäne** aus URLs extrahiert\n",
    "5. Die **Textlänge** berechnet\n",
    "6. Die neue Features werden gespeichert"
   ]
  },
  {
   "cell_type": "markdown",
   "id": "55ae0f6a",
   "metadata": {},
   "source": [
    "***"
   ]
  },
  {
   "cell_type": "code",
   "execution_count": 6,
   "id": "3d7a90d4",
   "metadata": {},
   "outputs": [],
   "source": [
    "#Labels und Pfad für den TweetsCov19\n",
    "TweetsCov19_labels = ['Tweet_Id', \"Benutzername\", 'Zeitstempel', 'Abonnenten', 'Abonnierten', 'Retweets', 'Likes', 'Entities', 'Stimmung', 'Erwähnungen', 'Hashtags', 'URLs', 'Text', 'Ist_gelöscht']\n",
    "TweetsCov19_Pfad =  'C:/Mo/tweetDB/tweetscov19/TweetsCov19_tsv/data_sample/TweetsCov19_stichprobe.tsv'"
   ]
  },
  {
   "cell_type": "code",
   "execution_count": 8,
   "id": "c4b03794",
   "metadata": {},
   "outputs": [
    {
     "name": "stdout",
     "output_type": "stream",
     "text": [
      "Form (9409841, 14)\n"
     ]
    },
    {
     "data": {
      "text/html": [
       "<div>\n",
       "<style scoped>\n",
       "    .dataframe tbody tr th:only-of-type {\n",
       "        vertical-align: middle;\n",
       "    }\n",
       "\n",
       "    .dataframe tbody tr th {\n",
       "        vertical-align: top;\n",
       "    }\n",
       "\n",
       "    .dataframe thead th {\n",
       "        text-align: right;\n",
       "    }\n",
       "</style>\n",
       "<table border=\"1\" class=\"dataframe\">\n",
       "  <thead>\n",
       "    <tr style=\"text-align: right;\">\n",
       "      <th></th>\n",
       "      <th>Tweet_Id</th>\n",
       "      <th>Benutzername</th>\n",
       "      <th>Zeitstempel</th>\n",
       "      <th>Abonnenten</th>\n",
       "      <th>Abonnierten</th>\n",
       "      <th>Retweets</th>\n",
       "      <th>Likes</th>\n",
       "      <th>Entities</th>\n",
       "      <th>Stimmung</th>\n",
       "      <th>Erwähnungen</th>\n",
       "      <th>Hashtags</th>\n",
       "      <th>URLs</th>\n",
       "      <th>Text</th>\n",
       "      <th>Ist_gelöscht</th>\n",
       "    </tr>\n",
       "  </thead>\n",
       "  <tbody>\n",
       "    <tr>\n",
       "      <th>0</th>\n",
       "      <td>1178791637348212736</td>\n",
       "      <td>c57d4fb895c5f4a33d2a2b24709f93b5</td>\n",
       "      <td>2019-09-30 22:00:01+00:00</td>\n",
       "      <td>764191</td>\n",
       "      <td>132</td>\n",
       "      <td>19</td>\n",
       "      <td>180</td>\n",
       "      <td>foodie:Foodie:-2.096663959988218;</td>\n",
       "      <td>1 -1</td>\n",
       "      <td>null;</td>\n",
       "      <td>HalloweenTime?</td>\n",
       "      <td>null;</td>\n",
       "      <td>Has your appetite materialized just as fast as...</td>\n",
       "      <td>True</td>\n",
       "    </tr>\n",
       "    <tr>\n",
       "      <th>1</th>\n",
       "      <td>1178791641601232896</td>\n",
       "      <td>627f7d4ef584ba33a676a4ebcb861cdb</td>\n",
       "      <td>2019-09-30 22:00:02+00:00</td>\n",
       "      <td>321189</td>\n",
       "      <td>26833</td>\n",
       "      <td>32</td>\n",
       "      <td>43</td>\n",
       "      <td>mainland china:Mainland_China:-1.6252666161640...</td>\n",
       "      <td>1 -1</td>\n",
       "      <td>null;</td>\n",
       "      <td>HongKong</td>\n",
       "      <td>https://www.catholicnewsagency.com/news/amid-h...</td>\n",
       "      <td>The persecution of Catholics in mainland China...</td>\n",
       "      <td>False</td>\n",
       "    </tr>\n",
       "    <tr>\n",
       "      <th>2</th>\n",
       "      <td>1178791643509612547</td>\n",
       "      <td>7966d5716c1c4f33591b17755184e3d6</td>\n",
       "      <td>2019-09-30 22:00:03+00:00</td>\n",
       "      <td>14209</td>\n",
       "      <td>10623</td>\n",
       "      <td>90</td>\n",
       "      <td>182</td>\n",
       "      <td>brexit:Brexit:-1.582809637810362;hear hear:Hea...</td>\n",
       "      <td>1 -2</td>\n",
       "      <td>null;</td>\n",
       "      <td>Brexit</td>\n",
       "      <td>null;</td>\n",
       "      <td>Hear, hear..\\nEmily: You were an outspoken cri...</td>\n",
       "      <td>False</td>\n",
       "    </tr>\n",
       "    <tr>\n",
       "      <th>3</th>\n",
       "      <td>1178791644214235137</td>\n",
       "      <td>f17996c036ed4cd981f5448fe00d9ed2</td>\n",
       "      <td>2019-09-30 22:00:03+00:00</td>\n",
       "      <td>2264986</td>\n",
       "      <td>655</td>\n",
       "      <td>60</td>\n",
       "      <td>528</td>\n",
       "      <td>null;</td>\n",
       "      <td>3 -1</td>\n",
       "      <td>amstandardca.</td>\n",
       "      <td>BlueJays</td>\n",
       "      <td>null;</td>\n",
       "      <td>We wrapped up the season with a WINNING week! ...</td>\n",
       "      <td>False</td>\n",
       "    </tr>\n",
       "    <tr>\n",
       "      <th>4</th>\n",
       "      <td>1178791645371875329</td>\n",
       "      <td>32a54e5f6d8a67de1bffd2e689594dc8</td>\n",
       "      <td>2019-09-30 22:00:03+00:00</td>\n",
       "      <td>171</td>\n",
       "      <td>138</td>\n",
       "      <td>33</td>\n",
       "      <td>117</td>\n",
       "      <td>my family:My_Family:-2.6353832182503094;roll t...</td>\n",
       "      <td>4 -1</td>\n",
       "      <td>null;</td>\n",
       "      <td>null;</td>\n",
       "      <td>null;</td>\n",
       "      <td>Super excited to announce that I will be spend...</td>\n",
       "      <td>False</td>\n",
       "    </tr>\n",
       "  </tbody>\n",
       "</table>\n",
       "</div>"
      ],
      "text/plain": [
       "              Tweet_Id                      Benutzername  \\\n",
       "0  1178791637348212736  c57d4fb895c5f4a33d2a2b24709f93b5   \n",
       "1  1178791641601232896  627f7d4ef584ba33a676a4ebcb861cdb   \n",
       "2  1178791643509612547  7966d5716c1c4f33591b17755184e3d6   \n",
       "3  1178791644214235137  f17996c036ed4cd981f5448fe00d9ed2   \n",
       "4  1178791645371875329  32a54e5f6d8a67de1bffd2e689594dc8   \n",
       "\n",
       "                 Zeitstempel  Abonnenten  Abonnierten  Retweets  Likes  \\\n",
       "0  2019-09-30 22:00:01+00:00      764191          132        19    180   \n",
       "1  2019-09-30 22:00:02+00:00      321189        26833        32     43   \n",
       "2  2019-09-30 22:00:03+00:00       14209        10623        90    182   \n",
       "3  2019-09-30 22:00:03+00:00     2264986          655        60    528   \n",
       "4  2019-09-30 22:00:03+00:00         171          138        33    117   \n",
       "\n",
       "                                            Entities Stimmung    Erwähnungen  \\\n",
       "0                  foodie:Foodie:-2.096663959988218;     1 -1          null;   \n",
       "1  mainland china:Mainland_China:-1.6252666161640...     1 -1          null;   \n",
       "2  brexit:Brexit:-1.582809637810362;hear hear:Hea...     1 -2          null;   \n",
       "3                                              null;     3 -1  amstandardca.   \n",
       "4  my family:My_Family:-2.6353832182503094;roll t...     4 -1          null;   \n",
       "\n",
       "         Hashtags                                               URLs  \\\n",
       "0  HalloweenTime?                                              null;   \n",
       "1        HongKong  https://www.catholicnewsagency.com/news/amid-h...   \n",
       "2          Brexit                                              null;   \n",
       "3        BlueJays                                              null;   \n",
       "4           null;                                              null;   \n",
       "\n",
       "                                                Text  Ist_gelöscht  \n",
       "0  Has your appetite materialized just as fast as...          True  \n",
       "1  The persecution of Catholics in mainland China...         False  \n",
       "2  Hear, hear..\\nEmily: You were an outspoken cri...         False  \n",
       "3  We wrapped up the season with a WINNING week! ...         False  \n",
       "4  Super excited to announce that I will be spend...         False  "
      ]
     },
     "execution_count": 8,
     "metadata": {},
     "output_type": "execute_result"
    }
   ],
   "source": [
    "#Stichprobe von Tweetscov19 lesen\n",
    "\n",
    "df_tweetscov19 = pd.read_csv(TweetsCov19_Pfad, sep='\\t', error_bad_lines=False, names=TweetsCov19_labels)\n",
    "print('Form', df_tweetscov19.shape)\n",
    "df_tweetscov19.head()"
   ]
  },
  {
   "cell_type": "code",
   "execution_count": 9,
   "id": "9f6948c8",
   "metadata": {},
   "outputs": [],
   "source": [
    "#Diese Funktion bekommt eine String, wandelt die String-Daten zu einer Liste von URLs um. Dann extrahieret die Domäne aus der URLs.\n",
    "\n",
    "def get_domain(url):\n",
    "    s = url.split(':-:')\n",
    "    f = filter(None, s)\n",
    "    l2 = list(f)\n",
    "    domain_txt = ''\n",
    "    for x in range(0, len(l2)):\n",
    "        ex = tldextract.extract(l2[x])\n",
    "        if x != 0:\n",
    "            domain_txt = domain_txt + ' ' + ex.domain\n",
    "        else:\n",
    "            domain_txt = domain_txt + ex.domain\n",
    "    return domain_txt\n"
   ]
  },
  {
   "cell_type": "code",
   "execution_count": 10,
   "id": "49842e5e",
   "metadata": {},
   "outputs": [
    {
     "name": "stdout",
     "output_type": "stream",
     "text": [
      "Anzahl der Erwähnungen wurde berechnet!\n"
     ]
    }
   ],
   "source": [
    "#Zuerst wird die Spalte Erwähnungen als String definiert, dann werden String-Daten zu einer Liste umgewandelt. \n",
    "#Die Länge der Liste wird als die Anzahl der Erwähnungen berechnet und zurückgegeben\n",
    "\n",
    "df_tweetscov19['Erwähnungen'] = df_tweetscov19['Erwähnungen'].astype(str)\n",
    "df_tweetscov19['Anzahl der Erwähnungen'] = df_tweetscov19.apply(lambda row: len(list(row['Erwähnungen'].split())) if (row['Erwähnungen'] != 'null;') else 0, axis=1)\n",
    "print('Anzahl der Erwähnungen wurde berechnet!')"
   ]
  },
  {
   "cell_type": "code",
   "execution_count": 11,
   "id": "73bc2464",
   "metadata": {},
   "outputs": [
    {
     "name": "stdout",
     "output_type": "stream",
     "text": [
      "Anzahl der Hashtags wurde berechnet!\n"
     ]
    }
   ],
   "source": [
    "#Zuerst wird die Spalte Hashtags als String definiert, dann werden String-Daten zu einer Liste umgewandelt. \n",
    "#Die Länge der Liste wird als die Anzahl der Hashtags berechnet und zurückgegeben\n",
    "\n",
    "df_tweetscov19['Hashtags'] = df_tweetscov19['Hashtags'].astype(str)\n",
    "df_tweetscov19['Anzahl der Hashtags'] = df_tweetscov19.apply(lambda row: len(list(row['Hashtags'].split())) if (row['Hashtags'] != 'null;') else 0, axis=1)\n",
    "print('Anzahl der Hashtags wurde berechnet!')"
   ]
  },
  {
   "cell_type": "code",
   "execution_count": 12,
   "id": "40afc94f",
   "metadata": {},
   "outputs": [
    {
     "name": "stdout",
     "output_type": "stream",
     "text": [
      "Anzahl der URLs wurde berechnet!\n"
     ]
    }
   ],
   "source": [
    "#Zuerst wird die Spalte URLs als String definiert, dann werden String-Daten zu einer Liste umgewandelt. \n",
    "#Die Liste wird dann gefilterd, um die leere Teile zu entfernen. Dann wird die Länge der Liste wird als die Anzahl der URLs berechnet und zurückgegeben\n",
    "\n",
    "df_tweetscov19['URLs'] = df_tweetscov19['URLs'].astype(str)\n",
    "df_tweetscov19['Anzahl der URLs'] = df_tweetscov19.apply(lambda row: len(list(filter(None,(row['URLs'].split(':-:'))))) if (row['URLs'] != 'null;') else 0, axis=1)\n",
    "print('Anzahl der URLs wurde berechnet!')"
   ]
  },
  {
   "cell_type": "code",
   "execution_count": 13,
   "id": "7ecce7d8",
   "metadata": {},
   "outputs": [
    {
     "name": "stdout",
     "output_type": "stream",
     "text": [
      "Domäne wurden extrahiert!\n"
     ]
    }
   ],
   "source": [
    "#Ruft diese Methode die Funktion get_domain(). Die Funktion liest jede einzelne Urls von dem String, extrahiert die Domain davon.\n",
    "#Alle Domaine werden mit einer Leerzeichen voneinander getrennt, gespeichert und zurückgegeben.\n",
    "\n",
    "df_tweetscov19['Domäne'] = df_tweetscov19.apply(lambda row: get_domain(row['URLs']) if (row['URLs'] != 'null;') else 0, axis=1)\n",
    "print('Domäne wurden extrahiert!')"
   ]
  },
  {
   "cell_type": "code",
   "execution_count": 14,
   "id": "67e14342",
   "metadata": {},
   "outputs": [
    {
     "name": "stdout",
     "output_type": "stream",
     "text": [
      "Textlänge wurde berechnet!\n"
     ]
    }
   ],
   "source": [
    "#Textlänge wird als Anzahl von benutzten Zeichen berechnet und gespeichert.\n",
    "\n",
    "df_tweetscov19['Text'] = df_tweetscov19['Text'].astype(str)\n",
    "df_tweetscov19['Textlänge'] = df_tweetscov19.apply(lambda row: len(row['Text']) , axis=1)\n",
    "print('Textlänge wurde berechnet!')"
   ]
  },
  {
   "cell_type": "code",
   "execution_count": 15,
   "id": "89535b0d",
   "metadata": {},
   "outputs": [],
   "source": [
    "#Diese Funktion berechnet die Lesbarkeit anhand der fkscore_bibliothek und gibt das Ergebnis zurück.\n",
    "\n",
    "def get_fkscore_readablity(text):\n",
    "    fk = fkscore(text)\n",
    "    return fk.score['readability']"
   ]
  },
  {
   "cell_type": "code",
   "execution_count": 16,
   "id": "973b4731",
   "metadata": {},
   "outputs": [
    {
     "name": "stdout",
     "output_type": "stream",
     "text": [
      "Lesbarkeit wurde berechnet!\n"
     ]
    }
   ],
   "source": [
    "#Die Funktion ruf get_fkscore_readablity(), und das zurückgegebene Ergebnis speichert.\n",
    "\n",
    "df_tweetscov19['Lesbarkeit'] = df_tweetscov19.apply(lambda row: get_fkscore_readablity(row['Text']), axis=1)\n",
    "print('Lesbarkeit wurde berechnet!')"
   ]
  },
  {
   "cell_type": "code",
   "execution_count": 17,
   "id": "48c8b542",
   "metadata": {},
   "outputs": [
    {
     "data": {
      "text/html": [
       "<div>\n",
       "<style scoped>\n",
       "    .dataframe tbody tr th:only-of-type {\n",
       "        vertical-align: middle;\n",
       "    }\n",
       "\n",
       "    .dataframe tbody tr th {\n",
       "        vertical-align: top;\n",
       "    }\n",
       "\n",
       "    .dataframe thead th {\n",
       "        text-align: right;\n",
       "    }\n",
       "</style>\n",
       "<table border=\"1\" class=\"dataframe\">\n",
       "  <thead>\n",
       "    <tr style=\"text-align: right;\">\n",
       "      <th></th>\n",
       "      <th>Tweet_Id</th>\n",
       "      <th>Benutzername</th>\n",
       "      <th>Zeitstempel</th>\n",
       "      <th>Abonnenten</th>\n",
       "      <th>Abonnierten</th>\n",
       "      <th>Retweets</th>\n",
       "      <th>Likes</th>\n",
       "      <th>Entities</th>\n",
       "      <th>Stimmung</th>\n",
       "      <th>Erwähnungen</th>\n",
       "      <th>Hashtags</th>\n",
       "      <th>URLs</th>\n",
       "      <th>Text</th>\n",
       "      <th>Ist_gelöscht</th>\n",
       "      <th>Anzahl der Erwähnungen</th>\n",
       "      <th>Anzahl der Hashtags</th>\n",
       "      <th>Anzahl der URLs</th>\n",
       "      <th>Domäne</th>\n",
       "      <th>Textlänge</th>\n",
       "      <th>Lesbarkeit</th>\n",
       "    </tr>\n",
       "  </thead>\n",
       "  <tbody>\n",
       "    <tr>\n",
       "      <th>0</th>\n",
       "      <td>1178791637348212736</td>\n",
       "      <td>c57d4fb895c5f4a33d2a2b24709f93b5</td>\n",
       "      <td>2019-09-30 22:00:01+00:00</td>\n",
       "      <td>764191</td>\n",
       "      <td>132</td>\n",
       "      <td>19</td>\n",
       "      <td>180</td>\n",
       "      <td>foodie:Foodie:-2.096663959988218;</td>\n",
       "      <td>1 -1</td>\n",
       "      <td>null;</td>\n",
       "      <td>HalloweenTime?</td>\n",
       "      <td>null;</td>\n",
       "      <td>Has your appetite materialized just as fast as...</td>\n",
       "      <td>True</td>\n",
       "      <td>0</td>\n",
       "      <td>1</td>\n",
       "      <td>0</td>\n",
       "      <td>0</td>\n",
       "      <td>155</td>\n",
       "      <td>76.553</td>\n",
       "    </tr>\n",
       "    <tr>\n",
       "      <th>1</th>\n",
       "      <td>1178791641601232896</td>\n",
       "      <td>627f7d4ef584ba33a676a4ebcb861cdb</td>\n",
       "      <td>2019-09-30 22:00:02+00:00</td>\n",
       "      <td>321189</td>\n",
       "      <td>26833</td>\n",
       "      <td>32</td>\n",
       "      <td>43</td>\n",
       "      <td>mainland china:Mainland_China:-1.6252666161640...</td>\n",
       "      <td>1 -1</td>\n",
       "      <td>null;</td>\n",
       "      <td>HongKong</td>\n",
       "      <td>https://www.catholicnewsagency.com/news/amid-h...</td>\n",
       "      <td>The persecution of Catholics in mainland China...</td>\n",
       "      <td>False</td>\n",
       "      <td>0</td>\n",
       "      <td>1</td>\n",
       "      <td>1</td>\n",
       "      <td>catholicnewsagency</td>\n",
       "      <td>204</td>\n",
       "      <td>29.468</td>\n",
       "    </tr>\n",
       "    <tr>\n",
       "      <th>2</th>\n",
       "      <td>1178791643509612547</td>\n",
       "      <td>7966d5716c1c4f33591b17755184e3d6</td>\n",
       "      <td>2019-09-30 22:00:03+00:00</td>\n",
       "      <td>14209</td>\n",
       "      <td>10623</td>\n",
       "      <td>90</td>\n",
       "      <td>182</td>\n",
       "      <td>brexit:Brexit:-1.582809637810362;hear hear:Hea...</td>\n",
       "      <td>1 -2</td>\n",
       "      <td>null;</td>\n",
       "      <td>Brexit</td>\n",
       "      <td>null;</td>\n",
       "      <td>Hear, hear..\\nEmily: You were an outspoken cri...</td>\n",
       "      <td>False</td>\n",
       "      <td>0</td>\n",
       "      <td>1</td>\n",
       "      <td>0</td>\n",
       "      <td>0</td>\n",
       "      <td>163</td>\n",
       "      <td>79.534</td>\n",
       "    </tr>\n",
       "    <tr>\n",
       "      <th>3</th>\n",
       "      <td>1178791644214235137</td>\n",
       "      <td>f17996c036ed4cd981f5448fe00d9ed2</td>\n",
       "      <td>2019-09-30 22:00:03+00:00</td>\n",
       "      <td>2264986</td>\n",
       "      <td>655</td>\n",
       "      <td>60</td>\n",
       "      <td>528</td>\n",
       "      <td>null;</td>\n",
       "      <td>3 -1</td>\n",
       "      <td>amstandardca.</td>\n",
       "      <td>BlueJays</td>\n",
       "      <td>null;</td>\n",
       "      <td>We wrapped up the season with a WINNING week! ...</td>\n",
       "      <td>False</td>\n",
       "      <td>1</td>\n",
       "      <td>1</td>\n",
       "      <td>0</td>\n",
       "      <td>0</td>\n",
       "      <td>132</td>\n",
       "      <td>85.889</td>\n",
       "    </tr>\n",
       "    <tr>\n",
       "      <th>4</th>\n",
       "      <td>1178791645371875329</td>\n",
       "      <td>32a54e5f6d8a67de1bffd2e689594dc8</td>\n",
       "      <td>2019-09-30 22:00:03+00:00</td>\n",
       "      <td>171</td>\n",
       "      <td>138</td>\n",
       "      <td>33</td>\n",
       "      <td>117</td>\n",
       "      <td>my family:My_Family:-2.6353832182503094;roll t...</td>\n",
       "      <td>4 -1</td>\n",
       "      <td>null;</td>\n",
       "      <td>null;</td>\n",
       "      <td>null;</td>\n",
       "      <td>Super excited to announce that I will be spend...</td>\n",
       "      <td>False</td>\n",
       "      <td>0</td>\n",
       "      <td>0</td>\n",
       "      <td>0</td>\n",
       "      <td>0</td>\n",
       "      <td>257</td>\n",
       "      <td>61.203</td>\n",
       "    </tr>\n",
       "  </tbody>\n",
       "</table>\n",
       "</div>"
      ],
      "text/plain": [
       "              Tweet_Id                      Benutzername  \\\n",
       "0  1178791637348212736  c57d4fb895c5f4a33d2a2b24709f93b5   \n",
       "1  1178791641601232896  627f7d4ef584ba33a676a4ebcb861cdb   \n",
       "2  1178791643509612547  7966d5716c1c4f33591b17755184e3d6   \n",
       "3  1178791644214235137  f17996c036ed4cd981f5448fe00d9ed2   \n",
       "4  1178791645371875329  32a54e5f6d8a67de1bffd2e689594dc8   \n",
       "\n",
       "                 Zeitstempel  Abonnenten  Abonnierten  Retweets  Likes  \\\n",
       "0  2019-09-30 22:00:01+00:00      764191          132        19    180   \n",
       "1  2019-09-30 22:00:02+00:00      321189        26833        32     43   \n",
       "2  2019-09-30 22:00:03+00:00       14209        10623        90    182   \n",
       "3  2019-09-30 22:00:03+00:00     2264986          655        60    528   \n",
       "4  2019-09-30 22:00:03+00:00         171          138        33    117   \n",
       "\n",
       "                                            Entities Stimmung    Erwähnungen  \\\n",
       "0                  foodie:Foodie:-2.096663959988218;     1 -1          null;   \n",
       "1  mainland china:Mainland_China:-1.6252666161640...     1 -1          null;   \n",
       "2  brexit:Brexit:-1.582809637810362;hear hear:Hea...     1 -2          null;   \n",
       "3                                              null;     3 -1  amstandardca.   \n",
       "4  my family:My_Family:-2.6353832182503094;roll t...     4 -1          null;   \n",
       "\n",
       "         Hashtags                                               URLs  \\\n",
       "0  HalloweenTime?                                              null;   \n",
       "1        HongKong  https://www.catholicnewsagency.com/news/amid-h...   \n",
       "2          Brexit                                              null;   \n",
       "3        BlueJays                                              null;   \n",
       "4           null;                                              null;   \n",
       "\n",
       "                                                Text  Ist_gelöscht  \\\n",
       "0  Has your appetite materialized just as fast as...          True   \n",
       "1  The persecution of Catholics in mainland China...         False   \n",
       "2  Hear, hear..\\nEmily: You were an outspoken cri...         False   \n",
       "3  We wrapped up the season with a WINNING week! ...         False   \n",
       "4  Super excited to announce that I will be spend...         False   \n",
       "\n",
       "   Anzahl der Erwähnungen  Anzahl der Hashtags  Anzahl der URLs  \\\n",
       "0                       0                    1                0   \n",
       "1                       0                    1                1   \n",
       "2                       0                    1                0   \n",
       "3                       1                    1                0   \n",
       "4                       0                    0                0   \n",
       "\n",
       "               Domäne  Textlänge  Lesbarkeit  \n",
       "0                   0        155      76.553  \n",
       "1  catholicnewsagency        204      29.468  \n",
       "2                   0        163      79.534  \n",
       "3                   0        132      85.889  \n",
       "4                   0        257      61.203  "
      ]
     },
     "execution_count": 17,
     "metadata": {},
     "output_type": "execute_result"
    }
   ],
   "source": [
    "df_tweetscov19.head()"
   ]
  },
  {
   "cell_type": "code",
   "execution_count": 16,
   "id": "a298d4f2",
   "metadata": {},
   "outputs": [],
   "source": [
    "#Die Ergebnisse werden gespeichert\n",
    "TweetsCov19_Pfad =  'C:/Mo/tweetDB/tweetscov19/TweetsCov19_tsv/data_sample/TweetsKB_stichprobe_lesbarkeit.tsv'\n",
    "\n",
    "with open(TweetsCov19_Pfad, 'w', newline='', encoding=\"utf-8\") as out_file:\n",
    "    tsv_writer = csv.writer(out_file, delimiter=\"\\t\")\n",
    "    for idx, row in df_tweetscov19.iterrows():\n",
    "        tsv_writer.writerow(row.values.tolist())"
   ]
  },
  {
   "cell_type": "markdown",
   "id": "ea231f70",
   "metadata": {},
   "source": [
    "***"
   ]
  },
  {
   "cell_type": "markdown",
   "id": "4b2e7647",
   "metadata": {},
   "source": [
    "# TweetsKB:"
   ]
  },
  {
   "cell_type": "markdown",
   "id": "4a9be51f",
   "metadata": {},
   "source": [
    "1. Die **Hashtags** aus dem Text werden extrahiert\n",
    "2. Die **Erwähnungen** aus dem Text werden extrahiert\n",
    "3. Die **Anzahl der Hashtags** werden berechenet\n",
    "4. Die **Anzahl der Erwähnungen** werden berechnet\n",
    "5. Die **Textlänge** wird berechnet\n",
    "6. Die neue Features werden gespeichert"
   ]
  },
  {
   "cell_type": "markdown",
   "id": "7f64fcd9",
   "metadata": {},
   "source": [
    "***"
   ]
  },
  {
   "cell_type": "code",
   "execution_count": 2,
   "id": "9bd06c33",
   "metadata": {},
   "outputs": [],
   "source": [
    "#Labels und Pfad für den TweetsKB\n",
    "\n",
    "TweetsKB_labels    = ['Tweet Id', 'Benutzername', 'Zeitstempel', 'Abonnenten', 'Abonnierten', 'Retweets', 'Likes', 'Text', 'URLs', 'Ist_gelöscht' ]\n",
    "TweetsKB_Pfad =  'C:/Mo/tweetDB/tweetscov19/TweetsCov19_tsv/data_sample/TweetsKB_stichprobe.tsv'"
   ]
  },
  {
   "cell_type": "code",
   "execution_count": 3,
   "id": "ff57808f",
   "metadata": {},
   "outputs": [
    {
     "name": "stdout",
     "output_type": "stream",
     "text": [
      "Form : (9409841, 10)\n"
     ]
    },
    {
     "data": {
      "text/html": [
       "<div>\n",
       "<style scoped>\n",
       "    .dataframe tbody tr th:only-of-type {\n",
       "        vertical-align: middle;\n",
       "    }\n",
       "\n",
       "    .dataframe tbody tr th {\n",
       "        vertical-align: top;\n",
       "    }\n",
       "\n",
       "    .dataframe thead th {\n",
       "        text-align: right;\n",
       "    }\n",
       "</style>\n",
       "<table border=\"1\" class=\"dataframe\">\n",
       "  <thead>\n",
       "    <tr style=\"text-align: right;\">\n",
       "      <th></th>\n",
       "      <th>Tweet Id</th>\n",
       "      <th>Benutzername</th>\n",
       "      <th>Zeitstempel</th>\n",
       "      <th>Abonnenten</th>\n",
       "      <th>Abonnierten</th>\n",
       "      <th>Retweets</th>\n",
       "      <th>Likes</th>\n",
       "      <th>Text</th>\n",
       "      <th>URLs</th>\n",
       "      <th>Ist_gelöscht</th>\n",
       "    </tr>\n",
       "  </thead>\n",
       "  <tbody>\n",
       "    <tr>\n",
       "      <th>0</th>\n",
       "      <td>1178791636039589889</td>\n",
       "      <td>DCComics</td>\n",
       "      <td>2019-09-30 22:00:01+00:00</td>\n",
       "      <td>3349606</td>\n",
       "      <td>563</td>\n",
       "      <td>2</td>\n",
       "      <td>13</td>\n",
       "      <td>Today on #DCDaily, the crew takes a deep dive ...</td>\n",
       "      <td>http://bit.ly/2mlNYpS:-:</td>\n",
       "      <td>False</td>\n",
       "    </tr>\n",
       "    <tr>\n",
       "      <th>1</th>\n",
       "      <td>1178791641265639424</td>\n",
       "      <td>seanberdyz</td>\n",
       "      <td>2019-09-30 22:00:02+00:00</td>\n",
       "      <td>1203</td>\n",
       "      <td>499</td>\n",
       "      <td>4</td>\n",
       "      <td>20</td>\n",
       "      <td>𝘪’𝘮 𝘨𝘰𝘯𝘯𝘢 𝘣𝘦 𝘳𝘪𝘨𝘩𝘵 𝘩𝘦𝘳𝘦 ⟶ https://t.co/kOxWQL5...</td>\n",
       "      <td>http://ourownside.carrd.co:-:</td>\n",
       "      <td>True</td>\n",
       "    </tr>\n",
       "    <tr>\n",
       "      <th>2</th>\n",
       "      <td>1178791640573579264</td>\n",
       "      <td>AnArtistAtBirth</td>\n",
       "      <td>2019-09-30 22:00:02+00:00</td>\n",
       "      <td>109</td>\n",
       "      <td>215</td>\n",
       "      <td>0</td>\n",
       "      <td>0</td>\n",
       "      <td>❛ 𝘠𝘰𝘶'𝘳𝘦 𝘴𝘪𝘵𝘵𝘪𝘯' 𝘰𝘯 𝘺𝘰𝘶𝘳 𝘧𝘦𝘦𝘭𝘪𝘯𝘨𝘴 . . . 𝘐'𝘮 𝘴𝘪...</td>\n",
       "      <td>null;</td>\n",
       "      <td>True</td>\n",
       "    </tr>\n",
       "    <tr>\n",
       "      <th>3</th>\n",
       "      <td>1178791644797255680</td>\n",
       "      <td>lagosboygang</td>\n",
       "      <td>2019-09-30 22:00:03+00:00</td>\n",
       "      <td>571</td>\n",
       "      <td>1401</td>\n",
       "      <td>0</td>\n",
       "      <td>0</td>\n",
       "      <td>@Tiffany_o_ @UG_derrick That's the one i wanna...</td>\n",
       "      <td>null;</td>\n",
       "      <td>True</td>\n",
       "    </tr>\n",
       "    <tr>\n",
       "      <th>4</th>\n",
       "      <td>1178791648056217600</td>\n",
       "      <td>Phenom_Hoops</td>\n",
       "      <td>2019-09-30 22:00:04+00:00</td>\n",
       "      <td>25630</td>\n",
       "      <td>1674</td>\n",
       "      <td>1</td>\n",
       "      <td>1</td>\n",
       "      <td>2022 6’9 Perry Smith Jr. showcasing his high-m...</td>\n",
       "      <td>https://www.phenomhoopreport.com/2022-69-perry...</td>\n",
       "      <td>False</td>\n",
       "    </tr>\n",
       "  </tbody>\n",
       "</table>\n",
       "</div>"
      ],
      "text/plain": [
       "              Tweet Id     Benutzername                Zeitstempel  \\\n",
       "0  1178791636039589889         DCComics  2019-09-30 22:00:01+00:00   \n",
       "1  1178791641265639424       seanberdyz  2019-09-30 22:00:02+00:00   \n",
       "2  1178791640573579264  AnArtistAtBirth  2019-09-30 22:00:02+00:00   \n",
       "3  1178791644797255680     lagosboygang  2019-09-30 22:00:03+00:00   \n",
       "4  1178791648056217600     Phenom_Hoops  2019-09-30 22:00:04+00:00   \n",
       "\n",
       "   Abonnenten  Abonnierten  Retweets  Likes  \\\n",
       "0     3349606          563         2     13   \n",
       "1        1203          499         4     20   \n",
       "2         109          215         0      0   \n",
       "3         571         1401         0      0   \n",
       "4       25630         1674         1      1   \n",
       "\n",
       "                                                Text  \\\n",
       "0  Today on #DCDaily, the crew takes a deep dive ...   \n",
       "1  𝘪’𝘮 𝘨𝘰𝘯𝘯𝘢 𝘣𝘦 𝘳𝘪𝘨𝘩𝘵 𝘩𝘦𝘳𝘦 ⟶ https://t.co/kOxWQL5...   \n",
       "2  ❛ 𝘠𝘰𝘶'𝘳𝘦 𝘴𝘪𝘵𝘵𝘪𝘯' 𝘰𝘯 𝘺𝘰𝘶𝘳 𝘧𝘦𝘦𝘭𝘪𝘯𝘨𝘴 . . . 𝘐'𝘮 𝘴𝘪...   \n",
       "3  @Tiffany_o_ @UG_derrick That's the one i wanna...   \n",
       "4  2022 6’9 Perry Smith Jr. showcasing his high-m...   \n",
       "\n",
       "                                                URLs  Ist_gelöscht  \n",
       "0                           http://bit.ly/2mlNYpS:-:         False  \n",
       "1                      http://ourownside.carrd.co:-:          True  \n",
       "2                                              null;          True  \n",
       "3                                              null;          True  \n",
       "4  https://www.phenomhoopreport.com/2022-69-perry...         False  "
      ]
     },
     "execution_count": 3,
     "metadata": {},
     "output_type": "execute_result"
    }
   ],
   "source": [
    "#TweetsKB wird gelesen\n",
    "\n",
    "df_tweetskb = pd.read_csv(TweetsKB_Pfad, sep='\\t', error_bad_lines=False, names=TweetsKB_labels)\n",
    "print('Form :', df_tweetskb.shape)\n",
    "df_tweetskb.head()"
   ]
  },
  {
   "cell_type": "code",
   "execution_count": 5,
   "id": "e8f463b5",
   "metadata": {},
   "outputs": [
    {
     "name": "stdout",
     "output_type": "stream",
     "text": [
      "Hashtags wurden extrahiert!\n"
     ]
    }
   ],
   "source": [
    "#Diese Funktion extrahiert die Hashtags anhand der Reguläre Ausdrücke aus dem Text und gibt sie Züruck.\n",
    "def get_hashtags(text):\n",
    "    return re.findall(\"(?<![@\\w])#(\\w{1,25})\", text)\n",
    "\n",
    "#Die Funktion get_Hashtags wird gerufen, zurückgegebene Hashtags werden in der Spalte Hashtags gespeichert.\n",
    "\n",
    "df_tweetskb['Text'] = df_tweetskb['Text'].astype(str)\n",
    "df_tweetskb['Hashtags'] = df_tweetskb.apply(lambda row: get_hashtags(row['Text']) , axis=1)\n",
    "print('Hashtags wurden extrahiert!')"
   ]
  },
  {
   "cell_type": "code",
   "execution_count": 6,
   "id": "93cb46e8",
   "metadata": {},
   "outputs": [
    {
     "name": "stdout",
     "output_type": "stream",
     "text": [
      "Mentions wurden extrahiert!\n"
     ]
    }
   ],
   "source": [
    "#Diese Funktion extrahiert die Erwähnungen anhand der Reguläre Ausdrücke aus dem Text und gibt sie in einer Liste Züruck.\n",
    "\n",
    "def get_mentions(text):\n",
    "    return re.findall(\"(?<![@\\w])@(\\w{1,25})\", text)\n",
    "\n",
    "#Die Funktion get_mentions wird gerufen, zurückgegebene Mentions werden in der Spalte Mentions gespeichert.\n",
    "\n",
    "df_tweetskb['Text'] = df_tweetskb['Text'].astype(str)\n",
    "df_tweetskb['Mentions'] = df_tweetskb.apply(lambda row: get_mentions(row['Text']) , axis=1)\n",
    "print('Mentions wurden extrahiert!')"
   ]
  },
  {
   "cell_type": "code",
   "execution_count": 15,
   "id": "be169171",
   "metadata": {},
   "outputs": [
    {
     "name": "stdout",
     "output_type": "stream",
     "text": [
      "Anzahl der Hashtags wurde berechnet!\n"
     ]
    }
   ],
   "source": [
    "import ast\n",
    "\n",
    "#Hier werden die String Daten zuerst zu einer Liste umgewandelt. Dann die Länge der Liste als die Anzahl der Hashtags zurückgegeben.\n",
    "\n",
    "def get_hashtags_number(hashtags):\n",
    "    #t = ast.literal_eval(hashtags)\n",
    "    return len(hashtags)\n",
    "\n",
    "df_tweetskb['Anzahl der Hashtags'] = df_tweetskb.apply(lambda row: get_hashtags_number(row['Hashtags']) , axis=1)\n",
    "print('Anzahl der Hashtags wurde berechnet!')"
   ]
  },
  {
   "cell_type": "code",
   "execution_count": 27,
   "id": "3fa891c2",
   "metadata": {},
   "outputs": [
    {
     "name": "stdout",
     "output_type": "stream",
     "text": [
      "Anzahl der Mentions wurde berechnet!\n"
     ]
    }
   ],
   "source": [
    "#Hier werden die String Daten zuerst zu einer Liste umgewandelt. Dann die Länge der Liste als die Anzahl der Mentions zurückgegeben.\n",
    "\n",
    "def get_mentions_number(mentions):\n",
    "    #t = ast.literal_eval(mentions)\n",
    "    return len(mentions)\n",
    "\n",
    "df_tweetskb['Anzahl der Erwähnungen'] = df_tweetskb.apply(lambda row: get_mentions_number(row['Mentions']) , axis=1)\n",
    "print('Anzahl der Mentions wurde berechnet!')"
   ]
  },
  {
   "cell_type": "code",
   "execution_count": 18,
   "id": "73a1fef1",
   "metadata": {},
   "outputs": [
    {
     "name": "stdout",
     "output_type": "stream",
     "text": [
      "Textlänge wurde berechnet!\n"
     ]
    }
   ],
   "source": [
    "#Textlänge wird als Anzahl von benutzten Zeichen berechnet und gespeichert.\n",
    "\n",
    "df_tweetskb['Text'] = df_tweetskb['Text'].astype(str)\n",
    "df_tweetskb['Textlänge'] = df_tweetskb.apply(lambda row: len(row['Text']) , axis=1)\n",
    "print('Textlänge wurde berechnet!')"
   ]
  },
  {
   "cell_type": "code",
   "execution_count": 24,
   "id": "13f1600d",
   "metadata": {},
   "outputs": [
    {
     "name": "stdout",
     "output_type": "stream",
     "text": [
      "Lesbarkeit wurde berechnet!\n"
     ]
    }
   ],
   "source": [
    "#Die Funktion get_fkscore_readablity() wird gerufen, das zurückgegebene Ergebnis wird gespeichert.\n",
    "\n",
    "df_tweetskb['Lesbarkeit'] = df_tweetskb.apply(lambda row: get_fkscore_readablity(row['Text']), axis=1)\n",
    "print('Lesbarkeit wurde berechnet!')"
   ]
  },
  {
   "cell_type": "code",
   "execution_count": 10,
   "id": "7cce2f42",
   "metadata": {},
   "outputs": [
    {
     "data": {
      "text/html": [
       "<div>\n",
       "<style scoped>\n",
       "    .dataframe tbody tr th:only-of-type {\n",
       "        vertical-align: middle;\n",
       "    }\n",
       "\n",
       "    .dataframe tbody tr th {\n",
       "        vertical-align: top;\n",
       "    }\n",
       "\n",
       "    .dataframe thead th {\n",
       "        text-align: right;\n",
       "    }\n",
       "</style>\n",
       "<table border=\"1\" class=\"dataframe\">\n",
       "  <thead>\n",
       "    <tr style=\"text-align: right;\">\n",
       "      <th></th>\n",
       "      <th>Tweet_Id</th>\n",
       "      <th>Benutzername</th>\n",
       "      <th>Zeitstempel</th>\n",
       "      <th>Abonnenten</th>\n",
       "      <th>Abonnierten</th>\n",
       "      <th>Retweets</th>\n",
       "      <th>Likes</th>\n",
       "      <th>Text</th>\n",
       "      <th>URLs</th>\n",
       "      <th>Ist_gelöscht</th>\n",
       "      <th>Hashtags</th>\n",
       "      <th>Erwähnungen</th>\n",
       "      <th>Anzahl der Hashtags</th>\n",
       "      <th>Anzahl der Mentions</th>\n",
       "      <th>Textlänge</th>\n",
       "      <th>Lesbarkeit</th>\n",
       "    </tr>\n",
       "  </thead>\n",
       "  <tbody>\n",
       "    <tr>\n",
       "      <th>0</th>\n",
       "      <td>1178791636039589889</td>\n",
       "      <td>DCComics</td>\n",
       "      <td>2019-09-30 22:00:01+00:00</td>\n",
       "      <td>3349606</td>\n",
       "      <td>563</td>\n",
       "      <td>2</td>\n",
       "      <td>13</td>\n",
       "      <td>Today on #DCDaily, the crew takes a deep dive ...</td>\n",
       "      <td>http://bit.ly/2mlNYpS:-:</td>\n",
       "      <td>False</td>\n",
       "      <td>['DCDaily']</td>\n",
       "      <td>['DCUTitans']</td>\n",
       "      <td>1</td>\n",
       "      <td>1</td>\n",
       "      <td>192</td>\n",
       "      <td>70.350</td>\n",
       "    </tr>\n",
       "    <tr>\n",
       "      <th>1</th>\n",
       "      <td>1178791641265639424</td>\n",
       "      <td>seanberdyz</td>\n",
       "      <td>2019-09-30 22:00:02+00:00</td>\n",
       "      <td>1203</td>\n",
       "      <td>499</td>\n",
       "      <td>4</td>\n",
       "      <td>20</td>\n",
       "      <td>𝘪’𝘮 𝘨𝘰𝘯𝘯𝘢 𝘣𝘦 𝘳𝘪𝘨𝘩𝘵 𝘩𝘦𝘳𝘦 ⟶ https://t.co/kOxWQL5...</td>\n",
       "      <td>http://ourownside.carrd.co:-:</td>\n",
       "      <td>True</td>\n",
       "      <td>[]</td>\n",
       "      <td>[]</td>\n",
       "      <td>0</td>\n",
       "      <td>0</td>\n",
       "      <td>73</td>\n",
       "      <td>82.390</td>\n",
       "    </tr>\n",
       "    <tr>\n",
       "      <th>2</th>\n",
       "      <td>1178791640573579264</td>\n",
       "      <td>AnArtistAtBirth</td>\n",
       "      <td>2019-09-30 22:00:02+00:00</td>\n",
       "      <td>109</td>\n",
       "      <td>215</td>\n",
       "      <td>0</td>\n",
       "      <td>0</td>\n",
       "      <td>❛ 𝘠𝘰𝘶'𝘳𝘦 𝘴𝘪𝘵𝘵𝘪𝘯' 𝘰𝘯 𝘺𝘰𝘶𝘳 𝘧𝘦𝘦𝘭𝘪𝘯𝘨𝘴 . . . 𝘐'𝘮 𝘴𝘪...</td>\n",
       "      <td>null;</td>\n",
       "      <td>True</td>\n",
       "      <td>['𝘛𝘩𝘦𝘰𝘯𝘦']</td>\n",
       "      <td>[]</td>\n",
       "      <td>1</td>\n",
       "      <td>0</td>\n",
       "      <td>128</td>\n",
       "      <td>123.755</td>\n",
       "    </tr>\n",
       "    <tr>\n",
       "      <th>3</th>\n",
       "      <td>1178791644797255680</td>\n",
       "      <td>lagosboygang</td>\n",
       "      <td>2019-09-30 22:00:03+00:00</td>\n",
       "      <td>571</td>\n",
       "      <td>1401</td>\n",
       "      <td>0</td>\n",
       "      <td>0</td>\n",
       "      <td>@Tiffany_o_ @UG_derrick That's the one i wanna...</td>\n",
       "      <td>null;</td>\n",
       "      <td>True</td>\n",
       "      <td>[]</td>\n",
       "      <td>['Tiffany_o_', 'UG_derrick']</td>\n",
       "      <td>0</td>\n",
       "      <td>2</td>\n",
       "      <td>77</td>\n",
       "      <td>105.921</td>\n",
       "    </tr>\n",
       "    <tr>\n",
       "      <th>4</th>\n",
       "      <td>1178791648056217600</td>\n",
       "      <td>Phenom_Hoops</td>\n",
       "      <td>2019-09-30 22:00:04+00:00</td>\n",
       "      <td>25630</td>\n",
       "      <td>1674</td>\n",
       "      <td>1</td>\n",
       "      <td>1</td>\n",
       "      <td>2022 6’9 Perry Smith Jr. showcasing his high-m...</td>\n",
       "      <td>https://www.phenomhoopreport.com/2022-69-perry...</td>\n",
       "      <td>False</td>\n",
       "      <td>['PhenomHoops']</td>\n",
       "      <td>[]</td>\n",
       "      <td>1</td>\n",
       "      <td>0</td>\n",
       "      <td>227</td>\n",
       "      <td>65.943</td>\n",
       "    </tr>\n",
       "  </tbody>\n",
       "</table>\n",
       "</div>"
      ],
      "text/plain": [
       "              Tweet_Id     Benutzername                Zeitstempel  \\\n",
       "0  1178791636039589889         DCComics  2019-09-30 22:00:01+00:00   \n",
       "1  1178791641265639424       seanberdyz  2019-09-30 22:00:02+00:00   \n",
       "2  1178791640573579264  AnArtistAtBirth  2019-09-30 22:00:02+00:00   \n",
       "3  1178791644797255680     lagosboygang  2019-09-30 22:00:03+00:00   \n",
       "4  1178791648056217600     Phenom_Hoops  2019-09-30 22:00:04+00:00   \n",
       "\n",
       "   Abonnenten  Abonnierten  Retweets  Likes  \\\n",
       "0     3349606          563         2     13   \n",
       "1        1203          499         4     20   \n",
       "2         109          215         0      0   \n",
       "3         571         1401         0      0   \n",
       "4       25630         1674         1      1   \n",
       "\n",
       "                                                Text  \\\n",
       "0  Today on #DCDaily, the crew takes a deep dive ...   \n",
       "1  𝘪’𝘮 𝘨𝘰𝘯𝘯𝘢 𝘣𝘦 𝘳𝘪𝘨𝘩𝘵 𝘩𝘦𝘳𝘦 ⟶ https://t.co/kOxWQL5...   \n",
       "2  ❛ 𝘠𝘰𝘶'𝘳𝘦 𝘴𝘪𝘵𝘵𝘪𝘯' 𝘰𝘯 𝘺𝘰𝘶𝘳 𝘧𝘦𝘦𝘭𝘪𝘯𝘨𝘴 . . . 𝘐'𝘮 𝘴𝘪...   \n",
       "3  @Tiffany_o_ @UG_derrick That's the one i wanna...   \n",
       "4  2022 6’9 Perry Smith Jr. showcasing his high-m...   \n",
       "\n",
       "                                                URLs  Ist_gelöscht  \\\n",
       "0                           http://bit.ly/2mlNYpS:-:         False   \n",
       "1                      http://ourownside.carrd.co:-:          True   \n",
       "2                                              null;          True   \n",
       "3                                              null;          True   \n",
       "4  https://www.phenomhoopreport.com/2022-69-perry...         False   \n",
       "\n",
       "          Hashtags                   Erwähnungen  Anzahl der Hashtags  \\\n",
       "0      ['DCDaily']                 ['DCUTitans']                    1   \n",
       "1               []                            []                    0   \n",
       "2       ['𝘛𝘩𝘦𝘰𝘯𝘦']                            []                    1   \n",
       "3               []  ['Tiffany_o_', 'UG_derrick']                    0   \n",
       "4  ['PhenomHoops']                            []                    1   \n",
       "\n",
       "   Anzahl der Mentions  Textlänge  Lesbarkeit  \n",
       "0                    1        192      70.350  \n",
       "1                    0         73      82.390  \n",
       "2                    0        128     123.755  \n",
       "3                    2         77     105.921  \n",
       "4                    0        227      65.943  "
      ]
     },
     "execution_count": 10,
     "metadata": {},
     "output_type": "execute_result"
    }
   ],
   "source": [
    "#Die erste 5 Zeile ausgeben\n",
    "df_tweetskb.head()"
   ]
  },
  {
   "cell_type": "code",
   "execution_count": 29,
   "id": "031b3cb5",
   "metadata": {},
   "outputs": [],
   "source": [
    "#Dataframe wird hier gespeichert.\n",
    "\n",
    "TweetsKB_Pfad =  'C:/Mo/tweetDB/tweetscov19/TweetsCov19_tsv/data_sample/TweetsKB_stichprobe_lesbarkeit.tsv'\n",
    "\n",
    "with open(TweetsKB_Pfad, 'w', newline='', encoding=\"utf-8\") as out_file:\n",
    "    tsv_writer = csv.writer(out_file, delimiter=\"\\t\")\n",
    "    for idx, row in df_tweetskb.iterrows():\n",
    "        tsv_writer.writerow(row.values.tolist())"
   ]
  }
 ],
 "metadata": {
  "kernelspec": {
   "display_name": "Python 3",
   "language": "python",
   "name": "python3"
  },
  "language_info": {
   "codemirror_mode": {
    "name": "ipython",
    "version": 3
   },
   "file_extension": ".py",
   "mimetype": "text/x-python",
   "name": "python",
   "nbconvert_exporter": "python",
   "pygments_lexer": "ipython3",
   "version": "3.8.8"
  }
 },
 "nbformat": 4,
 "nbformat_minor": 5
}
