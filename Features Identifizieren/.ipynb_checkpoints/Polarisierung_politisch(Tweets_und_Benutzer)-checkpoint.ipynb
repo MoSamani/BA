{
 "cells": [
  {
   "cell_type": "code",
   "execution_count": 1,
   "id": "0d58770b",
   "metadata": {},
   "outputs": [],
   "source": [
    "#CSV Bibliothek importieren \n",
    "import csv\n",
    "#Pandas importieren und als pd bezeichnen\n",
    "import pandas as pd\n",
    "#Numpy importieren und als np bezeichnen \n",
    "import numpy as np\n",
    "#Json Biliothek importieren\n",
    "import json\n",
    "#Obere Schranke für die Größe der Daten auf 100,000,000 setzen  \n",
    "csv.field_size_limit(100000000)\n",
    "#Maximale Anzahl von Zeilen und Spalten Zeigen \n",
    "pd.options.display.max_columns = None\n",
    "pd.options.display.max_rows = None\n",
    "#Extraktion der Domäne\n",
    "import tldextract\n",
    "#Um die Warnings zu Console leiten\n",
    "import warnings\n",
    "warnings.filterwarnings('ignore')"
   ]
  },
  {
   "cell_type": "markdown",
   "id": "26e91423",
   "metadata": {},
   "source": [
    "***"
   ]
  },
  {
   "cell_type": "markdown",
   "id": "8defc5cf",
   "metadata": {},
   "source": [
    "# Politische Polarisierung"
   ]
  },
  {
   "cell_type": "markdown",
   "id": "fb6ba908",
   "metadata": {},
   "source": [
    "1. Die Liste der polarisierten Domäne werden vorbereitet.\n",
    "2. Die Anzahl der benutzten polarisierten Domäne in den Tweets wird berechnet\n",
    "3. Die Polarisierung für die Benutzer wird berechnet\n",
    "4. Zum Schluss werden die Ergebnisse gespeichert."
   ]
  },
  {
   "cell_type": "markdown",
   "id": "f43375e9",
   "metadata": {},
   "source": [
    "***"
   ]
  },
  {
   "cell_type": "markdown",
   "id": "aa646319",
   "metadata": {},
   "source": [
    "### Zuerst werden die Tweets in TweetsCov19 bearbeitet, dann die Tweets in TweetsKB\n",
    "#### Vorbereitung der Domain-Labels"
   ]
  },
  {
   "cell_type": "code",
   "execution_count": 2,
   "id": "3e651c92",
   "metadata": {},
   "outputs": [],
   "source": [
    "#Hier werden zuerst die Domain-Labels gelesen\n",
    "pfad_tsv2 = 'C:/Mo/tweetDB/data/labels.csv'\n",
    "\n",
    "df_label = pd.read_csv(pfad_tsv2)\n"
   ]
  },
  {
   "cell_type": "code",
   "execution_count": 3,
   "id": "5bd21ea8",
   "metadata": {},
   "outputs": [
    {
     "data": {
      "text/html": [
       "<div>\n",
       "<style scoped>\n",
       "    .dataframe tbody tr th:only-of-type {\n",
       "        vertical-align: middle;\n",
       "    }\n",
       "\n",
       "    .dataframe tbody tr th {\n",
       "        vertical-align: top;\n",
       "    }\n",
       "\n",
       "    .dataframe thead th {\n",
       "        text-align: right;\n",
       "    }\n",
       "</style>\n",
       "<table border=\"1\" class=\"dataframe\">\n",
       "  <thead>\n",
       "    <tr style=\"text-align: right;\">\n",
       "      <th></th>\n",
       "      <th>Unnamed: 0</th>\n",
       "      <th>NewsGuard, Does not repeatedly publish false content</th>\n",
       "      <th>NewsGuard, Gathers and presents information responsibly</th>\n",
       "      <th>NewsGuard, Regularly corrects or clarifies errors</th>\n",
       "      <th>NewsGuard, Handles the difference between news and opinion responsibly</th>\n",
       "      <th>NewsGuard, Avoids deceptive headlines</th>\n",
       "      <th>NewsGuard, Website discloses ownership and financing</th>\n",
       "      <th>NewsGuard, Clearly labels advertising</th>\n",
       "      <th>NewsGuard, Reveals who's in charge, including any possible conflicts of interest</th>\n",
       "      <th>NewsGuard, Provides information about content creators</th>\n",
       "      <th>NewsGuard, score</th>\n",
       "      <th>NewsGuard, overall_class</th>\n",
       "      <th>Pew Research Center, known_by_40%</th>\n",
       "      <th>Pew Research Center, total</th>\n",
       "      <th>Pew Research Center, consistently_liberal</th>\n",
       "      <th>Pew Research Center, mostly_liberal</th>\n",
       "      <th>Pew Research Center, mixed</th>\n",
       "      <th>Pew Research Center, mostly conservative</th>\n",
       "      <th>Pew Research Center, consistently conservative</th>\n",
       "      <th>Wikipedia, is_fake</th>\n",
       "      <th>Open Sources, reliable</th>\n",
       "      <th>Open Sources, fake</th>\n",
       "      <th>Open Sources, unreliable</th>\n",
       "      <th>Open Sources, bias</th>\n",
       "      <th>Open Sources, conspiracy</th>\n",
       "      <th>Open Sources, hate</th>\n",
       "      <th>Open Sources, junksci</th>\n",
       "      <th>Open Sources, rumor</th>\n",
       "      <th>Open Sources, blog</th>\n",
       "      <th>Open Sources, clickbait</th>\n",
       "      <th>Open Sources, political</th>\n",
       "      <th>Open Sources, satire</th>\n",
       "      <th>Open Sources, state</th>\n",
       "      <th>Media Bias / Fact Check, label</th>\n",
       "      <th>Media Bias / Fact Check, factual_reporting</th>\n",
       "      <th>Media Bias / Fact Check, extreme_left</th>\n",
       "      <th>Media Bias / Fact Check, right</th>\n",
       "      <th>Media Bias / Fact Check, extreme_right</th>\n",
       "      <th>Media Bias / Fact Check, propaganda</th>\n",
       "      <th>Media Bias / Fact Check, fake_news</th>\n",
       "      <th>Media Bias / Fact Check, some_fake_news</th>\n",
       "      <th>Media Bias / Fact Check, failed_fact_checks</th>\n",
       "      <th>Media Bias / Fact Check, conspiracy</th>\n",
       "      <th>Media Bias / Fact Check, pseudoscience</th>\n",
       "      <th>Media Bias / Fact Check, hate_group</th>\n",
       "      <th>Media Bias / Fact Check, anti_islam</th>\n",
       "      <th>Media Bias / Fact Check, nationalism</th>\n",
       "      <th>Allsides, bias_rating</th>\n",
       "      <th>Allsides, community_agree</th>\n",
       "      <th>Allsides, community_disagree</th>\n",
       "      <th>Allsides, community_label</th>\n",
       "      <th>BuzzFeed, leaning</th>\n",
       "      <th>PolitiFact, Pants on Fire!</th>\n",
       "      <th>PolitiFact, False</th>\n",
       "      <th>PolitiFact, Mostly False</th>\n",
       "      <th>PolitiFact, Half-True</th>\n",
       "      <th>PolitiFact, Mostly True</th>\n",
       "      <th>PolitiFact, True</th>\n",
       "    </tr>\n",
       "  </thead>\n",
       "  <tbody>\n",
       "    <tr>\n",
       "      <th>0</th>\n",
       "      <td>21stCenturyWire</td>\n",
       "      <td>NaN</td>\n",
       "      <td>NaN</td>\n",
       "      <td>NaN</td>\n",
       "      <td>NaN</td>\n",
       "      <td>NaN</td>\n",
       "      <td>NaN</td>\n",
       "      <td>NaN</td>\n",
       "      <td>NaN</td>\n",
       "      <td>NaN</td>\n",
       "      <td>NaN</td>\n",
       "      <td>NaN</td>\n",
       "      <td>NaN</td>\n",
       "      <td>NaN</td>\n",
       "      <td>NaN</td>\n",
       "      <td>NaN</td>\n",
       "      <td>NaN</td>\n",
       "      <td>NaN</td>\n",
       "      <td>NaN</td>\n",
       "      <td>NaN</td>\n",
       "      <td>NaN</td>\n",
       "      <td>NaN</td>\n",
       "      <td>NaN</td>\n",
       "      <td>NaN</td>\n",
       "      <td>1.0</td>\n",
       "      <td>NaN</td>\n",
       "      <td>NaN</td>\n",
       "      <td>NaN</td>\n",
       "      <td>NaN</td>\n",
       "      <td>NaN</td>\n",
       "      <td>NaN</td>\n",
       "      <td>NaN</td>\n",
       "      <td>NaN</td>\n",
       "      <td>conspiracy_pseudoscience</td>\n",
       "      <td>3.0</td>\n",
       "      <td>0.0</td>\n",
       "      <td>0.0</td>\n",
       "      <td>0.0</td>\n",
       "      <td>0.0</td>\n",
       "      <td>0.0</td>\n",
       "      <td>0.0</td>\n",
       "      <td>0.0</td>\n",
       "      <td>0.0</td>\n",
       "      <td>0.0</td>\n",
       "      <td>0.0</td>\n",
       "      <td>0.0</td>\n",
       "      <td>0.0</td>\n",
       "      <td>NaN</td>\n",
       "      <td>NaN</td>\n",
       "      <td>NaN</td>\n",
       "      <td>NaN</td>\n",
       "      <td>left</td>\n",
       "      <td>NaN</td>\n",
       "      <td>NaN</td>\n",
       "      <td>NaN</td>\n",
       "      <td>NaN</td>\n",
       "      <td>NaN</td>\n",
       "      <td>NaN</td>\n",
       "    </tr>\n",
       "    <tr>\n",
       "      <th>1</th>\n",
       "      <td>ABC News</td>\n",
       "      <td>0.0</td>\n",
       "      <td>0.0</td>\n",
       "      <td>0.0</td>\n",
       "      <td>0.0</td>\n",
       "      <td>0.0</td>\n",
       "      <td>0.0</td>\n",
       "      <td>0.0</td>\n",
       "      <td>1.0</td>\n",
       "      <td>0.0</td>\n",
       "      <td>95.0</td>\n",
       "      <td>1.0</td>\n",
       "      <td>1.0</td>\n",
       "      <td>1.0</td>\n",
       "      <td>1.0</td>\n",
       "      <td>1.0</td>\n",
       "      <td>1.0</td>\n",
       "      <td>1.0</td>\n",
       "      <td>-1.0</td>\n",
       "      <td>NaN</td>\n",
       "      <td>NaN</td>\n",
       "      <td>NaN</td>\n",
       "      <td>NaN</td>\n",
       "      <td>NaN</td>\n",
       "      <td>NaN</td>\n",
       "      <td>NaN</td>\n",
       "      <td>NaN</td>\n",
       "      <td>NaN</td>\n",
       "      <td>NaN</td>\n",
       "      <td>NaN</td>\n",
       "      <td>NaN</td>\n",
       "      <td>NaN</td>\n",
       "      <td>NaN</td>\n",
       "      <td>left_center_bias</td>\n",
       "      <td>4.0</td>\n",
       "      <td>0.0</td>\n",
       "      <td>0.0</td>\n",
       "      <td>0.0</td>\n",
       "      <td>0.0</td>\n",
       "      <td>0.0</td>\n",
       "      <td>0.0</td>\n",
       "      <td>0.0</td>\n",
       "      <td>0.0</td>\n",
       "      <td>0.0</td>\n",
       "      <td>0.0</td>\n",
       "      <td>0.0</td>\n",
       "      <td>0.0</td>\n",
       "      <td>Lean Left</td>\n",
       "      <td>8964.0</td>\n",
       "      <td>6949.0</td>\n",
       "      <td>somewhat agree</td>\n",
       "      <td>NaN</td>\n",
       "      <td>NaN</td>\n",
       "      <td>NaN</td>\n",
       "      <td>NaN</td>\n",
       "      <td>NaN</td>\n",
       "      <td>NaN</td>\n",
       "      <td>NaN</td>\n",
       "    </tr>\n",
       "    <tr>\n",
       "      <th>2</th>\n",
       "      <td>AMERICAblog News</td>\n",
       "      <td>NaN</td>\n",
       "      <td>NaN</td>\n",
       "      <td>NaN</td>\n",
       "      <td>NaN</td>\n",
       "      <td>NaN</td>\n",
       "      <td>NaN</td>\n",
       "      <td>NaN</td>\n",
       "      <td>NaN</td>\n",
       "      <td>NaN</td>\n",
       "      <td>NaN</td>\n",
       "      <td>NaN</td>\n",
       "      <td>NaN</td>\n",
       "      <td>NaN</td>\n",
       "      <td>NaN</td>\n",
       "      <td>NaN</td>\n",
       "      <td>NaN</td>\n",
       "      <td>NaN</td>\n",
       "      <td>NaN</td>\n",
       "      <td>NaN</td>\n",
       "      <td>NaN</td>\n",
       "      <td>NaN</td>\n",
       "      <td>NaN</td>\n",
       "      <td>1.0</td>\n",
       "      <td>NaN</td>\n",
       "      <td>NaN</td>\n",
       "      <td>NaN</td>\n",
       "      <td>NaN</td>\n",
       "      <td>NaN</td>\n",
       "      <td>2.0</td>\n",
       "      <td>NaN</td>\n",
       "      <td>NaN</td>\n",
       "      <td>NaN</td>\n",
       "      <td>NaN</td>\n",
       "      <td>NaN</td>\n",
       "      <td>NaN</td>\n",
       "      <td>NaN</td>\n",
       "      <td>NaN</td>\n",
       "      <td>NaN</td>\n",
       "      <td>NaN</td>\n",
       "      <td>NaN</td>\n",
       "      <td>NaN</td>\n",
       "      <td>NaN</td>\n",
       "      <td>NaN</td>\n",
       "      <td>NaN</td>\n",
       "      <td>NaN</td>\n",
       "      <td>NaN</td>\n",
       "      <td>NaN</td>\n",
       "      <td>NaN</td>\n",
       "      <td>NaN</td>\n",
       "      <td>NaN</td>\n",
       "      <td>left</td>\n",
       "      <td>NaN</td>\n",
       "      <td>NaN</td>\n",
       "      <td>NaN</td>\n",
       "      <td>NaN</td>\n",
       "      <td>NaN</td>\n",
       "      <td>NaN</td>\n",
       "    </tr>\n",
       "    <tr>\n",
       "      <th>3</th>\n",
       "      <td>Activist Post</td>\n",
       "      <td>NaN</td>\n",
       "      <td>NaN</td>\n",
       "      <td>NaN</td>\n",
       "      <td>NaN</td>\n",
       "      <td>NaN</td>\n",
       "      <td>NaN</td>\n",
       "      <td>NaN</td>\n",
       "      <td>NaN</td>\n",
       "      <td>NaN</td>\n",
       "      <td>NaN</td>\n",
       "      <td>NaN</td>\n",
       "      <td>NaN</td>\n",
       "      <td>NaN</td>\n",
       "      <td>NaN</td>\n",
       "      <td>NaN</td>\n",
       "      <td>NaN</td>\n",
       "      <td>NaN</td>\n",
       "      <td>NaN</td>\n",
       "      <td>NaN</td>\n",
       "      <td>NaN</td>\n",
       "      <td>NaN</td>\n",
       "      <td>NaN</td>\n",
       "      <td>NaN</td>\n",
       "      <td>1.0</td>\n",
       "      <td>NaN</td>\n",
       "      <td>NaN</td>\n",
       "      <td>NaN</td>\n",
       "      <td>NaN</td>\n",
       "      <td>NaN</td>\n",
       "      <td>NaN</td>\n",
       "      <td>NaN</td>\n",
       "      <td>NaN</td>\n",
       "      <td>conspiracy_pseudoscience</td>\n",
       "      <td>2.0</td>\n",
       "      <td>0.0</td>\n",
       "      <td>0.0</td>\n",
       "      <td>0.0</td>\n",
       "      <td>0.0</td>\n",
       "      <td>0.0</td>\n",
       "      <td>0.0</td>\n",
       "      <td>0.0</td>\n",
       "      <td>0.0</td>\n",
       "      <td>0.0</td>\n",
       "      <td>0.0</td>\n",
       "      <td>0.0</td>\n",
       "      <td>0.0</td>\n",
       "      <td>NaN</td>\n",
       "      <td>NaN</td>\n",
       "      <td>NaN</td>\n",
       "      <td>NaN</td>\n",
       "      <td>left</td>\n",
       "      <td>NaN</td>\n",
       "      <td>NaN</td>\n",
       "      <td>NaN</td>\n",
       "      <td>NaN</td>\n",
       "      <td>NaN</td>\n",
       "      <td>NaN</td>\n",
       "    </tr>\n",
       "    <tr>\n",
       "      <th>4</th>\n",
       "      <td>Addicting Info</td>\n",
       "      <td>NaN</td>\n",
       "      <td>NaN</td>\n",
       "      <td>NaN</td>\n",
       "      <td>NaN</td>\n",
       "      <td>NaN</td>\n",
       "      <td>NaN</td>\n",
       "      <td>NaN</td>\n",
       "      <td>NaN</td>\n",
       "      <td>NaN</td>\n",
       "      <td>NaN</td>\n",
       "      <td>NaN</td>\n",
       "      <td>NaN</td>\n",
       "      <td>NaN</td>\n",
       "      <td>NaN</td>\n",
       "      <td>NaN</td>\n",
       "      <td>NaN</td>\n",
       "      <td>NaN</td>\n",
       "      <td>NaN</td>\n",
       "      <td>NaN</td>\n",
       "      <td>NaN</td>\n",
       "      <td>NaN</td>\n",
       "      <td>2.0</td>\n",
       "      <td>NaN</td>\n",
       "      <td>NaN</td>\n",
       "      <td>NaN</td>\n",
       "      <td>NaN</td>\n",
       "      <td>NaN</td>\n",
       "      <td>NaN</td>\n",
       "      <td>1.0</td>\n",
       "      <td>NaN</td>\n",
       "      <td>NaN</td>\n",
       "      <td>NaN</td>\n",
       "      <td>left_bias</td>\n",
       "      <td>3.0</td>\n",
       "      <td>0.0</td>\n",
       "      <td>0.0</td>\n",
       "      <td>0.0</td>\n",
       "      <td>0.0</td>\n",
       "      <td>0.0</td>\n",
       "      <td>0.0</td>\n",
       "      <td>0.0</td>\n",
       "      <td>0.0</td>\n",
       "      <td>0.0</td>\n",
       "      <td>0.0</td>\n",
       "      <td>0.0</td>\n",
       "      <td>0.0</td>\n",
       "      <td>NaN</td>\n",
       "      <td>NaN</td>\n",
       "      <td>NaN</td>\n",
       "      <td>NaN</td>\n",
       "      <td>left</td>\n",
       "      <td>NaN</td>\n",
       "      <td>NaN</td>\n",
       "      <td>NaN</td>\n",
       "      <td>NaN</td>\n",
       "      <td>NaN</td>\n",
       "      <td>NaN</td>\n",
       "    </tr>\n",
       "  </tbody>\n",
       "</table>\n",
       "</div>"
      ],
      "text/plain": [
       "         Unnamed: 0  NewsGuard, Does not repeatedly publish false content  \\\n",
       "0   21stCenturyWire                                                NaN      \n",
       "1          ABC News                                                0.0      \n",
       "2  AMERICAblog News                                                NaN      \n",
       "3     Activist Post                                                NaN      \n",
       "4    Addicting Info                                                NaN      \n",
       "\n",
       "   NewsGuard, Gathers and presents information responsibly  \\\n",
       "0                                                NaN         \n",
       "1                                                0.0         \n",
       "2                                                NaN         \n",
       "3                                                NaN         \n",
       "4                                                NaN         \n",
       "\n",
       "   NewsGuard, Regularly corrects or clarifies errors  \\\n",
       "0                                                NaN   \n",
       "1                                                0.0   \n",
       "2                                                NaN   \n",
       "3                                                NaN   \n",
       "4                                                NaN   \n",
       "\n",
       "   NewsGuard, Handles the difference between news and opinion responsibly  \\\n",
       "0                                                NaN                        \n",
       "1                                                0.0                        \n",
       "2                                                NaN                        \n",
       "3                                                NaN                        \n",
       "4                                                NaN                        \n",
       "\n",
       "   NewsGuard, Avoids deceptive headlines  \\\n",
       "0                                    NaN   \n",
       "1                                    0.0   \n",
       "2                                    NaN   \n",
       "3                                    NaN   \n",
       "4                                    NaN   \n",
       "\n",
       "   NewsGuard, Website discloses ownership and financing  \\\n",
       "0                                                NaN      \n",
       "1                                                0.0      \n",
       "2                                                NaN      \n",
       "3                                                NaN      \n",
       "4                                                NaN      \n",
       "\n",
       "   NewsGuard, Clearly labels advertising  \\\n",
       "0                                    NaN   \n",
       "1                                    0.0   \n",
       "2                                    NaN   \n",
       "3                                    NaN   \n",
       "4                                    NaN   \n",
       "\n",
       "   NewsGuard, Reveals who's in charge, including any possible conflicts of interest  \\\n",
       "0                                                NaN                                  \n",
       "1                                                1.0                                  \n",
       "2                                                NaN                                  \n",
       "3                                                NaN                                  \n",
       "4                                                NaN                                  \n",
       "\n",
       "   NewsGuard, Provides information about content creators  NewsGuard, score  \\\n",
       "0                                                NaN                    NaN   \n",
       "1                                                0.0                   95.0   \n",
       "2                                                NaN                    NaN   \n",
       "3                                                NaN                    NaN   \n",
       "4                                                NaN                    NaN   \n",
       "\n",
       "   NewsGuard, overall_class  Pew Research Center, known_by_40%  \\\n",
       "0                       NaN                                NaN   \n",
       "1                       1.0                                1.0   \n",
       "2                       NaN                                NaN   \n",
       "3                       NaN                                NaN   \n",
       "4                       NaN                                NaN   \n",
       "\n",
       "   Pew Research Center, total  Pew Research Center, consistently_liberal  \\\n",
       "0                         NaN                                        NaN   \n",
       "1                         1.0                                        1.0   \n",
       "2                         NaN                                        NaN   \n",
       "3                         NaN                                        NaN   \n",
       "4                         NaN                                        NaN   \n",
       "\n",
       "   Pew Research Center, mostly_liberal  Pew Research Center, mixed  \\\n",
       "0                                  NaN                         NaN   \n",
       "1                                  1.0                         1.0   \n",
       "2                                  NaN                         NaN   \n",
       "3                                  NaN                         NaN   \n",
       "4                                  NaN                         NaN   \n",
       "\n",
       "   Pew Research Center, mostly conservative  \\\n",
       "0                                       NaN   \n",
       "1                                       1.0   \n",
       "2                                       NaN   \n",
       "3                                       NaN   \n",
       "4                                       NaN   \n",
       "\n",
       "   Pew Research Center, consistently conservative  Wikipedia, is_fake  \\\n",
       "0                                             NaN                 NaN   \n",
       "1                                            -1.0                 NaN   \n",
       "2                                             NaN                 NaN   \n",
       "3                                             NaN                 NaN   \n",
       "4                                             NaN                 NaN   \n",
       "\n",
       "   Open Sources, reliable  Open Sources, fake  Open Sources, unreliable  \\\n",
       "0                     NaN                 NaN                       NaN   \n",
       "1                     NaN                 NaN                       NaN   \n",
       "2                     NaN                 NaN                       NaN   \n",
       "3                     NaN                 NaN                       NaN   \n",
       "4                     NaN                 NaN                       2.0   \n",
       "\n",
       "   Open Sources, bias  Open Sources, conspiracy  Open Sources, hate  \\\n",
       "0                 NaN                       1.0                 NaN   \n",
       "1                 NaN                       NaN                 NaN   \n",
       "2                 1.0                       NaN                 NaN   \n",
       "3                 NaN                       1.0                 NaN   \n",
       "4                 NaN                       NaN                 NaN   \n",
       "\n",
       "   Open Sources, junksci  Open Sources, rumor  Open Sources, blog  \\\n",
       "0                    NaN                  NaN                 NaN   \n",
       "1                    NaN                  NaN                 NaN   \n",
       "2                    NaN                  NaN                 NaN   \n",
       "3                    NaN                  NaN                 NaN   \n",
       "4                    NaN                  NaN                 NaN   \n",
       "\n",
       "   Open Sources, clickbait  Open Sources, political  Open Sources, satire  \\\n",
       "0                      NaN                      NaN                   NaN   \n",
       "1                      NaN                      NaN                   NaN   \n",
       "2                      2.0                      NaN                   NaN   \n",
       "3                      NaN                      NaN                   NaN   \n",
       "4                      1.0                      NaN                   NaN   \n",
       "\n",
       "   Open Sources, state Media Bias / Fact Check, label  \\\n",
       "0                  NaN       conspiracy_pseudoscience   \n",
       "1                  NaN               left_center_bias   \n",
       "2                  NaN                            NaN   \n",
       "3                  NaN       conspiracy_pseudoscience   \n",
       "4                  NaN                      left_bias   \n",
       "\n",
       "   Media Bias / Fact Check, factual_reporting  \\\n",
       "0                                         3.0   \n",
       "1                                         4.0   \n",
       "2                                         NaN   \n",
       "3                                         2.0   \n",
       "4                                         3.0   \n",
       "\n",
       "   Media Bias / Fact Check, extreme_left  Media Bias / Fact Check, right  \\\n",
       "0                                    0.0                             0.0   \n",
       "1                                    0.0                             0.0   \n",
       "2                                    NaN                             NaN   \n",
       "3                                    0.0                             0.0   \n",
       "4                                    0.0                             0.0   \n",
       "\n",
       "   Media Bias / Fact Check, extreme_right  \\\n",
       "0                                     0.0   \n",
       "1                                     0.0   \n",
       "2                                     NaN   \n",
       "3                                     0.0   \n",
       "4                                     0.0   \n",
       "\n",
       "   Media Bias / Fact Check, propaganda  Media Bias / Fact Check, fake_news  \\\n",
       "0                                  0.0                                 0.0   \n",
       "1                                  0.0                                 0.0   \n",
       "2                                  NaN                                 NaN   \n",
       "3                                  0.0                                 0.0   \n",
       "4                                  0.0                                 0.0   \n",
       "\n",
       "   Media Bias / Fact Check, some_fake_news  \\\n",
       "0                                      0.0   \n",
       "1                                      0.0   \n",
       "2                                      NaN   \n",
       "3                                      0.0   \n",
       "4                                      0.0   \n",
       "\n",
       "   Media Bias / Fact Check, failed_fact_checks  \\\n",
       "0                                          0.0   \n",
       "1                                          0.0   \n",
       "2                                          NaN   \n",
       "3                                          0.0   \n",
       "4                                          0.0   \n",
       "\n",
       "   Media Bias / Fact Check, conspiracy  \\\n",
       "0                                  0.0   \n",
       "1                                  0.0   \n",
       "2                                  NaN   \n",
       "3                                  0.0   \n",
       "4                                  0.0   \n",
       "\n",
       "   Media Bias / Fact Check, pseudoscience  \\\n",
       "0                                     0.0   \n",
       "1                                     0.0   \n",
       "2                                     NaN   \n",
       "3                                     0.0   \n",
       "4                                     0.0   \n",
       "\n",
       "   Media Bias / Fact Check, hate_group  Media Bias / Fact Check, anti_islam  \\\n",
       "0                                  0.0                                  0.0   \n",
       "1                                  0.0                                  0.0   \n",
       "2                                  NaN                                  NaN   \n",
       "3                                  0.0                                  0.0   \n",
       "4                                  0.0                                  0.0   \n",
       "\n",
       "   Media Bias / Fact Check, nationalism Allsides, bias_rating  \\\n",
       "0                                   0.0                   NaN   \n",
       "1                                   0.0             Lean Left   \n",
       "2                                   NaN                   NaN   \n",
       "3                                   0.0                   NaN   \n",
       "4                                   0.0                   NaN   \n",
       "\n",
       "   Allsides, community_agree  Allsides, community_disagree  \\\n",
       "0                        NaN                           NaN   \n",
       "1                     8964.0                        6949.0   \n",
       "2                        NaN                           NaN   \n",
       "3                        NaN                           NaN   \n",
       "4                        NaN                           NaN   \n",
       "\n",
       "  Allsides, community_label BuzzFeed, leaning  PolitiFact, Pants on Fire!  \\\n",
       "0                       NaN              left                         NaN   \n",
       "1            somewhat agree               NaN                         NaN   \n",
       "2                       NaN              left                         NaN   \n",
       "3                       NaN              left                         NaN   \n",
       "4                       NaN              left                         NaN   \n",
       "\n",
       "   PolitiFact, False  PolitiFact, Mostly False  PolitiFact, Half-True  \\\n",
       "0                NaN                       NaN                    NaN   \n",
       "1                NaN                       NaN                    NaN   \n",
       "2                NaN                       NaN                    NaN   \n",
       "3                NaN                       NaN                    NaN   \n",
       "4                NaN                       NaN                    NaN   \n",
       "\n",
       "   PolitiFact, Mostly True  PolitiFact, True  \n",
       "0                      NaN               NaN  \n",
       "1                      NaN               NaN  \n",
       "2                      NaN               NaN  \n",
       "3                      NaN               NaN  \n",
       "4                      NaN               NaN  "
      ]
     },
     "execution_count": 3,
     "metadata": {},
     "output_type": "execute_result"
    }
   ],
   "source": [
    "#Die Quellen und Kategorien, die durch die Quelle unterstützt werden.\n",
    "pd.options.display.max_columns = None\n",
    "df_label.head()"
   ]
  },
  {
   "cell_type": "code",
   "execution_count": 4,
   "id": "ab1c3627",
   "metadata": {},
   "outputs": [],
   "source": [
    "#Die Spalte 0 wird zu Domain umbenannt.\n",
    "df_label.rename(columns = {'Unnamed: 0' : 'domain'}, inplace = True)\n",
    "df_label['domain'] = df_label['domain'].str.replace(\" \", \"\")\n",
    "df_label['domain'] = df_label['domain'].str.lower()"
   ]
  },
  {
   "cell_type": "code",
   "execution_count": 5,
   "id": "325f8072",
   "metadata": {},
   "outputs": [
    {
     "data": {
      "text/html": [
       "<div>\n",
       "<style scoped>\n",
       "    .dataframe tbody tr th:only-of-type {\n",
       "        vertical-align: middle;\n",
       "    }\n",
       "\n",
       "    .dataframe tbody tr th {\n",
       "        vertical-align: top;\n",
       "    }\n",
       "\n",
       "    .dataframe thead th {\n",
       "        text-align: right;\n",
       "    }\n",
       "</style>\n",
       "<table border=\"1\" class=\"dataframe\">\n",
       "  <thead>\n",
       "    <tr style=\"text-align: right;\">\n",
       "      <th></th>\n",
       "      <th>domain</th>\n",
       "      <th>NewsGuard, Does not repeatedly publish false content</th>\n",
       "      <th>NewsGuard, Gathers and presents information responsibly</th>\n",
       "      <th>NewsGuard, Regularly corrects or clarifies errors</th>\n",
       "      <th>NewsGuard, Handles the difference between news and opinion responsibly</th>\n",
       "      <th>NewsGuard, Avoids deceptive headlines</th>\n",
       "      <th>NewsGuard, Website discloses ownership and financing</th>\n",
       "      <th>NewsGuard, Clearly labels advertising</th>\n",
       "      <th>NewsGuard, Reveals who's in charge, including any possible conflicts of interest</th>\n",
       "      <th>NewsGuard, Provides information about content creators</th>\n",
       "      <th>NewsGuard, score</th>\n",
       "      <th>NewsGuard, overall_class</th>\n",
       "      <th>Pew Research Center, known_by_40%</th>\n",
       "      <th>Pew Research Center, total</th>\n",
       "      <th>Pew Research Center, consistently_liberal</th>\n",
       "      <th>Pew Research Center, mostly_liberal</th>\n",
       "      <th>Pew Research Center, mixed</th>\n",
       "      <th>Pew Research Center, mostly conservative</th>\n",
       "      <th>Pew Research Center, consistently conservative</th>\n",
       "      <th>Wikipedia, is_fake</th>\n",
       "      <th>Open Sources, reliable</th>\n",
       "      <th>Open Sources, fake</th>\n",
       "      <th>Open Sources, unreliable</th>\n",
       "      <th>Open Sources, bias</th>\n",
       "      <th>Open Sources, conspiracy</th>\n",
       "      <th>Open Sources, hate</th>\n",
       "      <th>Open Sources, junksci</th>\n",
       "      <th>Open Sources, rumor</th>\n",
       "      <th>Open Sources, blog</th>\n",
       "      <th>Open Sources, clickbait</th>\n",
       "      <th>Open Sources, political</th>\n",
       "      <th>Open Sources, satire</th>\n",
       "      <th>Open Sources, state</th>\n",
       "      <th>Media Bias / Fact Check, label</th>\n",
       "      <th>Media Bias / Fact Check, factual_reporting</th>\n",
       "      <th>Media Bias / Fact Check, extreme_left</th>\n",
       "      <th>Media Bias / Fact Check, right</th>\n",
       "      <th>Media Bias / Fact Check, extreme_right</th>\n",
       "      <th>Media Bias / Fact Check, propaganda</th>\n",
       "      <th>Media Bias / Fact Check, fake_news</th>\n",
       "      <th>Media Bias / Fact Check, some_fake_news</th>\n",
       "      <th>Media Bias / Fact Check, failed_fact_checks</th>\n",
       "      <th>Media Bias / Fact Check, conspiracy</th>\n",
       "      <th>Media Bias / Fact Check, pseudoscience</th>\n",
       "      <th>Media Bias / Fact Check, hate_group</th>\n",
       "      <th>Media Bias / Fact Check, anti_islam</th>\n",
       "      <th>Media Bias / Fact Check, nationalism</th>\n",
       "      <th>Allsides, bias_rating</th>\n",
       "      <th>Allsides, community_agree</th>\n",
       "      <th>Allsides, community_disagree</th>\n",
       "      <th>Allsides, community_label</th>\n",
       "      <th>BuzzFeed, leaning</th>\n",
       "      <th>PolitiFact, Pants on Fire!</th>\n",
       "      <th>PolitiFact, False</th>\n",
       "      <th>PolitiFact, Mostly False</th>\n",
       "      <th>PolitiFact, Half-True</th>\n",
       "      <th>PolitiFact, Mostly True</th>\n",
       "      <th>PolitiFact, True</th>\n",
       "    </tr>\n",
       "  </thead>\n",
       "  <tbody>\n",
       "    <tr>\n",
       "      <th>0</th>\n",
       "      <td>21stcenturywire</td>\n",
       "      <td>NaN</td>\n",
       "      <td>NaN</td>\n",
       "      <td>NaN</td>\n",
       "      <td>NaN</td>\n",
       "      <td>NaN</td>\n",
       "      <td>NaN</td>\n",
       "      <td>NaN</td>\n",
       "      <td>NaN</td>\n",
       "      <td>NaN</td>\n",
       "      <td>NaN</td>\n",
       "      <td>NaN</td>\n",
       "      <td>NaN</td>\n",
       "      <td>NaN</td>\n",
       "      <td>NaN</td>\n",
       "      <td>NaN</td>\n",
       "      <td>NaN</td>\n",
       "      <td>NaN</td>\n",
       "      <td>NaN</td>\n",
       "      <td>NaN</td>\n",
       "      <td>NaN</td>\n",
       "      <td>NaN</td>\n",
       "      <td>NaN</td>\n",
       "      <td>NaN</td>\n",
       "      <td>1.0</td>\n",
       "      <td>NaN</td>\n",
       "      <td>NaN</td>\n",
       "      <td>NaN</td>\n",
       "      <td>NaN</td>\n",
       "      <td>NaN</td>\n",
       "      <td>NaN</td>\n",
       "      <td>NaN</td>\n",
       "      <td>NaN</td>\n",
       "      <td>conspiracy_pseudoscience</td>\n",
       "      <td>3.0</td>\n",
       "      <td>0.0</td>\n",
       "      <td>0.0</td>\n",
       "      <td>0.0</td>\n",
       "      <td>0.0</td>\n",
       "      <td>0.0</td>\n",
       "      <td>0.0</td>\n",
       "      <td>0.0</td>\n",
       "      <td>0.0</td>\n",
       "      <td>0.0</td>\n",
       "      <td>0.0</td>\n",
       "      <td>0.0</td>\n",
       "      <td>0.0</td>\n",
       "      <td>NaN</td>\n",
       "      <td>NaN</td>\n",
       "      <td>NaN</td>\n",
       "      <td>NaN</td>\n",
       "      <td>left</td>\n",
       "      <td>NaN</td>\n",
       "      <td>NaN</td>\n",
       "      <td>NaN</td>\n",
       "      <td>NaN</td>\n",
       "      <td>NaN</td>\n",
       "      <td>NaN</td>\n",
       "    </tr>\n",
       "    <tr>\n",
       "      <th>1</th>\n",
       "      <td>abcnews</td>\n",
       "      <td>0.0</td>\n",
       "      <td>0.0</td>\n",
       "      <td>0.0</td>\n",
       "      <td>0.0</td>\n",
       "      <td>0.0</td>\n",
       "      <td>0.0</td>\n",
       "      <td>0.0</td>\n",
       "      <td>1.0</td>\n",
       "      <td>0.0</td>\n",
       "      <td>95.0</td>\n",
       "      <td>1.0</td>\n",
       "      <td>1.0</td>\n",
       "      <td>1.0</td>\n",
       "      <td>1.0</td>\n",
       "      <td>1.0</td>\n",
       "      <td>1.0</td>\n",
       "      <td>1.0</td>\n",
       "      <td>-1.0</td>\n",
       "      <td>NaN</td>\n",
       "      <td>NaN</td>\n",
       "      <td>NaN</td>\n",
       "      <td>NaN</td>\n",
       "      <td>NaN</td>\n",
       "      <td>NaN</td>\n",
       "      <td>NaN</td>\n",
       "      <td>NaN</td>\n",
       "      <td>NaN</td>\n",
       "      <td>NaN</td>\n",
       "      <td>NaN</td>\n",
       "      <td>NaN</td>\n",
       "      <td>NaN</td>\n",
       "      <td>NaN</td>\n",
       "      <td>left_center_bias</td>\n",
       "      <td>4.0</td>\n",
       "      <td>0.0</td>\n",
       "      <td>0.0</td>\n",
       "      <td>0.0</td>\n",
       "      <td>0.0</td>\n",
       "      <td>0.0</td>\n",
       "      <td>0.0</td>\n",
       "      <td>0.0</td>\n",
       "      <td>0.0</td>\n",
       "      <td>0.0</td>\n",
       "      <td>0.0</td>\n",
       "      <td>0.0</td>\n",
       "      <td>0.0</td>\n",
       "      <td>Lean Left</td>\n",
       "      <td>8964.0</td>\n",
       "      <td>6949.0</td>\n",
       "      <td>somewhat agree</td>\n",
       "      <td>NaN</td>\n",
       "      <td>NaN</td>\n",
       "      <td>NaN</td>\n",
       "      <td>NaN</td>\n",
       "      <td>NaN</td>\n",
       "      <td>NaN</td>\n",
       "      <td>NaN</td>\n",
       "    </tr>\n",
       "    <tr>\n",
       "      <th>2</th>\n",
       "      <td>americablognews</td>\n",
       "      <td>NaN</td>\n",
       "      <td>NaN</td>\n",
       "      <td>NaN</td>\n",
       "      <td>NaN</td>\n",
       "      <td>NaN</td>\n",
       "      <td>NaN</td>\n",
       "      <td>NaN</td>\n",
       "      <td>NaN</td>\n",
       "      <td>NaN</td>\n",
       "      <td>NaN</td>\n",
       "      <td>NaN</td>\n",
       "      <td>NaN</td>\n",
       "      <td>NaN</td>\n",
       "      <td>NaN</td>\n",
       "      <td>NaN</td>\n",
       "      <td>NaN</td>\n",
       "      <td>NaN</td>\n",
       "      <td>NaN</td>\n",
       "      <td>NaN</td>\n",
       "      <td>NaN</td>\n",
       "      <td>NaN</td>\n",
       "      <td>NaN</td>\n",
       "      <td>1.0</td>\n",
       "      <td>NaN</td>\n",
       "      <td>NaN</td>\n",
       "      <td>NaN</td>\n",
       "      <td>NaN</td>\n",
       "      <td>NaN</td>\n",
       "      <td>2.0</td>\n",
       "      <td>NaN</td>\n",
       "      <td>NaN</td>\n",
       "      <td>NaN</td>\n",
       "      <td>NaN</td>\n",
       "      <td>NaN</td>\n",
       "      <td>NaN</td>\n",
       "      <td>NaN</td>\n",
       "      <td>NaN</td>\n",
       "      <td>NaN</td>\n",
       "      <td>NaN</td>\n",
       "      <td>NaN</td>\n",
       "      <td>NaN</td>\n",
       "      <td>NaN</td>\n",
       "      <td>NaN</td>\n",
       "      <td>NaN</td>\n",
       "      <td>NaN</td>\n",
       "      <td>NaN</td>\n",
       "      <td>NaN</td>\n",
       "      <td>NaN</td>\n",
       "      <td>NaN</td>\n",
       "      <td>NaN</td>\n",
       "      <td>left</td>\n",
       "      <td>NaN</td>\n",
       "      <td>NaN</td>\n",
       "      <td>NaN</td>\n",
       "      <td>NaN</td>\n",
       "      <td>NaN</td>\n",
       "      <td>NaN</td>\n",
       "    </tr>\n",
       "    <tr>\n",
       "      <th>3</th>\n",
       "      <td>activistpost</td>\n",
       "      <td>NaN</td>\n",
       "      <td>NaN</td>\n",
       "      <td>NaN</td>\n",
       "      <td>NaN</td>\n",
       "      <td>NaN</td>\n",
       "      <td>NaN</td>\n",
       "      <td>NaN</td>\n",
       "      <td>NaN</td>\n",
       "      <td>NaN</td>\n",
       "      <td>NaN</td>\n",
       "      <td>NaN</td>\n",
       "      <td>NaN</td>\n",
       "      <td>NaN</td>\n",
       "      <td>NaN</td>\n",
       "      <td>NaN</td>\n",
       "      <td>NaN</td>\n",
       "      <td>NaN</td>\n",
       "      <td>NaN</td>\n",
       "      <td>NaN</td>\n",
       "      <td>NaN</td>\n",
       "      <td>NaN</td>\n",
       "      <td>NaN</td>\n",
       "      <td>NaN</td>\n",
       "      <td>1.0</td>\n",
       "      <td>NaN</td>\n",
       "      <td>NaN</td>\n",
       "      <td>NaN</td>\n",
       "      <td>NaN</td>\n",
       "      <td>NaN</td>\n",
       "      <td>NaN</td>\n",
       "      <td>NaN</td>\n",
       "      <td>NaN</td>\n",
       "      <td>conspiracy_pseudoscience</td>\n",
       "      <td>2.0</td>\n",
       "      <td>0.0</td>\n",
       "      <td>0.0</td>\n",
       "      <td>0.0</td>\n",
       "      <td>0.0</td>\n",
       "      <td>0.0</td>\n",
       "      <td>0.0</td>\n",
       "      <td>0.0</td>\n",
       "      <td>0.0</td>\n",
       "      <td>0.0</td>\n",
       "      <td>0.0</td>\n",
       "      <td>0.0</td>\n",
       "      <td>0.0</td>\n",
       "      <td>NaN</td>\n",
       "      <td>NaN</td>\n",
       "      <td>NaN</td>\n",
       "      <td>NaN</td>\n",
       "      <td>left</td>\n",
       "      <td>NaN</td>\n",
       "      <td>NaN</td>\n",
       "      <td>NaN</td>\n",
       "      <td>NaN</td>\n",
       "      <td>NaN</td>\n",
       "      <td>NaN</td>\n",
       "    </tr>\n",
       "    <tr>\n",
       "      <th>4</th>\n",
       "      <td>addictinginfo</td>\n",
       "      <td>NaN</td>\n",
       "      <td>NaN</td>\n",
       "      <td>NaN</td>\n",
       "      <td>NaN</td>\n",
       "      <td>NaN</td>\n",
       "      <td>NaN</td>\n",
       "      <td>NaN</td>\n",
       "      <td>NaN</td>\n",
       "      <td>NaN</td>\n",
       "      <td>NaN</td>\n",
       "      <td>NaN</td>\n",
       "      <td>NaN</td>\n",
       "      <td>NaN</td>\n",
       "      <td>NaN</td>\n",
       "      <td>NaN</td>\n",
       "      <td>NaN</td>\n",
       "      <td>NaN</td>\n",
       "      <td>NaN</td>\n",
       "      <td>NaN</td>\n",
       "      <td>NaN</td>\n",
       "      <td>NaN</td>\n",
       "      <td>2.0</td>\n",
       "      <td>NaN</td>\n",
       "      <td>NaN</td>\n",
       "      <td>NaN</td>\n",
       "      <td>NaN</td>\n",
       "      <td>NaN</td>\n",
       "      <td>NaN</td>\n",
       "      <td>1.0</td>\n",
       "      <td>NaN</td>\n",
       "      <td>NaN</td>\n",
       "      <td>NaN</td>\n",
       "      <td>left_bias</td>\n",
       "      <td>3.0</td>\n",
       "      <td>0.0</td>\n",
       "      <td>0.0</td>\n",
       "      <td>0.0</td>\n",
       "      <td>0.0</td>\n",
       "      <td>0.0</td>\n",
       "      <td>0.0</td>\n",
       "      <td>0.0</td>\n",
       "      <td>0.0</td>\n",
       "      <td>0.0</td>\n",
       "      <td>0.0</td>\n",
       "      <td>0.0</td>\n",
       "      <td>0.0</td>\n",
       "      <td>NaN</td>\n",
       "      <td>NaN</td>\n",
       "      <td>NaN</td>\n",
       "      <td>NaN</td>\n",
       "      <td>left</td>\n",
       "      <td>NaN</td>\n",
       "      <td>NaN</td>\n",
       "      <td>NaN</td>\n",
       "      <td>NaN</td>\n",
       "      <td>NaN</td>\n",
       "      <td>NaN</td>\n",
       "    </tr>\n",
       "  </tbody>\n",
       "</table>\n",
       "</div>"
      ],
      "text/plain": [
       "            domain  NewsGuard, Does not repeatedly publish false content  \\\n",
       "0  21stcenturywire                                                NaN      \n",
       "1          abcnews                                                0.0      \n",
       "2  americablognews                                                NaN      \n",
       "3     activistpost                                                NaN      \n",
       "4    addictinginfo                                                NaN      \n",
       "\n",
       "   NewsGuard, Gathers and presents information responsibly  \\\n",
       "0                                                NaN         \n",
       "1                                                0.0         \n",
       "2                                                NaN         \n",
       "3                                                NaN         \n",
       "4                                                NaN         \n",
       "\n",
       "   NewsGuard, Regularly corrects or clarifies errors  \\\n",
       "0                                                NaN   \n",
       "1                                                0.0   \n",
       "2                                                NaN   \n",
       "3                                                NaN   \n",
       "4                                                NaN   \n",
       "\n",
       "   NewsGuard, Handles the difference between news and opinion responsibly  \\\n",
       "0                                                NaN                        \n",
       "1                                                0.0                        \n",
       "2                                                NaN                        \n",
       "3                                                NaN                        \n",
       "4                                                NaN                        \n",
       "\n",
       "   NewsGuard, Avoids deceptive headlines  \\\n",
       "0                                    NaN   \n",
       "1                                    0.0   \n",
       "2                                    NaN   \n",
       "3                                    NaN   \n",
       "4                                    NaN   \n",
       "\n",
       "   NewsGuard, Website discloses ownership and financing  \\\n",
       "0                                                NaN      \n",
       "1                                                0.0      \n",
       "2                                                NaN      \n",
       "3                                                NaN      \n",
       "4                                                NaN      \n",
       "\n",
       "   NewsGuard, Clearly labels advertising  \\\n",
       "0                                    NaN   \n",
       "1                                    0.0   \n",
       "2                                    NaN   \n",
       "3                                    NaN   \n",
       "4                                    NaN   \n",
       "\n",
       "   NewsGuard, Reveals who's in charge, including any possible conflicts of interest  \\\n",
       "0                                                NaN                                  \n",
       "1                                                1.0                                  \n",
       "2                                                NaN                                  \n",
       "3                                                NaN                                  \n",
       "4                                                NaN                                  \n",
       "\n",
       "   NewsGuard, Provides information about content creators  NewsGuard, score  \\\n",
       "0                                                NaN                    NaN   \n",
       "1                                                0.0                   95.0   \n",
       "2                                                NaN                    NaN   \n",
       "3                                                NaN                    NaN   \n",
       "4                                                NaN                    NaN   \n",
       "\n",
       "   NewsGuard, overall_class  Pew Research Center, known_by_40%  \\\n",
       "0                       NaN                                NaN   \n",
       "1                       1.0                                1.0   \n",
       "2                       NaN                                NaN   \n",
       "3                       NaN                                NaN   \n",
       "4                       NaN                                NaN   \n",
       "\n",
       "   Pew Research Center, total  Pew Research Center, consistently_liberal  \\\n",
       "0                         NaN                                        NaN   \n",
       "1                         1.0                                        1.0   \n",
       "2                         NaN                                        NaN   \n",
       "3                         NaN                                        NaN   \n",
       "4                         NaN                                        NaN   \n",
       "\n",
       "   Pew Research Center, mostly_liberal  Pew Research Center, mixed  \\\n",
       "0                                  NaN                         NaN   \n",
       "1                                  1.0                         1.0   \n",
       "2                                  NaN                         NaN   \n",
       "3                                  NaN                         NaN   \n",
       "4                                  NaN                         NaN   \n",
       "\n",
       "   Pew Research Center, mostly conservative  \\\n",
       "0                                       NaN   \n",
       "1                                       1.0   \n",
       "2                                       NaN   \n",
       "3                                       NaN   \n",
       "4                                       NaN   \n",
       "\n",
       "   Pew Research Center, consistently conservative  Wikipedia, is_fake  \\\n",
       "0                                             NaN                 NaN   \n",
       "1                                            -1.0                 NaN   \n",
       "2                                             NaN                 NaN   \n",
       "3                                             NaN                 NaN   \n",
       "4                                             NaN                 NaN   \n",
       "\n",
       "   Open Sources, reliable  Open Sources, fake  Open Sources, unreliable  \\\n",
       "0                     NaN                 NaN                       NaN   \n",
       "1                     NaN                 NaN                       NaN   \n",
       "2                     NaN                 NaN                       NaN   \n",
       "3                     NaN                 NaN                       NaN   \n",
       "4                     NaN                 NaN                       2.0   \n",
       "\n",
       "   Open Sources, bias  Open Sources, conspiracy  Open Sources, hate  \\\n",
       "0                 NaN                       1.0                 NaN   \n",
       "1                 NaN                       NaN                 NaN   \n",
       "2                 1.0                       NaN                 NaN   \n",
       "3                 NaN                       1.0                 NaN   \n",
       "4                 NaN                       NaN                 NaN   \n",
       "\n",
       "   Open Sources, junksci  Open Sources, rumor  Open Sources, blog  \\\n",
       "0                    NaN                  NaN                 NaN   \n",
       "1                    NaN                  NaN                 NaN   \n",
       "2                    NaN                  NaN                 NaN   \n",
       "3                    NaN                  NaN                 NaN   \n",
       "4                    NaN                  NaN                 NaN   \n",
       "\n",
       "   Open Sources, clickbait  Open Sources, political  Open Sources, satire  \\\n",
       "0                      NaN                      NaN                   NaN   \n",
       "1                      NaN                      NaN                   NaN   \n",
       "2                      2.0                      NaN                   NaN   \n",
       "3                      NaN                      NaN                   NaN   \n",
       "4                      1.0                      NaN                   NaN   \n",
       "\n",
       "   Open Sources, state Media Bias / Fact Check, label  \\\n",
       "0                  NaN       conspiracy_pseudoscience   \n",
       "1                  NaN               left_center_bias   \n",
       "2                  NaN                            NaN   \n",
       "3                  NaN       conspiracy_pseudoscience   \n",
       "4                  NaN                      left_bias   \n",
       "\n",
       "   Media Bias / Fact Check, factual_reporting  \\\n",
       "0                                         3.0   \n",
       "1                                         4.0   \n",
       "2                                         NaN   \n",
       "3                                         2.0   \n",
       "4                                         3.0   \n",
       "\n",
       "   Media Bias / Fact Check, extreme_left  Media Bias / Fact Check, right  \\\n",
       "0                                    0.0                             0.0   \n",
       "1                                    0.0                             0.0   \n",
       "2                                    NaN                             NaN   \n",
       "3                                    0.0                             0.0   \n",
       "4                                    0.0                             0.0   \n",
       "\n",
       "   Media Bias / Fact Check, extreme_right  \\\n",
       "0                                     0.0   \n",
       "1                                     0.0   \n",
       "2                                     NaN   \n",
       "3                                     0.0   \n",
       "4                                     0.0   \n",
       "\n",
       "   Media Bias / Fact Check, propaganda  Media Bias / Fact Check, fake_news  \\\n",
       "0                                  0.0                                 0.0   \n",
       "1                                  0.0                                 0.0   \n",
       "2                                  NaN                                 NaN   \n",
       "3                                  0.0                                 0.0   \n",
       "4                                  0.0                                 0.0   \n",
       "\n",
       "   Media Bias / Fact Check, some_fake_news  \\\n",
       "0                                      0.0   \n",
       "1                                      0.0   \n",
       "2                                      NaN   \n",
       "3                                      0.0   \n",
       "4                                      0.0   \n",
       "\n",
       "   Media Bias / Fact Check, failed_fact_checks  \\\n",
       "0                                          0.0   \n",
       "1                                          0.0   \n",
       "2                                          NaN   \n",
       "3                                          0.0   \n",
       "4                                          0.0   \n",
       "\n",
       "   Media Bias / Fact Check, conspiracy  \\\n",
       "0                                  0.0   \n",
       "1                                  0.0   \n",
       "2                                  NaN   \n",
       "3                                  0.0   \n",
       "4                                  0.0   \n",
       "\n",
       "   Media Bias / Fact Check, pseudoscience  \\\n",
       "0                                     0.0   \n",
       "1                                     0.0   \n",
       "2                                     NaN   \n",
       "3                                     0.0   \n",
       "4                                     0.0   \n",
       "\n",
       "   Media Bias / Fact Check, hate_group  Media Bias / Fact Check, anti_islam  \\\n",
       "0                                  0.0                                  0.0   \n",
       "1                                  0.0                                  0.0   \n",
       "2                                  NaN                                  NaN   \n",
       "3                                  0.0                                  0.0   \n",
       "4                                  0.0                                  0.0   \n",
       "\n",
       "   Media Bias / Fact Check, nationalism Allsides, bias_rating  \\\n",
       "0                                   0.0                   NaN   \n",
       "1                                   0.0             Lean Left   \n",
       "2                                   NaN                   NaN   \n",
       "3                                   0.0                   NaN   \n",
       "4                                   0.0                   NaN   \n",
       "\n",
       "   Allsides, community_agree  Allsides, community_disagree  \\\n",
       "0                        NaN                           NaN   \n",
       "1                     8964.0                        6949.0   \n",
       "2                        NaN                           NaN   \n",
       "3                        NaN                           NaN   \n",
       "4                        NaN                           NaN   \n",
       "\n",
       "  Allsides, community_label BuzzFeed, leaning  PolitiFact, Pants on Fire!  \\\n",
       "0                       NaN              left                         NaN   \n",
       "1            somewhat agree               NaN                         NaN   \n",
       "2                       NaN              left                         NaN   \n",
       "3                       NaN              left                         NaN   \n",
       "4                       NaN              left                         NaN   \n",
       "\n",
       "   PolitiFact, False  PolitiFact, Mostly False  PolitiFact, Half-True  \\\n",
       "0                NaN                       NaN                    NaN   \n",
       "1                NaN                       NaN                    NaN   \n",
       "2                NaN                       NaN                    NaN   \n",
       "3                NaN                       NaN                    NaN   \n",
       "4                NaN                       NaN                    NaN   \n",
       "\n",
       "   PolitiFact, Mostly True  PolitiFact, True  \n",
       "0                      NaN               NaN  \n",
       "1                      NaN               NaN  \n",
       "2                      NaN               NaN  \n",
       "3                      NaN               NaN  \n",
       "4                      NaN               NaN  "
      ]
     },
     "execution_count": 5,
     "metadata": {},
     "output_type": "execute_result"
    }
   ],
   "source": [
    "df_label.head(5)"
   ]
  },
  {
   "cell_type": "code",
   "execution_count": 8,
   "id": "fc3c93c7",
   "metadata": {},
   "outputs": [
    {
     "data": {
      "text/plain": [
       "left_center_bias            36\n",
       "left_bias                   30\n",
       "conspiracy_pseudoscience    17\n",
       "right_bias                  16\n",
       "questionable_source         15\n",
       "right_center_bias           10\n",
       "satire                       8\n",
       "least_biased                 3\n",
       "Name: Media Bias / Fact Check, label, dtype: int64"
      ]
     },
     "execution_count": 8,
     "metadata": {},
     "output_type": "execute_result"
    }
   ],
   "source": [
    "#Die beinhalteten Values für Media Bias,Fact Check zählen \n",
    "df_label['Media Bias / Fact Check, label'].value_counts()"
   ]
  },
  {
   "cell_type": "code",
   "execution_count": 9,
   "id": "9ede5e47",
   "metadata": {},
   "outputs": [
    {
     "data": {
      "text/plain": [
       "right    32\n",
       "left     24\n",
       "Name: BuzzFeed, leaning, dtype: int64"
      ]
     },
     "execution_count": 9,
     "metadata": {},
     "output_type": "execute_result"
    }
   ],
   "source": [
    "#Die beinhalteten Values für BuzzFeed, leaning zählen \n",
    "df_label['BuzzFeed, leaning'].value_counts()"
   ]
  },
  {
   "cell_type": "code",
   "execution_count": 10,
   "id": "2d02a6aa",
   "metadata": {},
   "outputs": [
    {
     "data": {
      "text/plain": [
       "Left          17\n",
       "Right         14\n",
       "Lean Left     13\n",
       "Center        11\n",
       "Lean Right    10\n",
       "Name: Allsides, bias_rating, dtype: int64"
      ]
     },
     "execution_count": 10,
     "metadata": {},
     "output_type": "execute_result"
    }
   ],
   "source": [
    "#Die beinhalteten Values für Allsides, bias_rating zählen \n",
    "df_label['Allsides, bias_rating'].value_counts()"
   ]
  },
  {
   "cell_type": "code",
   "execution_count": 11,
   "id": "44e0055d",
   "metadata": {},
   "outputs": [
    {
     "data": {
      "text/plain": [
       " 1.0    20\n",
       "-1.0     5\n",
       "Name: Pew Research Center, consistently_liberal, dtype: int64"
      ]
     },
     "execution_count": 11,
     "metadata": {},
     "output_type": "execute_result"
    }
   ],
   "source": [
    "#Die beinhalteten Values für Pew Research Center, consistently_liberal zählen \n",
    "df_label['Pew Research Center, consistently_liberal'].value_counts()"
   ]
  },
  {
   "cell_type": "code",
   "execution_count": 12,
   "id": "c64937dd",
   "metadata": {},
   "outputs": [
    {
     "data": {
      "text/plain": [
       " 1.0    17\n",
       "-1.0     5\n",
       " 0.0     3\n",
       "Name: Pew Research Center, mostly_liberal, dtype: int64"
      ]
     },
     "execution_count": 12,
     "metadata": {},
     "output_type": "execute_result"
    }
   ],
   "source": [
    "#Die beinhalteten Values für Pew Research Center, mostly_liberal zählen \n",
    "df_label['Pew Research Center, mostly_liberal'].value_counts()"
   ]
  },
  {
   "cell_type": "code",
   "execution_count": 13,
   "id": "3539eb7d",
   "metadata": {},
   "outputs": [
    {
     "data": {
      "text/plain": [
       "-1.0    12\n",
       " 1.0     7\n",
       " 0.0     6\n",
       "Name: Pew Research Center, mostly conservative, dtype: int64"
      ]
     },
     "execution_count": 13,
     "metadata": {},
     "output_type": "execute_result"
    }
   ],
   "source": [
    "#Die beinhalteten Values für Pew Research Center, mostly conservative zählen \n",
    "df_label['Pew Research Center, mostly conservative'].value_counts()"
   ]
  },
  {
   "cell_type": "code",
   "execution_count": 14,
   "id": "8839a7d3",
   "metadata": {},
   "outputs": [
    {
     "data": {
      "text/plain": [
       "-1.0    19\n",
       " 1.0     4\n",
       " 0.0     2\n",
       "Name: Pew Research Center, consistently conservative, dtype: int64"
      ]
     },
     "execution_count": 14,
     "metadata": {},
     "output_type": "execute_result"
    }
   ],
   "source": [
    "#Die beinhalteten Values für Pew Research Center, consistently conservative zählen \n",
    "df_label['Pew Research Center, consistently conservative'].value_counts()"
   ]
  },
  {
   "cell_type": "code",
   "execution_count": 15,
   "id": "18d1626e",
   "metadata": {},
   "outputs": [
    {
     "data": {
      "text/plain": [
       " 1.0    12\n",
       " 0.0    10\n",
       "-1.0     3\n",
       "Name: Pew Research Center, mixed, dtype: int64"
      ]
     },
     "execution_count": 15,
     "metadata": {},
     "output_type": "execute_result"
    }
   ],
   "source": [
    "#Die beinhalteten Values für Pew Research Center, mixed zählen \n",
    "df_label['Pew Research Center, mixed'].value_counts()"
   ]
  },
  {
   "cell_type": "code",
   "execution_count": 16,
   "id": "6ac2742d",
   "metadata": {},
   "outputs": [
    {
     "data": {
      "text/plain": [
       "0.0    133\n",
       "1.0      2\n",
       "Name: Media Bias / Fact Check, extreme_left, dtype: int64"
      ]
     },
     "execution_count": 16,
     "metadata": {},
     "output_type": "execute_result"
    }
   ],
   "source": [
    "#Die beinhalteten Values für Pew Research Center, mixed zählen \n",
    "df_label['Media Bias / Fact Check, extreme_left'].value_counts()"
   ]
  },
  {
   "cell_type": "code",
   "execution_count": 17,
   "id": "159ead74",
   "metadata": {},
   "outputs": [
    {
     "data": {
      "text/plain": [
       "0.0    123\n",
       "1.0     12\n",
       "Name: Media Bias / Fact Check, extreme_right, dtype: int64"
      ]
     },
     "execution_count": 17,
     "metadata": {},
     "output_type": "execute_result"
    }
   ],
   "source": [
    "#Die beinhalteten Values für Media Bias / Fact Check, extreme_right zählen \n",
    "df_label['Media Bias / Fact Check, extreme_right'].value_counts()"
   ]
  },
  {
   "cell_type": "code",
   "execution_count": 18,
   "id": "3af3574b",
   "metadata": {},
   "outputs": [
    {
     "data": {
      "text/plain": [
       "0.0    134\n",
       "1.0      1\n",
       "Name: Media Bias / Fact Check, right, dtype: int64"
      ]
     },
     "execution_count": 18,
     "metadata": {},
     "output_type": "execute_result"
    }
   ],
   "source": [
    "#Die beinhalteten Values für Media Bias / Fact Check, right zählen \n",
    "df_label['Media Bias / Fact Check, right'].value_counts()"
   ]
  },
  {
   "cell_type": "markdown",
   "id": "01d75457",
   "metadata": {},
   "source": [
    "- Liberale Domäne:"
   ]
  },
  {
   "cell_type": "code",
   "execution_count": 20,
   "id": "1e1cc746",
   "metadata": {},
   "outputs": [],
   "source": [
    "#Die Labels von Media Bias / Fact Check, label, die mit left_bias markiert sind, auswählen.\n",
    "l_Media_Bias = df_label[df_label['Media Bias / Fact Check, label'] == 'left_bias']"
   ]
  },
  {
   "cell_type": "code",
   "execution_count": 21,
   "id": "0c434c35",
   "metadata": {},
   "outputs": [],
   "source": [
    "#die Labels zu Liste umwandeln und speichern.\n",
    "list_lib = []\n",
    "l_Media_Bias = l_Media_Bias['domain'].tolist()\n",
    "list_lib.extend(l_Media_Bias)"
   ]
  },
  {
   "cell_type": "code",
   "execution_count": 22,
   "id": "d7c1d61a",
   "metadata": {},
   "outputs": [],
   "source": [
    "#Die Labels von Media Bias / Fact Check, label, die mit left_center_bias markiert sind, auswählen.\n",
    "l_Media_Bias = df_label[df_label['Media Bias / Fact Check, label'] == 'left_center_bias']"
   ]
  },
  {
   "cell_type": "code",
   "execution_count": 23,
   "id": "53997c88",
   "metadata": {},
   "outputs": [],
   "source": [
    "#die Labels zu Liste umwandeln und speichern.\n",
    "l_Media_Bias = l_Media_Bias['domain'].tolist()\n",
    "list_lib.extend(l_Media_Bias)"
   ]
  },
  {
   "cell_type": "code",
   "execution_count": 24,
   "id": "6f07f7d0",
   "metadata": {},
   "outputs": [],
   "source": [
    "#Die Labels von BuzzFeed, leaning, die mit left markiert sind, auswählen.\n",
    "l_Media_Bias = df_label[df_label['BuzzFeed, leaning'] == 'left']"
   ]
  },
  {
   "cell_type": "code",
   "execution_count": 25,
   "id": "72625499",
   "metadata": {},
   "outputs": [],
   "source": [
    "#die Labels zu Liste umwandeln und speichern.\n",
    "l_Media_Bias = l_Media_Bias['domain'].tolist()\n",
    "list_lib.extend(l_Media_Bias)"
   ]
  },
  {
   "cell_type": "code",
   "execution_count": 26,
   "id": "2181bdd8",
   "metadata": {},
   "outputs": [],
   "source": [
    "#Die Labels von Allsides, bias_rating, die mit left markiert sind, auswählen.\n",
    "l_Media_Bias = df_label[df_label['Allsides, bias_rating'] == 'Left']"
   ]
  },
  {
   "cell_type": "code",
   "execution_count": 27,
   "id": "0eba054a",
   "metadata": {},
   "outputs": [],
   "source": [
    "#die Labels zu Liste umwandeln und speichern.\n",
    "l_Media_Bias = l_Media_Bias['domain'].tolist()\n",
    "list_lib.extend(l_Media_Bias)"
   ]
  },
  {
   "cell_type": "code",
   "execution_count": 28,
   "id": "634b452b",
   "metadata": {},
   "outputs": [],
   "source": [
    "#Die Labels von Allsides, bias_rating, die mit Lean left markiert sind, auswählen.\n",
    "l_Media_Bias = df_label[df_label['Allsides, bias_rating'] == 'Lean Left']"
   ]
  },
  {
   "cell_type": "code",
   "execution_count": 29,
   "id": "82004573",
   "metadata": {},
   "outputs": [],
   "source": [
    "#die Labels zu Liste umwandeln und speichern.\n",
    "l_Media_Bias = l_Media_Bias['domain'].tolist()\n",
    "list_lib.extend(l_Media_Bias)"
   ]
  },
  {
   "cell_type": "code",
   "execution_count": 30,
   "id": "2afbd1ab",
   "metadata": {},
   "outputs": [],
   "source": [
    "#Die Labels von Pew Research Center, consistently_liberal, die mit 1.0 markiert sind, auswählen.\n",
    "l_Media_Bias = df_label[df_label['Pew Research Center, consistently_liberal'] == 1.0]"
   ]
  },
  {
   "cell_type": "code",
   "execution_count": 31,
   "id": "05f71c87",
   "metadata": {},
   "outputs": [],
   "source": [
    "#die Labels zu Liste umwandeln und speichern.\n",
    "l_Media_Bias = l_Media_Bias['domain'].tolist()\n",
    "list_lib.extend(l_Media_Bias)"
   ]
  },
  {
   "cell_type": "code",
   "execution_count": 32,
   "id": "fd90c55c",
   "metadata": {},
   "outputs": [],
   "source": [
    "#Die Labels von Pew Research Center, mostly_liberal, die mit 1.0 markiert sind, auswählen.\n",
    "l_Media_Bias = df_label[df_label['Pew Research Center, mostly_liberal'] == 1.0]"
   ]
  },
  {
   "cell_type": "code",
   "execution_count": 33,
   "id": "352bc5ba",
   "metadata": {},
   "outputs": [],
   "source": [
    "#die Labels zu Liste umwandeln und speichern.\n",
    "l_Media_Bias = l_Media_Bias['domain'].tolist()\n",
    "list_lib.extend(l_Media_Bias)"
   ]
  },
  {
   "cell_type": "code",
   "execution_count": 34,
   "id": "416509f0",
   "metadata": {},
   "outputs": [],
   "source": [
    "#Die Labels von Pew Research Center, mixed, die mit 1.0 markiert sind, auswählen.\n",
    "l_Media_Bias = df_label[df_label['Pew Research Center, mixed'] == 1.0]"
   ]
  },
  {
   "cell_type": "code",
   "execution_count": 35,
   "id": "ca7c0cb3",
   "metadata": {},
   "outputs": [],
   "source": [
    "#die Labels zu Liste umwandeln und speichern.\n",
    "l_Media_Bias = l_Media_Bias['domain'].tolist()\n",
    "list_lib.extend(l_Media_Bias)"
   ]
  },
  {
   "cell_type": "code",
   "execution_count": 38,
   "id": "2fd6bfce",
   "metadata": {},
   "outputs": [],
   "source": [
    "#Die Labels von Media Bias / Fact Check, extreme_left, die mit extreme_left markiert sind, auswählen.\n",
    "l_Media_Bias = df_label[df_label['Media Bias / Fact Check, extreme_left'] == 1.0]"
   ]
  },
  {
   "cell_type": "code",
   "execution_count": 39,
   "id": "220ac1c5",
   "metadata": {},
   "outputs": [],
   "source": [
    "#die Labels zu Liste umwandeln und speichern.\n",
    "l_Media_Bias = l_Media_Bias['domain'].tolist()\n",
    "list_lib.extend(l_Media_Bias)"
   ]
  },
  {
   "cell_type": "code",
   "execution_count": 8,
   "id": "a3485471",
   "metadata": {},
   "outputs": [],
   "source": [
    "list_lib.append('')"
   ]
  },
  {
   "cell_type": "code",
   "execution_count": 9,
   "id": "7e6c52ec",
   "metadata": {},
   "outputs": [],
   "source": [
    "list_lib = np.array(list_lib)\n",
    "list_lib = np.unique(list_lib)\n",
    "list_lib = list_lib.tolist()"
   ]
  },
  {
   "cell_type": "code",
   "execution_count": 10,
   "id": "bb0e757a",
   "metadata": {},
   "outputs": [
    {
     "data": {
      "text/plain": [
       "170"
      ]
     },
     "execution_count": 10,
     "metadata": {},
     "output_type": "execute_result"
    }
   ],
   "source": [
    "#Anzahl der liberalen Domäne\n",
    "len(list_lib)"
   ]
  },
  {
   "cell_type": "code",
   "execution_count": 19,
   "id": "ce4247ca",
   "metadata": {},
   "outputs": [
    {
     "data": {
      "text/plain": [
       "array([['21stcenturywire', '604now', '972mag', 'abc11', 'abcnews',\n",
       "        'aceshowbiz', 'achnews', 'aclu', 'act', 'activistpost',\n",
       "        'addictinginfo', 'aeon', 'affinitymagazine', 'afj', 'africanews',\n",
       "        'aidc', 'aljazeera', 'allgov', 'alternet', 'americablog',\n",
       "        'americablognews', 'americanbridgepac', 'americannewsx',\n",
       "        'americanprogress', 'angrywhitemen', 'antifascistnews',\n",
       "        'attackthesystem', 'au', 'autostraddle', 'bbc', 'billmoyers',\n",
       "        'bipartisanreport', 'birminghammail', 'bitchmedia',\n",
       "        'blackagendareport', 'blackamericaweb', 'blacklivesmatter',\n",
       "        'blackmainstreet', 'bluestatedaily', 'boingboing',\n",
       "        'bostonreview', 'businessinsider', 'bust', 'buzzfeed', 'c4ss',\n",
       "        'calltoactivism', 'canadafactcheck', 'canadiandimension',\n",
       "        'capitalandmain', 'care2', 'cbsnews', 'ceasefiremagazine',\n",
       "        'change', 'chicagoreader', 'chicagoreporter', 'chicagosun-times',\n",
       "        'citizencritics', 'citypaper', 'cnbc', 'cnn', 'codepink',\n",
       "        'colorlines', 'columbusfreepress', 'commondreams', 'communemag',\n",
       "        'copblock', 'crooksandliars', 'dailybeast', 'dailykos',\n",
       "        'dailyrecord', 'dailysoundandfury', 'dallasvoice', 'deadspin',\n",
       "        'deadstate', 'deepsouthvoice', 'democracy21',\n",
       "        'democracychronicles', 'democracyjournal', 'democracynow',\n",
       "        'democraticunderground', 'deshabhimani', 'desmogblog',\n",
       "        'dissentmagazine', 'drudge', 'earthfirstjournal', 'ebar',\n",
       "        'ecowatch', 'egbertowillies', 'feministcurrent', 'feministing',\n",
       "        'feministingblog', 'fifthestate', 'finnishnews',\n",
       "        'fivethirtyeight', 'foodandwaterwatch', 'foreignpolicyjournal',\n",
       "        'foreignpolicynews', 'forwardprogessives', 'france24',\n",
       "        'freedomnews', 'freepress', 'freespeech', 'frnewsreport',\n",
       "        'frontpagelive', 'fusion', 'geopoliticsalert', 'globalvoices',\n",
       "        'good', 'gq', 'greenleft', 'gritpost', 'guardianlv', 'haaretz',\n",
       "        'hillreporter', 'hrc', 'huffingtonpost', 'interpretermag',\n",
       "        'ipolitics', 'mediamattersforamerica', 'mercurynews',\n",
       "        'motherjones', 'msnbc', 'newsweek', 'newyorkdailynews',\n",
       "        'newyorker', 'npr', 'palmerreport', 'pbs', 'pinknewsuk',\n",
       "        'politico', 'politicsuk', 'politicususa', 'pravadareport',\n",
       "        'prwatch', 'rawstory', 'rightwingwatch', 'salon', 'shadowproof',\n",
       "        'shareblue', 'skynewspolitics', 'skynewsus', 'slate', 'spiegel',\n",
       "        'talkingpointsmemo', 'telesurtv', 'theatlantic', 'theblaze',\n",
       "        'thedailymirror', 'thedailyrecord', 'thedenverpost',\n",
       "        'thefifthcolumnnews', 'theguardian', 'theguardiansofdemocracy',\n",
       "        'thehill', 'thehuffingtonpost', 'theindependent', 'theintercept',\n",
       "        'theirishtimes', 'themaven', 'themoscowtimes', 'thenewyorktimes',\n",
       "        'theverge', 'thinkprogress', 'trueactivist', 'usatoday', 'vox',\n",
       "        'washingtonmonthly', 'washingtonpost', 'wingsoverscotland',\n",
       "        'yahoonews']], dtype='<U23')"
      ]
     },
     "execution_count": 19,
     "metadata": {},
     "output_type": "execute_result"
    }
   ],
   "source": [
    "#Liste der Liberalen\n",
    "list_lib = np.array(list_lib)\n",
    "list_lib.reshape(1,-1)"
   ]
  },
  {
   "cell_type": "code",
   "execution_count": 12,
   "id": "54139188",
   "metadata": {},
   "outputs": [],
   "source": [
    "#Liste speichern.\n",
    "pfad_tsv3 = 'C:/Mo/tweetDB/tweetscov19/TweetsCov19_tsv/data_sample/dom_label/dom_liberal_2.tsv'\n",
    "\n",
    "with open(pfad_tsv3, 'w', newline='', encoding=\"utf-8\") as out_file:\n",
    "    tsv_writer = csv.writer(out_file, delimiter=\"\\t\")\n",
    "    for i  in range (0, len(list_lib)):\n",
    "        l = []\n",
    "        l.append(list_lib[i])\n",
    "        tsv_writer.writerow(l)"
   ]
  },
  {
   "cell_type": "markdown",
   "id": "987a5488",
   "metadata": {},
   "source": [
    "- Konservative Domäne:"
   ]
  },
  {
   "cell_type": "code",
   "execution_count": 94,
   "id": "d4606231",
   "metadata": {},
   "outputs": [],
   "source": [
    "#Die Labels von Media Bias / Fact Check, label, die mit right_center_bias markiert sind, auswählen.\n",
    "l_Media_Bias = df_label[df_label['Media Bias / Fact Check, label'] == 'right_center_bias']"
   ]
  },
  {
   "cell_type": "code",
   "execution_count": 95,
   "id": "6fa1a98e",
   "metadata": {},
   "outputs": [],
   "source": [
    "#die Labels zu Liste umwandeln und speichern.\n",
    "list_con = []\n",
    "l_Media_Bias = l_Media_Bias['domain'].tolist()\n",
    "list_con.extend(l_Media_Bias)"
   ]
  },
  {
   "cell_type": "code",
   "execution_count": 89,
   "id": "63c01448",
   "metadata": {},
   "outputs": [],
   "source": [
    "#Die Labels von Media Bias / Fact Check, label, die mit right_bias markiert sind, auswählen.\n",
    "l_Media_Bias = df_label[df_label['Media Bias / Fact Check, label'] == 'right_bias']"
   ]
  },
  {
   "cell_type": "code",
   "execution_count": 90,
   "id": "e50c99e2",
   "metadata": {},
   "outputs": [],
   "source": [
    "#die Labels zu Liste umwandeln und speichern.\n",
    "l_Media_Bias = l_Media_Bias['domain'].tolist()\n",
    "list_con.extend(l_Media_Bias)"
   ]
  },
  {
   "cell_type": "code",
   "execution_count": 91,
   "id": "5431b3ed",
   "metadata": {},
   "outputs": [],
   "source": [
    "#Die Labels von Media Bias / Fact Check, label, die mit least_biased markiert sind, auswählen.\n",
    "l_Media_Bias = df_label[df_label['Media Bias / Fact Check, label'] == 'least_biased']"
   ]
  },
  {
   "cell_type": "code",
   "execution_count": 92,
   "id": "cd5f4a68",
   "metadata": {},
   "outputs": [],
   "source": [
    "#die Labels zu Liste umwandeln und speichern.\n",
    "l_Media_Bias = l_Media_Bias['domain'].tolist()\n",
    "list_con.extend(l_Media_Bias)"
   ]
  },
  {
   "cell_type": "code",
   "execution_count": 93,
   "id": "447ac8d1",
   "metadata": {},
   "outputs": [],
   "source": [
    "#Die Labels von BuzzFeed, leaning, die mit right markiert sind, auswählen.\n",
    "l_Media_Bias = df_label[df_label['BuzzFeed, leaning'] == 'right']"
   ]
  },
  {
   "cell_type": "code",
   "execution_count": 94,
   "id": "92a6da77",
   "metadata": {},
   "outputs": [],
   "source": [
    "#die Labels zu Liste umwandeln und speichern.\n",
    "l_Media_Bias = l_Media_Bias['domain'].tolist()\n",
    "list_con.extend(l_Media_Bias)"
   ]
  },
  {
   "cell_type": "code",
   "execution_count": 95,
   "id": "5547c3d1",
   "metadata": {},
   "outputs": [],
   "source": [
    "#Die Labels von Allsides, bias_rating, die mit right markiert sind, auswählen.\n",
    "l_Media_Bias = df_label[df_label['Allsides, bias_rating'] == 'Right']"
   ]
  },
  {
   "cell_type": "code",
   "execution_count": 96,
   "id": "71588a98",
   "metadata": {},
   "outputs": [],
   "source": [
    "#die Labels zu Liste umwandeln und speichern.\n",
    "l_Media_Bias = l_Media_Bias['domain'].tolist()\n",
    "list_con.extend(l_Media_Bias)"
   ]
  },
  {
   "cell_type": "code",
   "execution_count": 97,
   "id": "bd964129",
   "metadata": {},
   "outputs": [],
   "source": [
    "#Die Labels von Allsides, bias_rating, die mit Lean right markiert sind, auswählen.\n",
    "l_Media_Bias = df_label[df_label['Allsides, bias_rating'] == 'Lean Right']"
   ]
  },
  {
   "cell_type": "code",
   "execution_count": 98,
   "id": "edf8b8ea",
   "metadata": {},
   "outputs": [],
   "source": [
    "#die Labels zu Liste umwandeln und speichern.\n",
    "l_Media_Bias = l_Media_Bias['domain'].tolist()\n",
    "list_con.extend(l_Media_Bias)"
   ]
  },
  {
   "cell_type": "code",
   "execution_count": 99,
   "id": "b1d3bb8c",
   "metadata": {},
   "outputs": [],
   "source": [
    "#Die Labels von Allsides, bias_rating, die mit Lean Center markiert sind, auswählen.\n",
    "l_Media_Bias = df_label[df_label['Allsides, bias_rating'] == 'Center']"
   ]
  },
  {
   "cell_type": "code",
   "execution_count": 100,
   "id": "3ed05a5c",
   "metadata": {},
   "outputs": [],
   "source": [
    "#die Labels zu Liste umwandeln und speichern.\n",
    "l_Media_Bias = l_Media_Bias['domain'].tolist()\n",
    "list_con.extend(l_Media_Bias)"
   ]
  },
  {
   "cell_type": "code",
   "execution_count": 101,
   "id": "d8d1b327",
   "metadata": {},
   "outputs": [],
   "source": [
    "#Die Labels von Pew Research Center, mostly conservative, die mit 1.0 markiert sind, auswählen.\n",
    "l_Media_Bias = df_label[df_label['Pew Research Center, mostly conservative'] == 1.0]"
   ]
  },
  {
   "cell_type": "code",
   "execution_count": 102,
   "id": "995b3bcc",
   "metadata": {},
   "outputs": [],
   "source": [
    "#die Labels zu Liste umwandeln und speichern.\n",
    "l_Media_Bias = l_Media_Bias['domain'].tolist()\n",
    "list_con.extend(l_Media_Bias)"
   ]
  },
  {
   "cell_type": "code",
   "execution_count": 103,
   "id": "8a9fb918",
   "metadata": {},
   "outputs": [],
   "source": [
    "#Die Labels von Pew Research Center, mostly conservative, die mit 0.0 markiert sind, auswählen.\n",
    "l_Media_Bias = df_label[df_label['Pew Research Center, mostly conservative'] == 0.0]"
   ]
  },
  {
   "cell_type": "code",
   "execution_count": 104,
   "id": "e38eaacb",
   "metadata": {},
   "outputs": [],
   "source": [
    "#die Labels zu Liste umwandeln und speichern.\n",
    "l_Media_Bias = l_Media_Bias['domain'].tolist()\n",
    "list_con.extend(l_Media_Bias)"
   ]
  },
  {
   "cell_type": "code",
   "execution_count": 105,
   "id": "5ca017b5",
   "metadata": {},
   "outputs": [],
   "source": [
    "#Die Labels von Pew Research Center, mostly conservative, die mit 1.0 markiert sind, auswählen.\n",
    "l_Media_Bias = df_label[df_label['Pew Research Center, consistently conservative'] == 1.0]"
   ]
  },
  {
   "cell_type": "code",
   "execution_count": 106,
   "id": "cb2b4800",
   "metadata": {},
   "outputs": [],
   "source": [
    "#die Labels zu Liste umwandeln und speichern.\n",
    "l_Media_Bias = l_Media_Bias['domain'].tolist()\n",
    "list_con.extend(l_Media_Bias)"
   ]
  },
  {
   "cell_type": "code",
   "execution_count": 107,
   "id": "46c2ff85",
   "metadata": {},
   "outputs": [],
   "source": [
    "#Die Labels von Pew Research Center, consistently conservative, die mit 0.0 markiert sind, auswählen.\n",
    "l_Media_Bias = df_label[df_label['Pew Research Center, consistently conservative'] == 0.0]"
   ]
  },
  {
   "cell_type": "code",
   "execution_count": 108,
   "id": "dd372a3a",
   "metadata": {},
   "outputs": [],
   "source": [
    "#die Labels zu Liste umwandeln und speichern.\n",
    "l_Media_Bias = l_Media_Bias['domain'].tolist()\n",
    "list_con.extend(l_Media_Bias)"
   ]
  },
  {
   "cell_type": "code",
   "execution_count": 109,
   "id": "35b2e020",
   "metadata": {},
   "outputs": [],
   "source": [
    "#Die Labels von Pew Research Center, mixed, die mit 1.0 markiert sind, auswählen.\n",
    "l_Media_Bias = df_label[df_label['Pew Research Center, mixed'] == 1.0]"
   ]
  },
  {
   "cell_type": "code",
   "execution_count": 110,
   "id": "77c355eb",
   "metadata": {},
   "outputs": [],
   "source": [
    "#die Labels zu Liste umwandeln und speichern.\n",
    "l_Media_Bias = l_Media_Bias['domain'].tolist()\n",
    "list_con.extend(l_Media_Bias)"
   ]
  },
  {
   "cell_type": "code",
   "execution_count": 117,
   "id": "d26abad5",
   "metadata": {},
   "outputs": [],
   "source": [
    "#Die Labels von Media Bias / Fact Check, extreme_right, die mit 1.0 markiert sind, auswählen.\n",
    "l_Media_Bias = df_label[df_label['Media Bias / Fact Check, extreme_right'] == 1.0]"
   ]
  },
  {
   "cell_type": "code",
   "execution_count": 118,
   "id": "bbeb8316",
   "metadata": {},
   "outputs": [],
   "source": [
    "#die Labels zu Liste umwandeln und speichern.\n",
    "l_Media_Bias = l_Media_Bias['domain'].tolist()\n",
    "list_con.extend(l_Media_Bias)"
   ]
  },
  {
   "cell_type": "code",
   "execution_count": 119,
   "id": "f719a224",
   "metadata": {},
   "outputs": [],
   "source": [
    "#Die Labels von Media Bias / Fact Check, right, die mit 1.0 markiert sind, auswählen.\n",
    "l_Media_Bias = df_label[df_label['Media Bias / Fact Check, right'] == 1.0]"
   ]
  },
  {
   "cell_type": "code",
   "execution_count": 120,
   "id": "91f79f5a",
   "metadata": {},
   "outputs": [],
   "source": [
    "#die Labels zu Liste umwandeln und speichern.\n",
    "l_Media_Bias = l_Media_Bias['domain'].tolist()\n",
    "list_con.extend(l_Media_Bias)"
   ]
  },
  {
   "cell_type": "code",
   "execution_count": 59,
   "id": "bc2f8fee",
   "metadata": {},
   "outputs": [],
   "source": [
    "list_con.append('hedailyliberator')"
   ]
  },
  {
   "cell_type": "code",
   "execution_count": 60,
   "id": "7615204b",
   "metadata": {},
   "outputs": [],
   "source": [
    "list_con = np.array(list_con)\n",
    "list_con = np.unique(list_con)\n",
    "list_con = list_con.tolist()"
   ]
  },
  {
   "cell_type": "code",
   "execution_count": 61,
   "id": "c0381666",
   "metadata": {},
   "outputs": [
    {
     "data": {
      "text/plain": [
       "170"
      ]
     },
     "execution_count": 61,
     "metadata": {},
     "output_type": "execute_result"
    }
   ],
   "source": [
    "#Anzahl der Konservative Domäne\n",
    "len(list_con)"
   ]
  },
  {
   "cell_type": "code",
   "execution_count": 62,
   "id": "a1260d56",
   "metadata": {},
   "outputs": [
    {
     "data": {
      "text/plain": [
       "array([['2ndvote', 'Aish', 'AsianNews', 'CAGW', 'aa', 'abcnews',\n",
       "        'ac2news', 'academia', 'aclj', 'aei', 'afpc', 'aim', 'aina',\n",
       "        'alec', 'aljazeera', 'altnewsmedia', 'amac',\n",
       "        'americanconsequences', 'americanexperiment',\n",
       "        'americanlibertyreport', 'americansforprosperity',\n",
       "        'americarisingpac', 'amgreatness', 'amimagazine', 'ammoland',\n",
       "        'arizonadailyindependent', 'armstrongeconomics',\n",
       "        'axiomnewsnetwork', 'bearingarms', 'beliefnet', 'bizpacreview',\n",
       "        'blabber', 'boundingintocomics', 'breitbart', 'brexitcentral',\n",
       "        'businessinsider', 'buzzfeed', 'buzzsawpolitics', 'c2cjournal',\n",
       "        'ca-political', 'calgarysun', 'campaignlifecoalition',\n",
       "        'campusreform', 'capitalresearch', 'cbsnews', 'cc',\n",
       "        'chicksontheright', 'christianheadlines', 'christiannewsalerts',\n",
       "        'christianpost', 'christiantoday', 'chroniclesmagazine',\n",
       "        'citizenfreepress', 'citizensunited', 'city-journal',\n",
       "        'claremont', 'cnbc', 'cnsnews', 'colddeadhands', 'commdiginews',\n",
       "        'commentarymagazine', 'conservativebase', 'conservativetoday',\n",
       "        'cowgernation', 'crimeresearch', 'crisismagazine', 'dailycaller',\n",
       "        'dailykos', 'dailymail', 'dailysignal', 'dailystormer',\n",
       "        'dcgazette', 'drudgereport', 'eveningstandard', 'faithwire',\n",
       "        'fakehatecrimes', 'fightpp', 'fivethirtyeight', 'foreignpolicy',\n",
       "        'fortune', 'foxnews', 'freedomdaily', 'freedomoutpost',\n",
       "        'freedomworks', 'frontpagemagazine', 'futureinamerica',\n",
       "        'getreligion', 'hedailyliberator', 'heritage', 'hermancain',\n",
       "        'hotair', 'hudson', 'humanevents', 'hurriyet',\n",
       "        'hurriyetdailynews', 'ibleedredwhiteblue', 'influencewatch',\n",
       "        'infowars', 'instapundit', 'intellectualconservative',\n",
       "        'investors', 'investorsbusinessdaily', 'israelhayom',\n",
       "        'issuesinsights', 'jewishworldreview', 'journaldemontreal',\n",
       "        'judicialnetwork', 'kansaspolicy', 'lawenforcementtoday',\n",
       "        'legalinsurrection', 'lewrockwell', 'libertyheadlines',\n",
       "        'libertynation', 'liveaction', 'loneconservative', 'mises',\n",
       "        'motherjones', 'nationalcenter', 'nationalreview', 'nccivitas',\n",
       "        'ncregister', 'newsbusters', 'newswars', 'newyorkpost', 'npr',\n",
       "        'oann', 'opslens', 'order-order', 'pamelagellerreport',\n",
       "        'panampost', 'pantsonfirenews', 'patriotnewsalerts',\n",
       "        'patriotnewsdaily', 'patriotretort', 'pbs', 'politico',\n",
       "        'powerlineblog', 'prisonplanet', 'realclearpolitics', 'redstate',\n",
       "        'reuters', 'rightwingwatch', 'russia-insider', 'slate',\n",
       "        'spectator', 'sputnik', 'tass', 'theamericanconservative',\n",
       "        'theblaze', 'theconservativetreehouse', 'thed.c.clothesline',\n",
       "        'thedailycaller', 'thedailyexpress', 'theduran',\n",
       "        'thefiscaltimes', 'thegatewaypundit', 'theguardian', 'thehill',\n",
       "        'thehuffingtonpost', 'themichellemalkinblog',\n",
       "        'thepoliticalinsider', 'therightscoop', 'thesun', 'thetelegraph',\n",
       "        'thewashingtonexaminer', 'thinkprogress', 'truepundit',\n",
       "        'usatoday', 'westernjournal', 'yahoonews']], dtype='<U24')"
      ]
     },
     "execution_count": 62,
     "metadata": {},
     "output_type": "execute_result"
    }
   ],
   "source": [
    "#Liste der konservativen Domäne\n",
    "list_con = np.array(list_con)\n",
    "list_con.reshape(1,-1)"
   ]
  },
  {
   "cell_type": "code",
   "execution_count": 63,
   "id": "512df752",
   "metadata": {},
   "outputs": [],
   "source": [
    "#Liste der Konservativen speichern.\n",
    "pfad_tsv3 = 'C:/Mo/tweetDB/tweetscov19/TweetsCov19_tsv/data_sample/dom_label/dom_conservative_2.tsv'\n",
    "\n",
    "with open(pfad_tsv3, 'w', newline='', encoding=\"utf-8\") as out_file:\n",
    "    tsv_writer = csv.writer(out_file, delimiter=\"\\t\")\n",
    "    for i  in range (0, len(list_con)):\n",
    "        l = []\n",
    "        l.append(list_con[i])\n",
    "        tsv_writer.writerow(l)"
   ]
  },
  {
   "cell_type": "markdown",
   "id": "d0a0407e",
   "metadata": {},
   "source": [
    "***"
   ]
  },
  {
   "cell_type": "markdown",
   "id": "b88eebe8",
   "metadata": {},
   "source": [
    "## Polarisierungen berechnen\n",
    "### TweetsCov19"
   ]
  },
  {
   "cell_type": "markdown",
   "id": "0c55c029",
   "metadata": {},
   "source": [
    "***"
   ]
  },
  {
   "cell_type": "code",
   "execution_count": 2,
   "id": "e6cd078b",
   "metadata": {},
   "outputs": [],
   "source": [
    "#Die liste der liberalen Domäne lesen.\n",
    "pfad = 'C:/Mo/tweetDB/tweetscov19/TweetsCov19_tsv/data_sample/dom_label/dom_liberal_2.tsv'\n",
    "\n",
    "df_dom_lib = pd.read_csv(pfad, sep='\\t', error_bad_lines=False, names=['dom'])"
   ]
  },
  {
   "cell_type": "code",
   "execution_count": 3,
   "id": "beb43801",
   "metadata": {},
   "outputs": [],
   "source": [
    "#Die Spalte der anti-wissenschaftliche Domöne zu Liste umwandeln.\n",
    "list_lib = df_dom_lib.dom.tolist()"
   ]
  },
  {
   "cell_type": "code",
   "execution_count": 4,
   "id": "460d25cd",
   "metadata": {},
   "outputs": [],
   "source": [
    "list_lib = np.array(list_lib)\n",
    "list_lib = np.unique(list_lib)\n",
    "list_lib = list_lib.tolist()"
   ]
  },
  {
   "cell_type": "code",
   "execution_count": 5,
   "id": "ba384765",
   "metadata": {},
   "outputs": [
    {
     "data": {
      "text/plain": [
       "170"
      ]
     },
     "execution_count": 5,
     "metadata": {},
     "output_type": "execute_result"
    }
   ],
   "source": [
    "len(list_lib)"
   ]
  },
  {
   "cell_type": "code",
   "execution_count": 26,
   "id": "e12e9b08",
   "metadata": {},
   "outputs": [],
   "source": [
    "#Die liste der konservativen Domäne lesen.\n",
    "pfad = 'C:/Mo/tweetDB/tweetscov19/TweetsCov19_tsv/data_sample/dom_label/dom_conservative_2.tsv'\n",
    "\n",
    "df_dom_con = pd.read_csv(pfad, sep='\\t', error_bad_lines=False, names=['dom'])"
   ]
  },
  {
   "cell_type": "code",
   "execution_count": 27,
   "id": "739a6ae5",
   "metadata": {},
   "outputs": [],
   "source": [
    "#Die Spalte der pro-wissenschaftliche Domäne zu Liste umwandeln.\n",
    "list_con = df_dom_con.dom.tolist()"
   ]
  },
  {
   "cell_type": "code",
   "execution_count": 28,
   "id": "b69f2bbe",
   "metadata": {},
   "outputs": [],
   "source": [
    "list_con = np.array(list_con)\n",
    "list_con = np.unique(list_con)\n",
    "list_con = list_con.tolist()"
   ]
  },
  {
   "cell_type": "code",
   "execution_count": 29,
   "id": "4f538fd8",
   "metadata": {},
   "outputs": [
    {
     "data": {
      "text/plain": [
       "170"
      ]
     },
     "execution_count": 29,
     "metadata": {},
     "output_type": "execute_result"
    }
   ],
   "source": [
    "len(list_con)"
   ]
  },
  {
   "cell_type": "code",
   "execution_count": 21,
   "id": "eda60083",
   "metadata": {},
   "outputs": [
    {
     "name": "stdout",
     "output_type": "stream",
     "text": [
      "Shape : (9409841, 5)\n"
     ]
    },
    {
     "data": {
      "text/html": [
       "<div>\n",
       "<style scoped>\n",
       "    .dataframe tbody tr th:only-of-type {\n",
       "        vertical-align: middle;\n",
       "    }\n",
       "\n",
       "    .dataframe tbody tr th {\n",
       "        vertical-align: top;\n",
       "    }\n",
       "\n",
       "    .dataframe thead th {\n",
       "        text-align: right;\n",
       "    }\n",
       "</style>\n",
       "<table border=\"1\" class=\"dataframe\">\n",
       "  <thead>\n",
       "    <tr style=\"text-align: right;\">\n",
       "      <th></th>\n",
       "      <th>Tweet_Id</th>\n",
       "      <th>Username</th>\n",
       "      <th>is_deleted</th>\n",
       "      <th>Urls_num</th>\n",
       "      <th>Url_dom</th>\n",
       "    </tr>\n",
       "  </thead>\n",
       "  <tbody>\n",
       "    <tr>\n",
       "      <th>0</th>\n",
       "      <td>1178791637348212736</td>\n",
       "      <td>c57d4fb895c5f4a33d2a2b24709f93b5</td>\n",
       "      <td>True</td>\n",
       "      <td>0</td>\n",
       "      <td>0</td>\n",
       "    </tr>\n",
       "    <tr>\n",
       "      <th>1</th>\n",
       "      <td>1178791641601232896</td>\n",
       "      <td>627f7d4ef584ba33a676a4ebcb861cdb</td>\n",
       "      <td>False</td>\n",
       "      <td>1</td>\n",
       "      <td>catholicnewsagency.com</td>\n",
       "    </tr>\n",
       "    <tr>\n",
       "      <th>2</th>\n",
       "      <td>1178791643509612547</td>\n",
       "      <td>7966d5716c1c4f33591b17755184e3d6</td>\n",
       "      <td>False</td>\n",
       "      <td>0</td>\n",
       "      <td>0</td>\n",
       "    </tr>\n",
       "    <tr>\n",
       "      <th>3</th>\n",
       "      <td>1178791644214235137</td>\n",
       "      <td>f17996c036ed4cd981f5448fe00d9ed2</td>\n",
       "      <td>False</td>\n",
       "      <td>0</td>\n",
       "      <td>0</td>\n",
       "    </tr>\n",
       "    <tr>\n",
       "      <th>4</th>\n",
       "      <td>1178791645371875329</td>\n",
       "      <td>32a54e5f6d8a67de1bffd2e689594dc8</td>\n",
       "      <td>False</td>\n",
       "      <td>0</td>\n",
       "      <td>0</td>\n",
       "    </tr>\n",
       "  </tbody>\n",
       "</table>\n",
       "</div>"
      ],
      "text/plain": [
       "              Tweet_Id                          Username  is_deleted  \\\n",
       "0  1178791637348212736  c57d4fb895c5f4a33d2a2b24709f93b5        True   \n",
       "1  1178791641601232896  627f7d4ef584ba33a676a4ebcb861cdb       False   \n",
       "2  1178791643509612547  7966d5716c1c4f33591b17755184e3d6       False   \n",
       "3  1178791644214235137  f17996c036ed4cd981f5448fe00d9ed2       False   \n",
       "4  1178791645371875329  32a54e5f6d8a67de1bffd2e689594dc8       False   \n",
       "\n",
       "   Urls_num                 Url_dom  \n",
       "0         0                       0  \n",
       "1         1  catholicnewsagency.com  \n",
       "2         0                       0  \n",
       "3         0                       0  \n",
       "4         0                       0  "
      ]
     },
     "execution_count": 21,
     "metadata": {},
     "output_type": "execute_result"
    }
   ],
   "source": [
    "#Alle tweets als Dataframe lesen.\n",
    "pfad_tsv1 = 'C:/Mo/tweetDB/tweetscov19/TweetsCov19_tsv/data_sample/TweetsCov19_sample/url/tweetsCov19_id_is_dom.tsv'\n",
    "\n",
    "df_tweetscov19 = pd.read_csv(pfad_tsv1, sep='\\t', error_bad_lines=False, names=['Tweet_Id', 'Username','is_deleted','Urls_num', 'Url_dom'])\n",
    "pd.options.display.max_columns = None\n",
    "print('Shape :', df_tweetscov19.shape)\n",
    "df_tweetscov19.head()"
   ]
  },
  {
   "cell_type": "code",
   "execution_count": 22,
   "id": "b02a1f9d",
   "metadata": {},
   "outputs": [],
   "source": [
    "#Diese Methode bekommt benutzten Domäne als ein String.\n",
    "#Wandelt sie die String-daten zu Liste um.\n",
    "#Die Methode geht die Liste durch, prüft jede Domain. \n",
    "#Wenn Domain in liberalen Domäne wäre, dann bekommt der Tweet eine Wertung von -1.\n",
    "\n",
    "def get_politik_pol(domains):\n",
    "    domains_list = domains.split()\n",
    "    score = 0\n",
    "    for i in range(0, len(domains_list)):\n",
    "        \n",
    "        d = tldextract.extract(domains_list[i])\n",
    "        d = d.domain\n",
    "                   \n",
    "        \n",
    "        if d in list_lib:\n",
    "            score -=  1\n",
    "        \n",
    "    return score"
   ]
  },
  {
   "cell_type": "code",
   "execution_count": 23,
   "id": "f9c2e5dd",
   "metadata": {},
   "outputs": [],
   "source": [
    "#Für alle Tweets wird die Anzahl der benutzten liberalen Domäne berechnet.\n",
    "df_tweetscov19['Url_dom'] = df_tweetscov19['Url_dom'].astype(str)\n",
    "df_tweetscov19['dom_neg_pol'] = df_tweetscov19.apply(lambda row: get_politik_pol(row['Url_dom']) if (row['Url_dom'] != '0') else 0, axis=1)"
   ]
  },
  {
   "cell_type": "code",
   "execution_count": 24,
   "id": "e3475b72",
   "metadata": {},
   "outputs": [
    {
     "data": {
      "text/html": [
       "<div>\n",
       "<style scoped>\n",
       "    .dataframe tbody tr th:only-of-type {\n",
       "        vertical-align: middle;\n",
       "    }\n",
       "\n",
       "    .dataframe tbody tr th {\n",
       "        vertical-align: top;\n",
       "    }\n",
       "\n",
       "    .dataframe thead th {\n",
       "        text-align: right;\n",
       "    }\n",
       "</style>\n",
       "<table border=\"1\" class=\"dataframe\">\n",
       "  <thead>\n",
       "    <tr style=\"text-align: right;\">\n",
       "      <th></th>\n",
       "      <th>Tweet_Id</th>\n",
       "      <th>Username</th>\n",
       "      <th>is_deleted</th>\n",
       "      <th>Urls_num</th>\n",
       "      <th>Url_dom</th>\n",
       "      <th>dom_neg_pol</th>\n",
       "    </tr>\n",
       "  </thead>\n",
       "  <tbody>\n",
       "    <tr>\n",
       "      <th>0</th>\n",
       "      <td>1178791637348212736</td>\n",
       "      <td>c57d4fb895c5f4a33d2a2b24709f93b5</td>\n",
       "      <td>True</td>\n",
       "      <td>0</td>\n",
       "      <td>0</td>\n",
       "      <td>0</td>\n",
       "    </tr>\n",
       "    <tr>\n",
       "      <th>1</th>\n",
       "      <td>1178791641601232896</td>\n",
       "      <td>627f7d4ef584ba33a676a4ebcb861cdb</td>\n",
       "      <td>False</td>\n",
       "      <td>1</td>\n",
       "      <td>catholicnewsagency.com</td>\n",
       "      <td>0</td>\n",
       "    </tr>\n",
       "    <tr>\n",
       "      <th>2</th>\n",
       "      <td>1178791643509612547</td>\n",
       "      <td>7966d5716c1c4f33591b17755184e3d6</td>\n",
       "      <td>False</td>\n",
       "      <td>0</td>\n",
       "      <td>0</td>\n",
       "      <td>0</td>\n",
       "    </tr>\n",
       "    <tr>\n",
       "      <th>3</th>\n",
       "      <td>1178791644214235137</td>\n",
       "      <td>f17996c036ed4cd981f5448fe00d9ed2</td>\n",
       "      <td>False</td>\n",
       "      <td>0</td>\n",
       "      <td>0</td>\n",
       "      <td>0</td>\n",
       "    </tr>\n",
       "    <tr>\n",
       "      <th>4</th>\n",
       "      <td>1178791645371875329</td>\n",
       "      <td>32a54e5f6d8a67de1bffd2e689594dc8</td>\n",
       "      <td>False</td>\n",
       "      <td>0</td>\n",
       "      <td>0</td>\n",
       "      <td>0</td>\n",
       "    </tr>\n",
       "  </tbody>\n",
       "</table>\n",
       "</div>"
      ],
      "text/plain": [
       "              Tweet_Id                          Username  is_deleted  \\\n",
       "0  1178791637348212736  c57d4fb895c5f4a33d2a2b24709f93b5        True   \n",
       "1  1178791641601232896  627f7d4ef584ba33a676a4ebcb861cdb       False   \n",
       "2  1178791643509612547  7966d5716c1c4f33591b17755184e3d6       False   \n",
       "3  1178791644214235137  f17996c036ed4cd981f5448fe00d9ed2       False   \n",
       "4  1178791645371875329  32a54e5f6d8a67de1bffd2e689594dc8       False   \n",
       "\n",
       "   Urls_num                 Url_dom  dom_neg_pol  \n",
       "0         0                       0            0  \n",
       "1         1  catholicnewsagency.com            0  \n",
       "2         0                       0            0  \n",
       "3         0                       0            0  \n",
       "4         0                       0            0  "
      ]
     },
     "execution_count": 24,
     "metadata": {},
     "output_type": "execute_result"
    }
   ],
   "source": [
    "df_tweetscov19.head()"
   ]
  },
  {
   "cell_type": "code",
   "execution_count": 25,
   "id": "571e1807",
   "metadata": {},
   "outputs": [
    {
     "data": {
      "text/plain": [
       "(264919, 6)"
      ]
     },
     "execution_count": 25,
     "metadata": {},
     "output_type": "execute_result"
    }
   ],
   "source": [
    "#Anzahl der Tweets die eine Wertung weniger als 0 haben.\n",
    "df_tweetscov19[df_tweetscov19['dom_neg_pol'] < 0].shape"
   ]
  },
  {
   "cell_type": "code",
   "execution_count": 26,
   "id": "2f60e57c",
   "metadata": {},
   "outputs": [],
   "source": [
    "#Diese Methode bekommt benutzten Domäne als ein String.\n",
    "#Wandelt sie die String-daten zu Liste um.\n",
    "#Die Methode geht die Liste durch, prüft jede Domain. \n",
    "#Wenn Domain in konservative Domäne wäre, dann bekommt der Tweet eine Wertung von 1.\n",
    "\n",
    "def get_politik_pol_pos(domains):\n",
    "    domains_list = domains.split()\n",
    "    score = 0\n",
    "    for i in range(0, len(domains_list)):\n",
    "        \n",
    "        d = tldextract.extract(domains_list[i])\n",
    "        d = d.domain\n",
    "       \n",
    "            \n",
    "        \n",
    "        if d in list_con:\n",
    "            score +=  1\n",
    "        \n",
    "    return score"
   ]
  },
  {
   "cell_type": "code",
   "execution_count": 27,
   "id": "d5c82230",
   "metadata": {},
   "outputs": [],
   "source": [
    "#Für alle Tweets wird die Anzahl der benutzten konservativen Domäne berechnet.\n",
    "df_tweetscov19['dom_pos_pol'] = df_tweetscov19.apply(lambda row: get_politik_pol_pos(row['Url_dom']) if (row['Url_dom'] != '0') else 0, axis=1)"
   ]
  },
  {
   "cell_type": "code",
   "execution_count": 28,
   "id": "6e73050d",
   "metadata": {},
   "outputs": [
    {
     "data": {
      "text/html": [
       "<div>\n",
       "<style scoped>\n",
       "    .dataframe tbody tr th:only-of-type {\n",
       "        vertical-align: middle;\n",
       "    }\n",
       "\n",
       "    .dataframe tbody tr th {\n",
       "        vertical-align: top;\n",
       "    }\n",
       "\n",
       "    .dataframe thead th {\n",
       "        text-align: right;\n",
       "    }\n",
       "</style>\n",
       "<table border=\"1\" class=\"dataframe\">\n",
       "  <thead>\n",
       "    <tr style=\"text-align: right;\">\n",
       "      <th></th>\n",
       "      <th>Tweet_Id</th>\n",
       "      <th>Username</th>\n",
       "      <th>is_deleted</th>\n",
       "      <th>Urls_num</th>\n",
       "      <th>Url_dom</th>\n",
       "      <th>dom_neg_pol</th>\n",
       "      <th>dom_pos_pol</th>\n",
       "    </tr>\n",
       "  </thead>\n",
       "  <tbody>\n",
       "    <tr>\n",
       "      <th>0</th>\n",
       "      <td>1178791637348212736</td>\n",
       "      <td>c57d4fb895c5f4a33d2a2b24709f93b5</td>\n",
       "      <td>True</td>\n",
       "      <td>0</td>\n",
       "      <td>0</td>\n",
       "      <td>0</td>\n",
       "      <td>0</td>\n",
       "    </tr>\n",
       "    <tr>\n",
       "      <th>1</th>\n",
       "      <td>1178791641601232896</td>\n",
       "      <td>627f7d4ef584ba33a676a4ebcb861cdb</td>\n",
       "      <td>False</td>\n",
       "      <td>1</td>\n",
       "      <td>catholicnewsagency.com</td>\n",
       "      <td>0</td>\n",
       "      <td>0</td>\n",
       "    </tr>\n",
       "    <tr>\n",
       "      <th>2</th>\n",
       "      <td>1178791643509612547</td>\n",
       "      <td>7966d5716c1c4f33591b17755184e3d6</td>\n",
       "      <td>False</td>\n",
       "      <td>0</td>\n",
       "      <td>0</td>\n",
       "      <td>0</td>\n",
       "      <td>0</td>\n",
       "    </tr>\n",
       "    <tr>\n",
       "      <th>3</th>\n",
       "      <td>1178791644214235137</td>\n",
       "      <td>f17996c036ed4cd981f5448fe00d9ed2</td>\n",
       "      <td>False</td>\n",
       "      <td>0</td>\n",
       "      <td>0</td>\n",
       "      <td>0</td>\n",
       "      <td>0</td>\n",
       "    </tr>\n",
       "    <tr>\n",
       "      <th>4</th>\n",
       "      <td>1178791645371875329</td>\n",
       "      <td>32a54e5f6d8a67de1bffd2e689594dc8</td>\n",
       "      <td>False</td>\n",
       "      <td>0</td>\n",
       "      <td>0</td>\n",
       "      <td>0</td>\n",
       "      <td>0</td>\n",
       "    </tr>\n",
       "  </tbody>\n",
       "</table>\n",
       "</div>"
      ],
      "text/plain": [
       "              Tweet_Id                          Username  is_deleted  \\\n",
       "0  1178791637348212736  c57d4fb895c5f4a33d2a2b24709f93b5        True   \n",
       "1  1178791641601232896  627f7d4ef584ba33a676a4ebcb861cdb       False   \n",
       "2  1178791643509612547  7966d5716c1c4f33591b17755184e3d6       False   \n",
       "3  1178791644214235137  f17996c036ed4cd981f5448fe00d9ed2       False   \n",
       "4  1178791645371875329  32a54e5f6d8a67de1bffd2e689594dc8       False   \n",
       "\n",
       "   Urls_num                 Url_dom  dom_neg_pol  dom_pos_pol  \n",
       "0         0                       0            0            0  \n",
       "1         1  catholicnewsagency.com            0            0  \n",
       "2         0                       0            0            0  \n",
       "3         0                       0            0            0  \n",
       "4         0                       0            0            0  "
      ]
     },
     "execution_count": 28,
     "metadata": {},
     "output_type": "execute_result"
    }
   ],
   "source": [
    "df_tweetscov19.head()"
   ]
  },
  {
   "cell_type": "code",
   "execution_count": 29,
   "id": "44ccc144",
   "metadata": {},
   "outputs": [
    {
     "data": {
      "text/plain": [
       "(270001, 7)"
      ]
     },
     "execution_count": 29,
     "metadata": {},
     "output_type": "execute_result"
    }
   ],
   "source": [
    "df_tweetscov19[df_tweetscov19['dom_pos_pol'] > 0].shape"
   ]
  },
  {
   "cell_type": "code",
   "execution_count": 30,
   "id": "3a03f013",
   "metadata": {},
   "outputs": [],
   "source": [
    "#Hier werden die Benutzer in Dataframe gruppiert, und die Features 'Anzahl der Domäne', 'Negative Wertungen' und 'Psoitive Wertungen summiert.' \n",
    "#dom_neg_pol = Liberalen\n",
    "#dom_pos_pol = Konservativen\n",
    "df_tweetscov19_unique_user = df_tweetscov19.groupby('Username')['Urls_num', 'dom_neg_pol', 'dom_pos_pol'].sum()"
   ]
  },
  {
   "cell_type": "code",
   "execution_count": 31,
   "id": "85057364",
   "metadata": {},
   "outputs": [
    {
     "data": {
      "text/plain": [
       "(4095876, 3)"
      ]
     },
     "execution_count": 31,
     "metadata": {},
     "output_type": "execute_result"
    }
   ],
   "source": [
    "#Anzahl der einzigartigen Users in Dataframe\n",
    "df_tweetscov19_unique_user.shape"
   ]
  },
  {
   "cell_type": "code",
   "execution_count": 32,
   "id": "d3bfe5a1",
   "metadata": {},
   "outputs": [
    {
     "data": {
      "text/html": [
       "<div>\n",
       "<style scoped>\n",
       "    .dataframe tbody tr th:only-of-type {\n",
       "        vertical-align: middle;\n",
       "    }\n",
       "\n",
       "    .dataframe tbody tr th {\n",
       "        vertical-align: top;\n",
       "    }\n",
       "\n",
       "    .dataframe thead th {\n",
       "        text-align: right;\n",
       "    }\n",
       "</style>\n",
       "<table border=\"1\" class=\"dataframe\">\n",
       "  <thead>\n",
       "    <tr style=\"text-align: right;\">\n",
       "      <th></th>\n",
       "      <th>Urls_num</th>\n",
       "      <th>dom_neg_pol</th>\n",
       "      <th>dom_pos_pol</th>\n",
       "    </tr>\n",
       "    <tr>\n",
       "      <th>Username</th>\n",
       "      <th></th>\n",
       "      <th></th>\n",
       "      <th></th>\n",
       "    </tr>\n",
       "  </thead>\n",
       "  <tbody>\n",
       "    <tr>\n",
       "      <th>00012a177385cd6e7590e2acb3f206e3</th>\n",
       "      <td>1</td>\n",
       "      <td>-1</td>\n",
       "      <td>1</td>\n",
       "    </tr>\n",
       "    <tr>\n",
       "      <th>00016e20a3865cb74581803c27d27b89</th>\n",
       "      <td>1</td>\n",
       "      <td>-1</td>\n",
       "      <td>1</td>\n",
       "    </tr>\n",
       "    <tr>\n",
       "      <th>000220d9d43b6b1ad7dbbdbfbcc53371</th>\n",
       "      <td>5</td>\n",
       "      <td>-1</td>\n",
       "      <td>2</td>\n",
       "    </tr>\n",
       "    <tr>\n",
       "      <th>00037260d5e4fe01965a48a96974b53f</th>\n",
       "      <td>2</td>\n",
       "      <td>-2</td>\n",
       "      <td>2</td>\n",
       "    </tr>\n",
       "    <tr>\n",
       "      <th>0003fb847751a16fae91117947a259b7</th>\n",
       "      <td>2</td>\n",
       "      <td>-1</td>\n",
       "      <td>1</td>\n",
       "    </tr>\n",
       "  </tbody>\n",
       "</table>\n",
       "</div>"
      ],
      "text/plain": [
       "                                  Urls_num  dom_neg_pol  dom_pos_pol\n",
       "Username                                                            \n",
       "00012a177385cd6e7590e2acb3f206e3         1           -1            1\n",
       "00016e20a3865cb74581803c27d27b89         1           -1            1\n",
       "000220d9d43b6b1ad7dbbdbfbcc53371         5           -1            2\n",
       "00037260d5e4fe01965a48a96974b53f         2           -2            2\n",
       "0003fb847751a16fae91117947a259b7         2           -1            1"
      ]
     },
     "execution_count": 32,
     "metadata": {},
     "output_type": "execute_result"
    }
   ],
   "source": [
    "df_tweetscov19_unique_user[df_tweetscov19_unique_user['dom_pos_pol']>0].head()"
   ]
  },
  {
   "cell_type": "code",
   "execution_count": 33,
   "id": "289d8c52",
   "metadata": {},
   "outputs": [],
   "source": [
    "#Anzahl der benutzten polarisierten Domäne wird berechnet.\n",
    "df_tweetscov19_unique_user['pol_num'] = df_tweetscov19_unique_user.apply(lambda row: (-1 * (row['dom_pos_pol'] - row['dom_neg_pol'])) if (row['dom_pos_pol'] - row['dom_neg_pol']) < 0 else (row['dom_pos_pol'] - row['dom_neg_pol']), axis=1)"
   ]
  },
  {
   "cell_type": "code",
   "execution_count": 34,
   "id": "31d6b3d5",
   "metadata": {},
   "outputs": [
    {
     "data": {
      "text/html": [
       "<div>\n",
       "<style scoped>\n",
       "    .dataframe tbody tr th:only-of-type {\n",
       "        vertical-align: middle;\n",
       "    }\n",
       "\n",
       "    .dataframe tbody tr th {\n",
       "        vertical-align: top;\n",
       "    }\n",
       "\n",
       "    .dataframe thead th {\n",
       "        text-align: right;\n",
       "    }\n",
       "</style>\n",
       "<table border=\"1\" class=\"dataframe\">\n",
       "  <thead>\n",
       "    <tr style=\"text-align: right;\">\n",
       "      <th></th>\n",
       "      <th>Urls_num</th>\n",
       "      <th>dom_neg_pol</th>\n",
       "      <th>dom_pos_pol</th>\n",
       "      <th>pol_num</th>\n",
       "    </tr>\n",
       "    <tr>\n",
       "      <th>Username</th>\n",
       "      <th></th>\n",
       "      <th></th>\n",
       "      <th></th>\n",
       "      <th></th>\n",
       "    </tr>\n",
       "  </thead>\n",
       "  <tbody>\n",
       "    <tr>\n",
       "      <th>00008ca06f863b962f72cc9167d7978a</th>\n",
       "      <td>1</td>\n",
       "      <td>-1</td>\n",
       "      <td>0</td>\n",
       "      <td>1</td>\n",
       "    </tr>\n",
       "    <tr>\n",
       "      <th>00012a177385cd6e7590e2acb3f206e3</th>\n",
       "      <td>1</td>\n",
       "      <td>-1</td>\n",
       "      <td>1</td>\n",
       "      <td>2</td>\n",
       "    </tr>\n",
       "    <tr>\n",
       "      <th>00016e20a3865cb74581803c27d27b89</th>\n",
       "      <td>1</td>\n",
       "      <td>-1</td>\n",
       "      <td>1</td>\n",
       "      <td>2</td>\n",
       "    </tr>\n",
       "    <tr>\n",
       "      <th>0001a863c159122c712c53258cf13c8b</th>\n",
       "      <td>1</td>\n",
       "      <td>-1</td>\n",
       "      <td>0</td>\n",
       "      <td>1</td>\n",
       "    </tr>\n",
       "    <tr>\n",
       "      <th>000220d9d43b6b1ad7dbbdbfbcc53371</th>\n",
       "      <td>5</td>\n",
       "      <td>-1</td>\n",
       "      <td>2</td>\n",
       "      <td>3</td>\n",
       "    </tr>\n",
       "  </tbody>\n",
       "</table>\n",
       "</div>"
      ],
      "text/plain": [
       "                                  Urls_num  dom_neg_pol  dom_pos_pol  pol_num\n",
       "Username                                                                     \n",
       "00008ca06f863b962f72cc9167d7978a         1           -1            0        1\n",
       "00012a177385cd6e7590e2acb3f206e3         1           -1            1        2\n",
       "00016e20a3865cb74581803c27d27b89         1           -1            1        2\n",
       "0001a863c159122c712c53258cf13c8b         1           -1            0        1\n",
       "000220d9d43b6b1ad7dbbdbfbcc53371         5           -1            2        3"
      ]
     },
     "execution_count": 34,
     "metadata": {},
     "output_type": "execute_result"
    }
   ],
   "source": [
    "df_tweetscov19_unique_user[df_tweetscov19_unique_user['dom_neg_pol']<0].head()"
   ]
  },
  {
   "cell_type": "code",
   "execution_count": 35,
   "id": "66e48a91",
   "metadata": {},
   "outputs": [],
   "source": [
    "#Die Polarisierung der Domäne wird berechnet.\n",
    "#Anzahl der Negativen + der Positiven durch die Anzahl der benutzten Domäne.\n",
    "df_tweetscov19_unique_user['user_pol'] = df_tweetscov19_unique_user.apply(lambda row: (row['dom_neg_pol'] + row['dom_pos_pol']) / row['pol_num'] if row['pol_num'] != 0 else 0, axis=1)"
   ]
  },
  {
   "cell_type": "code",
   "execution_count": 36,
   "id": "d64eea2e",
   "metadata": {},
   "outputs": [
    {
     "data": {
      "text/html": [
       "<div>\n",
       "<style scoped>\n",
       "    .dataframe tbody tr th:only-of-type {\n",
       "        vertical-align: middle;\n",
       "    }\n",
       "\n",
       "    .dataframe tbody tr th {\n",
       "        vertical-align: top;\n",
       "    }\n",
       "\n",
       "    .dataframe thead th {\n",
       "        text-align: right;\n",
       "    }\n",
       "</style>\n",
       "<table border=\"1\" class=\"dataframe\">\n",
       "  <thead>\n",
       "    <tr style=\"text-align: right;\">\n",
       "      <th></th>\n",
       "      <th>Urls_num</th>\n",
       "      <th>dom_neg_pol</th>\n",
       "      <th>dom_pos_pol</th>\n",
       "      <th>pol_num</th>\n",
       "      <th>user_pol</th>\n",
       "    </tr>\n",
       "    <tr>\n",
       "      <th>Username</th>\n",
       "      <th></th>\n",
       "      <th></th>\n",
       "      <th></th>\n",
       "      <th></th>\n",
       "      <th></th>\n",
       "    </tr>\n",
       "  </thead>\n",
       "  <tbody>\n",
       "    <tr>\n",
       "      <th>00065a00b971b5e1629d504e0ddf2da0</th>\n",
       "      <td>27</td>\n",
       "      <td>-5</td>\n",
       "      <td>9</td>\n",
       "      <td>14</td>\n",
       "      <td>0.285714</td>\n",
       "    </tr>\n",
       "    <tr>\n",
       "      <th>0013aaa4da0461c58d0b1306af75af02</th>\n",
       "      <td>215</td>\n",
       "      <td>-16</td>\n",
       "      <td>35</td>\n",
       "      <td>51</td>\n",
       "      <td>0.372549</td>\n",
       "    </tr>\n",
       "    <tr>\n",
       "      <th>00247be59d748ab0e377ab5885ecc66b</th>\n",
       "      <td>7</td>\n",
       "      <td>-4</td>\n",
       "      <td>2</td>\n",
       "      <td>6</td>\n",
       "      <td>-0.333333</td>\n",
       "    </tr>\n",
       "    <tr>\n",
       "      <th>0028b1c0f33fc484e49c2ce2820cd4ae</th>\n",
       "      <td>25</td>\n",
       "      <td>-4</td>\n",
       "      <td>4</td>\n",
       "      <td>8</td>\n",
       "      <td>0.000000</td>\n",
       "    </tr>\n",
       "    <tr>\n",
       "      <th>002f506ad2fa8c2cb570fa65d135de67</th>\n",
       "      <td>24</td>\n",
       "      <td>-20</td>\n",
       "      <td>0</td>\n",
       "      <td>20</td>\n",
       "      <td>-1.000000</td>\n",
       "    </tr>\n",
       "  </tbody>\n",
       "</table>\n",
       "</div>"
      ],
      "text/plain": [
       "                                  Urls_num  dom_neg_pol  dom_pos_pol  pol_num  \\\n",
       "Username                                                                        \n",
       "00065a00b971b5e1629d504e0ddf2da0        27           -5            9       14   \n",
       "0013aaa4da0461c58d0b1306af75af02       215          -16           35       51   \n",
       "00247be59d748ab0e377ab5885ecc66b         7           -4            2        6   \n",
       "0028b1c0f33fc484e49c2ce2820cd4ae        25           -4            4        8   \n",
       "002f506ad2fa8c2cb570fa65d135de67        24          -20            0       20   \n",
       "\n",
       "                                  user_pol  \n",
       "Username                                    \n",
       "00065a00b971b5e1629d504e0ddf2da0  0.285714  \n",
       "0013aaa4da0461c58d0b1306af75af02  0.372549  \n",
       "00247be59d748ab0e377ab5885ecc66b -0.333333  \n",
       "0028b1c0f33fc484e49c2ce2820cd4ae  0.000000  \n",
       "002f506ad2fa8c2cb570fa65d135de67 -1.000000  "
      ]
     },
     "execution_count": 36,
     "metadata": {},
     "output_type": "execute_result"
    }
   ],
   "source": [
    "df_tweetscov19_unique_user[df_tweetscov19_unique_user['dom_neg_pol']<-2].head()"
   ]
  },
  {
   "cell_type": "code",
   "execution_count": 37,
   "id": "0d1817e1",
   "metadata": {},
   "outputs": [],
   "source": [
    "#Die Benutzer, die eine Wertung von 0 bekommen haben, werden ausgenommen.\n",
    "df_tweetscov19_unique_user_0 = df_tweetscov19_unique_user[df_tweetscov19_unique_user['user_pol'] != 0]"
   ]
  },
  {
   "cell_type": "code",
   "execution_count": 38,
   "id": "ddc29222",
   "metadata": {},
   "outputs": [
    {
     "data": {
      "text/plain": [
       "(52631, 5)"
      ]
     },
     "execution_count": 38,
     "metadata": {},
     "output_type": "execute_result"
    }
   ],
   "source": [
    "#Die Form der Dataframe\n",
    "df_tweetscov19_unique_user_0.shape"
   ]
  },
  {
   "cell_type": "code",
   "execution_count": 39,
   "id": "56c46f47",
   "metadata": {},
   "outputs": [
    {
     "data": {
      "text/plain": [
       "(21545, 5)"
      ]
     },
     "execution_count": 39,
     "metadata": {},
     "output_type": "execute_result"
    }
   ],
   "source": [
    "#Die Form der Dataframe Konservativen.\n",
    "df_tweetscov19_unique_user_0[df_tweetscov19_unique_user_0['user_pol'] > 0].shape"
   ]
  },
  {
   "cell_type": "code",
   "execution_count": 40,
   "id": "cd8d71f7",
   "metadata": {},
   "outputs": [
    {
     "data": {
      "text/plain": [
       "(31086, 5)"
      ]
     },
     "execution_count": 40,
     "metadata": {},
     "output_type": "execute_result"
    }
   ],
   "source": [
    "#Die Form der Dataframe Liberalen.\n",
    "df_tweetscov19_unique_user_0[df_tweetscov19_unique_user_0['user_pol'] < 0].shape"
   ]
  },
  {
   "cell_type": "code",
   "execution_count": 381,
   "id": "01f1244f",
   "metadata": {},
   "outputs": [],
   "source": [
    "#Die polarisieten Werte für Tweets werden gespeichert.\n",
    "pfad_tsv3 = 'C:/Mo/tweetDB/tweetscov19/TweetsCov19_tsv/data_sample/dom_label/tweetscov19_dom_politik.tsv'\n",
    "\n",
    "with open(pfad_tsv3, 'w', newline='', encoding=\"utf-8\") as out_file:\n",
    "    tsv_writer = csv.writer(out_file, delimiter=\"\\t\")\n",
    "    for idx, row in df_tweetscov19.iterrows():\n",
    "        tsv_writer.writerow(row.values.tolist())"
   ]
  },
  {
   "cell_type": "code",
   "execution_count": null,
   "id": "8e2749ab",
   "metadata": {},
   "outputs": [],
   "source": [
    "df_tweetscov19_unique_user_0 = df_tweetscov19_unique_user_0.reset_index()"
   ]
  },
  {
   "cell_type": "code",
   "execution_count": 41,
   "id": "8f0f0b23",
   "metadata": {},
   "outputs": [],
   "source": [
    "#Die Benutzer mit bekannten polarisierten Ansichten speichern. \n",
    "pfad_tsv3 = 'C:/Mo/tweetDB/tweetscov19/TweetsCov19_tsv/data_sample/dom_label/users/tweetscov19_dom_politik.tsv'\n",
    "\n",
    "with open(pfad_tsv3, 'w', newline='', encoding=\"utf-8\") as out_file:\n",
    "    tsv_writer = csv.writer(out_file, delimiter=\"\\t\")\n",
    "    for idx, row in df_tweetscov19_unique_user_0.iterrows():\n",
    "        tsv_writer.writerow(row.values.tolist())"
   ]
  },
  {
   "cell_type": "markdown",
   "id": "ce883c91",
   "metadata": {},
   "source": [
    "****"
   ]
  },
  {
   "cell_type": "markdown",
   "id": "b992bb16",
   "metadata": {},
   "source": [
    "## Polarisierungen berechnen\n",
    "### TweetsKB"
   ]
  },
  {
   "cell_type": "markdown",
   "id": "938c2746",
   "metadata": {},
   "source": [
    "***"
   ]
  },
  {
   "cell_type": "code",
   "execution_count": 42,
   "id": "fa181852",
   "metadata": {},
   "outputs": [
    {
     "name": "stdout",
     "output_type": "stream",
     "text": [
      "Shape : (9409841, 5)\n"
     ]
    },
    {
     "data": {
      "text/html": [
       "<div>\n",
       "<style scoped>\n",
       "    .dataframe tbody tr th:only-of-type {\n",
       "        vertical-align: middle;\n",
       "    }\n",
       "\n",
       "    .dataframe tbody tr th {\n",
       "        vertical-align: top;\n",
       "    }\n",
       "\n",
       "    .dataframe thead th {\n",
       "        text-align: right;\n",
       "    }\n",
       "</style>\n",
       "<table border=\"1\" class=\"dataframe\">\n",
       "  <thead>\n",
       "    <tr style=\"text-align: right;\">\n",
       "      <th></th>\n",
       "      <th>Tweet_Id</th>\n",
       "      <th>Username</th>\n",
       "      <th>is_deleted</th>\n",
       "      <th>URLs_dom</th>\n",
       "      <th>URLs_num</th>\n",
       "    </tr>\n",
       "  </thead>\n",
       "  <tbody>\n",
       "    <tr>\n",
       "      <th>0</th>\n",
       "      <td>1178791636039589889</td>\n",
       "      <td>DCComics</td>\n",
       "      <td>False</td>\n",
       "      <td>dcuniverseinfinite.com</td>\n",
       "      <td>1</td>\n",
       "    </tr>\n",
       "    <tr>\n",
       "      <th>1</th>\n",
       "      <td>1178791641265639424</td>\n",
       "      <td>seanberdyz</td>\n",
       "      <td>True</td>\n",
       "      <td>carrd.co</td>\n",
       "      <td>1</td>\n",
       "    </tr>\n",
       "    <tr>\n",
       "      <th>2</th>\n",
       "      <td>1178791640573579264</td>\n",
       "      <td>AnArtistAtBirth</td>\n",
       "      <td>True</td>\n",
       "      <td>0</td>\n",
       "      <td>0</td>\n",
       "    </tr>\n",
       "    <tr>\n",
       "      <th>3</th>\n",
       "      <td>1178791644797255680</td>\n",
       "      <td>lagosboygang</td>\n",
       "      <td>True</td>\n",
       "      <td>0</td>\n",
       "      <td>0</td>\n",
       "    </tr>\n",
       "    <tr>\n",
       "      <th>4</th>\n",
       "      <td>1178791648056217600</td>\n",
       "      <td>Phenom_Hoops</td>\n",
       "      <td>False</td>\n",
       "      <td>phenomhoopreport.com</td>\n",
       "      <td>1</td>\n",
       "    </tr>\n",
       "  </tbody>\n",
       "</table>\n",
       "</div>"
      ],
      "text/plain": [
       "              Tweet_Id         Username  is_deleted                URLs_dom  \\\n",
       "0  1178791636039589889         DCComics       False  dcuniverseinfinite.com   \n",
       "1  1178791641265639424       seanberdyz        True                carrd.co   \n",
       "2  1178791640573579264  AnArtistAtBirth        True                       0   \n",
       "3  1178791644797255680     lagosboygang        True                       0   \n",
       "4  1178791648056217600     Phenom_Hoops       False    phenomhoopreport.com   \n",
       "\n",
       "   URLs_num  \n",
       "0         1  \n",
       "1         1  \n",
       "2         0  \n",
       "3         0  \n",
       "4         1  "
      ]
     },
     "execution_count": 42,
     "metadata": {},
     "output_type": "execute_result"
    }
   ],
   "source": [
    "#Dataframe wird gelesen.\n",
    "pfad_tsv3 = 'C:/Mo/tweetDB/tweetscov19/TweetsCov19_tsv/data_sample/tweetskb_sample/url/tweetskb_sample_id_is_urls.tsv'\n",
    "\n",
    "df_tweetskb = pd.read_csv(pfad_tsv3, sep='\\t', error_bad_lines=False, names=['Tweet_Id', \"Username\", 'is_deleted', 'URLs_dom', 'URLs_num'])\n",
    "pd.options.display.max_columns = None\n",
    "print('Shape :', df_tweetskb.shape)\n",
    "df_tweetskb.head()"
   ]
  },
  {
   "cell_type": "code",
   "execution_count": 43,
   "id": "65736cb8",
   "metadata": {},
   "outputs": [],
   "source": [
    "#Für alle Domäne in Tweets wird die Anzahl der liberalen Domäne berechnet.\n",
    "df_tweetskb['URLs_dom'] = df_tweetskb['URLs_dom'].astype(str)\n",
    "df_tweetskb['dom_neg_pol'] = df_tweetskb.apply(lambda row: get_politik_pol(row['URLs_dom']) if (row['URLs_dom'] != '0') else 0, axis=1)"
   ]
  },
  {
   "cell_type": "code",
   "execution_count": 44,
   "id": "9084e5db",
   "metadata": {},
   "outputs": [
    {
     "data": {
      "text/plain": [
       "(56960, 6)"
      ]
     },
     "execution_count": 44,
     "metadata": {},
     "output_type": "execute_result"
    }
   ],
   "source": [
    "df_tweetskb[df_tweetskb['dom_neg_pol'] < 0].shape"
   ]
  },
  {
   "cell_type": "code",
   "execution_count": 45,
   "id": "2034abfa",
   "metadata": {},
   "outputs": [],
   "source": [
    "#Für alle Domäne in Tweets wird die Anzahl der konservativen Domäne berechnet.\n",
    "df_tweetskb['dom_pos_pol'] = df_tweetskb.apply(lambda row: get_politik_pol_pos(row['URLs_dom']) if (row['URLs_dom'] != '0') else 0, axis=1)"
   ]
  },
  {
   "cell_type": "code",
   "execution_count": 46,
   "id": "de7ced45",
   "metadata": {},
   "outputs": [
    {
     "data": {
      "text/plain": [
       "(58511, 7)"
      ]
     },
     "execution_count": 46,
     "metadata": {},
     "output_type": "execute_result"
    }
   ],
   "source": [
    "df_tweetskb[df_tweetskb['dom_pos_pol'] > 0].shape"
   ]
  },
  {
   "cell_type": "code",
   "execution_count": 47,
   "id": "cdbcd873",
   "metadata": {},
   "outputs": [],
   "source": [
    "#Hier werden die Benutzer in Dataframe gruppiert, und die Features 'Anzahl der Domäne', 'Negative Wertungen' und 'Psoitive Wertungen summiert.' \n",
    "#Negativ = Liberalen\n",
    "#Positiv = Konservativen\n",
    "df_tweetskb_unique_user = df_tweetskb.groupby('Username')['URLs_num', 'dom_neg_pol', 'dom_pos_pol'].sum()"
   ]
  },
  {
   "cell_type": "code",
   "execution_count": 48,
   "id": "f44d5424",
   "metadata": {},
   "outputs": [
    {
     "data": {
      "text/plain": [
       "(5208425, 3)"
      ]
     },
     "execution_count": 48,
     "metadata": {},
     "output_type": "execute_result"
    }
   ],
   "source": [
    "df_tweetskb_unique_user.shape"
   ]
  },
  {
   "cell_type": "code",
   "execution_count": 49,
   "id": "7806d253",
   "metadata": {},
   "outputs": [
    {
     "data": {
      "text/html": [
       "<div>\n",
       "<style scoped>\n",
       "    .dataframe tbody tr th:only-of-type {\n",
       "        vertical-align: middle;\n",
       "    }\n",
       "\n",
       "    .dataframe tbody tr th {\n",
       "        vertical-align: top;\n",
       "    }\n",
       "\n",
       "    .dataframe thead th {\n",
       "        text-align: right;\n",
       "    }\n",
       "</style>\n",
       "<table border=\"1\" class=\"dataframe\">\n",
       "  <thead>\n",
       "    <tr style=\"text-align: right;\">\n",
       "      <th></th>\n",
       "      <th>URLs_num</th>\n",
       "      <th>dom_neg_pol</th>\n",
       "      <th>dom_pos_pol</th>\n",
       "    </tr>\n",
       "    <tr>\n",
       "      <th>Username</th>\n",
       "      <th></th>\n",
       "      <th></th>\n",
       "      <th></th>\n",
       "    </tr>\n",
       "  </thead>\n",
       "  <tbody>\n",
       "    <tr>\n",
       "      <th>00000000</th>\n",
       "      <td>0</td>\n",
       "      <td>0</td>\n",
       "      <td>0</td>\n",
       "    </tr>\n",
       "    <tr>\n",
       "      <th>000000000yt</th>\n",
       "      <td>0</td>\n",
       "      <td>0</td>\n",
       "      <td>0</td>\n",
       "    </tr>\n",
       "    <tr>\n",
       "      <th>00000000martin</th>\n",
       "      <td>0</td>\n",
       "      <td>0</td>\n",
       "      <td>0</td>\n",
       "    </tr>\n",
       "    <tr>\n",
       "      <th>000000911a</th>\n",
       "      <td>0</td>\n",
       "      <td>0</td>\n",
       "      <td>0</td>\n",
       "    </tr>\n",
       "    <tr>\n",
       "      <th>000000_127</th>\n",
       "      <td>0</td>\n",
       "      <td>0</td>\n",
       "      <td>0</td>\n",
       "    </tr>\n",
       "  </tbody>\n",
       "</table>\n",
       "</div>"
      ],
      "text/plain": [
       "                URLs_num  dom_neg_pol  dom_pos_pol\n",
       "Username                                          \n",
       "00000000               0            0            0\n",
       "000000000yt            0            0            0\n",
       "00000000martin         0            0            0\n",
       "000000911a             0            0            0\n",
       "000000_127             0            0            0"
      ]
     },
     "execution_count": 49,
     "metadata": {},
     "output_type": "execute_result"
    }
   ],
   "source": [
    "df_tweetskb_unique_user.head()"
   ]
  },
  {
   "cell_type": "code",
   "execution_count": 50,
   "id": "f739f037",
   "metadata": {},
   "outputs": [],
   "source": [
    "#Die Anzahl der benutzten polarisierten Domäne wird berechnet.\n",
    "df_tweetskb_unique_user['pol_num'] = df_tweetskb_unique_user.apply(lambda row: (-1 * (row['dom_pos_pol'] - row['dom_neg_pol'])) if (row['dom_pos_pol'] - row['dom_neg_pol']) < 0 else (row['dom_pos_pol'] - row['dom_neg_pol']), axis=1)"
   ]
  },
  {
   "cell_type": "code",
   "execution_count": 51,
   "id": "c542907a",
   "metadata": {},
   "outputs": [
    {
     "data": {
      "text/html": [
       "<div>\n",
       "<style scoped>\n",
       "    .dataframe tbody tr th:only-of-type {\n",
       "        vertical-align: middle;\n",
       "    }\n",
       "\n",
       "    .dataframe tbody tr th {\n",
       "        vertical-align: top;\n",
       "    }\n",
       "\n",
       "    .dataframe thead th {\n",
       "        text-align: right;\n",
       "    }\n",
       "</style>\n",
       "<table border=\"1\" class=\"dataframe\">\n",
       "  <thead>\n",
       "    <tr style=\"text-align: right;\">\n",
       "      <th></th>\n",
       "      <th>URLs_num</th>\n",
       "      <th>dom_neg_pol</th>\n",
       "      <th>dom_pos_pol</th>\n",
       "      <th>pol_num</th>\n",
       "    </tr>\n",
       "    <tr>\n",
       "      <th>Username</th>\n",
       "      <th></th>\n",
       "      <th></th>\n",
       "      <th></th>\n",
       "      <th></th>\n",
       "    </tr>\n",
       "  </thead>\n",
       "  <tbody>\n",
       "    <tr>\n",
       "      <th>0nehunter69</th>\n",
       "      <td>4</td>\n",
       "      <td>-3</td>\n",
       "      <td>0</td>\n",
       "      <td>3</td>\n",
       "    </tr>\n",
       "    <tr>\n",
       "      <th>1120Eclipse</th>\n",
       "      <td>20</td>\n",
       "      <td>-10</td>\n",
       "      <td>9</td>\n",
       "      <td>19</td>\n",
       "    </tr>\n",
       "    <tr>\n",
       "      <th>11thHour</th>\n",
       "      <td>14</td>\n",
       "      <td>-9</td>\n",
       "      <td>0</td>\n",
       "      <td>9</td>\n",
       "    </tr>\n",
       "    <tr>\n",
       "      <th>13SciDave</th>\n",
       "      <td>4</td>\n",
       "      <td>-3</td>\n",
       "      <td>3</td>\n",
       "      <td>6</td>\n",
       "    </tr>\n",
       "    <tr>\n",
       "      <th>1944jnewell</th>\n",
       "      <td>3</td>\n",
       "      <td>-3</td>\n",
       "      <td>3</td>\n",
       "      <td>6</td>\n",
       "    </tr>\n",
       "  </tbody>\n",
       "</table>\n",
       "</div>"
      ],
      "text/plain": [
       "             URLs_num  dom_neg_pol  dom_pos_pol  pol_num\n",
       "Username                                                \n",
       "0nehunter69         4           -3            0        3\n",
       "1120Eclipse        20          -10            9       19\n",
       "11thHour           14           -9            0        9\n",
       "13SciDave           4           -3            3        6\n",
       "1944jnewell         3           -3            3        6"
      ]
     },
     "execution_count": 51,
     "metadata": {},
     "output_type": "execute_result"
    }
   ],
   "source": [
    "df_tweetskb_unique_user[df_tweetskb_unique_user['dom_neg_pol']<-2].head()"
   ]
  },
  {
   "cell_type": "code",
   "execution_count": 52,
   "id": "25eabe00",
   "metadata": {},
   "outputs": [],
   "source": [
    "#Die Polarisierungswerte für die Benutzer wird berechnet.\n",
    "df_tweetskb_unique_user['user_pol'] = df_tweetskb_unique_user.apply(lambda row: (row['dom_neg_pol'] + row['dom_pos_pol']) / row['pol_num'] if row['pol_num'] != 0 else 0, axis=1)"
   ]
  },
  {
   "cell_type": "code",
   "execution_count": 53,
   "id": "406ee92d",
   "metadata": {},
   "outputs": [],
   "source": [
    "#Die Benutzer, die eine Wertung von 0 bekommen haben, werden ausgenommen.\n",
    "df_tweetskb_unique_user_0 = df_tweetskb_unique_user[df_tweetskb_unique_user['user_pol'] != 0]"
   ]
  },
  {
   "cell_type": "code",
   "execution_count": 54,
   "id": "31a8d705",
   "metadata": {},
   "outputs": [
    {
     "data": {
      "text/plain": [
       "(17303, 5)"
      ]
     },
     "execution_count": 54,
     "metadata": {},
     "output_type": "execute_result"
    }
   ],
   "source": [
    "#Die Form der Dataframe\n",
    "df_tweetskb_unique_user_0.shape"
   ]
  },
  {
   "cell_type": "code",
   "execution_count": 55,
   "id": "3dad0b9b",
   "metadata": {},
   "outputs": [
    {
     "data": {
      "text/plain": [
       "(7984, 5)"
      ]
     },
     "execution_count": 55,
     "metadata": {},
     "output_type": "execute_result"
    }
   ],
   "source": [
    "#Die liberalen Benutzer \n",
    "df_tweetskb_unique_user_0[df_tweetskb_unique_user_0['user_pol'] > 0].shape"
   ]
  },
  {
   "cell_type": "code",
   "execution_count": 56,
   "id": "fab1fb89",
   "metadata": {},
   "outputs": [
    {
     "data": {
      "text/plain": [
       "(9319, 5)"
      ]
     },
     "execution_count": 56,
     "metadata": {},
     "output_type": "execute_result"
    }
   ],
   "source": [
    "#Die konservativen Benutzer \n",
    "df_tweetskb_unique_user_0[df_tweetskb_unique_user_0['user_pol'] < 0].shape"
   ]
  },
  {
   "cell_type": "code",
   "execution_count": 382,
   "id": "78d1b2b0",
   "metadata": {},
   "outputs": [],
   "source": [
    "#Die polarisierten Werte für die Tweets werden gespeichert.\n",
    "pfad_tsv3 = 'C:/Mo/tweetDB/tweetscov19/TweetsCov19_tsv/data_sample/dom_label/tweetskb_dom_politik.tsv'\n",
    "\n",
    "with open(pfad_tsv3, 'w', newline='', encoding=\"utf-8\") as out_file:\n",
    "    tsv_writer = csv.writer(out_file, delimiter=\"\\t\")\n",
    "    for idx, row in df_tweetskb.iterrows():\n",
    "        tsv_writer.writerow(row.values.tolist())"
   ]
  },
  {
   "cell_type": "code",
   "execution_count": null,
   "id": "1d80d615",
   "metadata": {},
   "outputs": [],
   "source": [
    "df_tweetskb_unique_user_0 = df_tweetskb_unique_user_0.reset_index()"
   ]
  },
  {
   "cell_type": "code",
   "execution_count": 57,
   "id": "d3a47c93",
   "metadata": {},
   "outputs": [],
   "source": [
    "#Die Benutzer mit polarisierten Werte werden gespeichert.\n",
    "pfad_tsv3 = 'C:/Mo/tweetDB/tweetscov19/TweetsCov19_tsv/data_sample/dom_label/users/tweetskb_dom_politik.tsv'\n",
    "\n",
    "with open(pfad_tsv3, 'w', newline='', encoding=\"utf-8\") as out_file:\n",
    "    tsv_writer = csv.writer(out_file, delimiter=\"\\t\")\n",
    "    for idx, row in df_tweetskb_unique_user_0.iterrows():\n",
    "        tsv_writer.writerow(row.values.tolist())"
   ]
  },
  {
   "cell_type": "code",
   "execution_count": null,
   "id": "9845b173",
   "metadata": {},
   "outputs": [],
   "source": []
  }
 ],
 "metadata": {
  "kernelspec": {
   "display_name": "Python 3",
   "language": "python",
   "name": "python3"
  },
  "language_info": {
   "codemirror_mode": {
    "name": "ipython",
    "version": 3
   },
   "file_extension": ".py",
   "mimetype": "text/x-python",
   "name": "python",
   "nbconvert_exporter": "python",
   "pygments_lexer": "ipython3",
   "version": "3.8.8"
  }
 },
 "nbformat": 4,
 "nbformat_minor": 5
}
