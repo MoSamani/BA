{
 "cells": [
  {
   "cell_type": "code",
   "execution_count": 1,
   "metadata": {},
   "outputs": [],
   "source": [
    "#CSV Bibliothek importieren \n",
    "import csv\n",
    "#Pandas importieren und als pd bezeichnen\n",
    "import pandas as pd\n",
    "#Numpy importieren und als np bezeichnen \n",
    "import numpy as np\n",
    "#Json Biliothek importieren\n",
    "import json\n",
    "#Request-Bibliothek importieren\n",
    "import requests\n",
    "#Python-Bibliothek für das URL-Laden.\n",
    "import urlexpander"
   ]
  },
  {
   "cell_type": "markdown",
   "metadata": {},
   "source": [
    "***"
   ]
  },
  {
   "cell_type": "markdown",
   "metadata": {},
   "source": [
    "# Ladung der gekürzten URLs\n",
    "### In diesem Notebook werden ausschließlich die Tweets von TweetsKB bearbeitet.  \n",
    "1. Tweets werden in kleinen Teile aufgeteilt\n",
    "2. Für jeden Teil werden die URLs geladen und gespeichert "
   ]
  },
  {
   "cell_type": "markdown",
   "metadata": {},
   "source": [
    "***"
   ]
  },
  {
   "cell_type": "code",
   "execution_count": 2,
   "metadata": {},
   "outputs": [],
   "source": [
    "#Labels und Pfad für den TweetsKB\n",
    "\n",
    "TweetsKB_labels    = ['Tweet Id', 'Benutzername', 'Zeitstempel', 'Abonnenten', 'Abonnierten', 'Retweets', 'Likes', 'Text', 'URLs', 'Ist_gelöscht' ]\n",
    "TweetsKB_Pfad =  'C:/Mo/tweetDB/tweetscov19/TweetsCov19_tsv/data_sample/TweetsKB_stichprobe.tsv'"
   ]
  },
  {
   "cell_type": "code",
   "execution_count": 3,
   "metadata": {},
   "outputs": [
    {
     "name": "stdout",
     "output_type": "stream",
     "text": [
      "Form : (9409841, 10)\n"
     ]
    },
    {
     "data": {
      "text/html": [
       "<div>\n",
       "<style scoped>\n",
       "    .dataframe tbody tr th:only-of-type {\n",
       "        vertical-align: middle;\n",
       "    }\n",
       "\n",
       "    .dataframe tbody tr th {\n",
       "        vertical-align: top;\n",
       "    }\n",
       "\n",
       "    .dataframe thead th {\n",
       "        text-align: right;\n",
       "    }\n",
       "</style>\n",
       "<table border=\"1\" class=\"dataframe\">\n",
       "  <thead>\n",
       "    <tr style=\"text-align: right;\">\n",
       "      <th></th>\n",
       "      <th>Tweet Id</th>\n",
       "      <th>Benutzername</th>\n",
       "      <th>Zeitstempel</th>\n",
       "      <th>Abonnenten</th>\n",
       "      <th>Abonnierten</th>\n",
       "      <th>Retweets</th>\n",
       "      <th>Likes</th>\n",
       "      <th>Text</th>\n",
       "      <th>URLs</th>\n",
       "      <th>Ist_gelöscht</th>\n",
       "    </tr>\n",
       "  </thead>\n",
       "  <tbody>\n",
       "    <tr>\n",
       "      <th>0</th>\n",
       "      <td>1178791636039589889</td>\n",
       "      <td>DCComics</td>\n",
       "      <td>2019-09-30 22:00:01+00:00</td>\n",
       "      <td>3349606</td>\n",
       "      <td>563</td>\n",
       "      <td>2</td>\n",
       "      <td>13</td>\n",
       "      <td>Today on #DCDaily, the crew takes a deep dive ...</td>\n",
       "      <td>http://bit.ly/2mlNYpS:-:</td>\n",
       "      <td>False</td>\n",
       "    </tr>\n",
       "    <tr>\n",
       "      <th>1</th>\n",
       "      <td>1178791641265639424</td>\n",
       "      <td>seanberdyz</td>\n",
       "      <td>2019-09-30 22:00:02+00:00</td>\n",
       "      <td>1203</td>\n",
       "      <td>499</td>\n",
       "      <td>4</td>\n",
       "      <td>20</td>\n",
       "      <td>𝘪’𝘮 𝘨𝘰𝘯𝘯𝘢 𝘣𝘦 𝘳𝘪𝘨𝘩𝘵 𝘩𝘦𝘳𝘦 ⟶ https://t.co/kOxWQL5...</td>\n",
       "      <td>http://ourownside.carrd.co:-:</td>\n",
       "      <td>True</td>\n",
       "    </tr>\n",
       "    <tr>\n",
       "      <th>2</th>\n",
       "      <td>1178791640573579264</td>\n",
       "      <td>AnArtistAtBirth</td>\n",
       "      <td>2019-09-30 22:00:02+00:00</td>\n",
       "      <td>109</td>\n",
       "      <td>215</td>\n",
       "      <td>0</td>\n",
       "      <td>0</td>\n",
       "      <td>❛ 𝘠𝘰𝘶'𝘳𝘦 𝘴𝘪𝘵𝘵𝘪𝘯' 𝘰𝘯 𝘺𝘰𝘶𝘳 𝘧𝘦𝘦𝘭𝘪𝘯𝘨𝘴 . . . 𝘐'𝘮 𝘴𝘪...</td>\n",
       "      <td>null;</td>\n",
       "      <td>True</td>\n",
       "    </tr>\n",
       "    <tr>\n",
       "      <th>3</th>\n",
       "      <td>1178791644797255680</td>\n",
       "      <td>lagosboygang</td>\n",
       "      <td>2019-09-30 22:00:03+00:00</td>\n",
       "      <td>571</td>\n",
       "      <td>1401</td>\n",
       "      <td>0</td>\n",
       "      <td>0</td>\n",
       "      <td>@Tiffany_o_ @UG_derrick That's the one i wanna...</td>\n",
       "      <td>null;</td>\n",
       "      <td>True</td>\n",
       "    </tr>\n",
       "    <tr>\n",
       "      <th>4</th>\n",
       "      <td>1178791648056217600</td>\n",
       "      <td>Phenom_Hoops</td>\n",
       "      <td>2019-09-30 22:00:04+00:00</td>\n",
       "      <td>25630</td>\n",
       "      <td>1674</td>\n",
       "      <td>1</td>\n",
       "      <td>1</td>\n",
       "      <td>2022 6’9 Perry Smith Jr. showcasing his high-m...</td>\n",
       "      <td>https://www.phenomhoopreport.com/2022-69-perry...</td>\n",
       "      <td>False</td>\n",
       "    </tr>\n",
       "  </tbody>\n",
       "</table>\n",
       "</div>"
      ],
      "text/plain": [
       "              Tweet Id     Benutzername                Zeitstempel  \\\n",
       "0  1178791636039589889         DCComics  2019-09-30 22:00:01+00:00   \n",
       "1  1178791641265639424       seanberdyz  2019-09-30 22:00:02+00:00   \n",
       "2  1178791640573579264  AnArtistAtBirth  2019-09-30 22:00:02+00:00   \n",
       "3  1178791644797255680     lagosboygang  2019-09-30 22:00:03+00:00   \n",
       "4  1178791648056217600     Phenom_Hoops  2019-09-30 22:00:04+00:00   \n",
       "\n",
       "   Abonnenten  Abonnierten  Retweets  Likes  \\\n",
       "0     3349606          563         2     13   \n",
       "1        1203          499         4     20   \n",
       "2         109          215         0      0   \n",
       "3         571         1401         0      0   \n",
       "4       25630         1674         1      1   \n",
       "\n",
       "                                                Text  \\\n",
       "0  Today on #DCDaily, the crew takes a deep dive ...   \n",
       "1  𝘪’𝘮 𝘨𝘰𝘯𝘯𝘢 𝘣𝘦 𝘳𝘪𝘨𝘩𝘵 𝘩𝘦𝘳𝘦 ⟶ https://t.co/kOxWQL5...   \n",
       "2  ❛ 𝘠𝘰𝘶'𝘳𝘦 𝘴𝘪𝘵𝘵𝘪𝘯' 𝘰𝘯 𝘺𝘰𝘶𝘳 𝘧𝘦𝘦𝘭𝘪𝘯𝘨𝘴 . . . 𝘐'𝘮 𝘴𝘪...   \n",
       "3  @Tiffany_o_ @UG_derrick That's the one i wanna...   \n",
       "4  2022 6’9 Perry Smith Jr. showcasing his high-m...   \n",
       "\n",
       "                                                URLs  Ist_gelöscht  \n",
       "0                           http://bit.ly/2mlNYpS:-:         False  \n",
       "1                      http://ourownside.carrd.co:-:          True  \n",
       "2                                              null;          True  \n",
       "3                                              null;          True  \n",
       "4  https://www.phenomhoopreport.com/2022-69-perry...         False  "
      ]
     },
     "execution_count": 3,
     "metadata": {},
     "output_type": "execute_result"
    }
   ],
   "source": [
    "#Die tweets in TweetsKB werden gelesen\n",
    "\n",
    "df_tweetskb = pd.read_csv(TweetsKB_Pfad, sep='\\t', error_bad_lines=False, names=TweetsKB_labels)\n",
    "print('Form :', df_tweetskb.shape)\n",
    "df_tweetskb.head()"
   ]
  },
  {
   "cell_type": "code",
   "execution_count": 8,
   "metadata": {},
   "outputs": [
    {
     "name": "stdout",
     "output_type": "stream",
     "text": [
      "Zähler 392917\n"
     ]
    }
   ],
   "source": [
    "#Nur die TweetId und URLs werden gespeichert\n",
    "df_tweetskb_urls = df_tweetskb[['Tweet_Id', 'Urls' ]]\n",
    "\n",
    "#Dataframe wird hier gespeichert.\n",
    "\n",
    "pfad1 = 'C:/Mo/tweetDB/tweetscov19/TweetsCov19_tsv/data_sample/tweetskb_stichprobe_urls_1'\n",
    "\n",
    "with open(pfad1, 'w', newline='', encoding=\"utf-8\") as out_file:\n",
    "    tsv_writer = csv.writer(out_file, delimiter=\"\\t\")\n",
    "    zaehler = 0\n",
    "    for idx, row in df_tweetskb.iterrows():\n",
    "        if zaehler < 392917:\n",
    "            tsv_writer.writerow(row.values.tolist())\n",
    "        else :\n",
    "            break\n",
    "        zaehler +=1\n",
    "print('Zähler', zaehler)"
   ]
  },
  {
   "cell_type": "markdown",
   "metadata": {},
   "source": [
    "***"
   ]
  },
  {
   "cell_type": "code",
   "execution_count": 8,
   "metadata": {},
   "outputs": [],
   "source": [
    "#Die Methode get_URLs() bekommt eine Zeile von der Dataframe.\n",
    "#In der Liste wird die TweetId gespeichert, \n",
    "#dann ladet sie in einer For-Schleife alle URLs und speichert sie wieder in der Liste.\n",
    "#Die Liste wird direkt in einer tsv Datei gespeichert.\n",
    "\n",
    "\n",
    "\n",
    "def get_Urls(url):\n",
    "    urls_list = []\n",
    "    l = []\n",
    "    l3 =[]\n",
    "    urls_list.append(url[0])\n",
    "    if str(url[1]) != 'null;' and str(url[1]) != '0' :\n",
    "        s = url[1].split(':-:')\n",
    "        f = filter(None, s)\n",
    "        l2 = list(f)\n",
    "        for x in range(0, len(l2)):\n",
    "            if urlexpander.is_short(l2[x]) :\n",
    "                try:\n",
    "                    l = urlexpander.expand(l2[x])\n",
    "                except (requests.ConnectionError,\n",
    "                        requests.exceptions.ReadTimeout,\n",
    "                        requests.exceptions.Timeout,\n",
    "                        requests.exceptions.ConnectTimeout,\n",
    "                        requests.exceptions.SSLError,\n",
    "                        requests.exceptions.TooManyRedirects,):\n",
    "                    print(\"Timeout occurred\")\n",
    "            else :\n",
    "                l = l2[x]\n",
    "            l3.append(l)\n",
    "    urls_list.append(l3)\n",
    "    \n",
    "    \n",
    "    pfad2='C:/Mo/tweetDB/tweetscov19/TweetsCov19_tsv/data_sample/tweetskb_stichprobe_urls_loaded_1'\n",
    "    with open(pfad2, 'a', newline='', encoding=\"utf-8\") as out_file:\n",
    "        tsv_writer = csv.writer(out_file, delimiter=\"\\t\")\n",
    "        tsv_writer.writerow(urls_list)\n",
    "    \n",
    "    return urls_list\n"
   ]
  },
  {
   "cell_type": "code",
   "execution_count": 9,
   "metadata": {
    "scrolled": true
   },
   "outputs": [
    {
     "name": "stdout",
     "output_type": "stream",
     "text": [
      "Timeout occurred\n",
      "Timeout occurred\n",
      "Timeout occurred\n",
      "Timeout occurred\n",
      "Timeout occurred\n",
      "Timeout occurred\n",
      "Timeout occurred\n",
      "Timeout occurred\n",
      "Timeout occurred\n",
      "Timeout occurred\n",
      "Timeout occurred\n",
      "Timeout occurred\n",
      "Timeout occurred\n",
      "Zaehler 392917\n"
     ]
    }
   ],
   "source": [
    "#Warnings-bibliothek importieren\n",
    "import warnings\n",
    "\n",
    "#Dadurch werden die Warnings in der Konsole gezeigt.\n",
    "warnings.filterwarnings('ignore')\n",
    "\n",
    "#Diese Methode liest jede Zeile von geteilten Tweets, und ruft die Funktion get_URLs().\n",
    "pfad1='C:/Mo/tweetDB/tweetscov19/TweetsCov19_tsv/data_sample/tweetskb_stichprobe_urls_1'\n",
    "x = 0\n",
    "v =[]\n",
    "with open(pfad1, 'r', encoding='utf-8') as tsv_file:\n",
    "    read_tsv = csv.reader(tsv_file, delimiter=\"\\t\")\n",
    "    for line in read_tsv:\n",
    "        #l = urlexpander.expand(line[1])   \n",
    "\n",
    "        #print(line)\n",
    "        #print('Urls: ', get_Urls(line))\n",
    "        v = get_Urls(line)\n",
    "        #if x == 20:\n",
    "        #    break\n",
    "        x += 1\n",
    "print('Zaehler', x)\n",
    "\n"
   ]
  },
  {
   "cell_type": "code",
   "execution_count": null,
   "metadata": {},
   "outputs": [],
   "source": []
  }
 ],
 "metadata": {
  "kernelspec": {
   "display_name": "Python 3",
   "language": "python",
   "name": "python3"
  },
  "language_info": {
   "codemirror_mode": {
    "name": "ipython",
    "version": 3
   },
   "file_extension": ".py",
   "mimetype": "text/x-python",
   "name": "python",
   "nbconvert_exporter": "python",
   "pygments_lexer": "ipython3",
   "version": "3.8.8"
  }
 },
 "nbformat": 4,
 "nbformat_minor": 4
}
