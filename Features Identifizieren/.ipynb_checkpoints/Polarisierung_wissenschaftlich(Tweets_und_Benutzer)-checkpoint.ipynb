{
 "cells": [
  {
   "cell_type": "code",
   "execution_count": 1,
   "id": "1e776b58",
   "metadata": {},
   "outputs": [],
   "source": [
    "#CSV Bibliothek importieren \n",
    "import csv\n",
    "#Pandas importieren und als pd bezeichnen\n",
    "import pandas as pd\n",
    "#Numpy importieren und als np bezeichnen \n",
    "import numpy as np\n",
    "#Json Biliothek importieren\n",
    "import json\n",
    "#Obere Schranke für die Größe der Daten auf 100,000,000 setzen  \n",
    "csv.field_size_limit(100000000)\n",
    "#Maximale Anzahl von Zeilen und Spalten Zeigen \n",
    "pd.options.display.max_columns = None\n",
    "pd.options.display.max_rows = None\n",
    "#Extraktion der Domäne\n",
    "import tldextract\n",
    "#Um die Warnings zu Console leiten\n",
    "import warnings\n",
    "warnings.filterwarnings('ignore')"
   ]
  },
  {
   "cell_type": "code",
   "execution_count": 2,
   "id": "4e390b5e",
   "metadata": {},
   "outputs": [],
   "source": [
    "pfad_tsv2 = 'C:/Mo/tweetDB/data/labels.csv'\n",
    "\n",
    "df_label = pd.read_csv(pfad_tsv2)\n"
   ]
  },
  {
   "cell_type": "code",
   "execution_count": 3,
   "id": "c9851e44",
   "metadata": {},
   "outputs": [
    {
     "data": {
      "text/html": [
       "<div>\n",
       "<style scoped>\n",
       "    .dataframe tbody tr th:only-of-type {\n",
       "        vertical-align: middle;\n",
       "    }\n",
       "\n",
       "    .dataframe tbody tr th {\n",
       "        vertical-align: top;\n",
       "    }\n",
       "\n",
       "    .dataframe thead th {\n",
       "        text-align: right;\n",
       "    }\n",
       "</style>\n",
       "<table border=\"1\" class=\"dataframe\">\n",
       "  <thead>\n",
       "    <tr style=\"text-align: right;\">\n",
       "      <th></th>\n",
       "      <th>Unnamed: 0</th>\n",
       "      <th>NewsGuard, Does not repeatedly publish false content</th>\n",
       "      <th>NewsGuard, Gathers and presents information responsibly</th>\n",
       "      <th>NewsGuard, Regularly corrects or clarifies errors</th>\n",
       "      <th>NewsGuard, Handles the difference between news and opinion responsibly</th>\n",
       "      <th>NewsGuard, Avoids deceptive headlines</th>\n",
       "      <th>NewsGuard, Website discloses ownership and financing</th>\n",
       "      <th>NewsGuard, Clearly labels advertising</th>\n",
       "      <th>NewsGuard, Reveals who's in charge, including any possible conflicts of interest</th>\n",
       "      <th>NewsGuard, Provides information about content creators</th>\n",
       "      <th>NewsGuard, score</th>\n",
       "      <th>NewsGuard, overall_class</th>\n",
       "      <th>Pew Research Center, known_by_40%</th>\n",
       "      <th>Pew Research Center, total</th>\n",
       "      <th>Pew Research Center, consistently_liberal</th>\n",
       "      <th>Pew Research Center, mostly_liberal</th>\n",
       "      <th>Pew Research Center, mixed</th>\n",
       "      <th>Pew Research Center, mostly conservative</th>\n",
       "      <th>Pew Research Center, consistently conservative</th>\n",
       "      <th>Wikipedia, is_fake</th>\n",
       "      <th>Open Sources, reliable</th>\n",
       "      <th>Open Sources, fake</th>\n",
       "      <th>Open Sources, unreliable</th>\n",
       "      <th>Open Sources, bias</th>\n",
       "      <th>Open Sources, conspiracy</th>\n",
       "      <th>Open Sources, hate</th>\n",
       "      <th>Open Sources, junksci</th>\n",
       "      <th>Open Sources, rumor</th>\n",
       "      <th>Open Sources, blog</th>\n",
       "      <th>Open Sources, clickbait</th>\n",
       "      <th>Open Sources, political</th>\n",
       "      <th>Open Sources, satire</th>\n",
       "      <th>Open Sources, state</th>\n",
       "      <th>Media Bias / Fact Check, label</th>\n",
       "      <th>Media Bias / Fact Check, factual_reporting</th>\n",
       "      <th>Media Bias / Fact Check, extreme_left</th>\n",
       "      <th>Media Bias / Fact Check, right</th>\n",
       "      <th>Media Bias / Fact Check, extreme_right</th>\n",
       "      <th>Media Bias / Fact Check, propaganda</th>\n",
       "      <th>Media Bias / Fact Check, fake_news</th>\n",
       "      <th>Media Bias / Fact Check, some_fake_news</th>\n",
       "      <th>Media Bias / Fact Check, failed_fact_checks</th>\n",
       "      <th>Media Bias / Fact Check, conspiracy</th>\n",
       "      <th>Media Bias / Fact Check, pseudoscience</th>\n",
       "      <th>Media Bias / Fact Check, hate_group</th>\n",
       "      <th>Media Bias / Fact Check, anti_islam</th>\n",
       "      <th>Media Bias / Fact Check, nationalism</th>\n",
       "      <th>Allsides, bias_rating</th>\n",
       "      <th>Allsides, community_agree</th>\n",
       "      <th>Allsides, community_disagree</th>\n",
       "      <th>Allsides, community_label</th>\n",
       "      <th>BuzzFeed, leaning</th>\n",
       "      <th>PolitiFact, Pants on Fire!</th>\n",
       "      <th>PolitiFact, False</th>\n",
       "      <th>PolitiFact, Mostly False</th>\n",
       "      <th>PolitiFact, Half-True</th>\n",
       "      <th>PolitiFact, Mostly True</th>\n",
       "      <th>PolitiFact, True</th>\n",
       "    </tr>\n",
       "  </thead>\n",
       "  <tbody>\n",
       "    <tr>\n",
       "      <th>0</th>\n",
       "      <td>21stCenturyWire</td>\n",
       "      <td>NaN</td>\n",
       "      <td>NaN</td>\n",
       "      <td>NaN</td>\n",
       "      <td>NaN</td>\n",
       "      <td>NaN</td>\n",
       "      <td>NaN</td>\n",
       "      <td>NaN</td>\n",
       "      <td>NaN</td>\n",
       "      <td>NaN</td>\n",
       "      <td>NaN</td>\n",
       "      <td>NaN</td>\n",
       "      <td>NaN</td>\n",
       "      <td>NaN</td>\n",
       "      <td>NaN</td>\n",
       "      <td>NaN</td>\n",
       "      <td>NaN</td>\n",
       "      <td>NaN</td>\n",
       "      <td>NaN</td>\n",
       "      <td>NaN</td>\n",
       "      <td>NaN</td>\n",
       "      <td>NaN</td>\n",
       "      <td>NaN</td>\n",
       "      <td>NaN</td>\n",
       "      <td>1.0</td>\n",
       "      <td>NaN</td>\n",
       "      <td>NaN</td>\n",
       "      <td>NaN</td>\n",
       "      <td>NaN</td>\n",
       "      <td>NaN</td>\n",
       "      <td>NaN</td>\n",
       "      <td>NaN</td>\n",
       "      <td>NaN</td>\n",
       "      <td>conspiracy_pseudoscience</td>\n",
       "      <td>3.0</td>\n",
       "      <td>0.0</td>\n",
       "      <td>0.0</td>\n",
       "      <td>0.0</td>\n",
       "      <td>0.0</td>\n",
       "      <td>0.0</td>\n",
       "      <td>0.0</td>\n",
       "      <td>0.0</td>\n",
       "      <td>0.0</td>\n",
       "      <td>0.0</td>\n",
       "      <td>0.0</td>\n",
       "      <td>0.0</td>\n",
       "      <td>0.0</td>\n",
       "      <td>NaN</td>\n",
       "      <td>NaN</td>\n",
       "      <td>NaN</td>\n",
       "      <td>NaN</td>\n",
       "      <td>left</td>\n",
       "      <td>NaN</td>\n",
       "      <td>NaN</td>\n",
       "      <td>NaN</td>\n",
       "      <td>NaN</td>\n",
       "      <td>NaN</td>\n",
       "      <td>NaN</td>\n",
       "    </tr>\n",
       "    <tr>\n",
       "      <th>1</th>\n",
       "      <td>ABC News</td>\n",
       "      <td>0.0</td>\n",
       "      <td>0.0</td>\n",
       "      <td>0.0</td>\n",
       "      <td>0.0</td>\n",
       "      <td>0.0</td>\n",
       "      <td>0.0</td>\n",
       "      <td>0.0</td>\n",
       "      <td>1.0</td>\n",
       "      <td>0.0</td>\n",
       "      <td>95.0</td>\n",
       "      <td>1.0</td>\n",
       "      <td>1.0</td>\n",
       "      <td>1.0</td>\n",
       "      <td>1.0</td>\n",
       "      <td>1.0</td>\n",
       "      <td>1.0</td>\n",
       "      <td>1.0</td>\n",
       "      <td>-1.0</td>\n",
       "      <td>NaN</td>\n",
       "      <td>NaN</td>\n",
       "      <td>NaN</td>\n",
       "      <td>NaN</td>\n",
       "      <td>NaN</td>\n",
       "      <td>NaN</td>\n",
       "      <td>NaN</td>\n",
       "      <td>NaN</td>\n",
       "      <td>NaN</td>\n",
       "      <td>NaN</td>\n",
       "      <td>NaN</td>\n",
       "      <td>NaN</td>\n",
       "      <td>NaN</td>\n",
       "      <td>NaN</td>\n",
       "      <td>left_center_bias</td>\n",
       "      <td>4.0</td>\n",
       "      <td>0.0</td>\n",
       "      <td>0.0</td>\n",
       "      <td>0.0</td>\n",
       "      <td>0.0</td>\n",
       "      <td>0.0</td>\n",
       "      <td>0.0</td>\n",
       "      <td>0.0</td>\n",
       "      <td>0.0</td>\n",
       "      <td>0.0</td>\n",
       "      <td>0.0</td>\n",
       "      <td>0.0</td>\n",
       "      <td>0.0</td>\n",
       "      <td>Lean Left</td>\n",
       "      <td>8964.0</td>\n",
       "      <td>6949.0</td>\n",
       "      <td>somewhat agree</td>\n",
       "      <td>NaN</td>\n",
       "      <td>NaN</td>\n",
       "      <td>NaN</td>\n",
       "      <td>NaN</td>\n",
       "      <td>NaN</td>\n",
       "      <td>NaN</td>\n",
       "      <td>NaN</td>\n",
       "    </tr>\n",
       "    <tr>\n",
       "      <th>2</th>\n",
       "      <td>AMERICAblog News</td>\n",
       "      <td>NaN</td>\n",
       "      <td>NaN</td>\n",
       "      <td>NaN</td>\n",
       "      <td>NaN</td>\n",
       "      <td>NaN</td>\n",
       "      <td>NaN</td>\n",
       "      <td>NaN</td>\n",
       "      <td>NaN</td>\n",
       "      <td>NaN</td>\n",
       "      <td>NaN</td>\n",
       "      <td>NaN</td>\n",
       "      <td>NaN</td>\n",
       "      <td>NaN</td>\n",
       "      <td>NaN</td>\n",
       "      <td>NaN</td>\n",
       "      <td>NaN</td>\n",
       "      <td>NaN</td>\n",
       "      <td>NaN</td>\n",
       "      <td>NaN</td>\n",
       "      <td>NaN</td>\n",
       "      <td>NaN</td>\n",
       "      <td>NaN</td>\n",
       "      <td>1.0</td>\n",
       "      <td>NaN</td>\n",
       "      <td>NaN</td>\n",
       "      <td>NaN</td>\n",
       "      <td>NaN</td>\n",
       "      <td>NaN</td>\n",
       "      <td>2.0</td>\n",
       "      <td>NaN</td>\n",
       "      <td>NaN</td>\n",
       "      <td>NaN</td>\n",
       "      <td>NaN</td>\n",
       "      <td>NaN</td>\n",
       "      <td>NaN</td>\n",
       "      <td>NaN</td>\n",
       "      <td>NaN</td>\n",
       "      <td>NaN</td>\n",
       "      <td>NaN</td>\n",
       "      <td>NaN</td>\n",
       "      <td>NaN</td>\n",
       "      <td>NaN</td>\n",
       "      <td>NaN</td>\n",
       "      <td>NaN</td>\n",
       "      <td>NaN</td>\n",
       "      <td>NaN</td>\n",
       "      <td>NaN</td>\n",
       "      <td>NaN</td>\n",
       "      <td>NaN</td>\n",
       "      <td>NaN</td>\n",
       "      <td>left</td>\n",
       "      <td>NaN</td>\n",
       "      <td>NaN</td>\n",
       "      <td>NaN</td>\n",
       "      <td>NaN</td>\n",
       "      <td>NaN</td>\n",
       "      <td>NaN</td>\n",
       "    </tr>\n",
       "    <tr>\n",
       "      <th>3</th>\n",
       "      <td>Activist Post</td>\n",
       "      <td>NaN</td>\n",
       "      <td>NaN</td>\n",
       "      <td>NaN</td>\n",
       "      <td>NaN</td>\n",
       "      <td>NaN</td>\n",
       "      <td>NaN</td>\n",
       "      <td>NaN</td>\n",
       "      <td>NaN</td>\n",
       "      <td>NaN</td>\n",
       "      <td>NaN</td>\n",
       "      <td>NaN</td>\n",
       "      <td>NaN</td>\n",
       "      <td>NaN</td>\n",
       "      <td>NaN</td>\n",
       "      <td>NaN</td>\n",
       "      <td>NaN</td>\n",
       "      <td>NaN</td>\n",
       "      <td>NaN</td>\n",
       "      <td>NaN</td>\n",
       "      <td>NaN</td>\n",
       "      <td>NaN</td>\n",
       "      <td>NaN</td>\n",
       "      <td>NaN</td>\n",
       "      <td>1.0</td>\n",
       "      <td>NaN</td>\n",
       "      <td>NaN</td>\n",
       "      <td>NaN</td>\n",
       "      <td>NaN</td>\n",
       "      <td>NaN</td>\n",
       "      <td>NaN</td>\n",
       "      <td>NaN</td>\n",
       "      <td>NaN</td>\n",
       "      <td>conspiracy_pseudoscience</td>\n",
       "      <td>2.0</td>\n",
       "      <td>0.0</td>\n",
       "      <td>0.0</td>\n",
       "      <td>0.0</td>\n",
       "      <td>0.0</td>\n",
       "      <td>0.0</td>\n",
       "      <td>0.0</td>\n",
       "      <td>0.0</td>\n",
       "      <td>0.0</td>\n",
       "      <td>0.0</td>\n",
       "      <td>0.0</td>\n",
       "      <td>0.0</td>\n",
       "      <td>0.0</td>\n",
       "      <td>NaN</td>\n",
       "      <td>NaN</td>\n",
       "      <td>NaN</td>\n",
       "      <td>NaN</td>\n",
       "      <td>left</td>\n",
       "      <td>NaN</td>\n",
       "      <td>NaN</td>\n",
       "      <td>NaN</td>\n",
       "      <td>NaN</td>\n",
       "      <td>NaN</td>\n",
       "      <td>NaN</td>\n",
       "    </tr>\n",
       "    <tr>\n",
       "      <th>4</th>\n",
       "      <td>Addicting Info</td>\n",
       "      <td>NaN</td>\n",
       "      <td>NaN</td>\n",
       "      <td>NaN</td>\n",
       "      <td>NaN</td>\n",
       "      <td>NaN</td>\n",
       "      <td>NaN</td>\n",
       "      <td>NaN</td>\n",
       "      <td>NaN</td>\n",
       "      <td>NaN</td>\n",
       "      <td>NaN</td>\n",
       "      <td>NaN</td>\n",
       "      <td>NaN</td>\n",
       "      <td>NaN</td>\n",
       "      <td>NaN</td>\n",
       "      <td>NaN</td>\n",
       "      <td>NaN</td>\n",
       "      <td>NaN</td>\n",
       "      <td>NaN</td>\n",
       "      <td>NaN</td>\n",
       "      <td>NaN</td>\n",
       "      <td>NaN</td>\n",
       "      <td>2.0</td>\n",
       "      <td>NaN</td>\n",
       "      <td>NaN</td>\n",
       "      <td>NaN</td>\n",
       "      <td>NaN</td>\n",
       "      <td>NaN</td>\n",
       "      <td>NaN</td>\n",
       "      <td>1.0</td>\n",
       "      <td>NaN</td>\n",
       "      <td>NaN</td>\n",
       "      <td>NaN</td>\n",
       "      <td>left_bias</td>\n",
       "      <td>3.0</td>\n",
       "      <td>0.0</td>\n",
       "      <td>0.0</td>\n",
       "      <td>0.0</td>\n",
       "      <td>0.0</td>\n",
       "      <td>0.0</td>\n",
       "      <td>0.0</td>\n",
       "      <td>0.0</td>\n",
       "      <td>0.0</td>\n",
       "      <td>0.0</td>\n",
       "      <td>0.0</td>\n",
       "      <td>0.0</td>\n",
       "      <td>0.0</td>\n",
       "      <td>NaN</td>\n",
       "      <td>NaN</td>\n",
       "      <td>NaN</td>\n",
       "      <td>NaN</td>\n",
       "      <td>left</td>\n",
       "      <td>NaN</td>\n",
       "      <td>NaN</td>\n",
       "      <td>NaN</td>\n",
       "      <td>NaN</td>\n",
       "      <td>NaN</td>\n",
       "      <td>NaN</td>\n",
       "    </tr>\n",
       "  </tbody>\n",
       "</table>\n",
       "</div>"
      ],
      "text/plain": [
       "         Unnamed: 0  NewsGuard, Does not repeatedly publish false content  \\\n",
       "0   21stCenturyWire                                                NaN      \n",
       "1          ABC News                                                0.0      \n",
       "2  AMERICAblog News                                                NaN      \n",
       "3     Activist Post                                                NaN      \n",
       "4    Addicting Info                                                NaN      \n",
       "\n",
       "   NewsGuard, Gathers and presents information responsibly  \\\n",
       "0                                                NaN         \n",
       "1                                                0.0         \n",
       "2                                                NaN         \n",
       "3                                                NaN         \n",
       "4                                                NaN         \n",
       "\n",
       "   NewsGuard, Regularly corrects or clarifies errors  \\\n",
       "0                                                NaN   \n",
       "1                                                0.0   \n",
       "2                                                NaN   \n",
       "3                                                NaN   \n",
       "4                                                NaN   \n",
       "\n",
       "   NewsGuard, Handles the difference between news and opinion responsibly  \\\n",
       "0                                                NaN                        \n",
       "1                                                0.0                        \n",
       "2                                                NaN                        \n",
       "3                                                NaN                        \n",
       "4                                                NaN                        \n",
       "\n",
       "   NewsGuard, Avoids deceptive headlines  \\\n",
       "0                                    NaN   \n",
       "1                                    0.0   \n",
       "2                                    NaN   \n",
       "3                                    NaN   \n",
       "4                                    NaN   \n",
       "\n",
       "   NewsGuard, Website discloses ownership and financing  \\\n",
       "0                                                NaN      \n",
       "1                                                0.0      \n",
       "2                                                NaN      \n",
       "3                                                NaN      \n",
       "4                                                NaN      \n",
       "\n",
       "   NewsGuard, Clearly labels advertising  \\\n",
       "0                                    NaN   \n",
       "1                                    0.0   \n",
       "2                                    NaN   \n",
       "3                                    NaN   \n",
       "4                                    NaN   \n",
       "\n",
       "   NewsGuard, Reveals who's in charge, including any possible conflicts of interest  \\\n",
       "0                                                NaN                                  \n",
       "1                                                1.0                                  \n",
       "2                                                NaN                                  \n",
       "3                                                NaN                                  \n",
       "4                                                NaN                                  \n",
       "\n",
       "   NewsGuard, Provides information about content creators  NewsGuard, score  \\\n",
       "0                                                NaN                    NaN   \n",
       "1                                                0.0                   95.0   \n",
       "2                                                NaN                    NaN   \n",
       "3                                                NaN                    NaN   \n",
       "4                                                NaN                    NaN   \n",
       "\n",
       "   NewsGuard, overall_class  Pew Research Center, known_by_40%  \\\n",
       "0                       NaN                                NaN   \n",
       "1                       1.0                                1.0   \n",
       "2                       NaN                                NaN   \n",
       "3                       NaN                                NaN   \n",
       "4                       NaN                                NaN   \n",
       "\n",
       "   Pew Research Center, total  Pew Research Center, consistently_liberal  \\\n",
       "0                         NaN                                        NaN   \n",
       "1                         1.0                                        1.0   \n",
       "2                         NaN                                        NaN   \n",
       "3                         NaN                                        NaN   \n",
       "4                         NaN                                        NaN   \n",
       "\n",
       "   Pew Research Center, mostly_liberal  Pew Research Center, mixed  \\\n",
       "0                                  NaN                         NaN   \n",
       "1                                  1.0                         1.0   \n",
       "2                                  NaN                         NaN   \n",
       "3                                  NaN                         NaN   \n",
       "4                                  NaN                         NaN   \n",
       "\n",
       "   Pew Research Center, mostly conservative  \\\n",
       "0                                       NaN   \n",
       "1                                       1.0   \n",
       "2                                       NaN   \n",
       "3                                       NaN   \n",
       "4                                       NaN   \n",
       "\n",
       "   Pew Research Center, consistently conservative  Wikipedia, is_fake  \\\n",
       "0                                             NaN                 NaN   \n",
       "1                                            -1.0                 NaN   \n",
       "2                                             NaN                 NaN   \n",
       "3                                             NaN                 NaN   \n",
       "4                                             NaN                 NaN   \n",
       "\n",
       "   Open Sources, reliable  Open Sources, fake  Open Sources, unreliable  \\\n",
       "0                     NaN                 NaN                       NaN   \n",
       "1                     NaN                 NaN                       NaN   \n",
       "2                     NaN                 NaN                       NaN   \n",
       "3                     NaN                 NaN                       NaN   \n",
       "4                     NaN                 NaN                       2.0   \n",
       "\n",
       "   Open Sources, bias  Open Sources, conspiracy  Open Sources, hate  \\\n",
       "0                 NaN                       1.0                 NaN   \n",
       "1                 NaN                       NaN                 NaN   \n",
       "2                 1.0                       NaN                 NaN   \n",
       "3                 NaN                       1.0                 NaN   \n",
       "4                 NaN                       NaN                 NaN   \n",
       "\n",
       "   Open Sources, junksci  Open Sources, rumor  Open Sources, blog  \\\n",
       "0                    NaN                  NaN                 NaN   \n",
       "1                    NaN                  NaN                 NaN   \n",
       "2                    NaN                  NaN                 NaN   \n",
       "3                    NaN                  NaN                 NaN   \n",
       "4                    NaN                  NaN                 NaN   \n",
       "\n",
       "   Open Sources, clickbait  Open Sources, political  Open Sources, satire  \\\n",
       "0                      NaN                      NaN                   NaN   \n",
       "1                      NaN                      NaN                   NaN   \n",
       "2                      2.0                      NaN                   NaN   \n",
       "3                      NaN                      NaN                   NaN   \n",
       "4                      1.0                      NaN                   NaN   \n",
       "\n",
       "   Open Sources, state Media Bias / Fact Check, label  \\\n",
       "0                  NaN       conspiracy_pseudoscience   \n",
       "1                  NaN               left_center_bias   \n",
       "2                  NaN                            NaN   \n",
       "3                  NaN       conspiracy_pseudoscience   \n",
       "4                  NaN                      left_bias   \n",
       "\n",
       "   Media Bias / Fact Check, factual_reporting  \\\n",
       "0                                         3.0   \n",
       "1                                         4.0   \n",
       "2                                         NaN   \n",
       "3                                         2.0   \n",
       "4                                         3.0   \n",
       "\n",
       "   Media Bias / Fact Check, extreme_left  Media Bias / Fact Check, right  \\\n",
       "0                                    0.0                             0.0   \n",
       "1                                    0.0                             0.0   \n",
       "2                                    NaN                             NaN   \n",
       "3                                    0.0                             0.0   \n",
       "4                                    0.0                             0.0   \n",
       "\n",
       "   Media Bias / Fact Check, extreme_right  \\\n",
       "0                                     0.0   \n",
       "1                                     0.0   \n",
       "2                                     NaN   \n",
       "3                                     0.0   \n",
       "4                                     0.0   \n",
       "\n",
       "   Media Bias / Fact Check, propaganda  Media Bias / Fact Check, fake_news  \\\n",
       "0                                  0.0                                 0.0   \n",
       "1                                  0.0                                 0.0   \n",
       "2                                  NaN                                 NaN   \n",
       "3                                  0.0                                 0.0   \n",
       "4                                  0.0                                 0.0   \n",
       "\n",
       "   Media Bias / Fact Check, some_fake_news  \\\n",
       "0                                      0.0   \n",
       "1                                      0.0   \n",
       "2                                      NaN   \n",
       "3                                      0.0   \n",
       "4                                      0.0   \n",
       "\n",
       "   Media Bias / Fact Check, failed_fact_checks  \\\n",
       "0                                          0.0   \n",
       "1                                          0.0   \n",
       "2                                          NaN   \n",
       "3                                          0.0   \n",
       "4                                          0.0   \n",
       "\n",
       "   Media Bias / Fact Check, conspiracy  \\\n",
       "0                                  0.0   \n",
       "1                                  0.0   \n",
       "2                                  NaN   \n",
       "3                                  0.0   \n",
       "4                                  0.0   \n",
       "\n",
       "   Media Bias / Fact Check, pseudoscience  \\\n",
       "0                                     0.0   \n",
       "1                                     0.0   \n",
       "2                                     NaN   \n",
       "3                                     0.0   \n",
       "4                                     0.0   \n",
       "\n",
       "   Media Bias / Fact Check, hate_group  Media Bias / Fact Check, anti_islam  \\\n",
       "0                                  0.0                                  0.0   \n",
       "1                                  0.0                                  0.0   \n",
       "2                                  NaN                                  NaN   \n",
       "3                                  0.0                                  0.0   \n",
       "4                                  0.0                                  0.0   \n",
       "\n",
       "   Media Bias / Fact Check, nationalism Allsides, bias_rating  \\\n",
       "0                                   0.0                   NaN   \n",
       "1                                   0.0             Lean Left   \n",
       "2                                   NaN                   NaN   \n",
       "3                                   0.0                   NaN   \n",
       "4                                   0.0                   NaN   \n",
       "\n",
       "   Allsides, community_agree  Allsides, community_disagree  \\\n",
       "0                        NaN                           NaN   \n",
       "1                     8964.0                        6949.0   \n",
       "2                        NaN                           NaN   \n",
       "3                        NaN                           NaN   \n",
       "4                        NaN                           NaN   \n",
       "\n",
       "  Allsides, community_label BuzzFeed, leaning  PolitiFact, Pants on Fire!  \\\n",
       "0                       NaN              left                         NaN   \n",
       "1            somewhat agree               NaN                         NaN   \n",
       "2                       NaN              left                         NaN   \n",
       "3                       NaN              left                         NaN   \n",
       "4                       NaN              left                         NaN   \n",
       "\n",
       "   PolitiFact, False  PolitiFact, Mostly False  PolitiFact, Half-True  \\\n",
       "0                NaN                       NaN                    NaN   \n",
       "1                NaN                       NaN                    NaN   \n",
       "2                NaN                       NaN                    NaN   \n",
       "3                NaN                       NaN                    NaN   \n",
       "4                NaN                       NaN                    NaN   \n",
       "\n",
       "   PolitiFact, Mostly True  PolitiFact, True  \n",
       "0                      NaN               NaN  \n",
       "1                      NaN               NaN  \n",
       "2                      NaN               NaN  \n",
       "3                      NaN               NaN  \n",
       "4                      NaN               NaN  "
      ]
     },
     "execution_count": 3,
     "metadata": {},
     "output_type": "execute_result"
    }
   ],
   "source": [
    "pd.options.display.max_columns = None\n",
    "df_label.head()"
   ]
  },
  {
   "cell_type": "code",
   "execution_count": 4,
   "id": "ae331e4a",
   "metadata": {},
   "outputs": [],
   "source": [
    "df_label.rename(columns = {'Unnamed: 0' : 'domain'}, inplace = True)\n",
    "df_label['domain'] = df_label['domain'].str.replace(\" \", \"\")\n",
    "df_label['domain'] = df_label['domain'].str.lower()"
   ]
  },
  {
   "cell_type": "code",
   "execution_count": 5,
   "id": "968e7b18",
   "metadata": {},
   "outputs": [
    {
     "data": {
      "text/html": [
       "<div>\n",
       "<style scoped>\n",
       "    .dataframe tbody tr th:only-of-type {\n",
       "        vertical-align: middle;\n",
       "    }\n",
       "\n",
       "    .dataframe tbody tr th {\n",
       "        vertical-align: top;\n",
       "    }\n",
       "\n",
       "    .dataframe thead th {\n",
       "        text-align: right;\n",
       "    }\n",
       "</style>\n",
       "<table border=\"1\" class=\"dataframe\">\n",
       "  <thead>\n",
       "    <tr style=\"text-align: right;\">\n",
       "      <th></th>\n",
       "      <th>domain</th>\n",
       "      <th>NewsGuard, Does not repeatedly publish false content</th>\n",
       "      <th>NewsGuard, Gathers and presents information responsibly</th>\n",
       "      <th>NewsGuard, Regularly corrects or clarifies errors</th>\n",
       "      <th>NewsGuard, Handles the difference between news and opinion responsibly</th>\n",
       "      <th>NewsGuard, Avoids deceptive headlines</th>\n",
       "      <th>NewsGuard, Website discloses ownership and financing</th>\n",
       "      <th>NewsGuard, Clearly labels advertising</th>\n",
       "      <th>NewsGuard, Reveals who's in charge, including any possible conflicts of interest</th>\n",
       "      <th>NewsGuard, Provides information about content creators</th>\n",
       "      <th>NewsGuard, score</th>\n",
       "      <th>NewsGuard, overall_class</th>\n",
       "      <th>Pew Research Center, known_by_40%</th>\n",
       "      <th>Pew Research Center, total</th>\n",
       "      <th>Pew Research Center, consistently_liberal</th>\n",
       "      <th>Pew Research Center, mostly_liberal</th>\n",
       "      <th>Pew Research Center, mixed</th>\n",
       "      <th>Pew Research Center, mostly conservative</th>\n",
       "      <th>Pew Research Center, consistently conservative</th>\n",
       "      <th>Wikipedia, is_fake</th>\n",
       "      <th>Open Sources, reliable</th>\n",
       "      <th>Open Sources, fake</th>\n",
       "      <th>Open Sources, unreliable</th>\n",
       "      <th>Open Sources, bias</th>\n",
       "      <th>Open Sources, conspiracy</th>\n",
       "      <th>Open Sources, hate</th>\n",
       "      <th>Open Sources, junksci</th>\n",
       "      <th>Open Sources, rumor</th>\n",
       "      <th>Open Sources, blog</th>\n",
       "      <th>Open Sources, clickbait</th>\n",
       "      <th>Open Sources, political</th>\n",
       "      <th>Open Sources, satire</th>\n",
       "      <th>Open Sources, state</th>\n",
       "      <th>Media Bias / Fact Check, label</th>\n",
       "      <th>Media Bias / Fact Check, factual_reporting</th>\n",
       "      <th>Media Bias / Fact Check, extreme_left</th>\n",
       "      <th>Media Bias / Fact Check, right</th>\n",
       "      <th>Media Bias / Fact Check, extreme_right</th>\n",
       "      <th>Media Bias / Fact Check, propaganda</th>\n",
       "      <th>Media Bias / Fact Check, fake_news</th>\n",
       "      <th>Media Bias / Fact Check, some_fake_news</th>\n",
       "      <th>Media Bias / Fact Check, failed_fact_checks</th>\n",
       "      <th>Media Bias / Fact Check, conspiracy</th>\n",
       "      <th>Media Bias / Fact Check, pseudoscience</th>\n",
       "      <th>Media Bias / Fact Check, hate_group</th>\n",
       "      <th>Media Bias / Fact Check, anti_islam</th>\n",
       "      <th>Media Bias / Fact Check, nationalism</th>\n",
       "      <th>Allsides, bias_rating</th>\n",
       "      <th>Allsides, community_agree</th>\n",
       "      <th>Allsides, community_disagree</th>\n",
       "      <th>Allsides, community_label</th>\n",
       "      <th>BuzzFeed, leaning</th>\n",
       "      <th>PolitiFact, Pants on Fire!</th>\n",
       "      <th>PolitiFact, False</th>\n",
       "      <th>PolitiFact, Mostly False</th>\n",
       "      <th>PolitiFact, Half-True</th>\n",
       "      <th>PolitiFact, Mostly True</th>\n",
       "      <th>PolitiFact, True</th>\n",
       "    </tr>\n",
       "  </thead>\n",
       "  <tbody>\n",
       "    <tr>\n",
       "      <th>0</th>\n",
       "      <td>21stcenturywire</td>\n",
       "      <td>NaN</td>\n",
       "      <td>NaN</td>\n",
       "      <td>NaN</td>\n",
       "      <td>NaN</td>\n",
       "      <td>NaN</td>\n",
       "      <td>NaN</td>\n",
       "      <td>NaN</td>\n",
       "      <td>NaN</td>\n",
       "      <td>NaN</td>\n",
       "      <td>NaN</td>\n",
       "      <td>NaN</td>\n",
       "      <td>NaN</td>\n",
       "      <td>NaN</td>\n",
       "      <td>NaN</td>\n",
       "      <td>NaN</td>\n",
       "      <td>NaN</td>\n",
       "      <td>NaN</td>\n",
       "      <td>NaN</td>\n",
       "      <td>NaN</td>\n",
       "      <td>NaN</td>\n",
       "      <td>NaN</td>\n",
       "      <td>NaN</td>\n",
       "      <td>NaN</td>\n",
       "      <td>1.0</td>\n",
       "      <td>NaN</td>\n",
       "      <td>NaN</td>\n",
       "      <td>NaN</td>\n",
       "      <td>NaN</td>\n",
       "      <td>NaN</td>\n",
       "      <td>NaN</td>\n",
       "      <td>NaN</td>\n",
       "      <td>NaN</td>\n",
       "      <td>conspiracy_pseudoscience</td>\n",
       "      <td>3.0</td>\n",
       "      <td>0.0</td>\n",
       "      <td>0.0</td>\n",
       "      <td>0.0</td>\n",
       "      <td>0.0</td>\n",
       "      <td>0.0</td>\n",
       "      <td>0.0</td>\n",
       "      <td>0.0</td>\n",
       "      <td>0.0</td>\n",
       "      <td>0.0</td>\n",
       "      <td>0.0</td>\n",
       "      <td>0.0</td>\n",
       "      <td>0.0</td>\n",
       "      <td>NaN</td>\n",
       "      <td>NaN</td>\n",
       "      <td>NaN</td>\n",
       "      <td>NaN</td>\n",
       "      <td>left</td>\n",
       "      <td>NaN</td>\n",
       "      <td>NaN</td>\n",
       "      <td>NaN</td>\n",
       "      <td>NaN</td>\n",
       "      <td>NaN</td>\n",
       "      <td>NaN</td>\n",
       "    </tr>\n",
       "    <tr>\n",
       "      <th>1</th>\n",
       "      <td>abcnews</td>\n",
       "      <td>0.0</td>\n",
       "      <td>0.0</td>\n",
       "      <td>0.0</td>\n",
       "      <td>0.0</td>\n",
       "      <td>0.0</td>\n",
       "      <td>0.0</td>\n",
       "      <td>0.0</td>\n",
       "      <td>1.0</td>\n",
       "      <td>0.0</td>\n",
       "      <td>95.0</td>\n",
       "      <td>1.0</td>\n",
       "      <td>1.0</td>\n",
       "      <td>1.0</td>\n",
       "      <td>1.0</td>\n",
       "      <td>1.0</td>\n",
       "      <td>1.0</td>\n",
       "      <td>1.0</td>\n",
       "      <td>-1.0</td>\n",
       "      <td>NaN</td>\n",
       "      <td>NaN</td>\n",
       "      <td>NaN</td>\n",
       "      <td>NaN</td>\n",
       "      <td>NaN</td>\n",
       "      <td>NaN</td>\n",
       "      <td>NaN</td>\n",
       "      <td>NaN</td>\n",
       "      <td>NaN</td>\n",
       "      <td>NaN</td>\n",
       "      <td>NaN</td>\n",
       "      <td>NaN</td>\n",
       "      <td>NaN</td>\n",
       "      <td>NaN</td>\n",
       "      <td>left_center_bias</td>\n",
       "      <td>4.0</td>\n",
       "      <td>0.0</td>\n",
       "      <td>0.0</td>\n",
       "      <td>0.0</td>\n",
       "      <td>0.0</td>\n",
       "      <td>0.0</td>\n",
       "      <td>0.0</td>\n",
       "      <td>0.0</td>\n",
       "      <td>0.0</td>\n",
       "      <td>0.0</td>\n",
       "      <td>0.0</td>\n",
       "      <td>0.0</td>\n",
       "      <td>0.0</td>\n",
       "      <td>Lean Left</td>\n",
       "      <td>8964.0</td>\n",
       "      <td>6949.0</td>\n",
       "      <td>somewhat agree</td>\n",
       "      <td>NaN</td>\n",
       "      <td>NaN</td>\n",
       "      <td>NaN</td>\n",
       "      <td>NaN</td>\n",
       "      <td>NaN</td>\n",
       "      <td>NaN</td>\n",
       "      <td>NaN</td>\n",
       "    </tr>\n",
       "    <tr>\n",
       "      <th>2</th>\n",
       "      <td>americablognews</td>\n",
       "      <td>NaN</td>\n",
       "      <td>NaN</td>\n",
       "      <td>NaN</td>\n",
       "      <td>NaN</td>\n",
       "      <td>NaN</td>\n",
       "      <td>NaN</td>\n",
       "      <td>NaN</td>\n",
       "      <td>NaN</td>\n",
       "      <td>NaN</td>\n",
       "      <td>NaN</td>\n",
       "      <td>NaN</td>\n",
       "      <td>NaN</td>\n",
       "      <td>NaN</td>\n",
       "      <td>NaN</td>\n",
       "      <td>NaN</td>\n",
       "      <td>NaN</td>\n",
       "      <td>NaN</td>\n",
       "      <td>NaN</td>\n",
       "      <td>NaN</td>\n",
       "      <td>NaN</td>\n",
       "      <td>NaN</td>\n",
       "      <td>NaN</td>\n",
       "      <td>1.0</td>\n",
       "      <td>NaN</td>\n",
       "      <td>NaN</td>\n",
       "      <td>NaN</td>\n",
       "      <td>NaN</td>\n",
       "      <td>NaN</td>\n",
       "      <td>2.0</td>\n",
       "      <td>NaN</td>\n",
       "      <td>NaN</td>\n",
       "      <td>NaN</td>\n",
       "      <td>NaN</td>\n",
       "      <td>NaN</td>\n",
       "      <td>NaN</td>\n",
       "      <td>NaN</td>\n",
       "      <td>NaN</td>\n",
       "      <td>NaN</td>\n",
       "      <td>NaN</td>\n",
       "      <td>NaN</td>\n",
       "      <td>NaN</td>\n",
       "      <td>NaN</td>\n",
       "      <td>NaN</td>\n",
       "      <td>NaN</td>\n",
       "      <td>NaN</td>\n",
       "      <td>NaN</td>\n",
       "      <td>NaN</td>\n",
       "      <td>NaN</td>\n",
       "      <td>NaN</td>\n",
       "      <td>NaN</td>\n",
       "      <td>left</td>\n",
       "      <td>NaN</td>\n",
       "      <td>NaN</td>\n",
       "      <td>NaN</td>\n",
       "      <td>NaN</td>\n",
       "      <td>NaN</td>\n",
       "      <td>NaN</td>\n",
       "    </tr>\n",
       "    <tr>\n",
       "      <th>3</th>\n",
       "      <td>activistpost</td>\n",
       "      <td>NaN</td>\n",
       "      <td>NaN</td>\n",
       "      <td>NaN</td>\n",
       "      <td>NaN</td>\n",
       "      <td>NaN</td>\n",
       "      <td>NaN</td>\n",
       "      <td>NaN</td>\n",
       "      <td>NaN</td>\n",
       "      <td>NaN</td>\n",
       "      <td>NaN</td>\n",
       "      <td>NaN</td>\n",
       "      <td>NaN</td>\n",
       "      <td>NaN</td>\n",
       "      <td>NaN</td>\n",
       "      <td>NaN</td>\n",
       "      <td>NaN</td>\n",
       "      <td>NaN</td>\n",
       "      <td>NaN</td>\n",
       "      <td>NaN</td>\n",
       "      <td>NaN</td>\n",
       "      <td>NaN</td>\n",
       "      <td>NaN</td>\n",
       "      <td>NaN</td>\n",
       "      <td>1.0</td>\n",
       "      <td>NaN</td>\n",
       "      <td>NaN</td>\n",
       "      <td>NaN</td>\n",
       "      <td>NaN</td>\n",
       "      <td>NaN</td>\n",
       "      <td>NaN</td>\n",
       "      <td>NaN</td>\n",
       "      <td>NaN</td>\n",
       "      <td>conspiracy_pseudoscience</td>\n",
       "      <td>2.0</td>\n",
       "      <td>0.0</td>\n",
       "      <td>0.0</td>\n",
       "      <td>0.0</td>\n",
       "      <td>0.0</td>\n",
       "      <td>0.0</td>\n",
       "      <td>0.0</td>\n",
       "      <td>0.0</td>\n",
       "      <td>0.0</td>\n",
       "      <td>0.0</td>\n",
       "      <td>0.0</td>\n",
       "      <td>0.0</td>\n",
       "      <td>0.0</td>\n",
       "      <td>NaN</td>\n",
       "      <td>NaN</td>\n",
       "      <td>NaN</td>\n",
       "      <td>NaN</td>\n",
       "      <td>left</td>\n",
       "      <td>NaN</td>\n",
       "      <td>NaN</td>\n",
       "      <td>NaN</td>\n",
       "      <td>NaN</td>\n",
       "      <td>NaN</td>\n",
       "      <td>NaN</td>\n",
       "    </tr>\n",
       "    <tr>\n",
       "      <th>4</th>\n",
       "      <td>addictinginfo</td>\n",
       "      <td>NaN</td>\n",
       "      <td>NaN</td>\n",
       "      <td>NaN</td>\n",
       "      <td>NaN</td>\n",
       "      <td>NaN</td>\n",
       "      <td>NaN</td>\n",
       "      <td>NaN</td>\n",
       "      <td>NaN</td>\n",
       "      <td>NaN</td>\n",
       "      <td>NaN</td>\n",
       "      <td>NaN</td>\n",
       "      <td>NaN</td>\n",
       "      <td>NaN</td>\n",
       "      <td>NaN</td>\n",
       "      <td>NaN</td>\n",
       "      <td>NaN</td>\n",
       "      <td>NaN</td>\n",
       "      <td>NaN</td>\n",
       "      <td>NaN</td>\n",
       "      <td>NaN</td>\n",
       "      <td>NaN</td>\n",
       "      <td>2.0</td>\n",
       "      <td>NaN</td>\n",
       "      <td>NaN</td>\n",
       "      <td>NaN</td>\n",
       "      <td>NaN</td>\n",
       "      <td>NaN</td>\n",
       "      <td>NaN</td>\n",
       "      <td>1.0</td>\n",
       "      <td>NaN</td>\n",
       "      <td>NaN</td>\n",
       "      <td>NaN</td>\n",
       "      <td>left_bias</td>\n",
       "      <td>3.0</td>\n",
       "      <td>0.0</td>\n",
       "      <td>0.0</td>\n",
       "      <td>0.0</td>\n",
       "      <td>0.0</td>\n",
       "      <td>0.0</td>\n",
       "      <td>0.0</td>\n",
       "      <td>0.0</td>\n",
       "      <td>0.0</td>\n",
       "      <td>0.0</td>\n",
       "      <td>0.0</td>\n",
       "      <td>0.0</td>\n",
       "      <td>0.0</td>\n",
       "      <td>NaN</td>\n",
       "      <td>NaN</td>\n",
       "      <td>NaN</td>\n",
       "      <td>NaN</td>\n",
       "      <td>left</td>\n",
       "      <td>NaN</td>\n",
       "      <td>NaN</td>\n",
       "      <td>NaN</td>\n",
       "      <td>NaN</td>\n",
       "      <td>NaN</td>\n",
       "      <td>NaN</td>\n",
       "    </tr>\n",
       "  </tbody>\n",
       "</table>\n",
       "</div>"
      ],
      "text/plain": [
       "            domain  NewsGuard, Does not repeatedly publish false content  \\\n",
       "0  21stcenturywire                                                NaN      \n",
       "1          abcnews                                                0.0      \n",
       "2  americablognews                                                NaN      \n",
       "3     activistpost                                                NaN      \n",
       "4    addictinginfo                                                NaN      \n",
       "\n",
       "   NewsGuard, Gathers and presents information responsibly  \\\n",
       "0                                                NaN         \n",
       "1                                                0.0         \n",
       "2                                                NaN         \n",
       "3                                                NaN         \n",
       "4                                                NaN         \n",
       "\n",
       "   NewsGuard, Regularly corrects or clarifies errors  \\\n",
       "0                                                NaN   \n",
       "1                                                0.0   \n",
       "2                                                NaN   \n",
       "3                                                NaN   \n",
       "4                                                NaN   \n",
       "\n",
       "   NewsGuard, Handles the difference between news and opinion responsibly  \\\n",
       "0                                                NaN                        \n",
       "1                                                0.0                        \n",
       "2                                                NaN                        \n",
       "3                                                NaN                        \n",
       "4                                                NaN                        \n",
       "\n",
       "   NewsGuard, Avoids deceptive headlines  \\\n",
       "0                                    NaN   \n",
       "1                                    0.0   \n",
       "2                                    NaN   \n",
       "3                                    NaN   \n",
       "4                                    NaN   \n",
       "\n",
       "   NewsGuard, Website discloses ownership and financing  \\\n",
       "0                                                NaN      \n",
       "1                                                0.0      \n",
       "2                                                NaN      \n",
       "3                                                NaN      \n",
       "4                                                NaN      \n",
       "\n",
       "   NewsGuard, Clearly labels advertising  \\\n",
       "0                                    NaN   \n",
       "1                                    0.0   \n",
       "2                                    NaN   \n",
       "3                                    NaN   \n",
       "4                                    NaN   \n",
       "\n",
       "   NewsGuard, Reveals who's in charge, including any possible conflicts of interest  \\\n",
       "0                                                NaN                                  \n",
       "1                                                1.0                                  \n",
       "2                                                NaN                                  \n",
       "3                                                NaN                                  \n",
       "4                                                NaN                                  \n",
       "\n",
       "   NewsGuard, Provides information about content creators  NewsGuard, score  \\\n",
       "0                                                NaN                    NaN   \n",
       "1                                                0.0                   95.0   \n",
       "2                                                NaN                    NaN   \n",
       "3                                                NaN                    NaN   \n",
       "4                                                NaN                    NaN   \n",
       "\n",
       "   NewsGuard, overall_class  Pew Research Center, known_by_40%  \\\n",
       "0                       NaN                                NaN   \n",
       "1                       1.0                                1.0   \n",
       "2                       NaN                                NaN   \n",
       "3                       NaN                                NaN   \n",
       "4                       NaN                                NaN   \n",
       "\n",
       "   Pew Research Center, total  Pew Research Center, consistently_liberal  \\\n",
       "0                         NaN                                        NaN   \n",
       "1                         1.0                                        1.0   \n",
       "2                         NaN                                        NaN   \n",
       "3                         NaN                                        NaN   \n",
       "4                         NaN                                        NaN   \n",
       "\n",
       "   Pew Research Center, mostly_liberal  Pew Research Center, mixed  \\\n",
       "0                                  NaN                         NaN   \n",
       "1                                  1.0                         1.0   \n",
       "2                                  NaN                         NaN   \n",
       "3                                  NaN                         NaN   \n",
       "4                                  NaN                         NaN   \n",
       "\n",
       "   Pew Research Center, mostly conservative  \\\n",
       "0                                       NaN   \n",
       "1                                       1.0   \n",
       "2                                       NaN   \n",
       "3                                       NaN   \n",
       "4                                       NaN   \n",
       "\n",
       "   Pew Research Center, consistently conservative  Wikipedia, is_fake  \\\n",
       "0                                             NaN                 NaN   \n",
       "1                                            -1.0                 NaN   \n",
       "2                                             NaN                 NaN   \n",
       "3                                             NaN                 NaN   \n",
       "4                                             NaN                 NaN   \n",
       "\n",
       "   Open Sources, reliable  Open Sources, fake  Open Sources, unreliable  \\\n",
       "0                     NaN                 NaN                       NaN   \n",
       "1                     NaN                 NaN                       NaN   \n",
       "2                     NaN                 NaN                       NaN   \n",
       "3                     NaN                 NaN                       NaN   \n",
       "4                     NaN                 NaN                       2.0   \n",
       "\n",
       "   Open Sources, bias  Open Sources, conspiracy  Open Sources, hate  \\\n",
       "0                 NaN                       1.0                 NaN   \n",
       "1                 NaN                       NaN                 NaN   \n",
       "2                 1.0                       NaN                 NaN   \n",
       "3                 NaN                       1.0                 NaN   \n",
       "4                 NaN                       NaN                 NaN   \n",
       "\n",
       "   Open Sources, junksci  Open Sources, rumor  Open Sources, blog  \\\n",
       "0                    NaN                  NaN                 NaN   \n",
       "1                    NaN                  NaN                 NaN   \n",
       "2                    NaN                  NaN                 NaN   \n",
       "3                    NaN                  NaN                 NaN   \n",
       "4                    NaN                  NaN                 NaN   \n",
       "\n",
       "   Open Sources, clickbait  Open Sources, political  Open Sources, satire  \\\n",
       "0                      NaN                      NaN                   NaN   \n",
       "1                      NaN                      NaN                   NaN   \n",
       "2                      2.0                      NaN                   NaN   \n",
       "3                      NaN                      NaN                   NaN   \n",
       "4                      1.0                      NaN                   NaN   \n",
       "\n",
       "   Open Sources, state Media Bias / Fact Check, label  \\\n",
       "0                  NaN       conspiracy_pseudoscience   \n",
       "1                  NaN               left_center_bias   \n",
       "2                  NaN                            NaN   \n",
       "3                  NaN       conspiracy_pseudoscience   \n",
       "4                  NaN                      left_bias   \n",
       "\n",
       "   Media Bias / Fact Check, factual_reporting  \\\n",
       "0                                         3.0   \n",
       "1                                         4.0   \n",
       "2                                         NaN   \n",
       "3                                         2.0   \n",
       "4                                         3.0   \n",
       "\n",
       "   Media Bias / Fact Check, extreme_left  Media Bias / Fact Check, right  \\\n",
       "0                                    0.0                             0.0   \n",
       "1                                    0.0                             0.0   \n",
       "2                                    NaN                             NaN   \n",
       "3                                    0.0                             0.0   \n",
       "4                                    0.0                             0.0   \n",
       "\n",
       "   Media Bias / Fact Check, extreme_right  \\\n",
       "0                                     0.0   \n",
       "1                                     0.0   \n",
       "2                                     NaN   \n",
       "3                                     0.0   \n",
       "4                                     0.0   \n",
       "\n",
       "   Media Bias / Fact Check, propaganda  Media Bias / Fact Check, fake_news  \\\n",
       "0                                  0.0                                 0.0   \n",
       "1                                  0.0                                 0.0   \n",
       "2                                  NaN                                 NaN   \n",
       "3                                  0.0                                 0.0   \n",
       "4                                  0.0                                 0.0   \n",
       "\n",
       "   Media Bias / Fact Check, some_fake_news  \\\n",
       "0                                      0.0   \n",
       "1                                      0.0   \n",
       "2                                      NaN   \n",
       "3                                      0.0   \n",
       "4                                      0.0   \n",
       "\n",
       "   Media Bias / Fact Check, failed_fact_checks  \\\n",
       "0                                          0.0   \n",
       "1                                          0.0   \n",
       "2                                          NaN   \n",
       "3                                          0.0   \n",
       "4                                          0.0   \n",
       "\n",
       "   Media Bias / Fact Check, conspiracy  \\\n",
       "0                                  0.0   \n",
       "1                                  0.0   \n",
       "2                                  NaN   \n",
       "3                                  0.0   \n",
       "4                                  0.0   \n",
       "\n",
       "   Media Bias / Fact Check, pseudoscience  \\\n",
       "0                                     0.0   \n",
       "1                                     0.0   \n",
       "2                                     NaN   \n",
       "3                                     0.0   \n",
       "4                                     0.0   \n",
       "\n",
       "   Media Bias / Fact Check, hate_group  Media Bias / Fact Check, anti_islam  \\\n",
       "0                                  0.0                                  0.0   \n",
       "1                                  0.0                                  0.0   \n",
       "2                                  NaN                                  NaN   \n",
       "3                                  0.0                                  0.0   \n",
       "4                                  0.0                                  0.0   \n",
       "\n",
       "   Media Bias / Fact Check, nationalism Allsides, bias_rating  \\\n",
       "0                                   0.0                   NaN   \n",
       "1                                   0.0             Lean Left   \n",
       "2                                   NaN                   NaN   \n",
       "3                                   0.0                   NaN   \n",
       "4                                   0.0                   NaN   \n",
       "\n",
       "   Allsides, community_agree  Allsides, community_disagree  \\\n",
       "0                        NaN                           NaN   \n",
       "1                     8964.0                        6949.0   \n",
       "2                        NaN                           NaN   \n",
       "3                        NaN                           NaN   \n",
       "4                        NaN                           NaN   \n",
       "\n",
       "  Allsides, community_label BuzzFeed, leaning  PolitiFact, Pants on Fire!  \\\n",
       "0                       NaN              left                         NaN   \n",
       "1            somewhat agree               NaN                         NaN   \n",
       "2                       NaN              left                         NaN   \n",
       "3                       NaN              left                         NaN   \n",
       "4                       NaN              left                         NaN   \n",
       "\n",
       "   PolitiFact, False  PolitiFact, Mostly False  PolitiFact, Half-True  \\\n",
       "0                NaN                       NaN                    NaN   \n",
       "1                NaN                       NaN                    NaN   \n",
       "2                NaN                       NaN                    NaN   \n",
       "3                NaN                       NaN                    NaN   \n",
       "4                NaN                       NaN                    NaN   \n",
       "\n",
       "   PolitiFact, Mostly True  PolitiFact, True  \n",
       "0                      NaN               NaN  \n",
       "1                      NaN               NaN  \n",
       "2                      NaN               NaN  \n",
       "3                      NaN               NaN  \n",
       "4                      NaN               NaN  "
      ]
     },
     "execution_count": 5,
     "metadata": {},
     "output_type": "execute_result"
    }
   ],
   "source": [
    "pd.options.display.max_columns = None\n",
    "df_label.head()"
   ]
  },
  {
   "cell_type": "code",
   "execution_count": 6,
   "id": "74378f04",
   "metadata": {},
   "outputs": [
    {
     "data": {
      "text/plain": [
       "['domain',\n",
       " 'NewsGuard, Does not repeatedly publish false content',\n",
       " 'NewsGuard, Gathers and presents information responsibly',\n",
       " 'NewsGuard, Regularly corrects or clarifies errors',\n",
       " 'NewsGuard, Handles the difference between news and opinion responsibly',\n",
       " 'NewsGuard, Avoids deceptive headlines',\n",
       " 'NewsGuard, Website discloses ownership and financing',\n",
       " 'NewsGuard, Clearly labels advertising',\n",
       " \"NewsGuard, Reveals who's in charge, including any possible conflicts of interest\",\n",
       " 'NewsGuard, Provides information about content creators',\n",
       " 'NewsGuard, score',\n",
       " 'NewsGuard, overall_class',\n",
       " 'Pew Research Center, known_by_40%',\n",
       " 'Pew Research Center, total',\n",
       " 'Pew Research Center, consistently_liberal',\n",
       " 'Pew Research Center, mostly_liberal',\n",
       " 'Pew Research Center, mixed',\n",
       " 'Pew Research Center, mostly conservative',\n",
       " 'Pew Research Center, consistently conservative',\n",
       " 'Wikipedia, is_fake',\n",
       " 'Open Sources, reliable',\n",
       " 'Open Sources, fake',\n",
       " 'Open Sources, unreliable',\n",
       " 'Open Sources, bias',\n",
       " 'Open Sources, conspiracy',\n",
       " 'Open Sources, hate',\n",
       " 'Open Sources, junksci',\n",
       " 'Open Sources, rumor',\n",
       " 'Open Sources, blog',\n",
       " 'Open Sources, clickbait',\n",
       " 'Open Sources, political',\n",
       " 'Open Sources, satire',\n",
       " 'Open Sources, state',\n",
       " 'Media Bias / Fact Check, label',\n",
       " 'Media Bias / Fact Check, factual_reporting',\n",
       " 'Media Bias / Fact Check, extreme_left',\n",
       " 'Media Bias / Fact Check, right',\n",
       " 'Media Bias / Fact Check, extreme_right',\n",
       " 'Media Bias / Fact Check, propaganda',\n",
       " 'Media Bias / Fact Check, fake_news',\n",
       " 'Media Bias / Fact Check, some_fake_news',\n",
       " 'Media Bias / Fact Check, failed_fact_checks',\n",
       " 'Media Bias / Fact Check, conspiracy',\n",
       " 'Media Bias / Fact Check, pseudoscience',\n",
       " 'Media Bias / Fact Check, hate_group',\n",
       " 'Media Bias / Fact Check, anti_islam',\n",
       " 'Media Bias / Fact Check, nationalism',\n",
       " 'Allsides, bias_rating',\n",
       " 'Allsides, community_agree',\n",
       " 'Allsides, community_disagree',\n",
       " 'Allsides, community_label',\n",
       " 'BuzzFeed, leaning',\n",
       " 'PolitiFact, Pants on Fire!',\n",
       " 'PolitiFact, False',\n",
       " 'PolitiFact, Mostly False',\n",
       " 'PolitiFact, Half-True',\n",
       " 'PolitiFact, Mostly True',\n",
       " 'PolitiFact, True']"
      ]
     },
     "execution_count": 6,
     "metadata": {},
     "output_type": "execute_result"
    }
   ],
   "source": [
    "list(df_label.columns)"
   ]
  },
  {
   "cell_type": "code",
   "execution_count": 7,
   "id": "6e975674",
   "metadata": {},
   "outputs": [
    {
     "data": {
      "text/plain": [
       "1.0    11\n",
       "2.0     3\n",
       "3.0     2\n",
       "Name: Open Sources, conspiracy, dtype: int64"
      ]
     },
     "execution_count": 7,
     "metadata": {},
     "output_type": "execute_result"
    }
   ],
   "source": [
    "df_label['Open Sources, conspiracy'].value_counts()"
   ]
  },
  {
   "cell_type": "code",
   "execution_count": 9,
   "id": "04b40ed4",
   "metadata": {},
   "outputs": [
    {
     "data": {
      "text/plain": [
       "2.0    9\n",
       "1.0    4\n",
       "3.0    2\n",
       "Name: Open Sources, unreliable, dtype: int64"
      ]
     },
     "execution_count": 9,
     "metadata": {},
     "output_type": "execute_result"
    }
   ],
   "source": [
    "df_label['Open Sources, unreliable'].value_counts()"
   ]
  },
  {
   "cell_type": "code",
   "execution_count": 10,
   "id": "ba862a34",
   "metadata": {},
   "outputs": [
    {
     "data": {
      "text/plain": [
       "2.0    1\n",
       "1.0    1\n",
       "Name: Open Sources, rumor, dtype: int64"
      ]
     },
     "execution_count": 10,
     "metadata": {},
     "output_type": "execute_result"
    }
   ],
   "source": [
    "df_label['Open Sources, rumor'].value_counts()"
   ]
  },
  {
   "cell_type": "code",
   "execution_count": 11,
   "id": "ef6abf69",
   "metadata": {},
   "outputs": [
    {
     "data": {
      "text/plain": [
       "0.0    126\n",
       "1.0      9\n",
       "Name: Media Bias / Fact Check, conspiracy, dtype: int64"
      ]
     },
     "execution_count": 11,
     "metadata": {},
     "output_type": "execute_result"
    }
   ],
   "source": [
    "df_label['Media Bias / Fact Check, conspiracy'].value_counts()"
   ]
  },
  {
   "cell_type": "code",
   "execution_count": 12,
   "id": "dbac5032",
   "metadata": {},
   "outputs": [
    {
     "data": {
      "text/plain": [
       "0.0    134\n",
       "1.0      1\n",
       "Name: Media Bias / Fact Check, pseudoscience, dtype: int64"
      ]
     },
     "execution_count": 12,
     "metadata": {},
     "output_type": "execute_result"
    }
   ],
   "source": [
    "df_label['Media Bias / Fact Check, pseudoscience'].value_counts()"
   ]
  },
  {
   "cell_type": "code",
   "execution_count": 13,
   "id": "58ce7671",
   "metadata": {},
   "outputs": [
    {
     "data": {
      "text/plain": [
       "0.0    134\n",
       "1.0      1\n",
       "Name: Media Bias / Fact Check, failed_fact_checks, dtype: int64"
      ]
     },
     "execution_count": 13,
     "metadata": {},
     "output_type": "execute_result"
    }
   ],
   "source": [
    "df_label['Media Bias / Fact Check, failed_fact_checks'].value_counts()"
   ]
  },
  {
   "cell_type": "code",
   "execution_count": 15,
   "id": "048a1feb",
   "metadata": {},
   "outputs": [
    {
     "data": {
      "text/plain": [
       "0.0    131\n",
       "1.0      4\n",
       "Name: Media Bias / Fact Check, some_fake_news, dtype: int64"
      ]
     },
     "execution_count": 15,
     "metadata": {},
     "output_type": "execute_result"
    }
   ],
   "source": [
    "df_label['Media Bias / Fact Check, some_fake_news'].value_counts()"
   ]
  },
  {
   "cell_type": "code",
   "execution_count": 56,
   "id": "7e25b7e6",
   "metadata": {},
   "outputs": [
    {
     "data": {
      "text/plain": [
       "1.0    2\n",
       "2.0    1\n",
       "Name: Open Sources, junksci, dtype: int64"
      ]
     },
     "execution_count": 56,
     "metadata": {},
     "output_type": "execute_result"
    }
   ],
   "source": [
    "df_label['Open Sources, junksci'].value_counts()"
   ]
  },
  {
   "cell_type": "code",
   "execution_count": 17,
   "id": "f740e087",
   "metadata": {},
   "outputs": [
    {
     "data": {
      "text/plain": [
       "1.0    14\n",
       "2.0     7\n",
       "3.0     4\n",
       "Name: Open Sources, bias, dtype: int64"
      ]
     },
     "execution_count": 17,
     "metadata": {},
     "output_type": "execute_result"
    }
   ],
   "source": [
    "df_label['Open Sources, bias'].value_counts()"
   ]
  },
  {
   "cell_type": "code",
   "execution_count": null,
   "id": "e40cc12d",
   "metadata": {},
   "outputs": [],
   "source": []
  },
  {
   "cell_type": "code",
   "execution_count": 71,
   "id": "1ec21482",
   "metadata": {},
   "outputs": [
    {
     "data": {
      "text/plain": [
       "2.0    3\n",
       "Name: Open Sources, reliable, dtype: int64"
      ]
     },
     "execution_count": 71,
     "metadata": {},
     "output_type": "execute_result"
    }
   ],
   "source": [
    "df_label['Open Sources, reliable'].value_counts()"
   ]
  },
  {
   "cell_type": "code",
   "execution_count": 73,
   "id": "277a77de",
   "metadata": {},
   "outputs": [
    {
     "data": {
      "text/plain": [
       "0.0    21\n",
       "1.0     2\n",
       "Name: PolitiFact, True, dtype: int64"
      ]
     },
     "execution_count": 73,
     "metadata": {},
     "output_type": "execute_result"
    }
   ],
   "source": [
    "df_label['PolitiFact, True'].value_counts()"
   ]
  },
  {
   "cell_type": "code",
   "execution_count": 74,
   "id": "3997ecb9",
   "metadata": {},
   "outputs": [
    {
     "data": {
      "text/plain": [
       "0.0    20\n",
       "1.0     3\n",
       "Name: PolitiFact, Mostly True, dtype: int64"
      ]
     },
     "execution_count": 74,
     "metadata": {},
     "output_type": "execute_result"
    }
   ],
   "source": [
    "df_label['PolitiFact, Mostly True'].value_counts()"
   ]
  },
  {
   "cell_type": "code",
   "execution_count": 75,
   "id": "9e823095",
   "metadata": {},
   "outputs": [
    {
     "data": {
      "text/plain": [
       "0.0    19\n",
       "1.0     4\n",
       "Name: PolitiFact, Half-True, dtype: int64"
      ]
     },
     "execution_count": 75,
     "metadata": {},
     "output_type": "execute_result"
    }
   ],
   "source": [
    "df_label['PolitiFact, Half-True'].value_counts()"
   ]
  },
  {
   "cell_type": "code",
   "execution_count": 323,
   "id": "2ace8b83",
   "metadata": {},
   "outputs": [
    {
     "data": {
      "text/plain": [
       "1.0    14\n",
       "2.0     7\n",
       "3.0     4\n",
       "Name: Open Sources, bias, dtype: int64"
      ]
     },
     "execution_count": 323,
     "metadata": {},
     "output_type": "execute_result"
    }
   ],
   "source": [
    "df_label['Open Sources, bias'].value_counts()"
   ]
  },
  {
   "cell_type": "code",
   "execution_count": 535,
   "id": "3ddf3602",
   "metadata": {},
   "outputs": [],
   "source": [
    "l_Media_Bias = df_label[df_label['Open Sources, conspiracy'] == 1.0]"
   ]
  },
  {
   "cell_type": "code",
   "execution_count": 536,
   "id": "02280bb0",
   "metadata": {},
   "outputs": [],
   "source": [
    "list_antisc = []\n",
    "l_Media_Bias = l_Media_Bias['domain'].tolist()\n",
    "list_antisc.extend(l_Media_Bias)"
   ]
  },
  {
   "cell_type": "code",
   "execution_count": 537,
   "id": "1b999ec8",
   "metadata": {},
   "outputs": [],
   "source": [
    "l_Media_Bias = df_label[df_label['Open Sources, conspiracy'] == 2.0]"
   ]
  },
  {
   "cell_type": "code",
   "execution_count": 538,
   "id": "cff948eb",
   "metadata": {},
   "outputs": [],
   "source": [
    "l_Media_Bias = l_Media_Bias['domain'].tolist()\n",
    "list_antisc.extend(l_Media_Bias)"
   ]
  },
  {
   "cell_type": "code",
   "execution_count": 539,
   "id": "d7f8ba74",
   "metadata": {},
   "outputs": [],
   "source": [
    "l_Media_Bias = df_label[df_label['Open Sources, conspiracy'] == 3.0]"
   ]
  },
  {
   "cell_type": "code",
   "execution_count": 540,
   "id": "bea78c56",
   "metadata": {},
   "outputs": [],
   "source": [
    "l_Media_Bias = l_Media_Bias['domain'].tolist()\n",
    "list_antisc.extend(l_Media_Bias)"
   ]
  },
  {
   "cell_type": "code",
   "execution_count": 671,
   "id": "ba879b77",
   "metadata": {},
   "outputs": [],
   "source": [
    "l_Media_Bias = df_label[df_label['Open Sources, unreliable'] == 1.0]"
   ]
  },
  {
   "cell_type": "code",
   "execution_count": 672,
   "id": "5ebec257",
   "metadata": {},
   "outputs": [],
   "source": [
    "l_Media_Bias = l_Media_Bias['domain'].tolist()\n",
    "list_antisc.extend(l_Media_Bias)"
   ]
  },
  {
   "cell_type": "code",
   "execution_count": 673,
   "id": "8df935d6",
   "metadata": {},
   "outputs": [],
   "source": [
    "l_Media_Bias = df_label[df_label['Open Sources, unreliable'] == 2.0]"
   ]
  },
  {
   "cell_type": "code",
   "execution_count": 674,
   "id": "de36debc",
   "metadata": {},
   "outputs": [],
   "source": [
    "l_Media_Bias = l_Media_Bias['domain'].tolist()\n",
    "list_antisc.extend(l_Media_Bias)"
   ]
  },
  {
   "cell_type": "code",
   "execution_count": 675,
   "id": "3d611370",
   "metadata": {},
   "outputs": [],
   "source": [
    "l_Media_Bias = df_label[df_label['Open Sources, unreliable'] == 3.0]"
   ]
  },
  {
   "cell_type": "code",
   "execution_count": 676,
   "id": "e1774593",
   "metadata": {},
   "outputs": [],
   "source": [
    "l_Media_Bias = l_Media_Bias['domain'].tolist()\n",
    "list_antisc.extend(l_Media_Bias)"
   ]
  },
  {
   "cell_type": "code",
   "execution_count": 677,
   "id": "ec6ad87a",
   "metadata": {},
   "outputs": [],
   "source": [
    "l_Media_Bias = df_label[df_label['PolitiFact, True'] == 1.0]"
   ]
  },
  {
   "cell_type": "code",
   "execution_count": 678,
   "id": "11ceabcd",
   "metadata": {},
   "outputs": [],
   "source": [
    "l_Media_Bias = l_Media_Bias['domain'].tolist()\n",
    "list_antisc.extend(l_Media_Bias)"
   ]
  },
  {
   "cell_type": "code",
   "execution_count": 679,
   "id": "13367975",
   "metadata": {},
   "outputs": [],
   "source": [
    "l_Media_Bias = df_label[df_label['Media Bias / Fact Check, some_fake_news'] == 1.0]"
   ]
  },
  {
   "cell_type": "code",
   "execution_count": 680,
   "id": "360698c4",
   "metadata": {},
   "outputs": [],
   "source": [
    "l_Media_Bias = l_Media_Bias['domain'].tolist()\n",
    "list_antisc.extend(l_Media_Bias)"
   ]
  },
  {
   "cell_type": "code",
   "execution_count": 695,
   "id": "02c4dc68",
   "metadata": {},
   "outputs": [],
   "source": [
    "l_Media_Bias = df_label[df_label['PolitiFact, Half-True'] == 1.0]"
   ]
  },
  {
   "cell_type": "code",
   "execution_count": 696,
   "id": "d73b68e1",
   "metadata": {},
   "outputs": [],
   "source": [
    "l_Media_Bias = l_Media_Bias['domain'].tolist()\n",
    "list_antisc.extend(l_Media_Bias)"
   ]
  },
  {
   "cell_type": "code",
   "execution_count": 697,
   "id": "25a0fb0b",
   "metadata": {},
   "outputs": [],
   "source": [
    "l_Media_Bias = df_label[df_label['Media Bias / Fact Check, failed_fact_checks'] == 1.0]"
   ]
  },
  {
   "cell_type": "code",
   "execution_count": 698,
   "id": "7cef4b99",
   "metadata": {},
   "outputs": [],
   "source": [
    "l_Media_Bias = l_Media_Bias['domain'].tolist()\n",
    "list_antisc.extend(l_Media_Bias)"
   ]
  },
  {
   "cell_type": "code",
   "execution_count": 681,
   "id": "bd25319e",
   "metadata": {},
   "outputs": [],
   "source": [
    "l_Media_Bias = df_label[df_label['Open Sources, bias'] == 1.0]"
   ]
  },
  {
   "cell_type": "code",
   "execution_count": 682,
   "id": "16460e05",
   "metadata": {},
   "outputs": [],
   "source": [
    "l_Media_Bias = l_Media_Bias['domain'].tolist()\n",
    "list_antisc.extend(l_Media_Bias)"
   ]
  },
  {
   "cell_type": "code",
   "execution_count": 683,
   "id": "8257d7d1",
   "metadata": {},
   "outputs": [],
   "source": [
    "l_Media_Bias = df_label[df_label['Open Sources, bias'] == 2.0]"
   ]
  },
  {
   "cell_type": "code",
   "execution_count": 684,
   "id": "02974351",
   "metadata": {},
   "outputs": [],
   "source": [
    "l_Media_Bias = l_Media_Bias['domain'].tolist()\n",
    "list_antisc.extend(l_Media_Bias)"
   ]
  },
  {
   "cell_type": "code",
   "execution_count": 685,
   "id": "c92d177f",
   "metadata": {},
   "outputs": [],
   "source": [
    "l_Media_Bias = df_label[df_label['Open Sources, bias'] == 3.0]"
   ]
  },
  {
   "cell_type": "code",
   "execution_count": 686,
   "id": "a1b07a57",
   "metadata": {},
   "outputs": [],
   "source": [
    "l_Media_Bias = l_Media_Bias['domain'].tolist()\n",
    "list_antisc.extend(l_Media_Bias)"
   ]
  },
  {
   "cell_type": "code",
   "execution_count": 542,
   "id": "a15121de",
   "metadata": {},
   "outputs": [],
   "source": [
    "l_Media_Bias = l_Media_Bias['domain'].tolist()\n",
    "list_antisc.extend(l_Media_Bias)"
   ]
  },
  {
   "cell_type": "code",
   "execution_count": 543,
   "id": "b27c29d0",
   "metadata": {},
   "outputs": [],
   "source": [
    "l_Media_Bias = df_label[df_label['Open Sources, rumor'] == 2.0]"
   ]
  },
  {
   "cell_type": "code",
   "execution_count": 544,
   "id": "86fccf99",
   "metadata": {},
   "outputs": [],
   "source": [
    "l_Media_Bias = l_Media_Bias['domain'].tolist()\n",
    "list_antisc.extend(l_Media_Bias)"
   ]
  },
  {
   "cell_type": "code",
   "execution_count": 545,
   "id": "d5be872f",
   "metadata": {},
   "outputs": [],
   "source": [
    "l_Media_Bias = df_label[df_label['Media Bias / Fact Check, conspiracy'] == 1.0]"
   ]
  },
  {
   "cell_type": "code",
   "execution_count": 546,
   "id": "17c1e491",
   "metadata": {},
   "outputs": [],
   "source": [
    "l_Media_Bias = l_Media_Bias['domain'].tolist()\n",
    "list_antisc.extend(l_Media_Bias)"
   ]
  },
  {
   "cell_type": "code",
   "execution_count": 547,
   "id": "f5b67733",
   "metadata": {},
   "outputs": [],
   "source": [
    "l_Media_Bias = df_label[df_label['Media Bias / Fact Check, pseudoscience'] == 1.0]"
   ]
  },
  {
   "cell_type": "code",
   "execution_count": 548,
   "id": "82bf3aa7",
   "metadata": {},
   "outputs": [],
   "source": [
    "l_Media_Bias = l_Media_Bias['domain'].tolist()\n",
    "list_antisc.extend(l_Media_Bias)"
   ]
  },
  {
   "cell_type": "code",
   "execution_count": 549,
   "id": "4581b204",
   "metadata": {},
   "outputs": [],
   "source": [
    "l_Media_Bias = df_label[df_label['Open Sources, junksci'] == 1.0]"
   ]
  },
  {
   "cell_type": "code",
   "execution_count": 550,
   "id": "dced9e3a",
   "metadata": {},
   "outputs": [],
   "source": [
    "l_Media_Bias = l_Media_Bias['domain'].tolist()\n",
    "list_antisc.extend(l_Media_Bias)"
   ]
  },
  {
   "cell_type": "code",
   "execution_count": 551,
   "id": "d845b9f9",
   "metadata": {},
   "outputs": [],
   "source": [
    "l_Media_Bias = df_label[df_label['Open Sources, junksci'] == 2.0]"
   ]
  },
  {
   "cell_type": "code",
   "execution_count": 552,
   "id": "10d53ceb",
   "metadata": {},
   "outputs": [],
   "source": [
    "l_Media_Bias = l_Media_Bias['domain'].tolist()\n",
    "list_antisc.extend(l_Media_Bias)"
   ]
  },
  {
   "cell_type": "code",
   "execution_count": 44,
   "id": "01b7e138",
   "metadata": {},
   "outputs": [],
   "source": [
    "list_antisc.append('modernalternativemama')"
   ]
  },
  {
   "cell_type": "code",
   "execution_count": null,
   "id": "8440edff",
   "metadata": {},
   "outputs": [],
   "source": []
  },
  {
   "cell_type": "code",
   "execution_count": 20,
   "id": "3d11278d",
   "metadata": {},
   "outputs": [],
   "source": [
    "pfad_tsv3 = 'C:/Mo/tweetDB/tweetscov19/TweetsCov19_tsv/data_sample/dom_label/dom_antiscience_2.tsv'\n",
    "\n",
    "with open(pfad_tsv3, 'w', newline='', encoding=\"utf-8\") as out_file:\n",
    "    tsv_writer = csv.writer(out_file, delimiter=\"\\t\")\n",
    "    for i  in range (0, len(list_antisc)):\n",
    "        l = []\n",
    "        l.append(list_antisc[i])\n",
    "        tsv_writer.writerow(l)"
   ]
  },
  {
   "cell_type": "code",
   "execution_count": 21,
   "id": "a2285671",
   "metadata": {},
   "outputs": [],
   "source": [
    "pfad = 'C:/Mo/tweetDB/tweetscov19/TweetsCov19_tsv/data_sample/dom_label/dom_antiscience_2.tsv'\n",
    "\n",
    "df_dom_ascience = pd.read_csv(pfad, sep='\\t', error_bad_lines=False, names=['dom'])"
   ]
  },
  {
   "cell_type": "code",
   "execution_count": 22,
   "id": "688e3e96",
   "metadata": {},
   "outputs": [],
   "source": [
    "list_antisc = df_dom_ascience.dom.tolist()"
   ]
  },
  {
   "cell_type": "code",
   "execution_count": 23,
   "id": "edb23824",
   "metadata": {},
   "outputs": [],
   "source": [
    "list_antisc = np.array(list_antisc)\n",
    "list_antisc = np.unique(list_antisc)\n",
    "list_antisc = list_antisc.tolist()"
   ]
  },
  {
   "cell_type": "code",
   "execution_count": 24,
   "id": "06ff54f1",
   "metadata": {},
   "outputs": [
    {
     "data": {
      "text/plain": [
       "120"
      ]
     },
     "execution_count": 24,
     "metadata": {},
     "output_type": "execute_result"
    }
   ],
   "source": [
    "len(list_antisc)"
   ]
  },
  {
   "cell_type": "code",
   "execution_count": 25,
   "id": "777d2e67",
   "metadata": {},
   "outputs": [],
   "source": [
    "#list_antisc.remove('latitudes')"
   ]
  },
  {
   "cell_type": "code",
   "execution_count": 26,
   "id": "0a87a0b4",
   "metadata": {},
   "outputs": [
    {
     "data": {
      "text/plain": [
       "['21stcenturywire',\n",
       " '369news',\n",
       " '911truth',\n",
       " 'AskingAngels',\n",
       " 'CampusInsanity',\n",
       " 'ChlorellaFactor',\n",
       " 'CounterThink',\n",
       " 'abovetopsecret',\n",
       " 'acallforanuprising',\n",
       " 'activistpost',\n",
       " 'addictinginfo',\n",
       " 'additudemag',\n",
       " 'ae911truth',\n",
       " 'ageofautism',\n",
       " 'ahtribune',\n",
       " 'aim4truth',\n",
       " 'allianceforadvancedhealth',\n",
       " 'alternativenews',\n",
       " 'althealthworks',\n",
       " 'americablognews',\n",
       " 'americandigitalnews',\n",
       " 'americanfreepress',\n",
       " 'americanpolicy',\n",
       " 'americasfrontlinedoctors',\n",
       " 'amtvmedia',\n",
       " 'ancient-code',\n",
       " 'ancient-origins',\n",
       " 'anh-usa',\n",
       " 'answersingenesis',\n",
       " 'anyavien',\n",
       " 'asia-assassinationscience',\n",
       " 'asia-pacificresearch',\n",
       " 'australiannationalreview',\n",
       " 'autismspeaks',\n",
       " 'awarenessact',\n",
       " 'beholdisrael',\n",
       " 'biggovernment',\n",
       " 'biodefense',\n",
       " 'biologos',\n",
       " 'bipartisanreport',\n",
       " 'blacklistednews',\n",
       " 'brandnewtube',\n",
       " 'breitbart',\n",
       " 'brighteon',\n",
       " 'brightside',\n",
       " 'carm',\n",
       " 'catholic',\n",
       " 'cbn',\n",
       " 'cfact',\n",
       " 'charismanews',\n",
       " 'childrenshealthdefense',\n",
       " 'christianscience',\n",
       " 'climatechangedispatch',\n",
       " 'climatedepot',\n",
       " 'climatism',\n",
       " 'cnsnews',\n",
       " 'coasttocoastam',\n",
       " 'collective-evolution',\n",
       " 'consciouslifenews',\n",
       " 'conspiracydailyupdate',\n",
       " 'consumerwellness',\n",
       " 'cosmicintelligenceagency',\n",
       " 'countercurrentnews',\n",
       " 'creation',\n",
       " 'creationwiki',\n",
       " 'csglobe',\n",
       " 'curiousmindmagazine',\n",
       " 'dailygrail',\n",
       " 'dailyhealthpost',\n",
       " 'dailymail',\n",
       " 'dailyoccupation',\n",
       " 'dailysignal',\n",
       " 'dailystormer',\n",
       " 'darkjournalist',\n",
       " 'davidicke',\n",
       " 'davidwolfe',\n",
       " 'dcgazette',\n",
       " 'disclose',\n",
       " 'discovery',\n",
       " 'disobedientmedia',\n",
       " 'distributednews',\n",
       " 'doctoroz',\n",
       " 'drudgereport',\n",
       " 'earthpulse',\n",
       " 'foxnews',\n",
       " 'freedomdaily',\n",
       " 'freedomoutpost',\n",
       " 'frontpagemagazine',\n",
       " 'geopolitics',\n",
       " 'globalresearch',\n",
       " 'humansarefree',\n",
       " 'infowars',\n",
       " 'instapundit',\n",
       " 'intellihub',\n",
       " 'judithcurry',\n",
       " 'legitgov',\n",
       " 'lewrockwell',\n",
       " 'liveaction',\n",
       " 'nationalreview',\n",
       " 'naturalnews',\n",
       " 'newswars',\n",
       " 'nodisinfo',\n",
       " 'palmerreport',\n",
       " 'pamelagellerreport',\n",
       " 'politicususa',\n",
       " 'pravadareport',\n",
       " 'prisonplanet',\n",
       " 'rawstory',\n",
       " 'russia-insider',\n",
       " 'shareblue',\n",
       " 'sputnik',\n",
       " 'theantimedia',\n",
       " 'thed.c.clothesline',\n",
       " 'thedailycaller',\n",
       " 'thedailyexpress',\n",
       " 'thegatewaypundit',\n",
       " 'thepoliticalinsider',\n",
       " 'thewashingtonexaminer',\n",
       " 'trueactivist',\n",
       " 'truepundit']"
      ]
     },
     "execution_count": 26,
     "metadata": {},
     "output_type": "execute_result"
    }
   ],
   "source": [
    "list_antisc"
   ]
  },
  {
   "cell_type": "code",
   "execution_count": 80,
   "id": "3d9fe67f",
   "metadata": {},
   "outputs": [],
   "source": [
    "list_prosc = []"
   ]
  },
  {
   "cell_type": "code",
   "execution_count": 171,
   "id": "49162762",
   "metadata": {},
   "outputs": [],
   "source": [
    "l_Media_Bias = df_label[df_label['PolitiFact, Half-True'] == 1.0]"
   ]
  },
  {
   "cell_type": "code",
   "execution_count": 172,
   "id": "dc42857c",
   "metadata": {},
   "outputs": [],
   "source": [
    "l_Media_Bias = l_Media_Bias['domain'].tolist()\n",
    "list_prosc.extend(l_Media_Bias)"
   ]
  },
  {
   "cell_type": "code",
   "execution_count": 173,
   "id": "c3475e8b",
   "metadata": {},
   "outputs": [],
   "source": [
    "l_Media_Bias = df_label[df_label['PolitiFact, Mostly True'] == 1.0]"
   ]
  },
  {
   "cell_type": "code",
   "execution_count": 174,
   "id": "043af8f6",
   "metadata": {},
   "outputs": [],
   "source": [
    "l_Media_Bias = l_Media_Bias['domain'].tolist()\n",
    "list_prosc.extend(l_Media_Bias)"
   ]
  },
  {
   "cell_type": "code",
   "execution_count": 175,
   "id": "90a21a56",
   "metadata": {},
   "outputs": [],
   "source": [
    "l_Media_Bias = df_label[df_label['PolitiFact, True'] == 1.0]"
   ]
  },
  {
   "cell_type": "code",
   "execution_count": 176,
   "id": "ef4d5a1d",
   "metadata": {},
   "outputs": [],
   "source": [
    "l_Media_Bias = l_Media_Bias['domain'].tolist()\n",
    "list_prosc.extend(l_Media_Bias)"
   ]
  },
  {
   "cell_type": "code",
   "execution_count": 177,
   "id": "c387b816",
   "metadata": {},
   "outputs": [],
   "source": [
    "l_Media_Bias = df_label[df_label['Open Sources, reliable'] == 1.0]"
   ]
  },
  {
   "cell_type": "code",
   "execution_count": 178,
   "id": "eaf5a4dc",
   "metadata": {},
   "outputs": [],
   "source": [
    "l_Media_Bias = l_Media_Bias['domain'].tolist()\n",
    "list_prosc.extend(l_Media_Bias)"
   ]
  },
  {
   "cell_type": "code",
   "execution_count": 180,
   "id": "c08689b2",
   "metadata": {},
   "outputs": [],
   "source": [
    "list_prosc.append('discovermagazine')"
   ]
  },
  {
   "cell_type": "code",
   "execution_count": null,
   "id": "06afcdb7",
   "metadata": {},
   "outputs": [],
   "source": []
  },
  {
   "cell_type": "code",
   "execution_count": 183,
   "id": "b5982624",
   "metadata": {},
   "outputs": [],
   "source": [
    "pfad_tsv3 = 'C:/Mo/tweetDB/tweetscov19/TweetsCov19_tsv/data_sample/dom_label/dom_proscience_2.tsv'\n",
    "\n",
    "with open(pfad_tsv3, 'w', newline='', encoding=\"utf-8\") as out_file:\n",
    "    tsv_writer = csv.writer(out_file, delimiter=\"\\t\")\n",
    "    for i  in range (0, len(list_prosc)):\n",
    "        l = []\n",
    "        l.append(list_prosc[i])\n",
    "        tsv_writer.writerow(l)"
   ]
  },
  {
   "cell_type": "code",
   "execution_count": 27,
   "id": "bdd139a8",
   "metadata": {},
   "outputs": [],
   "source": [
    "pfad = 'C:/Mo/tweetDB/tweetscov19/TweetsCov19_tsv/data_sample/dom_label/dom_proscience.tsv'\n",
    "\n",
    "df_dom_pscience = pd.read_csv(pfad, sep='\\t', error_bad_lines=False, names=['dom'])"
   ]
  },
  {
   "cell_type": "code",
   "execution_count": 28,
   "id": "80b2cf58",
   "metadata": {},
   "outputs": [],
   "source": [
    "list_prosc = df_dom_pscience.dom.tolist()"
   ]
  },
  {
   "cell_type": "code",
   "execution_count": 181,
   "id": "0a8256c5",
   "metadata": {},
   "outputs": [],
   "source": [
    "list_prosc = np.array(list_prosc)\n",
    "list_prosc = np.unique(list_prosc)\n",
    "list_prosc = list_prosc.tolist()"
   ]
  },
  {
   "cell_type": "code",
   "execution_count": 182,
   "id": "89f863f0",
   "metadata": {},
   "outputs": [
    {
     "data": {
      "text/plain": [
       "120"
      ]
     },
     "execution_count": 182,
     "metadata": {},
     "output_type": "execute_result"
    }
   ],
   "source": [
    "len(list_prosc)"
   ]
  },
  {
   "cell_type": "code",
   "execution_count": 117,
   "id": "7e6e653d",
   "metadata": {},
   "outputs": [
    {
     "data": {
      "text/plain": [
       "['Drugs',\n",
       " 'aap',\n",
       " 'adaa',\n",
       " 'agu',\n",
       " 'aip',\n",
       " 'airspacemag',\n",
       " 'ajaonline',\n",
       " 'ama-assn',\n",
       " 'aps',\n",
       " 'apsa',\n",
       " 'astronomy',\n",
       " 'autisticadvocacy',\n",
       " 'bio',\n",
       " 'biomedcentral',\n",
       " 'bmj',\n",
       " 'britannica',\n",
       " 'carbonbrief',\n",
       " 'cdc',\n",
       " 'climateactiontracker',\n",
       " 'climatecentral',\n",
       " 'climatefeedback',\n",
       " 'climatesciencewatch',\n",
       " 'cochrane',\n",
       " 'consumerlab',\n",
       " 'cosmosmagazine',\n",
       " 'disabilityscoop',\n",
       " 'discovermagazine',\n",
       " 'earthsky',\n",
       " 'edge',\n",
       " 'energy',\n",
       " 'eurekalert',\n",
       " 'everydayhealth',\n",
       " 'examine',\n",
       " 'fas',\n",
       " 'frontiersin',\n",
       " 'futurism',\n",
       " 'genengnews',\n",
       " 'geneticliteracyproject',\n",
       " 'healio',\n",
       " 'healthfeedback',\n",
       " 'healthline',\n",
       " 'ieee',\n",
       " 'infowars',\n",
       " 'insidescience',\n",
       " 'ispp',\n",
       " 'jstor',\n",
       " 'livescience',\n",
       " 'lung',\n",
       " 'mayoclinic',\n",
       " 'medicalnewstoday',\n",
       " 'medicalxpress',\n",
       " 'medpagetoday',\n",
       " 'medscape',\n",
       " 'mentaldaily',\n",
       " 'mentaldaily.com)',\n",
       " 'mosaicscience',\n",
       " 'nasa',\n",
       " 'nationalacademyofsciences',\n",
       " 'nationalgeographic',\n",
       " 'nationalreview',\n",
       " 'nature',\n",
       " 'nautil',\n",
       " 'ncbi',\n",
       " 'nejm',\n",
       " 'neurosciencenews',\n",
       " 'newatlas',\n",
       " 'newscientist',\n",
       " 'newsweek',\n",
       " 'nextbigfuture',\n",
       " 'nextobserver',\n",
       " 'nih',\n",
       " 'noaa',\n",
       " 'oceana',\n",
       " 'paho',\n",
       " 'phys',\n",
       " 'plos',\n",
       " 'pnas',\n",
       " 'popsci',\n",
       " 'popularmechanics',\n",
       " 'psychcentral',\n",
       " 'psychologytoday',\n",
       " 'psypost',\n",
       " 'quackwatch',\n",
       " 'quantamagazine',\n",
       " 'rawstory',\n",
       " 'realclearscience',\n",
       " 'realclimate',\n",
       " 'realmofhistory',\n",
       " 'researchgate',\n",
       " 'retractionwatch',\n",
       " 'scicentral',\n",
       " 'sciencealert',\n",
       " 'sciencebasedmedicine',\n",
       " 'scienceblogs',\n",
       " 'sciencedaily',\n",
       " 'sciencefeedback',\n",
       " 'sciencehistory',\n",
       " 'sciencemag',\n",
       " 'sciencemediacentre',\n",
       " 'sciencenews',\n",
       " 'sciencetrends',\n",
       " 'scientificamerican',\n",
       " 'seeker',\n",
       " 'singularityhub',\n",
       " 'skepdic',\n",
       " 'skepticalraptor',\n",
       " 'skeptics',\n",
       " 'skyandtelescope',\n",
       " 'smithsonianmag',\n",
       " 'societyforscience',\n",
       " 'space',\n",
       " 'technologyreview',\n",
       " 'techxplore',\n",
       " 'the-scientist',\n",
       " 'thegatewaypundit',\n",
       " 'thelancet',\n",
       " 'theness',\n",
       " 'thewashingtonexaminer',\n",
       " 'universetoday',\n",
       " 'watchers',\n",
       " 'who',\n",
       " 'wmo',\n",
       " 'zmescience']"
      ]
     },
     "execution_count": 117,
     "metadata": {},
     "output_type": "execute_result"
    }
   ],
   "source": [
    "list_prosc"
   ]
  },
  {
   "cell_type": "code",
   "execution_count": 6,
   "id": "17c42f33",
   "metadata": {},
   "outputs": [],
   "source": []
  },
  {
   "cell_type": "code",
   "execution_count": 184,
   "id": "07fbc657",
   "metadata": {},
   "outputs": [
    {
     "name": "stdout",
     "output_type": "stream",
     "text": [
      "Shape : (9409841, 5)\n"
     ]
    },
    {
     "data": {
      "text/html": [
       "<div>\n",
       "<style scoped>\n",
       "    .dataframe tbody tr th:only-of-type {\n",
       "        vertical-align: middle;\n",
       "    }\n",
       "\n",
       "    .dataframe tbody tr th {\n",
       "        vertical-align: top;\n",
       "    }\n",
       "\n",
       "    .dataframe thead th {\n",
       "        text-align: right;\n",
       "    }\n",
       "</style>\n",
       "<table border=\"1\" class=\"dataframe\">\n",
       "  <thead>\n",
       "    <tr style=\"text-align: right;\">\n",
       "      <th></th>\n",
       "      <th>Tweet_Id</th>\n",
       "      <th>Username</th>\n",
       "      <th>is_deleted</th>\n",
       "      <th>Urls_num</th>\n",
       "      <th>Url_dom</th>\n",
       "    </tr>\n",
       "  </thead>\n",
       "  <tbody>\n",
       "    <tr>\n",
       "      <th>0</th>\n",
       "      <td>1178791637348212736</td>\n",
       "      <td>c57d4fb895c5f4a33d2a2b24709f93b5</td>\n",
       "      <td>True</td>\n",
       "      <td>0</td>\n",
       "      <td>0</td>\n",
       "    </tr>\n",
       "    <tr>\n",
       "      <th>1</th>\n",
       "      <td>1178791641601232896</td>\n",
       "      <td>627f7d4ef584ba33a676a4ebcb861cdb</td>\n",
       "      <td>False</td>\n",
       "      <td>1</td>\n",
       "      <td>catholicnewsagency.com</td>\n",
       "    </tr>\n",
       "    <tr>\n",
       "      <th>2</th>\n",
       "      <td>1178791643509612547</td>\n",
       "      <td>7966d5716c1c4f33591b17755184e3d6</td>\n",
       "      <td>False</td>\n",
       "      <td>0</td>\n",
       "      <td>0</td>\n",
       "    </tr>\n",
       "    <tr>\n",
       "      <th>3</th>\n",
       "      <td>1178791644214235137</td>\n",
       "      <td>f17996c036ed4cd981f5448fe00d9ed2</td>\n",
       "      <td>False</td>\n",
       "      <td>0</td>\n",
       "      <td>0</td>\n",
       "    </tr>\n",
       "    <tr>\n",
       "      <th>4</th>\n",
       "      <td>1178791645371875329</td>\n",
       "      <td>32a54e5f6d8a67de1bffd2e689594dc8</td>\n",
       "      <td>False</td>\n",
       "      <td>0</td>\n",
       "      <td>0</td>\n",
       "    </tr>\n",
       "  </tbody>\n",
       "</table>\n",
       "</div>"
      ],
      "text/plain": [
       "              Tweet_Id                          Username  is_deleted  \\\n",
       "0  1178791637348212736  c57d4fb895c5f4a33d2a2b24709f93b5        True   \n",
       "1  1178791641601232896  627f7d4ef584ba33a676a4ebcb861cdb       False   \n",
       "2  1178791643509612547  7966d5716c1c4f33591b17755184e3d6       False   \n",
       "3  1178791644214235137  f17996c036ed4cd981f5448fe00d9ed2       False   \n",
       "4  1178791645371875329  32a54e5f6d8a67de1bffd2e689594dc8       False   \n",
       "\n",
       "   Urls_num                 Url_dom  \n",
       "0         0                       0  \n",
       "1         1  catholicnewsagency.com  \n",
       "2         0                       0  \n",
       "3         0                       0  \n",
       "4         0                       0  "
      ]
     },
     "execution_count": 184,
     "metadata": {},
     "output_type": "execute_result"
    }
   ],
   "source": [
    "pfad_tsv1 = 'C:/Mo/tweetDB/tweetscov19/TweetsCov19_tsv/data_sample/TweetsCov19_sample/url/tweetsCov19_id_is_dom.tsv'\n",
    "\n",
    "df_tweetscov19 = pd.read_csv(pfad_tsv1, sep='\\t', error_bad_lines=False, names=['Tweet_Id', 'Username','is_deleted','Urls_num', 'Url_dom'])\n",
    "pd.options.display.max_columns = None\n",
    "print('Shape :', df_tweetscov19.shape)\n",
    "df_tweetscov19.head()"
   ]
  },
  {
   "cell_type": "code",
   "execution_count": 185,
   "id": "3cb3e7fc",
   "metadata": {},
   "outputs": [],
   "source": [
    "def get_science_pol(domains):\n",
    "    domains_list = domains.split()\n",
    "    score = 0\n",
    "    for i in range(0, len(domains_list)):\n",
    "        \n",
    "        d = tldextract.extract(domains_list[i])\n",
    "        d = d.domain\n",
    "                   \n",
    "        \n",
    "        if d in list_antisc:\n",
    "            score -=  1\n",
    "        \n",
    "    return score"
   ]
  },
  {
   "cell_type": "code",
   "execution_count": 186,
   "id": "ae558792",
   "metadata": {},
   "outputs": [],
   "source": [
    "df_tweetscov19['Url_dom'] = df_tweetscov19['Url_dom'].astype(str)\n",
    "df_tweetscov19['dom_neg_scien'] = df_tweetscov19.apply(lambda row: get_science_pol(row['Url_dom']) if (row['Url_dom'] != '0') else 0, axis=1)"
   ]
  },
  {
   "cell_type": "code",
   "execution_count": 187,
   "id": "0990d023",
   "metadata": {},
   "outputs": [
    {
     "data": {
      "text/html": [
       "<div>\n",
       "<style scoped>\n",
       "    .dataframe tbody tr th:only-of-type {\n",
       "        vertical-align: middle;\n",
       "    }\n",
       "\n",
       "    .dataframe tbody tr th {\n",
       "        vertical-align: top;\n",
       "    }\n",
       "\n",
       "    .dataframe thead th {\n",
       "        text-align: right;\n",
       "    }\n",
       "</style>\n",
       "<table border=\"1\" class=\"dataframe\">\n",
       "  <thead>\n",
       "    <tr style=\"text-align: right;\">\n",
       "      <th></th>\n",
       "      <th>Tweet_Id</th>\n",
       "      <th>Username</th>\n",
       "      <th>is_deleted</th>\n",
       "      <th>Urls_num</th>\n",
       "      <th>Url_dom</th>\n",
       "      <th>dom_neg_scien</th>\n",
       "    </tr>\n",
       "  </thead>\n",
       "  <tbody>\n",
       "    <tr>\n",
       "      <th>0</th>\n",
       "      <td>1178791637348212736</td>\n",
       "      <td>c57d4fb895c5f4a33d2a2b24709f93b5</td>\n",
       "      <td>True</td>\n",
       "      <td>0</td>\n",
       "      <td>0</td>\n",
       "      <td>0</td>\n",
       "    </tr>\n",
       "    <tr>\n",
       "      <th>1</th>\n",
       "      <td>1178791641601232896</td>\n",
       "      <td>627f7d4ef584ba33a676a4ebcb861cdb</td>\n",
       "      <td>False</td>\n",
       "      <td>1</td>\n",
       "      <td>catholicnewsagency.com</td>\n",
       "      <td>0</td>\n",
       "    </tr>\n",
       "    <tr>\n",
       "      <th>2</th>\n",
       "      <td>1178791643509612547</td>\n",
       "      <td>7966d5716c1c4f33591b17755184e3d6</td>\n",
       "      <td>False</td>\n",
       "      <td>0</td>\n",
       "      <td>0</td>\n",
       "      <td>0</td>\n",
       "    </tr>\n",
       "    <tr>\n",
       "      <th>3</th>\n",
       "      <td>1178791644214235137</td>\n",
       "      <td>f17996c036ed4cd981f5448fe00d9ed2</td>\n",
       "      <td>False</td>\n",
       "      <td>0</td>\n",
       "      <td>0</td>\n",
       "      <td>0</td>\n",
       "    </tr>\n",
       "    <tr>\n",
       "      <th>4</th>\n",
       "      <td>1178791645371875329</td>\n",
       "      <td>32a54e5f6d8a67de1bffd2e689594dc8</td>\n",
       "      <td>False</td>\n",
       "      <td>0</td>\n",
       "      <td>0</td>\n",
       "      <td>0</td>\n",
       "    </tr>\n",
       "  </tbody>\n",
       "</table>\n",
       "</div>"
      ],
      "text/plain": [
       "              Tweet_Id                          Username  is_deleted  \\\n",
       "0  1178791637348212736  c57d4fb895c5f4a33d2a2b24709f93b5        True   \n",
       "1  1178791641601232896  627f7d4ef584ba33a676a4ebcb861cdb       False   \n",
       "2  1178791643509612547  7966d5716c1c4f33591b17755184e3d6       False   \n",
       "3  1178791644214235137  f17996c036ed4cd981f5448fe00d9ed2       False   \n",
       "4  1178791645371875329  32a54e5f6d8a67de1bffd2e689594dc8       False   \n",
       "\n",
       "   Urls_num                 Url_dom  dom_neg_scien  \n",
       "0         0                       0              0  \n",
       "1         1  catholicnewsagency.com              0  \n",
       "2         0                       0              0  \n",
       "3         0                       0              0  \n",
       "4         0                       0              0  "
      ]
     },
     "execution_count": 187,
     "metadata": {},
     "output_type": "execute_result"
    }
   ],
   "source": [
    "df_tweetscov19.head()"
   ]
  },
  {
   "cell_type": "code",
   "execution_count": 188,
   "id": "929329d4",
   "metadata": {},
   "outputs": [
    {
     "data": {
      "text/plain": [
       "(88166, 6)"
      ]
     },
     "execution_count": 188,
     "metadata": {},
     "output_type": "execute_result"
    }
   ],
   "source": [
    "df_tweetscov19[df_tweetscov19['dom_neg_scien'] < 0].shape"
   ]
  },
  {
   "cell_type": "code",
   "execution_count": 189,
   "id": "1b5e497d",
   "metadata": {},
   "outputs": [],
   "source": [
    "def get_scienc_pos(domains):\n",
    "    domains_list = domains.split()\n",
    "    score = 0\n",
    "    for i in range(0, len(domains_list)):\n",
    "        \n",
    "        d = tldextract.extract(domains_list[i])\n",
    "        d = d.domain\n",
    "       \n",
    "            \n",
    "        \n",
    "        if d in list_prosc:\n",
    "            score +=  1\n",
    "        \n",
    "    return score"
   ]
  },
  {
   "cell_type": "code",
   "execution_count": 190,
   "id": "f0bbb3ce",
   "metadata": {},
   "outputs": [],
   "source": [
    "df_tweetscov19['dom_pos_scien'] = df_tweetscov19.apply(lambda row: get_scienc_pos(row['Url_dom']) if (row['Url_dom'] != '0') else 0, axis=1)"
   ]
  },
  {
   "cell_type": "code",
   "execution_count": 191,
   "id": "5996a6e6",
   "metadata": {},
   "outputs": [
    {
     "data": {
      "text/html": [
       "<div>\n",
       "<style scoped>\n",
       "    .dataframe tbody tr th:only-of-type {\n",
       "        vertical-align: middle;\n",
       "    }\n",
       "\n",
       "    .dataframe tbody tr th {\n",
       "        vertical-align: top;\n",
       "    }\n",
       "\n",
       "    .dataframe thead th {\n",
       "        text-align: right;\n",
       "    }\n",
       "</style>\n",
       "<table border=\"1\" class=\"dataframe\">\n",
       "  <thead>\n",
       "    <tr style=\"text-align: right;\">\n",
       "      <th></th>\n",
       "      <th>Tweet_Id</th>\n",
       "      <th>Username</th>\n",
       "      <th>is_deleted</th>\n",
       "      <th>Urls_num</th>\n",
       "      <th>Url_dom</th>\n",
       "      <th>dom_neg_scien</th>\n",
       "      <th>dom_pos_scien</th>\n",
       "    </tr>\n",
       "  </thead>\n",
       "  <tbody>\n",
       "    <tr>\n",
       "      <th>0</th>\n",
       "      <td>1178791637348212736</td>\n",
       "      <td>c57d4fb895c5f4a33d2a2b24709f93b5</td>\n",
       "      <td>True</td>\n",
       "      <td>0</td>\n",
       "      <td>0</td>\n",
       "      <td>0</td>\n",
       "      <td>0</td>\n",
       "    </tr>\n",
       "    <tr>\n",
       "      <th>1</th>\n",
       "      <td>1178791641601232896</td>\n",
       "      <td>627f7d4ef584ba33a676a4ebcb861cdb</td>\n",
       "      <td>False</td>\n",
       "      <td>1</td>\n",
       "      <td>catholicnewsagency.com</td>\n",
       "      <td>0</td>\n",
       "      <td>0</td>\n",
       "    </tr>\n",
       "    <tr>\n",
       "      <th>2</th>\n",
       "      <td>1178791643509612547</td>\n",
       "      <td>7966d5716c1c4f33591b17755184e3d6</td>\n",
       "      <td>False</td>\n",
       "      <td>0</td>\n",
       "      <td>0</td>\n",
       "      <td>0</td>\n",
       "      <td>0</td>\n",
       "    </tr>\n",
       "    <tr>\n",
       "      <th>3</th>\n",
       "      <td>1178791644214235137</td>\n",
       "      <td>f17996c036ed4cd981f5448fe00d9ed2</td>\n",
       "      <td>False</td>\n",
       "      <td>0</td>\n",
       "      <td>0</td>\n",
       "      <td>0</td>\n",
       "      <td>0</td>\n",
       "    </tr>\n",
       "    <tr>\n",
       "      <th>4</th>\n",
       "      <td>1178791645371875329</td>\n",
       "      <td>32a54e5f6d8a67de1bffd2e689594dc8</td>\n",
       "      <td>False</td>\n",
       "      <td>0</td>\n",
       "      <td>0</td>\n",
       "      <td>0</td>\n",
       "      <td>0</td>\n",
       "    </tr>\n",
       "  </tbody>\n",
       "</table>\n",
       "</div>"
      ],
      "text/plain": [
       "              Tweet_Id                          Username  is_deleted  \\\n",
       "0  1178791637348212736  c57d4fb895c5f4a33d2a2b24709f93b5        True   \n",
       "1  1178791641601232896  627f7d4ef584ba33a676a4ebcb861cdb       False   \n",
       "2  1178791643509612547  7966d5716c1c4f33591b17755184e3d6       False   \n",
       "3  1178791644214235137  f17996c036ed4cd981f5448fe00d9ed2       False   \n",
       "4  1178791645371875329  32a54e5f6d8a67de1bffd2e689594dc8       False   \n",
       "\n",
       "   Urls_num                 Url_dom  dom_neg_scien  dom_pos_scien  \n",
       "0         0                       0              0              0  \n",
       "1         1  catholicnewsagency.com              0              0  \n",
       "2         0                       0              0              0  \n",
       "3         0                       0              0              0  \n",
       "4         0                       0              0              0  "
      ]
     },
     "execution_count": 191,
     "metadata": {},
     "output_type": "execute_result"
    }
   ],
   "source": [
    "df_tweetscov19.head()"
   ]
  },
  {
   "cell_type": "code",
   "execution_count": 192,
   "id": "2d37c01b",
   "metadata": {},
   "outputs": [
    {
     "data": {
      "text/plain": [
       "(68960, 7)"
      ]
     },
     "execution_count": 192,
     "metadata": {},
     "output_type": "execute_result"
    }
   ],
   "source": [
    "df_tweetscov19[df_tweetscov19['dom_pos_scien'] > 0].shape"
   ]
  },
  {
   "cell_type": "code",
   "execution_count": 193,
   "id": "61021db8",
   "metadata": {},
   "outputs": [],
   "source": [
    "df_tweetscov19_unique_user = df_tweetscov19.groupby('Username')['Urls_num', 'dom_neg_scien', 'dom_pos_scien'].sum()"
   ]
  },
  {
   "cell_type": "code",
   "execution_count": 194,
   "id": "b8047044",
   "metadata": {},
   "outputs": [
    {
     "data": {
      "text/plain": [
       "(4095876, 3)"
      ]
     },
     "execution_count": 194,
     "metadata": {},
     "output_type": "execute_result"
    }
   ],
   "source": [
    "df_tweetscov19_unique_user.shape"
   ]
  },
  {
   "cell_type": "code",
   "execution_count": 195,
   "id": "fcd94807",
   "metadata": {},
   "outputs": [
    {
     "data": {
      "text/html": [
       "<div>\n",
       "<style scoped>\n",
       "    .dataframe tbody tr th:only-of-type {\n",
       "        vertical-align: middle;\n",
       "    }\n",
       "\n",
       "    .dataframe tbody tr th {\n",
       "        vertical-align: top;\n",
       "    }\n",
       "\n",
       "    .dataframe thead th {\n",
       "        text-align: right;\n",
       "    }\n",
       "</style>\n",
       "<table border=\"1\" class=\"dataframe\">\n",
       "  <thead>\n",
       "    <tr style=\"text-align: right;\">\n",
       "      <th></th>\n",
       "      <th>Urls_num</th>\n",
       "      <th>dom_neg_scien</th>\n",
       "      <th>dom_pos_scien</th>\n",
       "    </tr>\n",
       "    <tr>\n",
       "      <th>Username</th>\n",
       "      <th></th>\n",
       "      <th></th>\n",
       "      <th></th>\n",
       "    </tr>\n",
       "  </thead>\n",
       "  <tbody>\n",
       "    <tr>\n",
       "      <th>0002eb2aff20e181397afe8cdebdd395</th>\n",
       "      <td>1</td>\n",
       "      <td>0</td>\n",
       "      <td>1</td>\n",
       "    </tr>\n",
       "    <tr>\n",
       "      <th>00065a00b971b5e1629d504e0ddf2da0</th>\n",
       "      <td>27</td>\n",
       "      <td>-4</td>\n",
       "      <td>1</td>\n",
       "    </tr>\n",
       "    <tr>\n",
       "      <th>0006a238065c3acb128041e666b58f07</th>\n",
       "      <td>13</td>\n",
       "      <td>0</td>\n",
       "      <td>2</td>\n",
       "    </tr>\n",
       "    <tr>\n",
       "      <th>00084b153bbf7f4a8c1df3b638e07765</th>\n",
       "      <td>15</td>\n",
       "      <td>-9</td>\n",
       "      <td>4</td>\n",
       "    </tr>\n",
       "    <tr>\n",
       "      <th>0008667130fe3776676804ff59e8ce3b</th>\n",
       "      <td>5</td>\n",
       "      <td>0</td>\n",
       "      <td>2</td>\n",
       "    </tr>\n",
       "  </tbody>\n",
       "</table>\n",
       "</div>"
      ],
      "text/plain": [
       "                                  Urls_num  dom_neg_scien  dom_pos_scien\n",
       "Username                                                                \n",
       "0002eb2aff20e181397afe8cdebdd395         1              0              1\n",
       "00065a00b971b5e1629d504e0ddf2da0        27             -4              1\n",
       "0006a238065c3acb128041e666b58f07        13              0              2\n",
       "00084b153bbf7f4a8c1df3b638e07765        15             -9              4\n",
       "0008667130fe3776676804ff59e8ce3b         5              0              2"
      ]
     },
     "execution_count": 195,
     "metadata": {},
     "output_type": "execute_result"
    }
   ],
   "source": [
    "df_tweetscov19_unique_user[df_tweetscov19_unique_user['dom_pos_scien']>0].head()"
   ]
  },
  {
   "cell_type": "code",
   "execution_count": 196,
   "id": "0480020e",
   "metadata": {},
   "outputs": [],
   "source": [
    "df_tweetscov19_unique_user['pol_num'] = df_tweetscov19_unique_user.apply(lambda row:  (row['dom_pos_scien'] - row['dom_neg_scien']), axis=1)"
   ]
  },
  {
   "cell_type": "code",
   "execution_count": 197,
   "id": "d7409983",
   "metadata": {},
   "outputs": [
    {
     "data": {
      "text/html": [
       "<div>\n",
       "<style scoped>\n",
       "    .dataframe tbody tr th:only-of-type {\n",
       "        vertical-align: middle;\n",
       "    }\n",
       "\n",
       "    .dataframe tbody tr th {\n",
       "        vertical-align: top;\n",
       "    }\n",
       "\n",
       "    .dataframe thead th {\n",
       "        text-align: right;\n",
       "    }\n",
       "</style>\n",
       "<table border=\"1\" class=\"dataframe\">\n",
       "  <thead>\n",
       "    <tr style=\"text-align: right;\">\n",
       "      <th></th>\n",
       "      <th>Urls_num</th>\n",
       "      <th>dom_neg_scien</th>\n",
       "      <th>dom_pos_scien</th>\n",
       "      <th>pol_num</th>\n",
       "    </tr>\n",
       "    <tr>\n",
       "      <th>Username</th>\n",
       "      <th></th>\n",
       "      <th></th>\n",
       "      <th></th>\n",
       "      <th></th>\n",
       "    </tr>\n",
       "  </thead>\n",
       "  <tbody>\n",
       "    <tr>\n",
       "      <th>00065a00b971b5e1629d504e0ddf2da0</th>\n",
       "      <td>27</td>\n",
       "      <td>-4</td>\n",
       "      <td>1</td>\n",
       "      <td>5</td>\n",
       "    </tr>\n",
       "    <tr>\n",
       "      <th>000795932bf3bc3ab05b5efc1b07104b</th>\n",
       "      <td>2</td>\n",
       "      <td>-1</td>\n",
       "      <td>0</td>\n",
       "      <td>1</td>\n",
       "    </tr>\n",
       "    <tr>\n",
       "      <th>00084b153bbf7f4a8c1df3b638e07765</th>\n",
       "      <td>15</td>\n",
       "      <td>-9</td>\n",
       "      <td>4</td>\n",
       "      <td>13</td>\n",
       "    </tr>\n",
       "    <tr>\n",
       "      <th>00098f7374d9ea6b43df2c97931ecf01</th>\n",
       "      <td>1</td>\n",
       "      <td>-1</td>\n",
       "      <td>1</td>\n",
       "      <td>2</td>\n",
       "    </tr>\n",
       "    <tr>\n",
       "      <th>000df0c86153a1e9e65feca1051f8c1e</th>\n",
       "      <td>7</td>\n",
       "      <td>-4</td>\n",
       "      <td>1</td>\n",
       "      <td>5</td>\n",
       "    </tr>\n",
       "  </tbody>\n",
       "</table>\n",
       "</div>"
      ],
      "text/plain": [
       "                                  Urls_num  dom_neg_scien  dom_pos_scien  \\\n",
       "Username                                                                   \n",
       "00065a00b971b5e1629d504e0ddf2da0        27             -4              1   \n",
       "000795932bf3bc3ab05b5efc1b07104b         2             -1              0   \n",
       "00084b153bbf7f4a8c1df3b638e07765        15             -9              4   \n",
       "00098f7374d9ea6b43df2c97931ecf01         1             -1              1   \n",
       "000df0c86153a1e9e65feca1051f8c1e         7             -4              1   \n",
       "\n",
       "                                  pol_num  \n",
       "Username                                   \n",
       "00065a00b971b5e1629d504e0ddf2da0        5  \n",
       "000795932bf3bc3ab05b5efc1b07104b        1  \n",
       "00084b153bbf7f4a8c1df3b638e07765       13  \n",
       "00098f7374d9ea6b43df2c97931ecf01        2  \n",
       "000df0c86153a1e9e65feca1051f8c1e        5  "
      ]
     },
     "execution_count": 197,
     "metadata": {},
     "output_type": "execute_result"
    }
   ],
   "source": [
    "df_tweetscov19_unique_user[df_tweetscov19_unique_user['dom_neg_scien']<0].head()"
   ]
  },
  {
   "cell_type": "code",
   "execution_count": 198,
   "id": "93703b97",
   "metadata": {},
   "outputs": [],
   "source": [
    "df_tweetscov19_unique_user['user_pol'] = df_tweetscov19_unique_user.apply(lambda row: (row['dom_neg_scien'] + row['dom_pos_scien']) / row['pol_num'] if row['pol_num'] != 0 else 0, axis=1)"
   ]
  },
  {
   "cell_type": "code",
   "execution_count": 199,
   "id": "5fa996a6",
   "metadata": {},
   "outputs": [
    {
     "data": {
      "text/html": [
       "<div>\n",
       "<style scoped>\n",
       "    .dataframe tbody tr th:only-of-type {\n",
       "        vertical-align: middle;\n",
       "    }\n",
       "\n",
       "    .dataframe tbody tr th {\n",
       "        vertical-align: top;\n",
       "    }\n",
       "\n",
       "    .dataframe thead th {\n",
       "        text-align: right;\n",
       "    }\n",
       "</style>\n",
       "<table border=\"1\" class=\"dataframe\">\n",
       "  <thead>\n",
       "    <tr style=\"text-align: right;\">\n",
       "      <th></th>\n",
       "      <th>Urls_num</th>\n",
       "      <th>dom_neg_scien</th>\n",
       "      <th>dom_pos_scien</th>\n",
       "      <th>pol_num</th>\n",
       "      <th>user_pol</th>\n",
       "    </tr>\n",
       "    <tr>\n",
       "      <th>Username</th>\n",
       "      <th></th>\n",
       "      <th></th>\n",
       "      <th></th>\n",
       "      <th></th>\n",
       "      <th></th>\n",
       "    </tr>\n",
       "  </thead>\n",
       "  <tbody>\n",
       "    <tr>\n",
       "      <th>00065a00b971b5e1629d504e0ddf2da0</th>\n",
       "      <td>27</td>\n",
       "      <td>-4</td>\n",
       "      <td>1</td>\n",
       "      <td>5</td>\n",
       "      <td>-0.600000</td>\n",
       "    </tr>\n",
       "    <tr>\n",
       "      <th>00084b153bbf7f4a8c1df3b638e07765</th>\n",
       "      <td>15</td>\n",
       "      <td>-9</td>\n",
       "      <td>4</td>\n",
       "      <td>13</td>\n",
       "      <td>-0.384615</td>\n",
       "    </tr>\n",
       "    <tr>\n",
       "      <th>000df0c86153a1e9e65feca1051f8c1e</th>\n",
       "      <td>7</td>\n",
       "      <td>-4</td>\n",
       "      <td>1</td>\n",
       "      <td>5</td>\n",
       "      <td>-0.600000</td>\n",
       "    </tr>\n",
       "    <tr>\n",
       "      <th>0013aaa4da0461c58d0b1306af75af02</th>\n",
       "      <td>215</td>\n",
       "      <td>-14</td>\n",
       "      <td>9</td>\n",
       "      <td>23</td>\n",
       "      <td>-0.217391</td>\n",
       "    </tr>\n",
       "    <tr>\n",
       "      <th>0023797612d9ad76ffd7024c324c499c</th>\n",
       "      <td>8</td>\n",
       "      <td>-8</td>\n",
       "      <td>5</td>\n",
       "      <td>13</td>\n",
       "      <td>-0.230769</td>\n",
       "    </tr>\n",
       "  </tbody>\n",
       "</table>\n",
       "</div>"
      ],
      "text/plain": [
       "                                  Urls_num  dom_neg_scien  dom_pos_scien  \\\n",
       "Username                                                                   \n",
       "00065a00b971b5e1629d504e0ddf2da0        27             -4              1   \n",
       "00084b153bbf7f4a8c1df3b638e07765        15             -9              4   \n",
       "000df0c86153a1e9e65feca1051f8c1e         7             -4              1   \n",
       "0013aaa4da0461c58d0b1306af75af02       215            -14              9   \n",
       "0023797612d9ad76ffd7024c324c499c         8             -8              5   \n",
       "\n",
       "                                  pol_num  user_pol  \n",
       "Username                                             \n",
       "00065a00b971b5e1629d504e0ddf2da0        5 -0.600000  \n",
       "00084b153bbf7f4a8c1df3b638e07765       13 -0.384615  \n",
       "000df0c86153a1e9e65feca1051f8c1e        5 -0.600000  \n",
       "0013aaa4da0461c58d0b1306af75af02       23 -0.217391  \n",
       "0023797612d9ad76ffd7024c324c499c       13 -0.230769  "
      ]
     },
     "execution_count": 199,
     "metadata": {},
     "output_type": "execute_result"
    }
   ],
   "source": [
    "df_tweetscov19_unique_user[df_tweetscov19_unique_user['dom_neg_scien']<-2].head()"
   ]
  },
  {
   "cell_type": "code",
   "execution_count": 200,
   "id": "21150cdb",
   "metadata": {},
   "outputs": [],
   "source": [
    "df_tweetscov19_unique_user_0 = df_tweetscov19_unique_user[df_tweetscov19_unique_user['user_pol'] != 0]"
   ]
  },
  {
   "cell_type": "code",
   "execution_count": 201,
   "id": "f10dd27e",
   "metadata": {},
   "outputs": [
    {
     "data": {
      "text/plain": [
       "(36062, 5)"
      ]
     },
     "execution_count": 201,
     "metadata": {},
     "output_type": "execute_result"
    }
   ],
   "source": [
    "df_tweetscov19_unique_user_0.shape"
   ]
  },
  {
   "cell_type": "code",
   "execution_count": 202,
   "id": "4af33ee5",
   "metadata": {},
   "outputs": [
    {
     "data": {
      "text/plain": [
       "(19865, 5)"
      ]
     },
     "execution_count": 202,
     "metadata": {},
     "output_type": "execute_result"
    }
   ],
   "source": [
    "df_tweetscov19_unique_user_0[df_tweetscov19_unique_user_0['user_pol'] > 0].shape"
   ]
  },
  {
   "cell_type": "code",
   "execution_count": 203,
   "id": "ec4dc261",
   "metadata": {},
   "outputs": [
    {
     "data": {
      "text/plain": [
       "(16197, 5)"
      ]
     },
     "execution_count": 203,
     "metadata": {},
     "output_type": "execute_result"
    }
   ],
   "source": [
    "df_tweetscov19_unique_user_0[df_tweetscov19_unique_user_0['user_pol'] < 0].shape"
   ]
  },
  {
   "cell_type": "code",
   "execution_count": 204,
   "id": "ae1df986",
   "metadata": {},
   "outputs": [],
   "source": [
    "import matplotlib.pyplot as plt\n",
    "%matplotlib inline \n",
    "import matplotlib.dates as mdates\n",
    "import matplotlib.ticker as tick\n",
    "from matplotlib.pyplot import figure"
   ]
  },
  {
   "cell_type": "code",
   "execution_count": 205,
   "id": "192bbed7",
   "metadata": {},
   "outputs": [],
   "source": [
    "def plot_histogram(df, titel):\n",
    "    figure(figsize=(8, 6), dpi=80)\n",
    "    \n",
    "    fig, ax = plt.subplots()\n",
    "    colors = ['b', 'r']\n",
    "    labels = ['Liberale', 'konservativ']\n",
    "    \n",
    "    N, bins, patches = ax.hist(df, bins=10, color = 'gray')\n",
    "    for i in range(0,5):\n",
    "        patches[i].set_facecolor('gold')\n",
    "    patches[1].set_label('Anti-Science')\n",
    "    for i in range(5,len(patches)):\n",
    "        patches[i].set_facecolor('forestgreen')\n",
    "    patches[9].set_label('Pro-Science')\n",
    "    #plt.xlabel('Anzahl der URLs', fontsize=12)\n",
    "    plt.ylabel('Anzahl der Benutzer', fontsize=12)\n",
    "    plt.title('Wissenschaftliche Polarisierung')\n",
    "    plt.legend()\n",
    "    #plt.savefig('C:/Mo/tweetDB/tweetscov19/TweetsCov19_tsv/data_aus_tsv/plot/hist/neu/'+titel+'.jpg')"
   ]
  },
  {
   "cell_type": "code",
   "execution_count": 206,
   "id": "e5f80098",
   "metadata": {},
   "outputs": [
    {
     "data": {
      "text/plain": [
       "<Figure size 640x480 with 0 Axes>"
      ]
     },
     "metadata": {},
     "output_type": "display_data"
    },
    {
     "data": {
      "image/png": "[encoded data removed]",
      "text/plain": [
       "<Figure size 432x288 with 1 Axes>"
      ]
     },
     "metadata": {
      "needs_background": "light"
     },
     "output_type": "display_data"
    }
   ],
   "source": [
    "plot_histogram(df_tweetscov19_unique_user_0['user_pol'],'tweetsCov19_URLs_Science_pol')"
   ]
  },
  {
   "cell_type": "code",
   "execution_count": 207,
   "id": "109eaf37",
   "metadata": {},
   "outputs": [],
   "source": [
    "def plot_histogram_en(df, titel):\n",
    "    figure(figsize=(8, 6), dpi=80)\n",
    "    \n",
    "    fig, ax = plt.subplots()\n",
    "    colors = ['b', 'r']\n",
    "    labels = ['Liberale', 'konservativ']\n",
    "    \n",
    "    N, bins, patches = ax.hist(df, bins=10, color = 'gray')\n",
    "    for i in range(0,5):\n",
    "        patches[i].set_facecolor('gold')\n",
    "    patches[1].set_label('Anti-Science')\n",
    "    for i in range(5,len(patches)):\n",
    "        patches[i].set_facecolor('forestgreen')\n",
    "    patches[9].set_label('Pro-Science')\n",
    "    #plt.xlabel('Anzahl der URLs', fontsize=12)\n",
    "    plt.ylabel('Number of users', fontsize=12)\n",
    "    plt.title('Scientific polarization')\n",
    "    plt.legend()\n",
    "    #plt.savefig('C:/Mo/tweetDB/tweetscov19/TweetsCov19_tsv/data_aus_tsv/plot/hist/pdfs/'+titel+'.pdf')"
   ]
  },
  {
   "cell_type": "code",
   "execution_count": 208,
   "id": "4db2202a",
   "metadata": {},
   "outputs": [
    {
     "data": {
      "text/plain": [
       "<Figure size 640x480 with 0 Axes>"
      ]
     },
     "metadata": {},
     "output_type": "display_data"
    },
    {
     "data": {
      "image/png": "[encoded data removed]",
      "text/plain": [
       "<Figure size 432x288 with 1 Axes>"
      ]
     },
     "metadata": {
      "needs_background": "light"
     },
     "output_type": "display_data"
    }
   ],
   "source": [
    "plot_histogram_en(df_tweetscov19_unique_user_0['user_pol'],'tweetsCov19_URLs_Science_pol')"
   ]
  },
  {
   "cell_type": "code",
   "execution_count": 209,
   "id": "684c892b",
   "metadata": {},
   "outputs": [],
   "source": [
    "df_tweetscov19_del = df_tweetscov19[df_tweetscov19['is_deleted'] == True]\n",
    "df_tweetscov19_undel = df_tweetscov19[df_tweetscov19['is_deleted'] == False]"
   ]
  },
  {
   "cell_type": "code",
   "execution_count": 210,
   "id": "3b1cd336",
   "metadata": {},
   "outputs": [],
   "source": [
    "df_tweetscov19_del = df_tweetscov19_del[['Username']]"
   ]
  },
  {
   "cell_type": "code",
   "execution_count": 211,
   "id": "06e9ef0d",
   "metadata": {},
   "outputs": [
    {
     "data": {
      "text/plain": [
       "(2137501, 1)"
      ]
     },
     "execution_count": 211,
     "metadata": {},
     "output_type": "execute_result"
    }
   ],
   "source": [
    "df_tweetscov19_del.shape"
   ]
  },
  {
   "cell_type": "code",
   "execution_count": 212,
   "id": "b331fec1",
   "metadata": {},
   "outputs": [
    {
     "name": "stdout",
     "output_type": "stream",
     "text": [
      "Shape : (2137501, 6)\n"
     ]
    },
    {
     "data": {
      "text/html": [
       "<div>\n",
       "<style scoped>\n",
       "    .dataframe tbody tr th:only-of-type {\n",
       "        vertical-align: middle;\n",
       "    }\n",
       "\n",
       "    .dataframe tbody tr th {\n",
       "        vertical-align: top;\n",
       "    }\n",
       "\n",
       "    .dataframe thead th {\n",
       "        text-align: right;\n",
       "    }\n",
       "</style>\n",
       "<table border=\"1\" class=\"dataframe\">\n",
       "  <thead>\n",
       "    <tr style=\"text-align: right;\">\n",
       "      <th></th>\n",
       "      <th>Username</th>\n",
       "      <th>Urls_num</th>\n",
       "      <th>dom_neg_scien</th>\n",
       "      <th>dom_pos_scien</th>\n",
       "      <th>pol_num</th>\n",
       "      <th>user_pol</th>\n",
       "    </tr>\n",
       "  </thead>\n",
       "  <tbody>\n",
       "    <tr>\n",
       "      <th>0</th>\n",
       "      <td>c57d4fb895c5f4a33d2a2b24709f93b5</td>\n",
       "      <td>NaN</td>\n",
       "      <td>NaN</td>\n",
       "      <td>NaN</td>\n",
       "      <td>NaN</td>\n",
       "      <td>NaN</td>\n",
       "    </tr>\n",
       "    <tr>\n",
       "      <th>1</th>\n",
       "      <td>15ab0f8893da52fbdcb6d83abeb8f33c</td>\n",
       "      <td>NaN</td>\n",
       "      <td>NaN</td>\n",
       "      <td>NaN</td>\n",
       "      <td>NaN</td>\n",
       "      <td>NaN</td>\n",
       "    </tr>\n",
       "    <tr>\n",
       "      <th>2</th>\n",
       "      <td>979f23fad4f73cf3cba6fab87d718822</td>\n",
       "      <td>NaN</td>\n",
       "      <td>NaN</td>\n",
       "      <td>NaN</td>\n",
       "      <td>NaN</td>\n",
       "      <td>NaN</td>\n",
       "    </tr>\n",
       "    <tr>\n",
       "      <th>3</th>\n",
       "      <td>d403a69595186e0e37f8b1a6f163361d</td>\n",
       "      <td>NaN</td>\n",
       "      <td>NaN</td>\n",
       "      <td>NaN</td>\n",
       "      <td>NaN</td>\n",
       "      <td>NaN</td>\n",
       "    </tr>\n",
       "    <tr>\n",
       "      <th>4</th>\n",
       "      <td>c940ede6cf28e2e8d18603673ae6f637</td>\n",
       "      <td>NaN</td>\n",
       "      <td>NaN</td>\n",
       "      <td>NaN</td>\n",
       "      <td>NaN</td>\n",
       "      <td>NaN</td>\n",
       "    </tr>\n",
       "  </tbody>\n",
       "</table>\n",
       "</div>"
      ],
      "text/plain": [
       "                           Username  Urls_num  dom_neg_scien  dom_pos_scien  \\\n",
       "0  c57d4fb895c5f4a33d2a2b24709f93b5       NaN            NaN            NaN   \n",
       "1  15ab0f8893da52fbdcb6d83abeb8f33c       NaN            NaN            NaN   \n",
       "2  979f23fad4f73cf3cba6fab87d718822       NaN            NaN            NaN   \n",
       "3  d403a69595186e0e37f8b1a6f163361d       NaN            NaN            NaN   \n",
       "4  c940ede6cf28e2e8d18603673ae6f637       NaN            NaN            NaN   \n",
       "\n",
       "   pol_num  user_pol  \n",
       "0      NaN       NaN  \n",
       "1      NaN       NaN  \n",
       "2      NaN       NaN  \n",
       "3      NaN       NaN  \n",
       "4      NaN       NaN  "
      ]
     },
     "execution_count": 212,
     "metadata": {},
     "output_type": "execute_result"
    }
   ],
   "source": [
    "df_tweetscov19_del = pd.merge(df_tweetscov19_del, df_tweetscov19_unique_user_0, on='Username', how='left')\n",
    "print('Shape :', df_tweetscov19_del.shape)\n",
    "df_tweetscov19_del.head()"
   ]
  },
  {
   "cell_type": "code",
   "execution_count": 213,
   "id": "d1485938",
   "metadata": {},
   "outputs": [
    {
     "data": {
      "text/plain": [
       "(1079023, 6)"
      ]
     },
     "execution_count": 213,
     "metadata": {},
     "output_type": "execute_result"
    }
   ],
   "source": [
    "df_tweetscov19_del = df_tweetscov19_del.drop_duplicates(subset=['Username'])\n",
    "df_tweetscov19_del.shape"
   ]
  },
  {
   "cell_type": "code",
   "execution_count": 214,
   "id": "0d035ce4",
   "metadata": {},
   "outputs": [
    {
     "data": {
      "text/html": [
       "<div>\n",
       "<style scoped>\n",
       "    .dataframe tbody tr th:only-of-type {\n",
       "        vertical-align: middle;\n",
       "    }\n",
       "\n",
       "    .dataframe tbody tr th {\n",
       "        vertical-align: top;\n",
       "    }\n",
       "\n",
       "    .dataframe thead th {\n",
       "        text-align: right;\n",
       "    }\n",
       "</style>\n",
       "<table border=\"1\" class=\"dataframe\">\n",
       "  <thead>\n",
       "    <tr style=\"text-align: right;\">\n",
       "      <th></th>\n",
       "      <th>Username</th>\n",
       "      <th>Urls_num</th>\n",
       "      <th>dom_neg_scien</th>\n",
       "      <th>dom_pos_scien</th>\n",
       "      <th>pol_num</th>\n",
       "      <th>user_pol</th>\n",
       "    </tr>\n",
       "  </thead>\n",
       "  <tbody>\n",
       "    <tr>\n",
       "      <th>0</th>\n",
       "      <td>c57d4fb895c5f4a33d2a2b24709f93b5</td>\n",
       "      <td>NaN</td>\n",
       "      <td>NaN</td>\n",
       "      <td>NaN</td>\n",
       "      <td>NaN</td>\n",
       "      <td>NaN</td>\n",
       "    </tr>\n",
       "    <tr>\n",
       "      <th>1</th>\n",
       "      <td>15ab0f8893da52fbdcb6d83abeb8f33c</td>\n",
       "      <td>NaN</td>\n",
       "      <td>NaN</td>\n",
       "      <td>NaN</td>\n",
       "      <td>NaN</td>\n",
       "      <td>NaN</td>\n",
       "    </tr>\n",
       "    <tr>\n",
       "      <th>2</th>\n",
       "      <td>979f23fad4f73cf3cba6fab87d718822</td>\n",
       "      <td>NaN</td>\n",
       "      <td>NaN</td>\n",
       "      <td>NaN</td>\n",
       "      <td>NaN</td>\n",
       "      <td>NaN</td>\n",
       "    </tr>\n",
       "    <tr>\n",
       "      <th>3</th>\n",
       "      <td>d403a69595186e0e37f8b1a6f163361d</td>\n",
       "      <td>NaN</td>\n",
       "      <td>NaN</td>\n",
       "      <td>NaN</td>\n",
       "      <td>NaN</td>\n",
       "      <td>NaN</td>\n",
       "    </tr>\n",
       "    <tr>\n",
       "      <th>4</th>\n",
       "      <td>c940ede6cf28e2e8d18603673ae6f637</td>\n",
       "      <td>NaN</td>\n",
       "      <td>NaN</td>\n",
       "      <td>NaN</td>\n",
       "      <td>NaN</td>\n",
       "      <td>NaN</td>\n",
       "    </tr>\n",
       "  </tbody>\n",
       "</table>\n",
       "</div>"
      ],
      "text/plain": [
       "                           Username  Urls_num  dom_neg_scien  dom_pos_scien  \\\n",
       "0  c57d4fb895c5f4a33d2a2b24709f93b5       NaN            NaN            NaN   \n",
       "1  15ab0f8893da52fbdcb6d83abeb8f33c       NaN            NaN            NaN   \n",
       "2  979f23fad4f73cf3cba6fab87d718822       NaN            NaN            NaN   \n",
       "3  d403a69595186e0e37f8b1a6f163361d       NaN            NaN            NaN   \n",
       "4  c940ede6cf28e2e8d18603673ae6f637       NaN            NaN            NaN   \n",
       "\n",
       "   pol_num  user_pol  \n",
       "0      NaN       NaN  \n",
       "1      NaN       NaN  \n",
       "2      NaN       NaN  \n",
       "3      NaN       NaN  \n",
       "4      NaN       NaN  "
      ]
     },
     "execution_count": 214,
     "metadata": {},
     "output_type": "execute_result"
    }
   ],
   "source": [
    "df_tweetscov19_del.head()"
   ]
  },
  {
   "cell_type": "code",
   "execution_count": 215,
   "id": "982659fa",
   "metadata": {},
   "outputs": [],
   "source": [
    "df_tweetscov19_del = df_tweetscov19_del.dropna()"
   ]
  },
  {
   "cell_type": "code",
   "execution_count": 216,
   "id": "6f0f299a",
   "metadata": {},
   "outputs": [
    {
     "data": {
      "text/plain": [
       "(12215, 6)"
      ]
     },
     "execution_count": 216,
     "metadata": {},
     "output_type": "execute_result"
    }
   ],
   "source": [
    "df_tweetscov19_del.shape"
   ]
  },
  {
   "cell_type": "code",
   "execution_count": 217,
   "id": "2755c083",
   "metadata": {},
   "outputs": [
    {
     "data": {
      "text/plain": [
       "<Figure size 640x480 with 0 Axes>"
      ]
     },
     "metadata": {},
     "output_type": "display_data"
    },
    {
     "data": {
      "image/png": "[encoded data removed]",
      "text/plain": [
       "<Figure size 432x288 with 1 Axes>"
      ]
     },
     "metadata": {
      "needs_background": "light"
     },
     "output_type": "display_data"
    }
   ],
   "source": [
    "plot_histogram(df_tweetscov19_del['user_pol'],'tweetsCov19_del_URLs_science_pol')"
   ]
  },
  {
   "cell_type": "code",
   "execution_count": 218,
   "id": "010755da",
   "metadata": {},
   "outputs": [
    {
     "data": {
      "text/plain": [
       "<Figure size 640x480 with 0 Axes>"
      ]
     },
     "metadata": {},
     "output_type": "display_data"
    },
    {
     "data": {
      "image/png": "[encoded data removed]",
      "text/plain": [
       "<Figure size 432x288 with 1 Axes>"
      ]
     },
     "metadata": {
      "needs_background": "light"
     },
     "output_type": "display_data"
    }
   ],
   "source": [
    "plot_histogram_en(df_tweetscov19_del['user_pol'],'tweetsCov19_del_URLs_science_pol')"
   ]
  },
  {
   "cell_type": "code",
   "execution_count": 219,
   "id": "2e70f55b",
   "metadata": {},
   "outputs": [],
   "source": [
    "df_tweetscov19_undel = df_tweetscov19_undel[['Username']]"
   ]
  },
  {
   "cell_type": "code",
   "execution_count": 220,
   "id": "70039ef2",
   "metadata": {},
   "outputs": [
    {
     "name": "stdout",
     "output_type": "stream",
     "text": [
      "Shape : (7272340, 6)\n"
     ]
    },
    {
     "data": {
      "text/html": [
       "<div>\n",
       "<style scoped>\n",
       "    .dataframe tbody tr th:only-of-type {\n",
       "        vertical-align: middle;\n",
       "    }\n",
       "\n",
       "    .dataframe tbody tr th {\n",
       "        vertical-align: top;\n",
       "    }\n",
       "\n",
       "    .dataframe thead th {\n",
       "        text-align: right;\n",
       "    }\n",
       "</style>\n",
       "<table border=\"1\" class=\"dataframe\">\n",
       "  <thead>\n",
       "    <tr style=\"text-align: right;\">\n",
       "      <th></th>\n",
       "      <th>Username</th>\n",
       "      <th>Urls_num</th>\n",
       "      <th>dom_neg_scien</th>\n",
       "      <th>dom_pos_scien</th>\n",
       "      <th>pol_num</th>\n",
       "      <th>user_pol</th>\n",
       "    </tr>\n",
       "  </thead>\n",
       "  <tbody>\n",
       "    <tr>\n",
       "      <th>0</th>\n",
       "      <td>627f7d4ef584ba33a676a4ebcb861cdb</td>\n",
       "      <td>NaN</td>\n",
       "      <td>NaN</td>\n",
       "      <td>NaN</td>\n",
       "      <td>NaN</td>\n",
       "      <td>NaN</td>\n",
       "    </tr>\n",
       "    <tr>\n",
       "      <th>1</th>\n",
       "      <td>7966d5716c1c4f33591b17755184e3d6</td>\n",
       "      <td>NaN</td>\n",
       "      <td>NaN</td>\n",
       "      <td>NaN</td>\n",
       "      <td>NaN</td>\n",
       "      <td>NaN</td>\n",
       "    </tr>\n",
       "    <tr>\n",
       "      <th>2</th>\n",
       "      <td>f17996c036ed4cd981f5448fe00d9ed2</td>\n",
       "      <td>NaN</td>\n",
       "      <td>NaN</td>\n",
       "      <td>NaN</td>\n",
       "      <td>NaN</td>\n",
       "      <td>NaN</td>\n",
       "    </tr>\n",
       "    <tr>\n",
       "      <th>3</th>\n",
       "      <td>32a54e5f6d8a67de1bffd2e689594dc8</td>\n",
       "      <td>NaN</td>\n",
       "      <td>NaN</td>\n",
       "      <td>NaN</td>\n",
       "      <td>NaN</td>\n",
       "      <td>NaN</td>\n",
       "    </tr>\n",
       "    <tr>\n",
       "      <th>4</th>\n",
       "      <td>0b79ffbeab9f663eb505761a40b76241</td>\n",
       "      <td>NaN</td>\n",
       "      <td>NaN</td>\n",
       "      <td>NaN</td>\n",
       "      <td>NaN</td>\n",
       "      <td>NaN</td>\n",
       "    </tr>\n",
       "  </tbody>\n",
       "</table>\n",
       "</div>"
      ],
      "text/plain": [
       "                           Username  Urls_num  dom_neg_scien  dom_pos_scien  \\\n",
       "0  627f7d4ef584ba33a676a4ebcb861cdb       NaN            NaN            NaN   \n",
       "1  7966d5716c1c4f33591b17755184e3d6       NaN            NaN            NaN   \n",
       "2  f17996c036ed4cd981f5448fe00d9ed2       NaN            NaN            NaN   \n",
       "3  32a54e5f6d8a67de1bffd2e689594dc8       NaN            NaN            NaN   \n",
       "4  0b79ffbeab9f663eb505761a40b76241       NaN            NaN            NaN   \n",
       "\n",
       "   pol_num  user_pol  \n",
       "0      NaN       NaN  \n",
       "1      NaN       NaN  \n",
       "2      NaN       NaN  \n",
       "3      NaN       NaN  \n",
       "4      NaN       NaN  "
      ]
     },
     "execution_count": 220,
     "metadata": {},
     "output_type": "execute_result"
    }
   ],
   "source": [
    "df_tweetscov19_undel = pd.merge(df_tweetscov19_undel, df_tweetscov19_unique_user_0, on='Username', how='left')\n",
    "print('Shape :', df_tweetscov19_undel.shape)\n",
    "df_tweetscov19_undel.head()"
   ]
  },
  {
   "cell_type": "code",
   "execution_count": 221,
   "id": "f82edd03",
   "metadata": {},
   "outputs": [
    {
     "data": {
      "text/plain": [
       "(3132517, 6)"
      ]
     },
     "execution_count": 221,
     "metadata": {},
     "output_type": "execute_result"
    }
   ],
   "source": [
    "df_tweetscov19_undel = df_tweetscov19_undel.drop_duplicates(subset=['Username'])\n",
    "df_tweetscov19_undel.shape"
   ]
  },
  {
   "cell_type": "code",
   "execution_count": 222,
   "id": "d6463968",
   "metadata": {},
   "outputs": [
    {
     "data": {
      "text/plain": [
       "(28162, 6)"
      ]
     },
     "execution_count": 222,
     "metadata": {},
     "output_type": "execute_result"
    }
   ],
   "source": [
    "df_tweetscov19_undel = df_tweetscov19_undel.dropna()\n",
    "df_tweetscov19_undel.shape"
   ]
  },
  {
   "cell_type": "code",
   "execution_count": 223,
   "id": "6ed846f3",
   "metadata": {},
   "outputs": [
    {
     "data": {
      "text/plain": [
       "<Figure size 640x480 with 0 Axes>"
      ]
     },
     "metadata": {},
     "output_type": "display_data"
    },
    {
     "data": {
      "image/png": "[encoded data removed]",
      "text/plain": [
       "<Figure size 432x288 with 1 Axes>"
      ]
     },
     "metadata": {
      "needs_background": "light"
     },
     "output_type": "display_data"
    }
   ],
   "source": [
    "plot_histogram(df_tweetscov19_undel['user_pol'],'tweetsCov19_undel_URLs_science_pol')"
   ]
  },
  {
   "cell_type": "code",
   "execution_count": 224,
   "id": "11e5449f",
   "metadata": {},
   "outputs": [
    {
     "data": {
      "text/plain": [
       "<Figure size 640x480 with 0 Axes>"
      ]
     },
     "metadata": {},
     "output_type": "display_data"
    },
    {
     "data": {
      "image/png": "[encoded data removed]",
      "text/plain": [
       "<Figure size 432x288 with 1 Axes>"
      ]
     },
     "metadata": {
      "needs_background": "light"
     },
     "output_type": "display_data"
    }
   ],
   "source": [
    "plot_histogram_en(df_tweetscov19_undel['user_pol'],'tweetsCov19_undel_URLs_science_pol')"
   ]
  },
  {
   "cell_type": "code",
   "execution_count": 37,
   "id": "98b5a03d",
   "metadata": {},
   "outputs": [],
   "source": [
    "pfad_tsv3 = 'C:/Mo/tweetDB/tweetscov19/TweetsCov19_tsv/data_sample/dom_label/tweetscov19_dom_science.tsv'\n",
    "\n",
    "with open(pfad_tsv3, 'w', newline='', encoding=\"utf-8\") as out_file:\n",
    "    tsv_writer = csv.writer(out_file, delimiter=\"\\t\")\n",
    "    for idx, row in df_tweetscov19.iterrows():\n",
    "        tsv_writer.writerow(row.values.tolist())"
   ]
  },
  {
   "cell_type": "code",
   "execution_count": null,
   "id": "e0736b3d",
   "metadata": {},
   "outputs": [],
   "source": [
    "df_tweetscov19_unique_user_0 = df_tweetscov19_unique_user_0.reset_index()"
   ]
  },
  {
   "cell_type": "code",
   "execution_count": null,
   "id": "9865e497",
   "metadata": {},
   "outputs": [],
   "source": [
    "pfad_tsv3 = 'C:/Mo/tweetDB/tweetscov19/TweetsCov19_tsv/data_sample/dom_label/tweetscov19_unique_user_dom_science.tsv'\n",
    "\n",
    "with open(pfad_tsv3, 'w', newline='', encoding=\"utf-8\") as out_file:\n",
    "    tsv_writer = csv.writer(out_file, delimiter=\"\\t\")\n",
    "    for idx, row in df_tweetscov19_unique_user_0.iterrows():\n",
    "        tsv_writer.writerow(row.values.tolist())"
   ]
  },
  {
   "cell_type": "code",
   "execution_count": null,
   "id": "77f6431e",
   "metadata": {},
   "outputs": [],
   "source": []
  },
  {
   "cell_type": "code",
   "execution_count": null,
   "id": "371e5a89",
   "metadata": {},
   "outputs": [],
   "source": []
  },
  {
   "cell_type": "code",
   "execution_count": null,
   "id": "114a8bc5",
   "metadata": {},
   "outputs": [],
   "source": []
  },
  {
   "cell_type": "code",
   "execution_count": 39,
   "id": "13620310",
   "metadata": {},
   "outputs": [
    {
     "data": {
      "text/html": [
       "<div>\n",
       "<style scoped>\n",
       "    .dataframe tbody tr th:only-of-type {\n",
       "        vertical-align: middle;\n",
       "    }\n",
       "\n",
       "    .dataframe tbody tr th {\n",
       "        vertical-align: top;\n",
       "    }\n",
       "\n",
       "    .dataframe thead th {\n",
       "        text-align: right;\n",
       "    }\n",
       "</style>\n",
       "<table border=\"1\" class=\"dataframe\">\n",
       "  <thead>\n",
       "    <tr style=\"text-align: right;\">\n",
       "      <th></th>\n",
       "      <th>Username</th>\n",
       "      <th>Urls_num</th>\n",
       "      <th>dom_neg_scien</th>\n",
       "      <th>dom_pos_scien</th>\n",
       "      <th>pol_num</th>\n",
       "      <th>user_pol</th>\n",
       "    </tr>\n",
       "  </thead>\n",
       "  <tbody>\n",
       "    <tr>\n",
       "      <th>0</th>\n",
       "      <td>0002eb2aff20e181397afe8cdebdd395</td>\n",
       "      <td>1</td>\n",
       "      <td>0</td>\n",
       "      <td>1</td>\n",
       "      <td>1</td>\n",
       "      <td>1.000000</td>\n",
       "    </tr>\n",
       "    <tr>\n",
       "      <th>1</th>\n",
       "      <td>00065a00b971b5e1629d504e0ddf2da0</td>\n",
       "      <td>27</td>\n",
       "      <td>-4</td>\n",
       "      <td>1</td>\n",
       "      <td>5</td>\n",
       "      <td>-0.600000</td>\n",
       "    </tr>\n",
       "    <tr>\n",
       "      <th>2</th>\n",
       "      <td>0006a238065c3acb128041e666b58f07</td>\n",
       "      <td>13</td>\n",
       "      <td>0</td>\n",
       "      <td>2</td>\n",
       "      <td>2</td>\n",
       "      <td>1.000000</td>\n",
       "    </tr>\n",
       "    <tr>\n",
       "      <th>3</th>\n",
       "      <td>000795932bf3bc3ab05b5efc1b07104b</td>\n",
       "      <td>2</td>\n",
       "      <td>-1</td>\n",
       "      <td>0</td>\n",
       "      <td>1</td>\n",
       "      <td>-1.000000</td>\n",
       "    </tr>\n",
       "    <tr>\n",
       "      <th>4</th>\n",
       "      <td>00084b153bbf7f4a8c1df3b638e07765</td>\n",
       "      <td>15</td>\n",
       "      <td>-9</td>\n",
       "      <td>4</td>\n",
       "      <td>13</td>\n",
       "      <td>-0.384615</td>\n",
       "    </tr>\n",
       "  </tbody>\n",
       "</table>\n",
       "</div>"
      ],
      "text/plain": [
       "                           Username  Urls_num  dom_neg_scien  dom_pos_scien  \\\n",
       "0  0002eb2aff20e181397afe8cdebdd395         1              0              1   \n",
       "1  00065a00b971b5e1629d504e0ddf2da0        27             -4              1   \n",
       "2  0006a238065c3acb128041e666b58f07        13              0              2   \n",
       "3  000795932bf3bc3ab05b5efc1b07104b         2             -1              0   \n",
       "4  00084b153bbf7f4a8c1df3b638e07765        15             -9              4   \n",
       "\n",
       "   pol_num  user_pol  \n",
       "0        1  1.000000  \n",
       "1        5 -0.600000  \n",
       "2        2  1.000000  \n",
       "3        1 -1.000000  \n",
       "4       13 -0.384615  "
      ]
     },
     "execution_count": 39,
     "metadata": {},
     "output_type": "execute_result"
    }
   ],
   "source": [
    "df_tweetscov19_unique_user_0 = df_tweetscov19_unique_user_0.reset_index()\n",
    "df_tweetscov19_unique_user_0.head()"
   ]
  },
  {
   "cell_type": "code",
   "execution_count": 40,
   "id": "785cf834",
   "metadata": {},
   "outputs": [],
   "source": [
    "pfad_tsv3 = 'C:/Mo/tweetDB/tweetscov19/TweetsCov19_tsv/data_sample/dom_label/tweetscov19_unique_user_dom_science.tsv'\n",
    "\n",
    "with open(pfad_tsv3, 'w', newline='', encoding=\"utf-8\") as out_file:\n",
    "    tsv_writer = csv.writer(out_file, delimiter=\"\\t\")\n",
    "    for idx, row in df_tweetscov19_unique_user_0.iterrows():\n",
    "        tsv_writer.writerow(row.values.tolist())"
   ]
  },
  {
   "cell_type": "code",
   "execution_count": null,
   "id": "41324ded",
   "metadata": {},
   "outputs": [],
   "source": []
  },
  {
   "cell_type": "code",
   "execution_count": null,
   "id": "90eaa4af",
   "metadata": {},
   "outputs": [],
   "source": []
  },
  {
   "cell_type": "code",
   "execution_count": 225,
   "id": "0c06e05d",
   "metadata": {},
   "outputs": [
    {
     "name": "stdout",
     "output_type": "stream",
     "text": [
      "Shape : (9409841, 5)\n"
     ]
    },
    {
     "data": {
      "text/html": [
       "<div>\n",
       "<style scoped>\n",
       "    .dataframe tbody tr th:only-of-type {\n",
       "        vertical-align: middle;\n",
       "    }\n",
       "\n",
       "    .dataframe tbody tr th {\n",
       "        vertical-align: top;\n",
       "    }\n",
       "\n",
       "    .dataframe thead th {\n",
       "        text-align: right;\n",
       "    }\n",
       "</style>\n",
       "<table border=\"1\" class=\"dataframe\">\n",
       "  <thead>\n",
       "    <tr style=\"text-align: right;\">\n",
       "      <th></th>\n",
       "      <th>Tweet_Id</th>\n",
       "      <th>Username</th>\n",
       "      <th>is_deleted</th>\n",
       "      <th>URLs_dom</th>\n",
       "      <th>URLs_num</th>\n",
       "    </tr>\n",
       "  </thead>\n",
       "  <tbody>\n",
       "    <tr>\n",
       "      <th>0</th>\n",
       "      <td>1178791636039589889</td>\n",
       "      <td>DCComics</td>\n",
       "      <td>False</td>\n",
       "      <td>dcuniverseinfinite.com</td>\n",
       "      <td>1</td>\n",
       "    </tr>\n",
       "    <tr>\n",
       "      <th>1</th>\n",
       "      <td>1178791641265639424</td>\n",
       "      <td>seanberdyz</td>\n",
       "      <td>True</td>\n",
       "      <td>carrd.co</td>\n",
       "      <td>1</td>\n",
       "    </tr>\n",
       "    <tr>\n",
       "      <th>2</th>\n",
       "      <td>1178791640573579264</td>\n",
       "      <td>AnArtistAtBirth</td>\n",
       "      <td>True</td>\n",
       "      <td>0</td>\n",
       "      <td>0</td>\n",
       "    </tr>\n",
       "    <tr>\n",
       "      <th>3</th>\n",
       "      <td>1178791644797255680</td>\n",
       "      <td>lagosboygang</td>\n",
       "      <td>True</td>\n",
       "      <td>0</td>\n",
       "      <td>0</td>\n",
       "    </tr>\n",
       "    <tr>\n",
       "      <th>4</th>\n",
       "      <td>1178791648056217600</td>\n",
       "      <td>Phenom_Hoops</td>\n",
       "      <td>False</td>\n",
       "      <td>phenomhoopreport.com</td>\n",
       "      <td>1</td>\n",
       "    </tr>\n",
       "  </tbody>\n",
       "</table>\n",
       "</div>"
      ],
      "text/plain": [
       "              Tweet_Id         Username  is_deleted                URLs_dom  \\\n",
       "0  1178791636039589889         DCComics       False  dcuniverseinfinite.com   \n",
       "1  1178791641265639424       seanberdyz        True                carrd.co   \n",
       "2  1178791640573579264  AnArtistAtBirth        True                       0   \n",
       "3  1178791644797255680     lagosboygang        True                       0   \n",
       "4  1178791648056217600     Phenom_Hoops       False    phenomhoopreport.com   \n",
       "\n",
       "   URLs_num  \n",
       "0         1  \n",
       "1         1  \n",
       "2         0  \n",
       "3         0  \n",
       "4         1  "
      ]
     },
     "execution_count": 225,
     "metadata": {},
     "output_type": "execute_result"
    }
   ],
   "source": [
    "pfad_tsv3 = 'C:/Mo/tweetDB/tweetscov19/TweetsCov19_tsv/data_sample/tweetskb_sample/url/tweetskb_sample_id_is_urls.tsv'\n",
    "\n",
    "df_tweetskb = pd.read_csv(pfad_tsv3, sep='\\t', error_bad_lines=False, names=['Tweet_Id', \"Username\", 'is_deleted', 'URLs_dom', 'URLs_num'])\n",
    "pd.options.display.max_columns = None\n",
    "print('Shape :', df_tweetskb.shape)\n",
    "df_tweetskb.head()"
   ]
  },
  {
   "cell_type": "code",
   "execution_count": 226,
   "id": "6fb2914d",
   "metadata": {},
   "outputs": [],
   "source": [
    "df_tweetskb['URLs_dom'] = df_tweetskb['URLs_dom'].astype(str)\n",
    "df_tweetskb['dom_neg_scien'] = df_tweetskb.apply(lambda row: get_science_pol(row['URLs_dom']) if (row['URLs_dom'] != '0') else 0, axis=1)"
   ]
  },
  {
   "cell_type": "code",
   "execution_count": 227,
   "id": "0d6ae275",
   "metadata": {},
   "outputs": [
    {
     "data": {
      "text/plain": [
       "(21155, 6)"
      ]
     },
     "execution_count": 227,
     "metadata": {},
     "output_type": "execute_result"
    }
   ],
   "source": [
    "df_tweetskb[df_tweetskb['dom_neg_scien'] < 0].shape"
   ]
  },
  {
   "cell_type": "code",
   "execution_count": 228,
   "id": "84693b26",
   "metadata": {},
   "outputs": [],
   "source": [
    "df_tweetskb['dom_pos_scien'] = df_tweetskb.apply(lambda row: get_scienc_pos(row['URLs_dom']) if (row['URLs_dom'] != '0') else 0, axis=1)"
   ]
  },
  {
   "cell_type": "code",
   "execution_count": 229,
   "id": "7de83846",
   "metadata": {},
   "outputs": [
    {
     "data": {
      "text/plain": [
       "(14601, 7)"
      ]
     },
     "execution_count": 229,
     "metadata": {},
     "output_type": "execute_result"
    }
   ],
   "source": [
    "df_tweetskb[df_tweetskb['dom_pos_scien'] > 0].shape"
   ]
  },
  {
   "cell_type": "code",
   "execution_count": 230,
   "id": "b9f3e654",
   "metadata": {},
   "outputs": [],
   "source": [
    "df_tweetskb_unique_user = df_tweetskb.groupby('Username')['URLs_num', 'dom_neg_scien', 'dom_pos_scien'].sum()"
   ]
  },
  {
   "cell_type": "code",
   "execution_count": 231,
   "id": "083f81c8",
   "metadata": {},
   "outputs": [
    {
     "data": {
      "text/plain": [
       "(5208425, 3)"
      ]
     },
     "execution_count": 231,
     "metadata": {},
     "output_type": "execute_result"
    }
   ],
   "source": [
    "df_tweetskb_unique_user.shape"
   ]
  },
  {
   "cell_type": "code",
   "execution_count": 232,
   "id": "b8be5f81",
   "metadata": {},
   "outputs": [
    {
     "data": {
      "text/html": [
       "<div>\n",
       "<style scoped>\n",
       "    .dataframe tbody tr th:only-of-type {\n",
       "        vertical-align: middle;\n",
       "    }\n",
       "\n",
       "    .dataframe tbody tr th {\n",
       "        vertical-align: top;\n",
       "    }\n",
       "\n",
       "    .dataframe thead th {\n",
       "        text-align: right;\n",
       "    }\n",
       "</style>\n",
       "<table border=\"1\" class=\"dataframe\">\n",
       "  <thead>\n",
       "    <tr style=\"text-align: right;\">\n",
       "      <th></th>\n",
       "      <th>URLs_num</th>\n",
       "      <th>dom_neg_scien</th>\n",
       "      <th>dom_pos_scien</th>\n",
       "    </tr>\n",
       "    <tr>\n",
       "      <th>Username</th>\n",
       "      <th></th>\n",
       "      <th></th>\n",
       "      <th></th>\n",
       "    </tr>\n",
       "  </thead>\n",
       "  <tbody>\n",
       "    <tr>\n",
       "      <th>00000000</th>\n",
       "      <td>0</td>\n",
       "      <td>0</td>\n",
       "      <td>0</td>\n",
       "    </tr>\n",
       "    <tr>\n",
       "      <th>000000000yt</th>\n",
       "      <td>0</td>\n",
       "      <td>0</td>\n",
       "      <td>0</td>\n",
       "    </tr>\n",
       "    <tr>\n",
       "      <th>00000000martin</th>\n",
       "      <td>0</td>\n",
       "      <td>0</td>\n",
       "      <td>0</td>\n",
       "    </tr>\n",
       "    <tr>\n",
       "      <th>000000911a</th>\n",
       "      <td>0</td>\n",
       "      <td>0</td>\n",
       "      <td>0</td>\n",
       "    </tr>\n",
       "    <tr>\n",
       "      <th>000000_127</th>\n",
       "      <td>0</td>\n",
       "      <td>0</td>\n",
       "      <td>0</td>\n",
       "    </tr>\n",
       "  </tbody>\n",
       "</table>\n",
       "</div>"
      ],
      "text/plain": [
       "                URLs_num  dom_neg_scien  dom_pos_scien\n",
       "Username                                              \n",
       "00000000               0              0              0\n",
       "000000000yt            0              0              0\n",
       "00000000martin         0              0              0\n",
       "000000911a             0              0              0\n",
       "000000_127             0              0              0"
      ]
     },
     "execution_count": 232,
     "metadata": {},
     "output_type": "execute_result"
    }
   ],
   "source": [
    "df_tweetskb_unique_user.head()"
   ]
  },
  {
   "cell_type": "code",
   "execution_count": 233,
   "id": "4b40c366",
   "metadata": {},
   "outputs": [],
   "source": [
    "df_tweetskb_unique_user['pol_num'] = df_tweetskb_unique_user.apply(lambda row: (row['dom_pos_scien'] - row['dom_neg_scien']), axis=1)"
   ]
  },
  {
   "cell_type": "code",
   "execution_count": 234,
   "id": "4bd8ed8c",
   "metadata": {},
   "outputs": [
    {
     "data": {
      "text/html": [
       "<div>\n",
       "<style scoped>\n",
       "    .dataframe tbody tr th:only-of-type {\n",
       "        vertical-align: middle;\n",
       "    }\n",
       "\n",
       "    .dataframe tbody tr th {\n",
       "        vertical-align: top;\n",
       "    }\n",
       "\n",
       "    .dataframe thead th {\n",
       "        text-align: right;\n",
       "    }\n",
       "</style>\n",
       "<table border=\"1\" class=\"dataframe\">\n",
       "  <thead>\n",
       "    <tr style=\"text-align: right;\">\n",
       "      <th></th>\n",
       "      <th>URLs_num</th>\n",
       "      <th>dom_neg_scien</th>\n",
       "      <th>dom_pos_scien</th>\n",
       "      <th>pol_num</th>\n",
       "    </tr>\n",
       "    <tr>\n",
       "      <th>Username</th>\n",
       "      <th></th>\n",
       "      <th></th>\n",
       "      <th></th>\n",
       "      <th></th>\n",
       "    </tr>\n",
       "  </thead>\n",
       "  <tbody>\n",
       "    <tr>\n",
       "      <th>0nehunter69</th>\n",
       "      <td>4</td>\n",
       "      <td>-3</td>\n",
       "      <td>3</td>\n",
       "      <td>6</td>\n",
       "    </tr>\n",
       "    <tr>\n",
       "      <th>10thAmendment</th>\n",
       "      <td>10</td>\n",
       "      <td>-8</td>\n",
       "      <td>7</td>\n",
       "      <td>15</td>\n",
       "    </tr>\n",
       "    <tr>\n",
       "      <th>123RHGreen</th>\n",
       "      <td>54</td>\n",
       "      <td>-18</td>\n",
       "      <td>17</td>\n",
       "      <td>35</td>\n",
       "    </tr>\n",
       "    <tr>\n",
       "      <th>1776AmericaUSA</th>\n",
       "      <td>12</td>\n",
       "      <td>-7</td>\n",
       "      <td>4</td>\n",
       "      <td>11</td>\n",
       "    </tr>\n",
       "    <tr>\n",
       "      <th>1776Resistance</th>\n",
       "      <td>13</td>\n",
       "      <td>-3</td>\n",
       "      <td>0</td>\n",
       "      <td>3</td>\n",
       "    </tr>\n",
       "  </tbody>\n",
       "</table>\n",
       "</div>"
      ],
      "text/plain": [
       "                URLs_num  dom_neg_scien  dom_pos_scien  pol_num\n",
       "Username                                                       \n",
       "0nehunter69            4             -3              3        6\n",
       "10thAmendment         10             -8              7       15\n",
       "123RHGreen            54            -18             17       35\n",
       "1776AmericaUSA        12             -7              4       11\n",
       "1776Resistance        13             -3              0        3"
      ]
     },
     "execution_count": 234,
     "metadata": {},
     "output_type": "execute_result"
    }
   ],
   "source": [
    "df_tweetskb_unique_user[df_tweetskb_unique_user['dom_neg_scien']<-2].head()"
   ]
  },
  {
   "cell_type": "code",
   "execution_count": 235,
   "id": "a1a28c7a",
   "metadata": {},
   "outputs": [],
   "source": [
    "df_tweetskb_unique_user['user_pol'] = df_tweetskb_unique_user.apply(lambda row: (row['dom_neg_scien'] + row['dom_pos_scien']) / row['pol_num'] if row['pol_num'] != 0 else 0, axis=1)"
   ]
  },
  {
   "cell_type": "code",
   "execution_count": 236,
   "id": "796521de",
   "metadata": {},
   "outputs": [],
   "source": [
    "df_tweetskb_unique_user_0 = df_tweetskb_unique_user[df_tweetskb_unique_user['user_pol'] != 0]"
   ]
  },
  {
   "cell_type": "code",
   "execution_count": 237,
   "id": "e01cf141",
   "metadata": {},
   "outputs": [
    {
     "data": {
      "text/plain": [
       "(11124, 5)"
      ]
     },
     "execution_count": 237,
     "metadata": {},
     "output_type": "execute_result"
    }
   ],
   "source": [
    "df_tweetskb_unique_user_0.shape"
   ]
  },
  {
   "cell_type": "code",
   "execution_count": 238,
   "id": "f0a3cf50",
   "metadata": {},
   "outputs": [
    {
     "data": {
      "text/plain": [
       "(5125, 5)"
      ]
     },
     "execution_count": 238,
     "metadata": {},
     "output_type": "execute_result"
    }
   ],
   "source": [
    "df_tweetskb_unique_user_0[df_tweetskb_unique_user_0['user_pol'] > 0].shape"
   ]
  },
  {
   "cell_type": "code",
   "execution_count": 239,
   "id": "b8132fec",
   "metadata": {},
   "outputs": [
    {
     "data": {
      "text/plain": [
       "(5999, 5)"
      ]
     },
     "execution_count": 239,
     "metadata": {},
     "output_type": "execute_result"
    }
   ],
   "source": [
    "df_tweetskb_unique_user_0[df_tweetskb_unique_user_0['user_pol'] < 0].shape"
   ]
  },
  {
   "cell_type": "code",
   "execution_count": 240,
   "id": "2ab9d33c",
   "metadata": {},
   "outputs": [],
   "source": [
    "def plot_histogram_kb(df, titel):\n",
    "    figure(figsize=(8, 6), dpi=80)\n",
    "    \n",
    "    fig, ax = plt.subplots()\n",
    "    colors = ['b', 'r']\n",
    "    labels = ['Liberale', 'konservativ']\n",
    "    \n",
    "    N, bins, patches = ax.hist(df, bins=10, color = 'gray')\n",
    "    for i in range(0,5):\n",
    "        patches[i].set_facecolor('khaki')\n",
    "    patches[1].set_label('Anti-Science')\n",
    "    for i in range(5,len(patches)):\n",
    "        patches[i].set_facecolor('green')\n",
    "    patches[9].set_label('Pro-Science')\n",
    "   #plt.xlabel('Anzahl der URLs', fontsize=12)\n",
    "    plt.ylabel('Anzahl der Benutzer', fontsize=12)\n",
    "    plt.title('Wissenschaftliche Polarisierung')\n",
    "    plt.legend()\n",
    "    #plt.savefig('C:/Mo/tweetDB/tweetscov19/TweetsCov19_tsv/data_aus_tsv/plot/hist/neu/'+titel+'.jpg')"
   ]
  },
  {
   "cell_type": "code",
   "execution_count": 241,
   "id": "b6489ee9",
   "metadata": {},
   "outputs": [
    {
     "data": {
      "text/plain": [
       "<Figure size 640x480 with 0 Axes>"
      ]
     },
     "metadata": {},
     "output_type": "display_data"
    },
    {
     "data": {
      "image/png": "[encoded data removed]",
      "text/plain": [
       "<Figure size 432x288 with 1 Axes>"
      ]
     },
     "metadata": {
      "needs_background": "light"
     },
     "output_type": "display_data"
    }
   ],
   "source": [
    "plot_histogram_kb(df_tweetskb_unique_user_0['user_pol'], 'df_tweetskb_URLs_science_pol')"
   ]
  },
  {
   "cell_type": "code",
   "execution_count": 242,
   "id": "efdcb14b",
   "metadata": {},
   "outputs": [],
   "source": [
    "def plot_histogram_kb_en(df, titel):\n",
    "    \n",
    "    fig, ax = plt.subplots()\n",
    "    colors = ['b', 'r']\n",
    "    labels = ['Liberale', 'konservativ']\n",
    "    \n",
    "    N, bins, patches = ax.hist(df, bins=10, color = 'gray')\n",
    "    for i in range(0,5):\n",
    "        patches[i].set_facecolor('khaki')\n",
    "    patches[1].set_label('Anti-Science')\n",
    "    for i in range(5,len(patches)):\n",
    "        patches[i].set_facecolor('green')\n",
    "    patches[9].set_label('Pro-Science')\n",
    "   \n",
    " \n",
    "          \n",
    "    ax.tick_params(axis='x', which='major', labelsize=14)\n",
    "    ax.tick_params(axis='y', which='major', labelsize=13)\n",
    "\n",
    "    figsize=(8, 6)\n",
    "    plt.ylabel('Number of users', fontsize=16)\n",
    "    ax.set_xlabel(xlabel='Moderacy', fontsize=17)\n",
    "\n",
    "    #plt.title('Political polarization', fontsize=18)\n",
    "    plt.legend( fontsize=12)\n",
    "    plt.tight_layout()\n",
    "    \n",
    "    plt.savefig('C:/Mo/tweetDB/tweetscov19/TweetsCov19_tsv/data_aus_tsv/plot/hist/pdfs/urls/'+titel+'.pdf')"
   ]
  },
  {
   "cell_type": "code",
   "execution_count": 243,
   "id": "c5afa4da",
   "metadata": {},
   "outputs": [
    {
     "data": {
      "image/png": "[encoded data removed]",
      "text/plain": [
       "<Figure size 432x288 with 1 Axes>"
      ]
     },
     "metadata": {
      "needs_background": "light"
     },
     "output_type": "display_data"
    }
   ],
   "source": [
    "plot_histogram_kb_en(df_tweetskb_unique_user_0['user_pol'], 'df_tweetskb_URLs_science_pol')"
   ]
  },
  {
   "cell_type": "code",
   "execution_count": 244,
   "id": "8e4f8e3a",
   "metadata": {},
   "outputs": [],
   "source": [
    "dfkb_del = df_tweetskb[df_tweetskb['is_deleted'] == True]\n",
    "dfkb_undel = df_tweetskb[df_tweetskb['is_deleted'] == False]"
   ]
  },
  {
   "cell_type": "code",
   "execution_count": 245,
   "id": "41c1f2b4",
   "metadata": {},
   "outputs": [],
   "source": [
    "dfkb_del = dfkb_del[['Username']]"
   ]
  },
  {
   "cell_type": "code",
   "execution_count": 246,
   "id": "4c14a99f",
   "metadata": {},
   "outputs": [
    {
     "data": {
      "text/plain": [
       "(2722577, 1)"
      ]
     },
     "execution_count": 246,
     "metadata": {},
     "output_type": "execute_result"
    }
   ],
   "source": [
    "dfkb_del.shape"
   ]
  },
  {
   "cell_type": "code",
   "execution_count": 247,
   "id": "6b0675a6",
   "metadata": {},
   "outputs": [
    {
     "name": "stdout",
     "output_type": "stream",
     "text": [
      "Shape : (2722577, 6)\n"
     ]
    },
    {
     "data": {
      "text/html": [
       "<div>\n",
       "<style scoped>\n",
       "    .dataframe tbody tr th:only-of-type {\n",
       "        vertical-align: middle;\n",
       "    }\n",
       "\n",
       "    .dataframe tbody tr th {\n",
       "        vertical-align: top;\n",
       "    }\n",
       "\n",
       "    .dataframe thead th {\n",
       "        text-align: right;\n",
       "    }\n",
       "</style>\n",
       "<table border=\"1\" class=\"dataframe\">\n",
       "  <thead>\n",
       "    <tr style=\"text-align: right;\">\n",
       "      <th></th>\n",
       "      <th>Username</th>\n",
       "      <th>URLs_num</th>\n",
       "      <th>dom_neg_scien</th>\n",
       "      <th>dom_pos_scien</th>\n",
       "      <th>pol_num</th>\n",
       "      <th>user_pol</th>\n",
       "    </tr>\n",
       "  </thead>\n",
       "  <tbody>\n",
       "    <tr>\n",
       "      <th>0</th>\n",
       "      <td>seanberdyz</td>\n",
       "      <td>NaN</td>\n",
       "      <td>NaN</td>\n",
       "      <td>NaN</td>\n",
       "      <td>NaN</td>\n",
       "      <td>NaN</td>\n",
       "    </tr>\n",
       "    <tr>\n",
       "      <th>1</th>\n",
       "      <td>AnArtistAtBirth</td>\n",
       "      <td>NaN</td>\n",
       "      <td>NaN</td>\n",
       "      <td>NaN</td>\n",
       "      <td>NaN</td>\n",
       "      <td>NaN</td>\n",
       "    </tr>\n",
       "    <tr>\n",
       "      <th>2</th>\n",
       "      <td>lagosboygang</td>\n",
       "      <td>NaN</td>\n",
       "      <td>NaN</td>\n",
       "      <td>NaN</td>\n",
       "      <td>NaN</td>\n",
       "      <td>NaN</td>\n",
       "    </tr>\n",
       "    <tr>\n",
       "      <th>3</th>\n",
       "      <td>GNetworkR</td>\n",
       "      <td>NaN</td>\n",
       "      <td>NaN</td>\n",
       "      <td>NaN</td>\n",
       "      <td>NaN</td>\n",
       "      <td>NaN</td>\n",
       "    </tr>\n",
       "    <tr>\n",
       "      <th>4</th>\n",
       "      <td>Qiyana_</td>\n",
       "      <td>NaN</td>\n",
       "      <td>NaN</td>\n",
       "      <td>NaN</td>\n",
       "      <td>NaN</td>\n",
       "      <td>NaN</td>\n",
       "    </tr>\n",
       "  </tbody>\n",
       "</table>\n",
       "</div>"
      ],
      "text/plain": [
       "          Username  URLs_num  dom_neg_scien  dom_pos_scien  pol_num  user_pol\n",
       "0       seanberdyz       NaN            NaN            NaN      NaN       NaN\n",
       "1  AnArtistAtBirth       NaN            NaN            NaN      NaN       NaN\n",
       "2     lagosboygang       NaN            NaN            NaN      NaN       NaN\n",
       "3        GNetworkR       NaN            NaN            NaN      NaN       NaN\n",
       "4          Qiyana_       NaN            NaN            NaN      NaN       NaN"
      ]
     },
     "execution_count": 247,
     "metadata": {},
     "output_type": "execute_result"
    }
   ],
   "source": [
    "dfkb_del = pd.merge(dfkb_del, df_tweetskb_unique_user_0, on='Username', how='left')\n",
    "print('Shape :', dfkb_del.shape)\n",
    "dfkb_del.head()"
   ]
  },
  {
   "cell_type": "code",
   "execution_count": 248,
   "id": "4f73aa4e",
   "metadata": {},
   "outputs": [
    {
     "data": {
      "text/plain": [
       "(1595037, 6)"
      ]
     },
     "execution_count": 248,
     "metadata": {},
     "output_type": "execute_result"
    }
   ],
   "source": [
    "dfkb_del = dfkb_del.drop_duplicates(subset=['Username'])\n",
    "dfkb_del.shape"
   ]
  },
  {
   "cell_type": "code",
   "execution_count": 249,
   "id": "120b7d54",
   "metadata": {},
   "outputs": [],
   "source": [
    "dfkb_del = dfkb_del.dropna()"
   ]
  },
  {
   "cell_type": "code",
   "execution_count": 250,
   "id": "a805a8a1",
   "metadata": {},
   "outputs": [
    {
     "data": {
      "text/plain": [
       "(3816, 6)"
      ]
     },
     "execution_count": 250,
     "metadata": {},
     "output_type": "execute_result"
    }
   ],
   "source": [
    "dfkb_del.shape"
   ]
  },
  {
   "cell_type": "code",
   "execution_count": 251,
   "id": "be150a6a",
   "metadata": {},
   "outputs": [
    {
     "data": {
      "text/plain": [
       "<Figure size 640x480 with 0 Axes>"
      ]
     },
     "metadata": {},
     "output_type": "display_data"
    },
    {
     "data": {
      "image/png": "[encoded data removed]",
      "text/plain": [
       "<Figure size 432x288 with 1 Axes>"
      ]
     },
     "metadata": {
      "needs_background": "light"
     },
     "output_type": "display_data"
    }
   ],
   "source": [
    "plot_histogram_kb(dfkb_del['user_pol'], 'df_tweetskb_del_URLs_science_pol')"
   ]
  },
  {
   "cell_type": "code",
   "execution_count": 252,
   "id": "9061ab2e",
   "metadata": {},
   "outputs": [
    {
     "data": {
      "image/png": "[encoded data removed]",
      "text/plain": [
       "<Figure size 432x288 with 1 Axes>"
      ]
     },
     "metadata": {
      "needs_background": "light"
     },
     "output_type": "display_data"
    }
   ],
   "source": [
    "plot_histogram_kb_en(dfkb_del['user_pol'], 'df_tweetskb_del_URLs_science_pol')"
   ]
  },
  {
   "cell_type": "code",
   "execution_count": 253,
   "id": "acafddfe",
   "metadata": {},
   "outputs": [],
   "source": [
    "dfkb_undel = dfkb_undel[['Username']]"
   ]
  },
  {
   "cell_type": "code",
   "execution_count": 254,
   "id": "6dbb09bc",
   "metadata": {},
   "outputs": [
    {
     "name": "stdout",
     "output_type": "stream",
     "text": [
      "Shape : (6687264, 6)\n"
     ]
    },
    {
     "data": {
      "text/html": [
       "<div>\n",
       "<style scoped>\n",
       "    .dataframe tbody tr th:only-of-type {\n",
       "        vertical-align: middle;\n",
       "    }\n",
       "\n",
       "    .dataframe tbody tr th {\n",
       "        vertical-align: top;\n",
       "    }\n",
       "\n",
       "    .dataframe thead th {\n",
       "        text-align: right;\n",
       "    }\n",
       "</style>\n",
       "<table border=\"1\" class=\"dataframe\">\n",
       "  <thead>\n",
       "    <tr style=\"text-align: right;\">\n",
       "      <th></th>\n",
       "      <th>Username</th>\n",
       "      <th>URLs_num</th>\n",
       "      <th>dom_neg_scien</th>\n",
       "      <th>dom_pos_scien</th>\n",
       "      <th>pol_num</th>\n",
       "      <th>user_pol</th>\n",
       "    </tr>\n",
       "  </thead>\n",
       "  <tbody>\n",
       "    <tr>\n",
       "      <th>0</th>\n",
       "      <td>DCComics</td>\n",
       "      <td>NaN</td>\n",
       "      <td>NaN</td>\n",
       "      <td>NaN</td>\n",
       "      <td>NaN</td>\n",
       "      <td>NaN</td>\n",
       "    </tr>\n",
       "    <tr>\n",
       "      <th>1</th>\n",
       "      <td>Phenom_Hoops</td>\n",
       "      <td>NaN</td>\n",
       "      <td>NaN</td>\n",
       "      <td>NaN</td>\n",
       "      <td>NaN</td>\n",
       "      <td>NaN</td>\n",
       "    </tr>\n",
       "    <tr>\n",
       "      <th>2</th>\n",
       "      <td>CivilityW</td>\n",
       "      <td>NaN</td>\n",
       "      <td>NaN</td>\n",
       "      <td>NaN</td>\n",
       "      <td>NaN</td>\n",
       "      <td>NaN</td>\n",
       "    </tr>\n",
       "    <tr>\n",
       "      <th>3</th>\n",
       "      <td>SedgieRN</td>\n",
       "      <td>NaN</td>\n",
       "      <td>NaN</td>\n",
       "      <td>NaN</td>\n",
       "      <td>NaN</td>\n",
       "      <td>NaN</td>\n",
       "    </tr>\n",
       "    <tr>\n",
       "      <th>4</th>\n",
       "      <td>MobiHealthNews</td>\n",
       "      <td>NaN</td>\n",
       "      <td>NaN</td>\n",
       "      <td>NaN</td>\n",
       "      <td>NaN</td>\n",
       "      <td>NaN</td>\n",
       "    </tr>\n",
       "  </tbody>\n",
       "</table>\n",
       "</div>"
      ],
      "text/plain": [
       "         Username  URLs_num  dom_neg_scien  dom_pos_scien  pol_num  user_pol\n",
       "0        DCComics       NaN            NaN            NaN      NaN       NaN\n",
       "1    Phenom_Hoops       NaN            NaN            NaN      NaN       NaN\n",
       "2       CivilityW       NaN            NaN            NaN      NaN       NaN\n",
       "3        SedgieRN       NaN            NaN            NaN      NaN       NaN\n",
       "4  MobiHealthNews       NaN            NaN            NaN      NaN       NaN"
      ]
     },
     "execution_count": 254,
     "metadata": {},
     "output_type": "execute_result"
    }
   ],
   "source": [
    "dfkb_undel = pd.merge(dfkb_undel, df_tweetskb_unique_user_0, on='Username', how='left')\n",
    "print('Shape :', dfkb_undel.shape)\n",
    "dfkb_undel.head()"
   ]
  },
  {
   "cell_type": "code",
   "execution_count": 255,
   "id": "a790a44d",
   "metadata": {},
   "outputs": [
    {
     "data": {
      "text/plain": [
       "(3741709, 6)"
      ]
     },
     "execution_count": 255,
     "metadata": {},
     "output_type": "execute_result"
    }
   ],
   "source": [
    "dfkb_undel = dfkb_undel.drop_duplicates(subset=['Username'])\n",
    "dfkb_undel.shape"
   ]
  },
  {
   "cell_type": "code",
   "execution_count": 256,
   "id": "5cdc6543",
   "metadata": {},
   "outputs": [],
   "source": [
    "dfkb_undel = dfkb_undel.dropna()"
   ]
  },
  {
   "cell_type": "code",
   "execution_count": 257,
   "id": "e0b3ed9f",
   "metadata": {},
   "outputs": [
    {
     "data": {
      "text/plain": [
       "(8013, 6)"
      ]
     },
     "execution_count": 257,
     "metadata": {},
     "output_type": "execute_result"
    }
   ],
   "source": [
    "dfkb_undel.shape"
   ]
  },
  {
   "cell_type": "code",
   "execution_count": 258,
   "id": "a401c386",
   "metadata": {
    "scrolled": true
   },
   "outputs": [
    {
     "data": {
      "text/plain": [
       "<Figure size 640x480 with 0 Axes>"
      ]
     },
     "metadata": {},
     "output_type": "display_data"
    },
    {
     "data": {
      "image/png": "[encoded data removed]",
      "text/plain": [
       "<Figure size 432x288 with 1 Axes>"
      ]
     },
     "metadata": {
      "needs_background": "light"
     },
     "output_type": "display_data"
    }
   ],
   "source": [
    "plot_histogram_kb(dfkb_undel['user_pol'], 'df_tweetskb_undel_URLs_science_pol')"
   ]
  },
  {
   "cell_type": "code",
   "execution_count": 259,
   "id": "96876348",
   "metadata": {},
   "outputs": [
    {
     "data": {
      "image/png": "[encoded data removed]",
      "text/plain": [
       "<Figure size 432x288 with 1 Axes>"
      ]
     },
     "metadata": {
      "needs_background": "light"
     },
     "output_type": "display_data"
    }
   ],
   "source": [
    "plot_histogram_kb_en(dfkb_undel['user_pol'], 'df_tweetskb_undel_URLs_science_pol')"
   ]
  },
  {
   "cell_type": "code",
   "execution_count": 71,
   "id": "19bf9d90",
   "metadata": {},
   "outputs": [],
   "source": [
    "pfad_tsv3 = 'C:/Mo/tweetDB/tweetscov19/TweetsCov19_tsv/data_sample/dom_label/tweetskb_dom_schience.tsv'\n",
    "\n",
    "with open(pfad_tsv3, 'w', newline='', encoding=\"utf-8\") as out_file:\n",
    "    tsv_writer = csv.writer(out_file, delimiter=\"\\t\")\n",
    "    for idx, row in df_tweetskb.iterrows():\n",
    "        tsv_writer.writerow(row.values.tolist())"
   ]
  },
  {
   "cell_type": "code",
   "execution_count": 69,
   "id": "1848f791",
   "metadata": {},
   "outputs": [
    {
     "data": {
      "text/html": [
       "<div>\n",
       "<style scoped>\n",
       "    .dataframe tbody tr th:only-of-type {\n",
       "        vertical-align: middle;\n",
       "    }\n",
       "\n",
       "    .dataframe tbody tr th {\n",
       "        vertical-align: top;\n",
       "    }\n",
       "\n",
       "    .dataframe thead th {\n",
       "        text-align: right;\n",
       "    }\n",
       "</style>\n",
       "<table border=\"1\" class=\"dataframe\">\n",
       "  <thead>\n",
       "    <tr style=\"text-align: right;\">\n",
       "      <th></th>\n",
       "      <th>Username</th>\n",
       "      <th>URLs_num</th>\n",
       "      <th>dom_neg_scien</th>\n",
       "      <th>dom_pos_scien</th>\n",
       "      <th>pol_num</th>\n",
       "      <th>user_pol</th>\n",
       "    </tr>\n",
       "  </thead>\n",
       "  <tbody>\n",
       "    <tr>\n",
       "      <th>0</th>\n",
       "      <td>01_zebra</td>\n",
       "      <td>4</td>\n",
       "      <td>-1</td>\n",
       "      <td>0</td>\n",
       "      <td>1</td>\n",
       "      <td>-1.0</td>\n",
       "    </tr>\n",
       "    <tr>\n",
       "      <th>1</th>\n",
       "      <td>01sth02</td>\n",
       "      <td>1</td>\n",
       "      <td>0</td>\n",
       "      <td>1</td>\n",
       "      <td>1</td>\n",
       "      <td>1.0</td>\n",
       "    </tr>\n",
       "    <tr>\n",
       "      <th>2</th>\n",
       "      <td>02MK13B</td>\n",
       "      <td>1</td>\n",
       "      <td>-1</td>\n",
       "      <td>0</td>\n",
       "      <td>1</td>\n",
       "      <td>-1.0</td>\n",
       "    </tr>\n",
       "    <tr>\n",
       "      <th>3</th>\n",
       "      <td>08_diane08</td>\n",
       "      <td>1</td>\n",
       "      <td>-1</td>\n",
       "      <td>0</td>\n",
       "      <td>1</td>\n",
       "      <td>-1.0</td>\n",
       "    </tr>\n",
       "    <tr>\n",
       "      <th>4</th>\n",
       "      <td>0Ludicris5</td>\n",
       "      <td>4</td>\n",
       "      <td>-2</td>\n",
       "      <td>0</td>\n",
       "      <td>2</td>\n",
       "      <td>-1.0</td>\n",
       "    </tr>\n",
       "  </tbody>\n",
       "</table>\n",
       "</div>"
      ],
      "text/plain": [
       "     Username  URLs_num  dom_neg_scien  dom_pos_scien  pol_num  user_pol\n",
       "0    01_zebra         4             -1              0        1      -1.0\n",
       "1     01sth02         1              0              1        1       1.0\n",
       "2     02MK13B         1             -1              0        1      -1.0\n",
       "3  08_diane08         1             -1              0        1      -1.0\n",
       "4  0Ludicris5         4             -2              0        2      -1.0"
      ]
     },
     "execution_count": 69,
     "metadata": {},
     "output_type": "execute_result"
    }
   ],
   "source": [
    "df_tweetskb_unique_user_0 = df_tweetskb_unique_user_0.reset_index()\n",
    "df_tweetskb_unique_user_0.head()"
   ]
  },
  {
   "cell_type": "code",
   "execution_count": 70,
   "id": "a6021604",
   "metadata": {},
   "outputs": [
    {
     "data": {
      "text/plain": [
       "(11311, 6)"
      ]
     },
     "execution_count": 70,
     "metadata": {},
     "output_type": "execute_result"
    }
   ],
   "source": [
    "df_tweetskb_unique_user_0.shape"
   ]
  },
  {
   "cell_type": "code",
   "execution_count": 72,
   "id": "f56478e0",
   "metadata": {},
   "outputs": [],
   "source": [
    "pfad_tsv3 = 'C:/Mo/tweetDB/tweetscov19/TweetsCov19_tsv/data_sample/dom_label/tweetskb_unique_user_dom_science.tsv'\n",
    "\n",
    "with open(pfad_tsv3, 'w', newline='', encoding=\"utf-8\") as out_file:\n",
    "    tsv_writer = csv.writer(out_file, delimiter=\"\\t\")\n",
    "    for idx, row in df_tweetskb_unique_user_0.iterrows():\n",
    "        tsv_writer.writerow(row.values.tolist())"
   ]
  },
  {
   "cell_type": "code",
   "execution_count": null,
   "id": "86b86234",
   "metadata": {},
   "outputs": [],
   "source": []
  }
 ],
 "metadata": {
  "kernelspec": {
   "display_name": "Python 3",
   "language": "python",
   "name": "python3"
  },
  "language_info": {
   "codemirror_mode": {
    "name": "ipython",
    "version": 3
   },
   "file_extension": ".py",
   "mimetype": "text/x-python",
   "name": "python",
   "nbconvert_exporter": "python",
   "pygments_lexer": "ipython3",
   "version": "3.8.8"
  }
 },
 "nbformat": 4,
 "nbformat_minor": 5
}
