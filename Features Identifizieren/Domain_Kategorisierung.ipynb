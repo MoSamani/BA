{
 "cells": [
  {
   "cell_type": "code",
   "execution_count": 1,
   "metadata": {},
   "outputs": [],
   "source": [
    "#CSV Bibliothek importieren \n",
    "import csv\n",
    "#Pandas importieren und als pd bezeichnen\n",
    "import pandas as pd\n",
    "#Numpy importieren und als np bezeichnen \n",
    "import numpy as np\n",
    "#Json Biliothek importieren\n",
    "import json\n",
    "#Obere Schranke für die Größe der Daten auf 100,000,000 setzen  \n",
    "csv.field_size_limit(100000000)\n",
    "#Maximale Anzahl von Zeilen und Spalten Zeigen \n",
    "pd.options.display.max_columns = None\n",
    "pd.options.display.max_rows = None\n",
    "#Die Warnings zu Konsole leiten\n",
    "import warnings\n",
    "warnings.filterwarnings('ignore')\n",
    "#Pydomain-Package importieren\n",
    "from pydomains import *"
   ]
  },
  {
   "cell_type": "markdown",
   "metadata": {},
   "source": [
    "---"
   ]
  },
  {
   "cell_type": "markdown",
   "metadata": {},
   "source": [
    "# Kategorisierung der Domäne \n",
    "#### Zuerst werden die Tweets in TweetsCov19 bearbeitet, dann die Tweets in TweetsKB"
   ]
  },
  {
   "cell_type": "markdown",
   "metadata": {},
   "source": [
    "1. Daten werden gelesen.\n",
    "2. Die einzigartige Domäne werden extrahiert.\n",
    "3. Die extrahierten Domäne werden ktegorisiert.(Falls Domain zu mehrere Kategorien zugewiesen wurde, wird die Erste ausgewählt)\n",
    "4. Anhand der kategorisierten Domäne, werden alle anderen Domäne in dem Datensazu kategorisieret.\n",
    "- Der Grund für diesen Ansatz ist:<br>\n",
    "    1. Die Geschwindigkeit zu erhöhen, da das Modell langsam ist. Es könnte nicht für alle Tweets immer wieder geladen werden.\n",
    "    2. Es existieren viele Domain-Wiederholungen im Datensatz\n",
    "    3. Der Ansatz wurde für jeden Datensatz separat angewendet\n"
   ]
  },
  {
   "cell_type": "markdown",
   "metadata": {},
   "source": [
    "***"
   ]
  },
  {
   "cell_type": "markdown",
   "metadata": {},
   "source": [
    "**TweetsCov19 :**\n",
    "- Dataframe lesen\n",
    "- Die einzigartige Domäne aussortieren"
   ]
  },
  {
   "cell_type": "code",
   "execution_count": 4,
   "metadata": {},
   "outputs": [],
   "source": [
    "#Labels und Pfad\n",
    "TweetsCov19_labels = ['Tweet_Id', \"Benutzername\", 'Zeitstempel', 'Abonnenten', 'Abonnierten', 'Retweets', 'Likes', 'Entities', 'Stimmung', 'Erwähnungen', 'Hashtags', 'URLs', 'Text', 'Ist_gelöscht', 'Anzahl der Erwähnungen', 'Anzahl der Hashtags', 'Anzahl der URLs', 'Domäne', 'Textlänge', 'Lesbarkeit']\n",
    "TweetsCov19_Pfad =  'C:/Mo/tweetDB/tweetscov19/TweetsCov19_tsv/data_sample/tweetscov19_sample/TweetsCov19_stichprobe_lesbarkeit.tsv'"
   ]
  },
  {
   "cell_type": "code",
   "execution_count": 5,
   "metadata": {},
   "outputs": [
    {
     "name": "stdout",
     "output_type": "stream",
     "text": [
      "Form: (9409841, 20)\n"
     ]
    },
    {
     "data": {
      "text/html": [
       "<div>\n",
       "<style scoped>\n",
       "    .dataframe tbody tr th:only-of-type {\n",
       "        vertical-align: middle;\n",
       "    }\n",
       "\n",
       "    .dataframe tbody tr th {\n",
       "        vertical-align: top;\n",
       "    }\n",
       "\n",
       "    .dataframe thead th {\n",
       "        text-align: right;\n",
       "    }\n",
       "</style>\n",
       "<table border=\"1\" class=\"dataframe\">\n",
       "  <thead>\n",
       "    <tr style=\"text-align: right;\">\n",
       "      <th></th>\n",
       "      <th>Tweet_Id</th>\n",
       "      <th>Benutzername</th>\n",
       "      <th>Zeitstempel</th>\n",
       "      <th>Abonnenten</th>\n",
       "      <th>Abonnierten</th>\n",
       "      <th>Retweets</th>\n",
       "      <th>Likes</th>\n",
       "      <th>Entities</th>\n",
       "      <th>Stimmung</th>\n",
       "      <th>Erwähnungen</th>\n",
       "      <th>Hashtags</th>\n",
       "      <th>URLs</th>\n",
       "      <th>Text</th>\n",
       "      <th>Ist_gelöscht</th>\n",
       "      <th>Anzahl der Erwähnungen</th>\n",
       "      <th>Anzahl der Hashtags</th>\n",
       "      <th>Anzahl der URLs</th>\n",
       "      <th>Domäne</th>\n",
       "      <th>Textlänge</th>\n",
       "      <th>Lesbarkeit</th>\n",
       "    </tr>\n",
       "  </thead>\n",
       "  <tbody>\n",
       "    <tr>\n",
       "      <th>0</th>\n",
       "      <td>1178791637348212736</td>\n",
       "      <td>c57d4fb895c5f4a33d2a2b24709f93b5</td>\n",
       "      <td>2019-09-30 22:00:01+00:00</td>\n",
       "      <td>764191</td>\n",
       "      <td>132</td>\n",
       "      <td>19</td>\n",
       "      <td>180</td>\n",
       "      <td>foodie:Foodie:-2.096663959988218;</td>\n",
       "      <td>1 -1</td>\n",
       "      <td>null;</td>\n",
       "      <td>HalloweenTime?</td>\n",
       "      <td>null;</td>\n",
       "      <td>Has your appetite materialized just as fast as...</td>\n",
       "      <td>True</td>\n",
       "      <td>0</td>\n",
       "      <td>1</td>\n",
       "      <td>0</td>\n",
       "      <td>0</td>\n",
       "      <td>155</td>\n",
       "      <td>76.553</td>\n",
       "    </tr>\n",
       "    <tr>\n",
       "      <th>1</th>\n",
       "      <td>1178791641601232896</td>\n",
       "      <td>627f7d4ef584ba33a676a4ebcb861cdb</td>\n",
       "      <td>2019-09-30 22:00:02+00:00</td>\n",
       "      <td>321189</td>\n",
       "      <td>26833</td>\n",
       "      <td>32</td>\n",
       "      <td>43</td>\n",
       "      <td>mainland china:Mainland_China:-1.6252666161640...</td>\n",
       "      <td>1 -1</td>\n",
       "      <td>null;</td>\n",
       "      <td>HongKong</td>\n",
       "      <td>https://www.catholicnewsagency.com/news/amid-h...</td>\n",
       "      <td>The persecution of Catholics in mainland China...</td>\n",
       "      <td>False</td>\n",
       "      <td>0</td>\n",
       "      <td>1</td>\n",
       "      <td>1</td>\n",
       "      <td>catholicnewsagency.com</td>\n",
       "      <td>204</td>\n",
       "      <td>29.468</td>\n",
       "    </tr>\n",
       "    <tr>\n",
       "      <th>2</th>\n",
       "      <td>1178791643509612547</td>\n",
       "      <td>7966d5716c1c4f33591b17755184e3d6</td>\n",
       "      <td>2019-09-30 22:00:03+00:00</td>\n",
       "      <td>14209</td>\n",
       "      <td>10623</td>\n",
       "      <td>90</td>\n",
       "      <td>182</td>\n",
       "      <td>brexit:Brexit:-1.582809637810362;hear hear:Hea...</td>\n",
       "      <td>1 -2</td>\n",
       "      <td>null;</td>\n",
       "      <td>Brexit</td>\n",
       "      <td>null;</td>\n",
       "      <td>Hear, hear..\\nEmily: You were an outspoken cri...</td>\n",
       "      <td>False</td>\n",
       "      <td>0</td>\n",
       "      <td>1</td>\n",
       "      <td>0</td>\n",
       "      <td>0</td>\n",
       "      <td>163</td>\n",
       "      <td>79.534</td>\n",
       "    </tr>\n",
       "    <tr>\n",
       "      <th>3</th>\n",
       "      <td>1178791644214235137</td>\n",
       "      <td>f17996c036ed4cd981f5448fe00d9ed2</td>\n",
       "      <td>2019-09-30 22:00:03+00:00</td>\n",
       "      <td>2264986</td>\n",
       "      <td>655</td>\n",
       "      <td>60</td>\n",
       "      <td>528</td>\n",
       "      <td>null;</td>\n",
       "      <td>3 -1</td>\n",
       "      <td>amstandardca.</td>\n",
       "      <td>BlueJays</td>\n",
       "      <td>null;</td>\n",
       "      <td>We wrapped up the season with a WINNING week! ...</td>\n",
       "      <td>False</td>\n",
       "      <td>1</td>\n",
       "      <td>1</td>\n",
       "      <td>0</td>\n",
       "      <td>0</td>\n",
       "      <td>132</td>\n",
       "      <td>85.889</td>\n",
       "    </tr>\n",
       "    <tr>\n",
       "      <th>4</th>\n",
       "      <td>1178791645371875329</td>\n",
       "      <td>32a54e5f6d8a67de1bffd2e689594dc8</td>\n",
       "      <td>2019-09-30 22:00:03+00:00</td>\n",
       "      <td>171</td>\n",
       "      <td>138</td>\n",
       "      <td>33</td>\n",
       "      <td>117</td>\n",
       "      <td>my family:My_Family:-2.6353832182503094;roll t...</td>\n",
       "      <td>4 -1</td>\n",
       "      <td>null;</td>\n",
       "      <td>null;</td>\n",
       "      <td>null;</td>\n",
       "      <td>Super excited to announce that I will be spend...</td>\n",
       "      <td>False</td>\n",
       "      <td>0</td>\n",
       "      <td>0</td>\n",
       "      <td>0</td>\n",
       "      <td>0</td>\n",
       "      <td>257</td>\n",
       "      <td>61.203</td>\n",
       "    </tr>\n",
       "  </tbody>\n",
       "</table>\n",
       "</div>"
      ],
      "text/plain": [
       "              Tweet_Id                      Benutzername  \\\n",
       "0  1178791637348212736  c57d4fb895c5f4a33d2a2b24709f93b5   \n",
       "1  1178791641601232896  627f7d4ef584ba33a676a4ebcb861cdb   \n",
       "2  1178791643509612547  7966d5716c1c4f33591b17755184e3d6   \n",
       "3  1178791644214235137  f17996c036ed4cd981f5448fe00d9ed2   \n",
       "4  1178791645371875329  32a54e5f6d8a67de1bffd2e689594dc8   \n",
       "\n",
       "                 Zeitstempel  Abonnenten  Abonnierten  Retweets  Likes  \\\n",
       "0  2019-09-30 22:00:01+00:00      764191          132        19    180   \n",
       "1  2019-09-30 22:00:02+00:00      321189        26833        32     43   \n",
       "2  2019-09-30 22:00:03+00:00       14209        10623        90    182   \n",
       "3  2019-09-30 22:00:03+00:00     2264986          655        60    528   \n",
       "4  2019-09-30 22:00:03+00:00         171          138        33    117   \n",
       "\n",
       "                                            Entities Stimmung    Erwähnungen  \\\n",
       "0                  foodie:Foodie:-2.096663959988218;     1 -1          null;   \n",
       "1  mainland china:Mainland_China:-1.6252666161640...     1 -1          null;   \n",
       "2  brexit:Brexit:-1.582809637810362;hear hear:Hea...     1 -2          null;   \n",
       "3                                              null;     3 -1  amstandardca.   \n",
       "4  my family:My_Family:-2.6353832182503094;roll t...     4 -1          null;   \n",
       "\n",
       "         Hashtags                                               URLs  \\\n",
       "0  HalloweenTime?                                              null;   \n",
       "1        HongKong  https://www.catholicnewsagency.com/news/amid-h...   \n",
       "2          Brexit                                              null;   \n",
       "3        BlueJays                                              null;   \n",
       "4           null;                                              null;   \n",
       "\n",
       "                                                Text  Ist_gelöscht  \\\n",
       "0  Has your appetite materialized just as fast as...          True   \n",
       "1  The persecution of Catholics in mainland China...         False   \n",
       "2  Hear, hear..\\nEmily: You were an outspoken cri...         False   \n",
       "3  We wrapped up the season with a WINNING week! ...         False   \n",
       "4  Super excited to announce that I will be spend...         False   \n",
       "\n",
       "   Anzahl der Erwähnungen  Anzahl der Hashtags  Anzahl der URLs  \\\n",
       "0                       0                    1                0   \n",
       "1                       0                    1                1   \n",
       "2                       0                    1                0   \n",
       "3                       1                    1                0   \n",
       "4                       0                    0                0   \n",
       "\n",
       "                   Domäne  Textlänge  Lesbarkeit  \n",
       "0                       0        155      76.553  \n",
       "1  catholicnewsagency.com        204      29.468  \n",
       "2                       0        163      79.534  \n",
       "3                       0        132      85.889  \n",
       "4                       0        257      61.203  "
      ]
     },
     "execution_count": 5,
     "metadata": {},
     "output_type": "execute_result"
    }
   ],
   "source": [
    "#Stichprobe von Tweetscov19 lesen\n",
    "\n",
    "df_tweetscov19 = pd.read_csv(TweetsCov19_Pfad, sep='\\t', error_bad_lines=False, names=TweetsCov19_labels)\n",
    "print('Form:', df_tweetscov19.shape)\n",
    "df_tweetscov19.head()"
   ]
  },
  {
   "cell_type": "code",
   "execution_count": 11,
   "metadata": {},
   "outputs": [],
   "source": [
    "#Zuerst wird hier eine neue Dataframe erzeugt, die nur die Domäne enthält.\n",
    "#Dann geht die funktion jede zeile der Dataframe durch, und alle Domäne, die in einem Tweet geben, durchsucht.\n",
    "#Jede neue Domain wird zu der Dictionary hinzugefügt.\n",
    "#Bei jeder Wiederholung erhöht die Methode die Value von dementsprechender Domain um eins.\n",
    "\n",
    "df_tweetsCov19_domaene = df_tweetscov19[['Domäne']]\n",
    "\n",
    "dict_tweetscov19_domaene = {}\n",
    "\n",
    "for idx, row in df_tweetsCov19_domaene.iterrows():\n",
    "    list_domaene = []\n",
    "    list_domaene = (row.values.tolist()[0])\n",
    "    list_domaene = str(list_domaene).split()\n",
    "    \n",
    "    list_domaene = np.array(list_domaene)\n",
    "    list_domaene = np.unique(list_domaene)\n",
    "    list_domaene = list_domaene.tolist()\n",
    "    \n",
    "    for i in range(0, len(list_domaene)):\n",
    "        domain = list_domaene[i]\n",
    "        if domain not in dict_tweetscov19_domaene:\n",
    "            dict_tweetscov19_domaene[domain] = 1\n",
    "        else :\n",
    "            dict_tweetscov19_domaene[domain] = dict_tweetscov19_domaene[domain] +1\n",
    "    #print(dict_tweetscov19_domaene)"
   ]
  },
  {
   "cell_type": "code",
   "execution_count": 12,
   "metadata": {},
   "outputs": [],
   "source": [
    "#Hier wird aus Dictionary eine Dataframe erzeugt\n",
    "df_dict_tweetsCov19_domaene = pd.DataFrame(dict_tweetscov19_domaene.items(), columns=['Domain','Zahl'])"
   ]
  },
  {
   "cell_type": "code",
   "execution_count": 13,
   "metadata": {},
   "outputs": [
    {
     "name": "stdout",
     "output_type": "stream",
     "text": [
      "Anzahl der benutzten Domäne für TweetsCov19(unique) : 181023\n",
      "Anzahl der benutzten Domäne für TweetsCov19(sum) : 2508542\n"
     ]
    }
   ],
   "source": [
    "anzahl_der_domaene = df_tweetscov19['Anzahl der URLs'].sum()\n",
    "print('Anzahl der benutzten Domäne für TweetsCov19(unique) :', df_dict_tweetsCov19_domaene.Domain.size)\n",
    "print('Anzahl der benutzten Domäne für TweetsCov19(sum) :', anzahl_der_domaene)"
   ]
  },
  {
   "cell_type": "code",
   "execution_count": 14,
   "metadata": {},
   "outputs": [
    {
     "data": {
      "text/html": [
       "<div>\n",
       "<style scoped>\n",
       "    .dataframe tbody tr th:only-of-type {\n",
       "        vertical-align: middle;\n",
       "    }\n",
       "\n",
       "    .dataframe tbody tr th {\n",
       "        vertical-align: top;\n",
       "    }\n",
       "\n",
       "    .dataframe thead th {\n",
       "        text-align: right;\n",
       "    }\n",
       "</style>\n",
       "<table border=\"1\" class=\"dataframe\">\n",
       "  <thead>\n",
       "    <tr style=\"text-align: right;\">\n",
       "      <th></th>\n",
       "      <th>Domain</th>\n",
       "      <th>Zahl</th>\n",
       "      <th>prozent</th>\n",
       "    </tr>\n",
       "  </thead>\n",
       "  <tbody>\n",
       "    <tr>\n",
       "      <th>0</th>\n",
       "      <td>0</td>\n",
       "      <td>6990537</td>\n",
       "      <td>278.669323</td>\n",
       "    </tr>\n",
       "    <tr>\n",
       "      <th>4</th>\n",
       "      <td>twitter.com</td>\n",
       "      <td>268243</td>\n",
       "      <td>10.693184</td>\n",
       "    </tr>\n",
       "    <tr>\n",
       "      <th>19</th>\n",
       "      <td>youtube.com</td>\n",
       "      <td>119790</td>\n",
       "      <td>4.775284</td>\n",
       "    </tr>\n",
       "    <tr>\n",
       "      <th>52</th>\n",
       "      <td>instagram.com</td>\n",
       "      <td>60505</td>\n",
       "      <td>2.411959</td>\n",
       "    </tr>\n",
       "    <tr>\n",
       "      <th>8</th>\n",
       "      <td>nytimes.com</td>\n",
       "      <td>35565</td>\n",
       "      <td>1.417756</td>\n",
       "    </tr>\n",
       "    <tr>\n",
       "      <th>89</th>\n",
       "      <td>theguardian.com</td>\n",
       "      <td>33835</td>\n",
       "      <td>1.348791</td>\n",
       "    </tr>\n",
       "    <tr>\n",
       "      <th>11</th>\n",
       "      <td>cnn.com</td>\n",
       "      <td>29813</td>\n",
       "      <td>1.188459</td>\n",
       "    </tr>\n",
       "    <tr>\n",
       "      <th>25</th>\n",
       "      <td>washingtonpost.com</td>\n",
       "      <td>25053</td>\n",
       "      <td>0.998708</td>\n",
       "    </tr>\n",
       "    <tr>\n",
       "      <th>136</th>\n",
       "      <td>reuters.com</td>\n",
       "      <td>21106</td>\n",
       "      <td>0.841365</td>\n",
       "    </tr>\n",
       "    <tr>\n",
       "      <th>110</th>\n",
       "      <td>facebook.com</td>\n",
       "      <td>20472</td>\n",
       "      <td>0.816092</td>\n",
       "    </tr>\n",
       "  </tbody>\n",
       "</table>\n",
       "</div>"
      ],
      "text/plain": [
       "                 Domain     Zahl     prozent\n",
       "0                     0  6990537  278.669323\n",
       "4           twitter.com   268243   10.693184\n",
       "19          youtube.com   119790    4.775284\n",
       "52        instagram.com    60505    2.411959\n",
       "8           nytimes.com    35565    1.417756\n",
       "89      theguardian.com    33835    1.348791\n",
       "11              cnn.com    29813    1.188459\n",
       "25   washingtonpost.com    25053    0.998708\n",
       "136         reuters.com    21106    0.841365\n",
       "110        facebook.com    20472    0.816092"
      ]
     },
     "execution_count": 14,
     "metadata": {},
     "output_type": "execute_result"
    }
   ],
   "source": [
    "#Zuerst wird den prozentualen Ansatz der Domäne im Datensatz berechnet.\n",
    "#Dann wird die Datafarme aufsteigend sortiert und einen Teil davon wird ausgegeben.\n",
    "df_dict_tweetsCov19_domaene['prozent'] =  df_dict_tweetsCov19_domaene['Zahl'].apply(lambda row : ((row /anzahl_der_domaene) * 100) )\n",
    "\n",
    "df_dict_tweetsCov19_domaene['Zahl'] = df_dict_tweetsCov19_domaene['Zahl'].astype(int) \n",
    "df_dict_tweetsCov19_domaene.sort_values(by = ['Zahl'], ascending = False, inplace = True)\n",
    "df_dict_tweetsCov19_domaene.head(10)"
   ]
  },
  {
   "cell_type": "code",
   "execution_count": 15,
   "metadata": {},
   "outputs": [],
   "source": [
    "#Domäne speichern.\n",
    "pfad_tsv2 = 'C:/Mo/tweetDB/tweetscov19/TweetsCov19_tsv/data_sample/TweetsCov19_sample/TweetsCov19_stichprobe_domaene.tsv'\n",
    "with open(pfad_tsv2, 'w', newline='', encoding=\"utf-8\") as out_file:\n",
    "        tsv_writer = csv.writer(out_file, delimiter=\"\\t\")\n",
    "        for idx, row in df_dict_tweetsCov19_domaene.iterrows():\n",
    "            tsv_writer.writerow(row.values.tolist())"
   ]
  },
  {
   "cell_type": "markdown",
   "metadata": {},
   "source": [
    "***"
   ]
  },
  {
   "cell_type": "markdown",
   "metadata": {},
   "source": [
    "- Test von Pydomain:"
   ]
  },
  {
   "cell_type": "code",
   "execution_count": 2,
   "metadata": {},
   "outputs": [
    {
     "name": "stdout",
     "output_type": "stream",
     "text": [
      "Using cached Shallalist data from local (C:\\Users\\mdsam\\.pydomains\\shalla_2017.csv.bz2)...\n",
      "Loading Shallalist data file...\n"
     ]
    }
   ],
   "source": [
    "df = pd.DataFrame([{'url': 'bbc.com'}])\n",
    "df_shalla_test = shalla_cat(df, domain_names='url')"
   ]
  },
  {
   "cell_type": "code",
   "execution_count": 3,
   "metadata": {},
   "outputs": [
    {
     "data": {
      "text/html": [
       "<div>\n",
       "<style scoped>\n",
       "    .dataframe tbody tr th:only-of-type {\n",
       "        vertical-align: middle;\n",
       "    }\n",
       "\n",
       "    .dataframe tbody tr th {\n",
       "        vertical-align: top;\n",
       "    }\n",
       "\n",
       "    .dataframe thead th {\n",
       "        text-align: right;\n",
       "    }\n",
       "</style>\n",
       "<table border=\"1\" class=\"dataframe\">\n",
       "  <thead>\n",
       "    <tr style=\"text-align: right;\">\n",
       "      <th></th>\n",
       "      <th>url</th>\n",
       "      <th>shalla_2017_domain</th>\n",
       "      <th>shalla_2017_cat</th>\n",
       "    </tr>\n",
       "  </thead>\n",
       "  <tbody>\n",
       "    <tr>\n",
       "      <th>0</th>\n",
       "      <td>bbc.com</td>\n",
       "      <td>bbc.com</td>\n",
       "      <td>news</td>\n",
       "    </tr>\n",
       "  </tbody>\n",
       "</table>\n",
       "</div>"
      ],
      "text/plain": [
       "       url shalla_2017_domain shalla_2017_cat\n",
       "0  bbc.com            bbc.com            news"
      ]
     },
     "execution_count": 3,
     "metadata": {},
     "output_type": "execute_result"
    }
   ],
   "source": [
    "df_shalla_test"
   ]
  },
  {
   "cell_type": "code",
   "execution_count": 4,
   "metadata": {},
   "outputs": [
    {
     "data": {
      "text/plain": [
       "['bbc.com', 'bbc.com', 'news']"
      ]
     },
     "execution_count": 4,
     "metadata": {},
     "output_type": "execute_result"
    }
   ],
   "source": [
    "df_shalla_test.values.tolist()[0]"
   ]
  },
  {
   "cell_type": "markdown",
   "metadata": {},
   "source": [
    "<br>"
   ]
  },
  {
   "cell_type": "markdown",
   "metadata": {},
   "source": [
    "**Die einzigartigen Domäne kategorisieren**"
   ]
  },
  {
   "cell_type": "markdown",
   "metadata": {},
   "source": [
    "***"
   ]
  },
  {
   "cell_type": "code",
   "execution_count": 16,
   "metadata": {},
   "outputs": [
    {
     "name": "stdout",
     "output_type": "stream",
     "text": [
      "Using cached Shallalist data from local (C:\\Users\\mdsam\\.pydomains\\shalla_2017.csv.bz2)...\n",
      "Loading Shallalist data file...\n"
     ]
    }
   ],
   "source": [
    "#Hier wird mit Hilfe von Pydomain die Domäne kategorisiert\n",
    "df_tweetsCov19_domaene = df_dict_tweetsCov19_domaene[['Domain']]\n",
    "df_tweetscov19_domaaene_shalla_kat = shalla_cat(df_tweetsCov19_domaene, domain_names='Domain')"
   ]
  },
  {
   "cell_type": "code",
   "execution_count": 17,
   "metadata": {},
   "outputs": [
    {
     "data": {
      "text/html": [
       "<div>\n",
       "<style scoped>\n",
       "    .dataframe tbody tr th:only-of-type {\n",
       "        vertical-align: middle;\n",
       "    }\n",
       "\n",
       "    .dataframe tbody tr th {\n",
       "        vertical-align: top;\n",
       "    }\n",
       "\n",
       "    .dataframe thead th {\n",
       "        text-align: right;\n",
       "    }\n",
       "</style>\n",
       "<table border=\"1\" class=\"dataframe\">\n",
       "  <thead>\n",
       "    <tr style=\"text-align: right;\">\n",
       "      <th></th>\n",
       "      <th>Domain</th>\n",
       "      <th>shalla_2017_domain</th>\n",
       "      <th>shalla_2017_cat</th>\n",
       "    </tr>\n",
       "  </thead>\n",
       "  <tbody>\n",
       "    <tr>\n",
       "      <th>0</th>\n",
       "      <td>0</td>\n",
       "      <td>0</td>\n",
       "      <td>NaN</td>\n",
       "    </tr>\n",
       "    <tr>\n",
       "      <th>1</th>\n",
       "      <td>twitter.com</td>\n",
       "      <td>twitter.com</td>\n",
       "      <td>socialnet</td>\n",
       "    </tr>\n",
       "    <tr>\n",
       "      <th>2</th>\n",
       "      <td>youtube.com</td>\n",
       "      <td>youtube.com</td>\n",
       "      <td>movies</td>\n",
       "    </tr>\n",
       "    <tr>\n",
       "      <th>3</th>\n",
       "      <td>instagram.com</td>\n",
       "      <td>instagram.com</td>\n",
       "      <td>socialnet|imagehosting</td>\n",
       "    </tr>\n",
       "    <tr>\n",
       "      <th>4</th>\n",
       "      <td>nytimes.com</td>\n",
       "      <td>nytimes.com</td>\n",
       "      <td>news</td>\n",
       "    </tr>\n",
       "  </tbody>\n",
       "</table>\n",
       "</div>"
      ],
      "text/plain": [
       "          Domain shalla_2017_domain         shalla_2017_cat\n",
       "0              0                  0                     NaN\n",
       "1    twitter.com        twitter.com               socialnet\n",
       "2    youtube.com        youtube.com                  movies\n",
       "3  instagram.com      instagram.com  socialnet|imagehosting\n",
       "4    nytimes.com        nytimes.com                    news"
      ]
     },
     "execution_count": 17,
     "metadata": {},
     "output_type": "execute_result"
    }
   ],
   "source": [
    "df_tweetscov19_domaaene_shalla_kat.head()"
   ]
  },
  {
   "cell_type": "code",
   "execution_count": 20,
   "metadata": {},
   "outputs": [],
   "source": [
    "#Erste Zeile wird gelöscht.\n",
    "df_tweetscov19_domaaene_shalla_kat.drop(index=df_tweetskb_domaaene_shalla_kat.index[:1], axis=0, inplace=True)"
   ]
  },
  {
   "cell_type": "code",
   "execution_count": 21,
   "metadata": {},
   "outputs": [
    {
     "data": {
      "text/html": [
       "<div>\n",
       "<style scoped>\n",
       "    .dataframe tbody tr th:only-of-type {\n",
       "        vertical-align: middle;\n",
       "    }\n",
       "\n",
       "    .dataframe tbody tr th {\n",
       "        vertical-align: top;\n",
       "    }\n",
       "\n",
       "    .dataframe thead th {\n",
       "        text-align: right;\n",
       "    }\n",
       "</style>\n",
       "<table border=\"1\" class=\"dataframe\">\n",
       "  <thead>\n",
       "    <tr style=\"text-align: right;\">\n",
       "      <th></th>\n",
       "      <th>Domain</th>\n",
       "      <th>shalla_2017_cat</th>\n",
       "    </tr>\n",
       "  </thead>\n",
       "  <tbody>\n",
       "    <tr>\n",
       "      <th>1</th>\n",
       "      <td>twitter.com</td>\n",
       "      <td>socialnet</td>\n",
       "    </tr>\n",
       "    <tr>\n",
       "      <th>2</th>\n",
       "      <td>youtube.com</td>\n",
       "      <td>movies</td>\n",
       "    </tr>\n",
       "    <tr>\n",
       "      <th>3</th>\n",
       "      <td>instagram.com</td>\n",
       "      <td>socialnet|imagehosting</td>\n",
       "    </tr>\n",
       "    <tr>\n",
       "      <th>4</th>\n",
       "      <td>nytimes.com</td>\n",
       "      <td>news</td>\n",
       "    </tr>\n",
       "    <tr>\n",
       "      <th>5</th>\n",
       "      <td>theguardian.com</td>\n",
       "      <td>news</td>\n",
       "    </tr>\n",
       "  </tbody>\n",
       "</table>\n",
       "</div>"
      ],
      "text/plain": [
       "            Domain         shalla_2017_cat\n",
       "1      twitter.com               socialnet\n",
       "2      youtube.com                  movies\n",
       "3    instagram.com  socialnet|imagehosting\n",
       "4      nytimes.com                    news\n",
       "5  theguardian.com                    news"
      ]
     },
     "execution_count": 21,
     "metadata": {},
     "output_type": "execute_result"
    }
   ],
   "source": [
    "#Eine Spalte der Dataframe wird gelöscht.\n",
    "#Dataframe wird neu indexiert.\n",
    "df_tweetscov19_domaaene_shalla_kat = df_tweetscov19_domaaene_shalla_kat[['Domain', 'shalla_2017_cat']]\n",
    "df_tweetscov19_domaaene_shalla_kat.head()"
   ]
  },
  {
   "cell_type": "code",
   "execution_count": 22,
   "metadata": {},
   "outputs": [
    {
     "name": "stdout",
     "output_type": "stream",
     "text": [
      "Domains Kategorisiert!\n"
     ]
    }
   ],
   "source": [
    "#Hier wird mithilfe von get_cat() die erste Kategorie für die Domain ausgewäht, die zu mehrere Kategorien zugewiesen wurde.\n",
    "def get_cat(domains):\n",
    "    l = domains.split('|')\n",
    "    return l[0]\n",
    "\n",
    "df_tweetscov19_domaaene_shalla_kat['shalla_2017_cat'] = df_tweetscov19_domaaene_shalla_kat['shalla_2017_cat'].astype(str)\n",
    "\n",
    "df_tweetscov19_domaaene_shalla_kat['dom_cat'] = df_tweetscov19_domaaene_shalla_kat.apply(lambda row: get_cat(row['shalla_2017_cat']), axis=1)\n",
    "print('Domains Kategorisiert!')\n"
   ]
  },
  {
   "cell_type": "code",
   "execution_count": 24,
   "metadata": {},
   "outputs": [
    {
     "data": {
      "text/html": [
       "<div>\n",
       "<style scoped>\n",
       "    .dataframe tbody tr th:only-of-type {\n",
       "        vertical-align: middle;\n",
       "    }\n",
       "\n",
       "    .dataframe tbody tr th {\n",
       "        vertical-align: top;\n",
       "    }\n",
       "\n",
       "    .dataframe thead th {\n",
       "        text-align: right;\n",
       "    }\n",
       "</style>\n",
       "<table border=\"1\" class=\"dataframe\">\n",
       "  <thead>\n",
       "    <tr style=\"text-align: right;\">\n",
       "      <th></th>\n",
       "      <th>Domain</th>\n",
       "      <th>shalla_2017_cat</th>\n",
       "      <th>dom_cat</th>\n",
       "    </tr>\n",
       "  </thead>\n",
       "  <tbody>\n",
       "    <tr>\n",
       "      <th>1</th>\n",
       "      <td>twitter.com</td>\n",
       "      <td>socialnet</td>\n",
       "      <td>socialnet</td>\n",
       "    </tr>\n",
       "    <tr>\n",
       "      <th>2</th>\n",
       "      <td>youtube.com</td>\n",
       "      <td>movies</td>\n",
       "      <td>movies</td>\n",
       "    </tr>\n",
       "    <tr>\n",
       "      <th>3</th>\n",
       "      <td>instagram.com</td>\n",
       "      <td>socialnet|imagehosting</td>\n",
       "      <td>socialnet</td>\n",
       "    </tr>\n",
       "    <tr>\n",
       "      <th>4</th>\n",
       "      <td>nytimes.com</td>\n",
       "      <td>news</td>\n",
       "      <td>news</td>\n",
       "    </tr>\n",
       "    <tr>\n",
       "      <th>5</th>\n",
       "      <td>theguardian.com</td>\n",
       "      <td>news</td>\n",
       "      <td>news</td>\n",
       "    </tr>\n",
       "  </tbody>\n",
       "</table>\n",
       "</div>"
      ],
      "text/plain": [
       "            Domain         shalla_2017_cat    dom_cat\n",
       "1      twitter.com               socialnet  socialnet\n",
       "2      youtube.com                  movies     movies\n",
       "3    instagram.com  socialnet|imagehosting  socialnet\n",
       "4      nytimes.com                    news       news\n",
       "5  theguardian.com                    news       news"
      ]
     },
     "execution_count": 24,
     "metadata": {},
     "output_type": "execute_result"
    }
   ],
   "source": [
    "df_tweetscov19_domaaene_shalla_kat.head()"
   ]
  },
  {
   "cell_type": "code",
   "execution_count": 25,
   "metadata": {},
   "outputs": [],
   "source": [
    "#Kategorisierten Daten speichern.\n",
    "pfad_tsv2 = 'C:/Mo/tweetDB/tweetscov19/TweetsCov19_tsv/data_sample/TweetsCov19_sample/TweetsCov19_stichprobe_domaene_kategorisiert.tsv'\n",
    "\n",
    "with open(pfad_tsv2, 'w', newline='', encoding=\"utf-8\") as out_file:\n",
    "        tsv_writer = csv.writer(out_file, delimiter=\"\\t\")\n",
    "        for idx, row in df_tweetscov19_domaaene_shalla_kat.iterrows():\n",
    "            tsv_writer.writerow(row.values.tolist())"
   ]
  },
  {
   "cell_type": "markdown",
   "metadata": {},
   "source": [
    "***"
   ]
  },
  {
   "cell_type": "markdown",
   "metadata": {},
   "source": [
    "**Alle Domäne in Tweets mithilfe der Domain-Kategorie-Liste kategorisieren** "
   ]
  },
  {
   "cell_type": "markdown",
   "metadata": {},
   "source": [
    "***"
   ]
  },
  {
   "cell_type": "code",
   "execution_count": 26,
   "metadata": {},
   "outputs": [
    {
     "name": "stdout",
     "output_type": "stream",
     "text": [
      "Domains!!!\n"
     ]
    }
   ],
   "source": [
    "#Hir wird jede Zeile der Datframe(ein Tweet) gelesen, die benutzten Domäne werden zu get_dom_categorisiert() geschickt.\n",
    "#Für jede Domain in Tweet such die Methode die Liste.\n",
    "#Falls die Domain kategorisiert ist, nimmt sie die Kategorie von der Domain.\n",
    "#Alle benutzten Kategorien werden mit einer Leerzeichen dazwischen zusammengefügt.\n",
    "#Das Endergebnis wird zurückgegeben.\n",
    "\n",
    "def get_dom_categorisiert(domains):\n",
    "    dom = ''\n",
    "    list_dom = domains.split()\n",
    "    for i in range(0, len(list_dom)):\n",
    "        line = df_tweetscov19_domaaene_shalla_kat.loc[df_tweetscov19_domaaene_shalla_kat['Domain'] == list_dom[i]]\n",
    "        line = line.values.tolist()\n",
    "        #print(line)\n",
    "        try :\n",
    "            if i == 0 :\n",
    "                dom = dom + line[0][2]\n",
    "            else:\n",
    "                dom = dom + ' ' +line[0][2]\n",
    "        except IndexError:\n",
    "            print('Index out of range!')\n",
    "            #print(line)\n",
    "            \n",
    "    return dom\n",
    "\n",
    "df_tweetscov19['Domäne'] = df_tweetscov19['Domäne'].astype(str)\n",
    "\n",
    "df_tweetscov19['dom_cat'] = df_tweetscov19.apply(lambda row: get_dom_categorisiert(row['Domäne']) if (row['Domäne'] != '0') else 0, axis=1)\n",
    "print('Domains!!!')\n",
    "\n"
   ]
  },
  {
   "cell_type": "code",
   "execution_count": 14,
   "metadata": {},
   "outputs": [],
   "source": [
    "#Dataframe wird eingeschränkt und gespeichert.\n",
    "df_tweetscov19 = df_tweetscov19[['Tweet_Id', 'Ist_gelöscht', 'Domäne', 'Anzahl der URLs', 'dom_cat']]\n",
    "\n",
    "pfad2='C:/Mo/tweetDB/tweetscov19/TweetsCov19_tsv/urls/predicted/shalla/tweetscov19_domains_shalla_categorisieret.tsv'\n",
    "\n",
    "with open(pfad2, 'w', newline='', encoding=\"utf-8\") as out_file:\n",
    "        tsv_writer = csv.writer(out_file, delimiter=\"\\t\")\n",
    "        for idx, row in df_tweetscov19.iterrows():\n",
    "            tsv_writer.writerow(row.values.tolist())"
   ]
  },
  {
   "cell_type": "markdown",
   "metadata": {},
   "source": [
    "***"
   ]
  },
  {
   "cell_type": "markdown",
   "metadata": {},
   "source": [
    "**Die Anzahl der benutzten Domäne, die zu 10 meist benutzten Kategorien gehören, berechnen**"
   ]
  },
  {
   "cell_type": "markdown",
   "metadata": {},
   "source": [
    "****"
   ]
  },
  {
   "cell_type": "code",
   "execution_count": 30,
   "metadata": {},
   "outputs": [
    {
     "name": "stdout",
     "output_type": "stream",
     "text": [
      "(9409841, 5)\n"
     ]
    },
    {
     "data": {
      "text/html": [
       "<div>\n",
       "<style scoped>\n",
       "    .dataframe tbody tr th:only-of-type {\n",
       "        vertical-align: middle;\n",
       "    }\n",
       "\n",
       "    .dataframe tbody tr th {\n",
       "        vertical-align: top;\n",
       "    }\n",
       "\n",
       "    .dataframe thead th {\n",
       "        text-align: right;\n",
       "    }\n",
       "</style>\n",
       "<table border=\"1\" class=\"dataframe\">\n",
       "  <thead>\n",
       "    <tr style=\"text-align: right;\">\n",
       "      <th></th>\n",
       "      <th>Tweet_Id</th>\n",
       "      <th>Ist_gelöscht</th>\n",
       "      <th>Domäne</th>\n",
       "      <th>Anzahl der URLs</th>\n",
       "      <th>dom_cat</th>\n",
       "    </tr>\n",
       "  </thead>\n",
       "  <tbody>\n",
       "    <tr>\n",
       "      <th>0</th>\n",
       "      <td>1178791787386814465</td>\n",
       "      <td>False</td>\n",
       "      <td>0</td>\n",
       "      <td>0</td>\n",
       "      <td>0</td>\n",
       "    </tr>\n",
       "    <tr>\n",
       "      <th>1</th>\n",
       "      <td>1178791985106153472</td>\n",
       "      <td>True</td>\n",
       "      <td>twitter.com</td>\n",
       "      <td>1</td>\n",
       "      <td>socialnet</td>\n",
       "    </tr>\n",
       "    <tr>\n",
       "      <th>2</th>\n",
       "      <td>1178793230223183872</td>\n",
       "      <td>False</td>\n",
       "      <td>goo.gl</td>\n",
       "      <td>1</td>\n",
       "      <td>urlshortener</td>\n",
       "    </tr>\n",
       "    <tr>\n",
       "      <th>3</th>\n",
       "      <td>1178795172206919680</td>\n",
       "      <td>True</td>\n",
       "      <td>0</td>\n",
       "      <td>0</td>\n",
       "      <td>0</td>\n",
       "    </tr>\n",
       "    <tr>\n",
       "      <th>4</th>\n",
       "      <td>1178798309491822592</td>\n",
       "      <td>False</td>\n",
       "      <td>0</td>\n",
       "      <td>0</td>\n",
       "      <td>0</td>\n",
       "    </tr>\n",
       "  </tbody>\n",
       "</table>\n",
       "</div>"
      ],
      "text/plain": [
       "              Tweet_Id  Ist_gelöscht       Domäne  Anzahl der URLs  \\\n",
       "0  1178791787386814465         False            0                0   \n",
       "1  1178791985106153472          True  twitter.com                1   \n",
       "2  1178793230223183872         False       goo.gl                1   \n",
       "3  1178795172206919680          True            0                0   \n",
       "4  1178798309491822592         False            0                0   \n",
       "\n",
       "        dom_cat  \n",
       "0             0  \n",
       "1     socialnet  \n",
       "2  urlshortener  \n",
       "3             0  \n",
       "4             0  "
      ]
     },
     "execution_count": 30,
     "metadata": {},
     "output_type": "execute_result"
    }
   ],
   "source": [
    "#Hier wird die kategorisierten Domäne wieder gelesen. \n",
    "pfad ='C:/Mo/tweetDB/tweetscov19/TweetsCov19_tsv/urls/predicted/shalla/tweetscov19_domains_shalla_categorisieret.tsv'\n",
    "\n",
    "df_tweetscov19_domains_shalla_cat = pd.read_csv(pfad, sep='\\t', error_bad_lines=False, names=['Tweet_Id', 'Ist_gelöscht', 'Domäne', 'Anzahl der URLs', 'dom_cat'])\n",
    "print(df_tweetscov19_domains_shalla_cat.shape)\n",
    "df_tweetscov19_domains_shalla_cat.head()"
   ]
  },
  {
   "cell_type": "code",
   "execution_count": 31,
   "metadata": {},
   "outputs": [],
   "source": [
    "#Hier werden wie davor die meist benutzten Kategorien berechnet.\n",
    "df_tweetscov19_domains_shalla_cat['dom_cat'] = df_tweetscov19_domains_shalla_cat['dom_cat'].astype(str)\n",
    "\n",
    "dict_tweetscov_domains_cat = {}\n",
    "x = 0\n",
    "list_cat = []\n",
    "for idx, row in df_tweetscov19_domains_shalla_cat.iterrows():\n",
    "    list_cat = (row.values.tolist()[4])\n",
    "    list_cat = list_cat.split()\n",
    "    for i in range(0, len(list_cat)):\n",
    "        cat = list_cat[i]\n",
    "        x += 1\n",
    "        if cat not in dict_tweetscov_domains_cat:\n",
    "            dict_tweetscov_domains_cat[cat] = 1\n",
    "        else :\n",
    "            dict_tweetscov_domains_cat[cat] = dict_tweetscov_domains_cat[cat] +1\n",
    "    #if x == 50:\n",
    "    #    break"
   ]
  },
  {
   "cell_type": "code",
   "execution_count": 32,
   "metadata": {},
   "outputs": [],
   "source": [
    "#Die erzeugte Dictionary wird zu einer Dataframe umgewandelt.\n",
    "df_dict_tweetscov19_dom_cat = pd.DataFrame(dict_tweetscov_domains_cat.items(), columns=['Domain_kat','Zahl'])"
   ]
  },
  {
   "cell_type": "code",
   "execution_count": 33,
   "metadata": {},
   "outputs": [
    {
     "name": "stdout",
     "output_type": "stream",
     "text": [
      "Anzahl der Kategorien: 75\n"
     ]
    }
   ],
   "source": [
    "print('Anzahl der Kategorien:' ,df_dict_tweetscov19_dom_cat.Domain_kat.size)"
   ]
  },
  {
   "cell_type": "code",
   "execution_count": 34,
   "metadata": {},
   "outputs": [],
   "source": [
    "URLs_sum = df_tweetscov19_domains_shalla_cat['Anzahl der URLs'].sum()"
   ]
  },
  {
   "cell_type": "code",
   "execution_count": 35,
   "metadata": {},
   "outputs": [
    {
     "data": {
      "text/html": [
       "<div>\n",
       "<style scoped>\n",
       "    .dataframe tbody tr th:only-of-type {\n",
       "        vertical-align: middle;\n",
       "    }\n",
       "\n",
       "    .dataframe tbody tr th {\n",
       "        vertical-align: top;\n",
       "    }\n",
       "\n",
       "    .dataframe thead th {\n",
       "        text-align: right;\n",
       "    }\n",
       "</style>\n",
       "<table border=\"1\" class=\"dataframe\">\n",
       "  <thead>\n",
       "    <tr style=\"text-align: right;\">\n",
       "      <th></th>\n",
       "      <th>index</th>\n",
       "      <th>Domain_kat</th>\n",
       "      <th>Zahl</th>\n",
       "      <th>prozent</th>\n",
       "    </tr>\n",
       "  </thead>\n",
       "  <tbody>\n",
       "    <tr>\n",
       "      <th>0</th>\n",
       "      <td>0</td>\n",
       "      <td>0</td>\n",
       "      <td>6990537</td>\n",
       "      <td>278.669323</td>\n",
       "    </tr>\n",
       "    <tr>\n",
       "      <th>1</th>\n",
       "      <td>5</td>\n",
       "      <td>nan</td>\n",
       "      <td>1126830</td>\n",
       "      <td>44.919718</td>\n",
       "    </tr>\n",
       "    <tr>\n",
       "      <th>2</th>\n",
       "      <td>4</td>\n",
       "      <td>news</td>\n",
       "      <td>641385</td>\n",
       "      <td>25.568039</td>\n",
       "    </tr>\n",
       "    <tr>\n",
       "      <th>3</th>\n",
       "      <td>1</td>\n",
       "      <td>socialnet</td>\n",
       "      <td>364531</td>\n",
       "      <td>14.531588</td>\n",
       "    </tr>\n",
       "    <tr>\n",
       "      <th>4</th>\n",
       "      <td>3</td>\n",
       "      <td>movies</td>\n",
       "      <td>125938</td>\n",
       "      <td>5.020366</td>\n",
       "    </tr>\n",
       "    <tr>\n",
       "      <th>5</th>\n",
       "      <td>11</td>\n",
       "      <td>searchengines</td>\n",
       "      <td>37265</td>\n",
       "      <td>1.485524</td>\n",
       "    </tr>\n",
       "    <tr>\n",
       "      <th>6</th>\n",
       "      <td>7</td>\n",
       "      <td>shopping</td>\n",
       "      <td>27715</td>\n",
       "      <td>1.104825</td>\n",
       "    </tr>\n",
       "    <tr>\n",
       "      <th>7</th>\n",
       "      <td>13</td>\n",
       "      <td>radiotv</td>\n",
       "      <td>23925</td>\n",
       "      <td>0.953741</td>\n",
       "    </tr>\n",
       "    <tr>\n",
       "      <th>8</th>\n",
       "      <td>8</td>\n",
       "      <td>forum</td>\n",
       "      <td>20242</td>\n",
       "      <td>0.806923</td>\n",
       "    </tr>\n",
       "    <tr>\n",
       "      <th>9</th>\n",
       "      <td>16</td>\n",
       "      <td>music</td>\n",
       "      <td>19372</td>\n",
       "      <td>0.772241</td>\n",
       "    </tr>\n",
       "    <tr>\n",
       "      <th>10</th>\n",
       "      <td>15</td>\n",
       "      <td>porn</td>\n",
       "      <td>18549</td>\n",
       "      <td>0.739434</td>\n",
       "    </tr>\n",
       "    <tr>\n",
       "      <th>11</th>\n",
       "      <td>9</td>\n",
       "      <td>government</td>\n",
       "      <td>17905</td>\n",
       "      <td>0.713761</td>\n",
       "    </tr>\n",
       "    <tr>\n",
       "      <th>12</th>\n",
       "      <td>2</td>\n",
       "      <td>urlshortener</td>\n",
       "      <td>12985</td>\n",
       "      <td>0.517631</td>\n",
       "    </tr>\n",
       "    <tr>\n",
       "      <th>13</th>\n",
       "      <td>20</td>\n",
       "      <td>education/schools</td>\n",
       "      <td>10805</td>\n",
       "      <td>0.430728</td>\n",
       "    </tr>\n",
       "    <tr>\n",
       "      <th>14</th>\n",
       "      <td>18</td>\n",
       "      <td>fortunetelling</td>\n",
       "      <td>10678</td>\n",
       "      <td>0.425666</td>\n",
       "    </tr>\n",
       "  </tbody>\n",
       "</table>\n",
       "</div>"
      ],
      "text/plain": [
       "    index         Domain_kat     Zahl     prozent\n",
       "0       0                  0  6990537  278.669323\n",
       "1       5                nan  1126830   44.919718\n",
       "2       4               news   641385   25.568039\n",
       "3       1          socialnet   364531   14.531588\n",
       "4       3             movies   125938    5.020366\n",
       "5      11      searchengines    37265    1.485524\n",
       "6       7           shopping    27715    1.104825\n",
       "7      13            radiotv    23925    0.953741\n",
       "8       8              forum    20242    0.806923\n",
       "9      16              music    19372    0.772241\n",
       "10     15               porn    18549    0.739434\n",
       "11      9         government    17905    0.713761\n",
       "12      2       urlshortener    12985    0.517631\n",
       "13     20  education/schools    10805    0.430728\n",
       "14     18     fortunetelling    10678    0.425666"
      ]
     },
     "execution_count": 35,
     "metadata": {},
     "output_type": "execute_result"
    }
   ],
   "source": [
    "#Hier wird die prozentualen Anteil der Kategorien im Datensatz berechnet, sortiert und ausgegeben.\n",
    "df_dict_tweetscov19_dom_cat['prozent'] =  df_dict_tweetscov19_dom_cat['Zahl'].apply(lambda row : ((row /URLs_sum) * 100) )\n",
    "\n",
    "df_dict_tweetscov19_dom_cat['Zahl'] = df_dict_tweetscov19_dom_cat['Zahl'].astype(int) \n",
    "df_dict_tweetscov19_dom_cat.sort_values(by = ['Zahl'], ascending = False, inplace = True)\n",
    "df_dict_tweetscov19_dom_cat = df_dict_tweetscov19_dom_cat.reset_index()\n",
    "df_dict_tweetscov19_dom_cat.head(15)"
   ]
  },
  {
   "cell_type": "code",
   "execution_count": 10,
   "metadata": {},
   "outputs": [
    {
     "name": "stdout",
     "output_type": "stream",
     "text": [
      "news!\n"
     ]
    }
   ],
   "source": [
    "#Die Anzahl der benutzten Domäne, die zu Kategorie News gehören wird hier berechnet\n",
    "def get_news_num(dom_cat):\n",
    "    l = dom_cat.split()\n",
    "    num = l.count('news')\n",
    "    return float( \"{:.2f}\".format((num / len(l) )) )\n",
    "\n",
    "df_tweetscov19_domains_shalla_cat['dom_cat'] = df_tweetscov19_domains_shalla_cat['dom_cat'].astype(str) \n",
    "\n",
    "df_tweetscov19_domains_shalla_cat['news'] = df_tweetscov19_domains_shalla_cat.apply(lambda row: get_news_num(row['dom_cat']), axis=1)\n",
    "print('news!')"
   ]
  },
  {
   "cell_type": "code",
   "execution_count": 14,
   "metadata": {},
   "outputs": [
    {
     "name": "stdout",
     "output_type": "stream",
     "text": [
      "socialnet!\n"
     ]
    }
   ],
   "source": [
    "#Die Anzahl der benutzten Domäne, die zu Kategorie Soziale Netzwerke gehören wird hier berechnet\n",
    "def get_socialnet_num(dom_cat):\n",
    "    l = dom_cat.split()\n",
    "    num = l.count('socialnet')\n",
    "    return float( \"{:.2f}\".format((num / len(l) )) )\n",
    "\n",
    "df_tweetscov19_domains_shalla_cat['socialnet'] = df_tweetscov19_domains_shalla_cat.apply(lambda row: get_socialnet_num(row['dom_cat']), axis=1)\n",
    "print('socialnet!')"
   ]
  },
  {
   "cell_type": "code",
   "execution_count": 15,
   "metadata": {},
   "outputs": [
    {
     "name": "stdout",
     "output_type": "stream",
     "text": [
      "movies!\n"
     ]
    }
   ],
   "source": [
    "#Die Anzahl der benutzten Domäne, die zu Kategorie Movies gehören wird hier berechnet\n",
    "def get_movies_num(dom_cat):\n",
    "    l = dom_cat.split()\n",
    "    num = l.count('movies')\n",
    "    return float( \"{:.2f}\".format((num / len(l) )) )\n",
    "\n",
    "df_tweetscov19_domains_shalla_cat['movies'] = df_tweetscov19_domains_shalla_cat.apply(lambda row: get_movies_num(row['dom_cat']), axis=1)\n",
    "print('movies!')"
   ]
  },
  {
   "cell_type": "code",
   "execution_count": 16,
   "metadata": {},
   "outputs": [
    {
     "name": "stdout",
     "output_type": "stream",
     "text": [
      "searchengines!\n"
     ]
    }
   ],
   "source": [
    "#Die Anzahl der benutzten Domäne, die zu Kategorie Searchengines gehören wird hier berechnet\n",
    "def get_searchengines_num(dom_cat):\n",
    "    l = dom_cat.split()\n",
    "    num = l.count('searchengines')\n",
    "    return float( \"{:.2f}\".format((num / len(l) )) )\n",
    "\n",
    "df_tweetscov19_domains_shalla_cat['searchengines'] = df_tweetscov19_domains_shalla_cat.apply(lambda row: get_searchengines_num(row['dom_cat']), axis=1)\n",
    "print('searchengines!')"
   ]
  },
  {
   "cell_type": "code",
   "execution_count": 17,
   "metadata": {},
   "outputs": [
    {
     "name": "stdout",
     "output_type": "stream",
     "text": [
      "shopping!\n"
     ]
    }
   ],
   "source": [
    "#Die Anzahl der benutzten Domäne, die zu Kategorie Shopping gehören wird hier berechnet\n",
    "def get_shopping_num(dom_cat):\n",
    "    l = dom_cat.split()\n",
    "    num = l.count('shopping')\n",
    "    return float( \"{:.2f}\".format((num / len(l) )) )\n",
    "\n",
    "df_tweetscov19_domains_shalla_cat['shopping'] = df_tweetscov19_domains_shalla_cat.apply(lambda row: get_shopping_num(row['dom_cat']), axis=1)\n",
    "print('shopping!')"
   ]
  },
  {
   "cell_type": "code",
   "execution_count": 18,
   "metadata": {},
   "outputs": [
    {
     "name": "stdout",
     "output_type": "stream",
     "text": [
      "radiotv!\n"
     ]
    }
   ],
   "source": [
    "#Die Anzahl der benutzten Domäne, die zu Kategorie Radiotv gehören wird hier berechnet\n",
    "def get_radiotv_num(dom_cat):\n",
    "    l = dom_cat.split()\n",
    "    num = l.count('radiotv')\n",
    "    return float( \"{:.2f}\".format((num / len(l) )) )\n",
    "\n",
    "df_tweetscov19_domains_shalla_cat['radiotv'] = df_tweetscov19_domains_shalla_cat.apply(lambda row: get_radiotv_num(row['dom_cat']), axis=1)\n",
    "print('radiotv!')"
   ]
  },
  {
   "cell_type": "code",
   "execution_count": 19,
   "metadata": {},
   "outputs": [
    {
     "name": "stdout",
     "output_type": "stream",
     "text": [
      "forum!\n"
     ]
    }
   ],
   "source": [
    "#Die Anzahl der benutzten Domäne, die zu Kategorie Forum gehören wird hier berechnet\n",
    "def get_forum_num(dom_cat):\n",
    "    l = dom_cat.split()\n",
    "    num = l.count('forum')\n",
    "    return float( \"{:.2f}\".format((num / len(l) )) )\n",
    "\n",
    "df_tweetscov19_domains_shalla_cat['forum'] = df_tweetscov19_domains_shalla_cat.apply(lambda row: get_forum_num(row['dom_cat']), axis=1)\n",
    "print('forum!')"
   ]
  },
  {
   "cell_type": "code",
   "execution_count": 20,
   "metadata": {},
   "outputs": [
    {
     "name": "stdout",
     "output_type": "stream",
     "text": [
      "music!\n"
     ]
    }
   ],
   "source": [
    "#Die Anzahl der benutzten Domäne, die zu Kategorie Music gehören wird hier berechnet\n",
    "def get_music_num(dom_cat):\n",
    "    l = dom_cat.split()\n",
    "    num = l.count('music')\n",
    "    return float( \"{:.2f}\".format((num / len(l) )) )\n",
    "\n",
    "df_tweetscov19_domains_shalla_cat['music'] = df_tweetscov19_domains_shalla_cat.apply(lambda row: get_music_num(row['dom_cat']), axis=1)\n",
    "print('music!')"
   ]
  },
  {
   "cell_type": "code",
   "execution_count": 21,
   "metadata": {},
   "outputs": [
    {
     "name": "stdout",
     "output_type": "stream",
     "text": [
      "porn!\n"
     ]
    }
   ],
   "source": [
    "#Die Anzahl der benutzten Domäne, die zu Kategorie Porn gehören wird hier berechnet\n",
    "def get_porn_num(dom_cat):\n",
    "    l = dom_cat.split()\n",
    "    num = l.count('porn')\n",
    "    return float( \"{:.2f}\".format((num / len(l) )) )\n",
    "\n",
    "df_tweetscov19_domains_shalla_cat['porn'] = df_tweetscov19_domains_shalla_cat.apply(lambda row: get_porn_num(row['dom_cat']), axis=1)\n",
    "print('porn!')"
   ]
  },
  {
   "cell_type": "code",
   "execution_count": 22,
   "metadata": {},
   "outputs": [
    {
     "name": "stdout",
     "output_type": "stream",
     "text": [
      "government!\n"
     ]
    }
   ],
   "source": [
    "#Die Anzahl der benutzten Domäne, die zu Kategorie goverment gehören wird hier berechnet\n",
    "def get_government_num(dom_cat):\n",
    "    l = dom_cat.split()\n",
    "    num = l.count('government')\n",
    "    return float( \"{:.2f}\".format((num / len(l) )) )\n",
    "\n",
    "df_tweetscov19_domains_shalla_cat['government'] = df_tweetscov19_domains_shalla_cat.apply(lambda row: get_government_num(row['dom_cat']), axis=1)\n",
    "print('government!')"
   ]
  },
  {
   "cell_type": "code",
   "execution_count": 23,
   "metadata": {},
   "outputs": [
    {
     "name": "stdout",
     "output_type": "stream",
     "text": [
      "others!\n"
     ]
    }
   ],
   "source": [
    "#Die Anzahl der benutzten Domäne, die alles außer bis jetzt bestimmten Kategorien sind, wird hier berechnet\n",
    "def get_others_num(dom_cat):\n",
    "    l = dom_cat.split()\n",
    "    num = l.count('news') + l.count('socialnet') + l.count('movies') + l.count('searchengines') + l.count('shopping') + l.count('radiotv') + l.count('forum') + l.count('music') + l.count('porn') + l.count('government') + l.count('0') + l.count('nan')\n",
    "    num =  len(l) - num\n",
    "    return float( \"{:.2f}\".format((num / len(l) )) )\n",
    "\n",
    "df_tweetscov19_domains_shalla_cat['others'] = df_tweetscov19_domains_shalla_cat.apply(lambda row: get_others_num(row['dom_cat']), axis=1)\n",
    "print('others!')"
   ]
  },
  {
   "cell_type": "code",
   "execution_count": 28,
   "metadata": {},
   "outputs": [],
   "source": [
    "#Die Ergebnisse speichern.\n",
    "pfad2='C:/Mo/tweetDB/tweetscov19/TweetsCov19_tsv/urls/predicted/shalla/tweetscov19_domains_shalla_categorisieret_top_ten.tsv'\n",
    "\n",
    "with open(pfad2, 'w', newline='', encoding=\"utf-8\") as out_file:\n",
    "        tsv_writer = csv.writer(out_file, delimiter=\"\\t\")\n",
    "        for idx, row in df_tweetscov19_domains_shalla_cat.iterrows():\n",
    "            tsv_writer.writerow(row.values.tolist())"
   ]
  },
  {
   "cell_type": "markdown",
   "metadata": {},
   "source": [
    "***"
   ]
  },
  {
   "cell_type": "markdown",
   "metadata": {},
   "source": [
    "**TweetsKB:**\n",
    "- Dataframe lesen\n",
    "- Die einzigartige Domäne aussortieren"
   ]
  },
  {
   "cell_type": "code",
   "execution_count": 2,
   "metadata": {},
   "outputs": [],
   "source": [
    "#Labels und Pfad\n",
    "TweetsKB_labels    = ['Tweet_Id', 'Benutzername', 'Zeitstempel', 'Abonnenten', 'Abonnierten', 'Retweets', 'Likes', 'Text', 'URLs', 'Ist_gelöscht', 'Hashtags', 'Erwähnungen', 'Anzahl der Hashtags', 'Anzahl der Mentions', 'Textlänge', 'Lesbarkeit', 'Domäne', 'Anzahl der URLs', 'vader pos', 'vader neu', 'vader neg', 'vader mittelwert' ]\n",
    "TweetsKB_Pfad =  'C:/Mo/tweetDB/tweetscov19/TweetsCov19_tsv/data_sample/random_sample/emoji/tweetskb_vader.tsv'"
   ]
  },
  {
   "cell_type": "code",
   "execution_count": 3,
   "metadata": {},
   "outputs": [
    {
     "name": "stdout",
     "output_type": "stream",
     "text": [
      "Form : (9409841, 22)\n"
     ]
    },
    {
     "data": {
      "text/html": [
       "<div>\n",
       "<style scoped>\n",
       "    .dataframe tbody tr th:only-of-type {\n",
       "        vertical-align: middle;\n",
       "    }\n",
       "\n",
       "    .dataframe tbody tr th {\n",
       "        vertical-align: top;\n",
       "    }\n",
       "\n",
       "    .dataframe thead th {\n",
       "        text-align: right;\n",
       "    }\n",
       "</style>\n",
       "<table border=\"1\" class=\"dataframe\">\n",
       "  <thead>\n",
       "    <tr style=\"text-align: right;\">\n",
       "      <th></th>\n",
       "      <th>Tweet_Id</th>\n",
       "      <th>Benutzername</th>\n",
       "      <th>Zeitstempel</th>\n",
       "      <th>Abonnenten</th>\n",
       "      <th>Abonnierten</th>\n",
       "      <th>Retweets</th>\n",
       "      <th>Likes</th>\n",
       "      <th>Text</th>\n",
       "      <th>URLs</th>\n",
       "      <th>Ist_gelöscht</th>\n",
       "      <th>Hashtags</th>\n",
       "      <th>Erwähnungen</th>\n",
       "      <th>Anzahl der Hashtags</th>\n",
       "      <th>Anzahl der Mentions</th>\n",
       "      <th>Textlänge</th>\n",
       "      <th>Lesbarkeit</th>\n",
       "      <th>Domäne</th>\n",
       "      <th>Anzahl der URLs</th>\n",
       "      <th>vader pos</th>\n",
       "      <th>vader neu</th>\n",
       "      <th>vader neg</th>\n",
       "      <th>vader mittelwert</th>\n",
       "    </tr>\n",
       "  </thead>\n",
       "  <tbody>\n",
       "    <tr>\n",
       "      <th>0</th>\n",
       "      <td>1178791636039589889</td>\n",
       "      <td>DCComics</td>\n",
       "      <td>2019-09-30 22:00:01+00:00</td>\n",
       "      <td>3349606</td>\n",
       "      <td>563</td>\n",
       "      <td>2</td>\n",
       "      <td>13</td>\n",
       "      <td>Today on #DCDaily, the crew takes a deep dive ...</td>\n",
       "      <td>http://bit.ly/2mlNYpS:-:</td>\n",
       "      <td>False</td>\n",
       "      <td>['DCDaily']</td>\n",
       "      <td>['DCUTitans']</td>\n",
       "      <td>1</td>\n",
       "      <td>1</td>\n",
       "      <td>192</td>\n",
       "      <td>70.350</td>\n",
       "      <td>dcuniverseinfinite.com</td>\n",
       "      <td>1</td>\n",
       "      <td>0.000</td>\n",
       "      <td>1.000</td>\n",
       "      <td>-0.0</td>\n",
       "      <td>0.0000</td>\n",
       "    </tr>\n",
       "    <tr>\n",
       "      <th>1</th>\n",
       "      <td>1178791641265639424</td>\n",
       "      <td>seanberdyz</td>\n",
       "      <td>2019-09-30 22:00:02+00:00</td>\n",
       "      <td>1203</td>\n",
       "      <td>499</td>\n",
       "      <td>4</td>\n",
       "      <td>20</td>\n",
       "      <td>𝘪’𝘮 𝘨𝘰𝘯𝘯𝘢 𝘣𝘦 𝘳𝘪𝘨𝘩𝘵 𝘩𝘦𝘳𝘦 ⟶ https://t.co/kOxWQL5...</td>\n",
       "      <td>http://ourownside.carrd.co:-:</td>\n",
       "      <td>True</td>\n",
       "      <td>[]</td>\n",
       "      <td>[]</td>\n",
       "      <td>0</td>\n",
       "      <td>0</td>\n",
       "      <td>73</td>\n",
       "      <td>82.390</td>\n",
       "      <td>carrd.co</td>\n",
       "      <td>1</td>\n",
       "      <td>0.000</td>\n",
       "      <td>1.000</td>\n",
       "      <td>-0.0</td>\n",
       "      <td>0.0000</td>\n",
       "    </tr>\n",
       "    <tr>\n",
       "      <th>2</th>\n",
       "      <td>1178791640573579264</td>\n",
       "      <td>AnArtistAtBirth</td>\n",
       "      <td>2019-09-30 22:00:02+00:00</td>\n",
       "      <td>109</td>\n",
       "      <td>215</td>\n",
       "      <td>0</td>\n",
       "      <td>0</td>\n",
       "      <td>❛ 𝘠𝘰𝘶'𝘳𝘦 𝘴𝘪𝘵𝘵𝘪𝘯' 𝘰𝘯 𝘺𝘰𝘶𝘳 𝘧𝘦𝘦𝘭𝘪𝘯𝘨𝘴 . . . 𝘐'𝘮 𝘴𝘪...</td>\n",
       "      <td>null;</td>\n",
       "      <td>True</td>\n",
       "      <td>['𝘛𝘩𝘦𝘰𝘯𝘦']</td>\n",
       "      <td>[]</td>\n",
       "      <td>1</td>\n",
       "      <td>0</td>\n",
       "      <td>128</td>\n",
       "      <td>123.755</td>\n",
       "      <td>0</td>\n",
       "      <td>0</td>\n",
       "      <td>0.000</td>\n",
       "      <td>1.000</td>\n",
       "      <td>-0.0</td>\n",
       "      <td>0.0000</td>\n",
       "    </tr>\n",
       "    <tr>\n",
       "      <th>3</th>\n",
       "      <td>1178791644797255680</td>\n",
       "      <td>lagosboygang</td>\n",
       "      <td>2019-09-30 22:00:03+00:00</td>\n",
       "      <td>571</td>\n",
       "      <td>1401</td>\n",
       "      <td>0</td>\n",
       "      <td>0</td>\n",
       "      <td>@Tiffany_o_ @UG_derrick That's the one i wanna...</td>\n",
       "      <td>null;</td>\n",
       "      <td>True</td>\n",
       "      <td>[]</td>\n",
       "      <td>['Tiffany_o_', 'UG_derrick']</td>\n",
       "      <td>0</td>\n",
       "      <td>2</td>\n",
       "      <td>77</td>\n",
       "      <td>105.921</td>\n",
       "      <td>0</td>\n",
       "      <td>0</td>\n",
       "      <td>0.000</td>\n",
       "      <td>1.000</td>\n",
       "      <td>-0.0</td>\n",
       "      <td>0.0000</td>\n",
       "    </tr>\n",
       "    <tr>\n",
       "      <th>4</th>\n",
       "      <td>1178791648056217600</td>\n",
       "      <td>Phenom_Hoops</td>\n",
       "      <td>2019-09-30 22:00:04+00:00</td>\n",
       "      <td>25630</td>\n",
       "      <td>1674</td>\n",
       "      <td>1</td>\n",
       "      <td>1</td>\n",
       "      <td>2022 6’9 Perry Smith Jr. showcasing his high-m...</td>\n",
       "      <td>https://www.phenomhoopreport.com/2022-69-perry...</td>\n",
       "      <td>False</td>\n",
       "      <td>['PhenomHoops']</td>\n",
       "      <td>[]</td>\n",
       "      <td>1</td>\n",
       "      <td>0</td>\n",
       "      <td>227</td>\n",
       "      <td>65.943</td>\n",
       "      <td>phenomhoopreport.com</td>\n",
       "      <td>1</td>\n",
       "      <td>0.058</td>\n",
       "      <td>0.942</td>\n",
       "      <td>-0.0</td>\n",
       "      <td>0.2263</td>\n",
       "    </tr>\n",
       "  </tbody>\n",
       "</table>\n",
       "</div>"
      ],
      "text/plain": [
       "              Tweet_Id     Benutzername                Zeitstempel  \\\n",
       "0  1178791636039589889         DCComics  2019-09-30 22:00:01+00:00   \n",
       "1  1178791641265639424       seanberdyz  2019-09-30 22:00:02+00:00   \n",
       "2  1178791640573579264  AnArtistAtBirth  2019-09-30 22:00:02+00:00   \n",
       "3  1178791644797255680     lagosboygang  2019-09-30 22:00:03+00:00   \n",
       "4  1178791648056217600     Phenom_Hoops  2019-09-30 22:00:04+00:00   \n",
       "\n",
       "   Abonnenten  Abonnierten  Retweets  Likes  \\\n",
       "0     3349606          563         2     13   \n",
       "1        1203          499         4     20   \n",
       "2         109          215         0      0   \n",
       "3         571         1401         0      0   \n",
       "4       25630         1674         1      1   \n",
       "\n",
       "                                                Text  \\\n",
       "0  Today on #DCDaily, the crew takes a deep dive ...   \n",
       "1  𝘪’𝘮 𝘨𝘰𝘯𝘯𝘢 𝘣𝘦 𝘳𝘪𝘨𝘩𝘵 𝘩𝘦𝘳𝘦 ⟶ https://t.co/kOxWQL5...   \n",
       "2  ❛ 𝘠𝘰𝘶'𝘳𝘦 𝘴𝘪𝘵𝘵𝘪𝘯' 𝘰𝘯 𝘺𝘰𝘶𝘳 𝘧𝘦𝘦𝘭𝘪𝘯𝘨𝘴 . . . 𝘐'𝘮 𝘴𝘪...   \n",
       "3  @Tiffany_o_ @UG_derrick That's the one i wanna...   \n",
       "4  2022 6’9 Perry Smith Jr. showcasing his high-m...   \n",
       "\n",
       "                                                URLs  Ist_gelöscht  \\\n",
       "0                           http://bit.ly/2mlNYpS:-:         False   \n",
       "1                      http://ourownside.carrd.co:-:          True   \n",
       "2                                              null;          True   \n",
       "3                                              null;          True   \n",
       "4  https://www.phenomhoopreport.com/2022-69-perry...         False   \n",
       "\n",
       "          Hashtags                   Erwähnungen  Anzahl der Hashtags  \\\n",
       "0      ['DCDaily']                 ['DCUTitans']                    1   \n",
       "1               []                            []                    0   \n",
       "2       ['𝘛𝘩𝘦𝘰𝘯𝘦']                            []                    1   \n",
       "3               []  ['Tiffany_o_', 'UG_derrick']                    0   \n",
       "4  ['PhenomHoops']                            []                    1   \n",
       "\n",
       "   Anzahl der Mentions  Textlänge  Lesbarkeit                  Domäne  \\\n",
       "0                    1        192      70.350  dcuniverseinfinite.com   \n",
       "1                    0         73      82.390                carrd.co   \n",
       "2                    0        128     123.755                       0   \n",
       "3                    2         77     105.921                       0   \n",
       "4                    0        227      65.943    phenomhoopreport.com   \n",
       "\n",
       "   Anzahl der URLs  vader pos  vader neu  vader neg  vader mittelwert  \n",
       "0                1      0.000      1.000       -0.0            0.0000  \n",
       "1                1      0.000      1.000       -0.0            0.0000  \n",
       "2                0      0.000      1.000       -0.0            0.0000  \n",
       "3                0      0.000      1.000       -0.0            0.0000  \n",
       "4                1      0.058      0.942       -0.0            0.2263  "
      ]
     },
     "execution_count": 3,
     "metadata": {},
     "output_type": "execute_result"
    }
   ],
   "source": [
    "#TweetsKB wird gelesen\n",
    "df_tweetskb = pd.read_csv(TweetsKB_Pfad, sep='\\t', error_bad_lines=False, names=TweetsKB_labels)\n",
    "print('Form :', df_tweetskb.shape)\n",
    "df_tweetskb.head()"
   ]
  },
  {
   "cell_type": "code",
   "execution_count": 7,
   "metadata": {},
   "outputs": [],
   "source": [
    "#Zuerst wird hier eine neue Dataframe erzeugt, die nur die Domäne enthält.\n",
    "#Dann geht die funktion jede zeile der Dataframe durch, und alle Domäne, die in einem Tweet geben, durchsucht.\n",
    "#Jede neue Domain wird zu der Dictionary hinzugefügt.\n",
    "#Bei jeder Wiederholung erhöht die Methode die Value von dementsprechender Domain um Eins. \n",
    "\n",
    "df_tweetskb_domaene = df_tweetskb[['Domäne']]\n",
    "dict_tweetskb_domaene = {}\n",
    "\n",
    "for idx, row in df_tweetskb_domaene.iterrows():\n",
    "    list_domane = []\n",
    "    list_domane = (row.values.tolist()[0])\n",
    "    list_domane = str(list_domane).split()\n",
    "    \n",
    "    list_domane = np.array(list_domane)\n",
    "    list_domane = np.unique(list_domane)\n",
    "    list_domane = list_domane.tolist()\n",
    "    \n",
    "    for i in range(0, len(list_domane)):\n",
    "        domain = list_domane[i]\n",
    "        if domain not in dict_tweetskb_domaene:\n",
    "            dict_tweetskb_domaene[domain] = 1\n",
    "        else :\n",
    "            dict_tweetskb_domaene[domain] = dict_tweetskb_domaene[domain] +1\n",
    "    #print(dict_tweetskb_domaene)"
   ]
  },
  {
   "cell_type": "code",
   "execution_count": 8,
   "metadata": {},
   "outputs": [],
   "source": [
    "#Hier wird aus Dictionary eine Dataframe erzeugt\n",
    "df_dict_tweetskb_domaene = pd.DataFrame(dict_tweetskb_domaene.items(), columns=['Domain','Zahl'])"
   ]
  },
  {
   "cell_type": "code",
   "execution_count": 9,
   "metadata": {},
   "outputs": [
    {
     "name": "stdout",
     "output_type": "stream",
     "text": [
      "Anzahl der benutzten Domains für Tweetskb(unique) : 147069\n",
      "Anzahl der benutzten Domains für Tweetskb(sum) : 1460380\n"
     ]
    }
   ],
   "source": [
    "domaene_sum = df_tweetskb['Anzahl der URLs'].sum()\n",
    "print('Anzahl der benutzten Domains für Tweetskb(unique) :', df_dict_tweetskb_domaene.Domain.size)\n",
    "print('Anzahl der benutzten Domains für Tweetskb(sum) :', domaene_sum)"
   ]
  },
  {
   "cell_type": "code",
   "execution_count": 10,
   "metadata": {},
   "outputs": [
    {
     "data": {
      "text/html": [
       "<div>\n",
       "<style scoped>\n",
       "    .dataframe tbody tr th:only-of-type {\n",
       "        vertical-align: middle;\n",
       "    }\n",
       "\n",
       "    .dataframe tbody tr th {\n",
       "        vertical-align: top;\n",
       "    }\n",
       "\n",
       "    .dataframe thead th {\n",
       "        text-align: right;\n",
       "    }\n",
       "</style>\n",
       "<table border=\"1\" class=\"dataframe\">\n",
       "  <thead>\n",
       "    <tr style=\"text-align: right;\">\n",
       "      <th></th>\n",
       "      <th>Domain</th>\n",
       "      <th>Zahl</th>\n",
       "      <th>prozent</th>\n",
       "    </tr>\n",
       "  </thead>\n",
       "  <tbody>\n",
       "    <tr>\n",
       "      <th>0</th>\n",
       "      <td>dcuniverseinfinite.com</td>\n",
       "      <td>4</td>\n",
       "      <td>0.000274</td>\n",
       "    </tr>\n",
       "    <tr>\n",
       "      <th>1</th>\n",
       "      <td>carrd.co</td>\n",
       "      <td>479</td>\n",
       "      <td>0.032800</td>\n",
       "    </tr>\n",
       "    <tr>\n",
       "      <th>2</th>\n",
       "      <td>0</td>\n",
       "      <td>8024014</td>\n",
       "      <td>549.446993</td>\n",
       "    </tr>\n",
       "    <tr>\n",
       "      <th>3</th>\n",
       "      <td>phenomhoopreport.com</td>\n",
       "      <td>9</td>\n",
       "      <td>0.000616</td>\n",
       "    </tr>\n",
       "    <tr>\n",
       "      <th>4</th>\n",
       "      <td>airtime.pro</td>\n",
       "      <td>909</td>\n",
       "      <td>0.062244</td>\n",
       "    </tr>\n",
       "  </tbody>\n",
       "</table>\n",
       "</div>"
      ],
      "text/plain": [
       "                   Domain     Zahl     prozent\n",
       "0  dcuniverseinfinite.com        4    0.000274\n",
       "1                carrd.co      479    0.032800\n",
       "2                       0  8024014  549.446993\n",
       "3    phenomhoopreport.com        9    0.000616\n",
       "4             airtime.pro      909    0.062244"
      ]
     },
     "execution_count": 10,
     "metadata": {},
     "output_type": "execute_result"
    }
   ],
   "source": [
    "#Zuerst wird den prozentualen Ansatz der Domäne im Datensatz berechnet.\n",
    "df_dict_tweetskb_domaene['prozent'] =  df_dict_tweetskb_domaene['Zahl'].apply(lambda row : ((row /domaene_sum) * 100) )\n",
    "df_dict_tweetskb_domaene.head()"
   ]
  },
  {
   "cell_type": "code",
   "execution_count": 11,
   "metadata": {},
   "outputs": [
    {
     "data": {
      "text/html": [
       "<div>\n",
       "<style scoped>\n",
       "    .dataframe tbody tr th:only-of-type {\n",
       "        vertical-align: middle;\n",
       "    }\n",
       "\n",
       "    .dataframe tbody tr th {\n",
       "        vertical-align: top;\n",
       "    }\n",
       "\n",
       "    .dataframe thead th {\n",
       "        text-align: right;\n",
       "    }\n",
       "</style>\n",
       "<table border=\"1\" class=\"dataframe\">\n",
       "  <thead>\n",
       "    <tr style=\"text-align: right;\">\n",
       "      <th></th>\n",
       "      <th>Domain</th>\n",
       "      <th>Zahl</th>\n",
       "      <th>prozent</th>\n",
       "    </tr>\n",
       "  </thead>\n",
       "  <tbody>\n",
       "    <tr>\n",
       "      <th>2</th>\n",
       "      <td>0</td>\n",
       "      <td>8024014</td>\n",
       "      <td>549.446993</td>\n",
       "    </tr>\n",
       "    <tr>\n",
       "      <th>14</th>\n",
       "      <td>twitter.com</td>\n",
       "      <td>259980</td>\n",
       "      <td>17.802216</td>\n",
       "    </tr>\n",
       "    <tr>\n",
       "      <th>28</th>\n",
       "      <td>youtu.be</td>\n",
       "      <td>63213</td>\n",
       "      <td>4.328531</td>\n",
       "    </tr>\n",
       "    <tr>\n",
       "      <th>37</th>\n",
       "      <td>instagram.com</td>\n",
       "      <td>50250</td>\n",
       "      <td>3.440885</td>\n",
       "    </tr>\n",
       "    <tr>\n",
       "      <th>348</th>\n",
       "      <td>twittascope.com</td>\n",
       "      <td>37526</td>\n",
       "      <td>2.569605</td>\n",
       "    </tr>\n",
       "    <tr>\n",
       "      <th>31</th>\n",
       "      <td>fllwrs.com</td>\n",
       "      <td>32446</td>\n",
       "      <td>2.221751</td>\n",
       "    </tr>\n",
       "    <tr>\n",
       "      <th>65</th>\n",
       "      <td>youtube.com</td>\n",
       "      <td>25874</td>\n",
       "      <td>1.771731</td>\n",
       "    </tr>\n",
       "    <tr>\n",
       "      <th>77</th>\n",
       "      <td>onlyfans.com</td>\n",
       "      <td>17436</td>\n",
       "      <td>1.193936</td>\n",
       "    </tr>\n",
       "    <tr>\n",
       "      <th>80</th>\n",
       "      <td>twitch.tv</td>\n",
       "      <td>14778</td>\n",
       "      <td>1.011928</td>\n",
       "    </tr>\n",
       "    <tr>\n",
       "      <th>62</th>\n",
       "      <td>facebook.com</td>\n",
       "      <td>14721</td>\n",
       "      <td>1.008025</td>\n",
       "    </tr>\n",
       "  </tbody>\n",
       "</table>\n",
       "</div>"
      ],
      "text/plain": [
       "              Domain     Zahl     prozent\n",
       "2                  0  8024014  549.446993\n",
       "14       twitter.com   259980   17.802216\n",
       "28          youtu.be    63213    4.328531\n",
       "37     instagram.com    50250    3.440885\n",
       "348  twittascope.com    37526    2.569605\n",
       "31        fllwrs.com    32446    2.221751\n",
       "65       youtube.com    25874    1.771731\n",
       "77      onlyfans.com    17436    1.193936\n",
       "80         twitch.tv    14778    1.011928\n",
       "62      facebook.com    14721    1.008025"
      ]
     },
     "execution_count": 11,
     "metadata": {},
     "output_type": "execute_result"
    }
   ],
   "source": [
    "#Die Datafarme wird aufsteigend sortiert und einen Teil davon wird ausgegeben.\n",
    "df_dict_tweetskb_domaene['Zahl'] = df_dict_tweetskb_domaene['Zahl'].astype(int) \n",
    "df_dict_tweetskb_domaene.sort_values(by = ['Zahl'], ascending = False, inplace = True)\n",
    "df_dict_tweetskb_domaene.head(10)"
   ]
  },
  {
   "cell_type": "code",
   "execution_count": 12,
   "metadata": {},
   "outputs": [],
   "source": [
    "#Die Ergebnisse speichern.\n",
    "pfad_tsv = 'C:/Mo/tweetDB/tweetscov19/TweetsCov19_tsv/data_sample/Tweetskb_stichprobe_domaene.tsv'\n",
    "\n",
    "with open(pfad_tsv, 'w', newline='', encoding=\"utf-8\") as out_file:\n",
    "        tsv_writer = csv.writer(out_file, delimiter=\"\\t\")\n",
    "        for idx, row in df_dict_tweetskb_domaene.iterrows():\n",
    "            tsv_writer.writerow(row.values.tolist())"
   ]
  },
  {
   "cell_type": "markdown",
   "metadata": {},
   "source": [
    "****"
   ]
  },
  {
   "cell_type": "markdown",
   "metadata": {},
   "source": [
    "**Die einzigartigen Domäne kategorisieren**"
   ]
  },
  {
   "cell_type": "markdown",
   "metadata": {},
   "source": [
    "***"
   ]
  },
  {
   "cell_type": "code",
   "execution_count": 13,
   "metadata": {},
   "outputs": [
    {
     "name": "stdout",
     "output_type": "stream",
     "text": [
      "Using cached Shallalist data from local (C:\\Users\\mdsam\\.pydomains\\shalla_2017.csv.bz2)...\n",
      "Loading Shallalist data file...\n"
     ]
    }
   ],
   "source": [
    "#Hier wird mit Hilfe von Pydomain die Domäne kategorisiert\n",
    "df_tweetskb_domaene = df_dict_tweetskb_domaene[['Domain']]\n",
    "df_tweetskb_domaaene_shalla_kat = shalla_cat(df_tweetskb_domaene, domain_names='Domain')"
   ]
  },
  {
   "cell_type": "code",
   "execution_count": 14,
   "metadata": {},
   "outputs": [
    {
     "data": {
      "text/html": [
       "<div>\n",
       "<style scoped>\n",
       "    .dataframe tbody tr th:only-of-type {\n",
       "        vertical-align: middle;\n",
       "    }\n",
       "\n",
       "    .dataframe tbody tr th {\n",
       "        vertical-align: top;\n",
       "    }\n",
       "\n",
       "    .dataframe thead th {\n",
       "        text-align: right;\n",
       "    }\n",
       "</style>\n",
       "<table border=\"1\" class=\"dataframe\">\n",
       "  <thead>\n",
       "    <tr style=\"text-align: right;\">\n",
       "      <th></th>\n",
       "      <th>Domain</th>\n",
       "      <th>shalla_2017_domain</th>\n",
       "      <th>shalla_2017_cat</th>\n",
       "    </tr>\n",
       "  </thead>\n",
       "  <tbody>\n",
       "    <tr>\n",
       "      <th>0</th>\n",
       "      <td>0</td>\n",
       "      <td>0</td>\n",
       "      <td>NaN</td>\n",
       "    </tr>\n",
       "    <tr>\n",
       "      <th>1</th>\n",
       "      <td>twitter.com</td>\n",
       "      <td>twitter.com</td>\n",
       "      <td>socialnet</td>\n",
       "    </tr>\n",
       "    <tr>\n",
       "      <th>2</th>\n",
       "      <td>youtu.be</td>\n",
       "      <td>youtu.be</td>\n",
       "      <td>movies|urlshortener</td>\n",
       "    </tr>\n",
       "    <tr>\n",
       "      <th>3</th>\n",
       "      <td>instagram.com</td>\n",
       "      <td>instagram.com</td>\n",
       "      <td>socialnet|imagehosting</td>\n",
       "    </tr>\n",
       "    <tr>\n",
       "      <th>4</th>\n",
       "      <td>twittascope.com</td>\n",
       "      <td>twittascope.com</td>\n",
       "      <td>fortunetelling</td>\n",
       "    </tr>\n",
       "  </tbody>\n",
       "</table>\n",
       "</div>"
      ],
      "text/plain": [
       "            Domain shalla_2017_domain         shalla_2017_cat\n",
       "0                0                  0                     NaN\n",
       "1      twitter.com        twitter.com               socialnet\n",
       "2         youtu.be           youtu.be     movies|urlshortener\n",
       "3    instagram.com      instagram.com  socialnet|imagehosting\n",
       "4  twittascope.com    twittascope.com          fortunetelling"
      ]
     },
     "execution_count": 14,
     "metadata": {},
     "output_type": "execute_result"
    }
   ],
   "source": [
    "df_tweetskb_domaaene_shalla_kat.head()"
   ]
  },
  {
   "cell_type": "code",
   "execution_count": 15,
   "metadata": {},
   "outputs": [],
   "source": [
    "#Erste Zeile wird gelöscht\n",
    "df_tweetskb_domaaene_shalla_kat.drop(index=df_tweetskb_domaaene_shalla_kat.index[:1], axis=0, inplace=True)"
   ]
  },
  {
   "cell_type": "code",
   "execution_count": 16,
   "metadata": {},
   "outputs": [
    {
     "data": {
      "text/html": [
       "<div>\n",
       "<style scoped>\n",
       "    .dataframe tbody tr th:only-of-type {\n",
       "        vertical-align: middle;\n",
       "    }\n",
       "\n",
       "    .dataframe tbody tr th {\n",
       "        vertical-align: top;\n",
       "    }\n",
       "\n",
       "    .dataframe thead th {\n",
       "        text-align: right;\n",
       "    }\n",
       "</style>\n",
       "<table border=\"1\" class=\"dataframe\">\n",
       "  <thead>\n",
       "    <tr style=\"text-align: right;\">\n",
       "      <th></th>\n",
       "      <th>Domain</th>\n",
       "      <th>shalla_2017_cat</th>\n",
       "    </tr>\n",
       "  </thead>\n",
       "  <tbody>\n",
       "    <tr>\n",
       "      <th>1</th>\n",
       "      <td>twitter.com</td>\n",
       "      <td>socialnet</td>\n",
       "    </tr>\n",
       "    <tr>\n",
       "      <th>2</th>\n",
       "      <td>youtu.be</td>\n",
       "      <td>movies|urlshortener</td>\n",
       "    </tr>\n",
       "    <tr>\n",
       "      <th>3</th>\n",
       "      <td>instagram.com</td>\n",
       "      <td>socialnet|imagehosting</td>\n",
       "    </tr>\n",
       "    <tr>\n",
       "      <th>4</th>\n",
       "      <td>twittascope.com</td>\n",
       "      <td>fortunetelling</td>\n",
       "    </tr>\n",
       "    <tr>\n",
       "      <th>5</th>\n",
       "      <td>fllwrs.com</td>\n",
       "      <td>NaN</td>\n",
       "    </tr>\n",
       "  </tbody>\n",
       "</table>\n",
       "</div>"
      ],
      "text/plain": [
       "            Domain         shalla_2017_cat\n",
       "1      twitter.com               socialnet\n",
       "2         youtu.be     movies|urlshortener\n",
       "3    instagram.com  socialnet|imagehosting\n",
       "4  twittascope.com          fortunetelling\n",
       "5       fllwrs.com                     NaN"
      ]
     },
     "execution_count": 16,
     "metadata": {},
     "output_type": "execute_result"
    }
   ],
   "source": [
    "#Eine Spalte der Dataframe wird gelöscht.\n",
    "df_tweetskb_domaaene_shalla_kat = df_tweetskb_domaaene_shalla_kat[['Domain', 'shalla_2017_cat']]\n",
    "df_tweetskb_domaaene_shalla_kat.head()"
   ]
  },
  {
   "cell_type": "code",
   "execution_count": 17,
   "metadata": {},
   "outputs": [
    {
     "name": "stdout",
     "output_type": "stream",
     "text": [
      "Domains Kategorisiert!\n"
     ]
    }
   ],
   "source": [
    "#Hier wird mithilfe von get_cat() die erste Kategorie für die Domain ausgewäht, die zu mehrere Kategorien zugewiesen wurde.\n",
    "def get_cat(domains):\n",
    "    l = domains.split('|')\n",
    "    return l[0]\n",
    "\n",
    "df_tweetskb_domaaene_shalla_kat['shalla_2017_cat'] = df_tweetskb_domaaene_shalla_kat['shalla_2017_cat'].astype(str)\n",
    "\n",
    "df_tweetskb_domaaene_shalla_kat['dom_cat'] = df_tweetskb_domaaene_shalla_kat.apply(lambda row: get_cat(row['shalla_2017_cat']), axis=1)\n",
    "print('Domains Kategorisiert!')\n"
   ]
  },
  {
   "cell_type": "code",
   "execution_count": 18,
   "metadata": {},
   "outputs": [
    {
     "data": {
      "text/html": [
       "<div>\n",
       "<style scoped>\n",
       "    .dataframe tbody tr th:only-of-type {\n",
       "        vertical-align: middle;\n",
       "    }\n",
       "\n",
       "    .dataframe tbody tr th {\n",
       "        vertical-align: top;\n",
       "    }\n",
       "\n",
       "    .dataframe thead th {\n",
       "        text-align: right;\n",
       "    }\n",
       "</style>\n",
       "<table border=\"1\" class=\"dataframe\">\n",
       "  <thead>\n",
       "    <tr style=\"text-align: right;\">\n",
       "      <th></th>\n",
       "      <th>Domain</th>\n",
       "      <th>shalla_2017_cat</th>\n",
       "      <th>dom_cat</th>\n",
       "    </tr>\n",
       "  </thead>\n",
       "  <tbody>\n",
       "    <tr>\n",
       "      <th>1</th>\n",
       "      <td>twitter.com</td>\n",
       "      <td>socialnet</td>\n",
       "      <td>socialnet</td>\n",
       "    </tr>\n",
       "    <tr>\n",
       "      <th>2</th>\n",
       "      <td>youtu.be</td>\n",
       "      <td>movies|urlshortener</td>\n",
       "      <td>movies</td>\n",
       "    </tr>\n",
       "    <tr>\n",
       "      <th>3</th>\n",
       "      <td>instagram.com</td>\n",
       "      <td>socialnet|imagehosting</td>\n",
       "      <td>socialnet</td>\n",
       "    </tr>\n",
       "    <tr>\n",
       "      <th>4</th>\n",
       "      <td>twittascope.com</td>\n",
       "      <td>fortunetelling</td>\n",
       "      <td>fortunetelling</td>\n",
       "    </tr>\n",
       "    <tr>\n",
       "      <th>5</th>\n",
       "      <td>fllwrs.com</td>\n",
       "      <td>nan</td>\n",
       "      <td>nan</td>\n",
       "    </tr>\n",
       "  </tbody>\n",
       "</table>\n",
       "</div>"
      ],
      "text/plain": [
       "            Domain         shalla_2017_cat         dom_cat\n",
       "1      twitter.com               socialnet       socialnet\n",
       "2         youtu.be     movies|urlshortener          movies\n",
       "3    instagram.com  socialnet|imagehosting       socialnet\n",
       "4  twittascope.com          fortunetelling  fortunetelling\n",
       "5       fllwrs.com                     nan             nan"
      ]
     },
     "execution_count": 18,
     "metadata": {},
     "output_type": "execute_result"
    }
   ],
   "source": [
    "df_tweetskb_domaaene_shalla_kat.head()"
   ]
  },
  {
   "cell_type": "code",
   "execution_count": 19,
   "metadata": {},
   "outputs": [],
   "source": [
    "#Die Ergebnisse speichern.\n",
    "pfad_tsv = 'C:/Mo/tweetDB/tweetscov19/TweetsCov19_tsv/data_sample/Tweetskb_stichprobe_domaene_kategorisiert.tsv'\n",
    "\n",
    "with open(pfad_tsv, 'w', newline='', encoding=\"utf-8\") as out_file:\n",
    "        tsv_writer = csv.writer(out_file, delimiter=\"\\t\")\n",
    "        for idx, row in df_tweetskb_domaaene_shalla_kat.iterrows():\n",
    "            tsv_writer.writerow(row.values.tolist())"
   ]
  },
  {
   "cell_type": "markdown",
   "metadata": {},
   "source": [
    "****"
   ]
  },
  {
   "cell_type": "markdown",
   "metadata": {},
   "source": [
    "**Alle Domäne in Tweets mithilfe der Domain-Kategorie-Liste kategorisieren** "
   ]
  },
  {
   "cell_type": "markdown",
   "metadata": {},
   "source": [
    "***"
   ]
  },
  {
   "cell_type": "code",
   "execution_count": 23,
   "metadata": {},
   "outputs": [
    {
     "name": "stdout",
     "output_type": "stream",
     "text": [
      "Domains!!!\n"
     ]
    }
   ],
   "source": [
    "#Hir wird jede Zeile der Dataframe(jeder Tweet) gelesen, die benutzten Domäne werden zu get_dom_categorisiert() geschickt.\n",
    "#Für jede Domain in Tweet such die Methode die Liste.\n",
    "#Falls die Domain kategorisiert ist, nimmt sie die Kategorie der Domain.\n",
    "#Alle benutzten Kategorien werden mit einer Leerzeichen dazwischen zusammengefügt.\n",
    "#Das Endergebnis wird zurückgegeben.\n",
    "\n",
    "def get_dom_categorisiert(domains):\n",
    "    dom = ''\n",
    "    list_dom = domains.split()\n",
    "    for i in range(0, len(list_dom)):\n",
    "        line = df_tweetskb_domaaene_shalla_kat.loc[df_tweetskb_domaaene_shalla_kat['Domain'] == list_dom[i]]\n",
    "        line = line.values.tolist()\n",
    "        #print(list_dom[i], line)\n",
    "        try :\n",
    "            if i == 0 :\n",
    "                dom = dom + line[0][2]\n",
    "            else:\n",
    "                dom = dom + ' ' +line[0][2]\n",
    "        except IndexError:\n",
    "            print('Index out of range!')\n",
    "            #print(line)\n",
    "            \n",
    "    return dom\n",
    "\n",
    "df_tweetskb['Domäne'] = df_tweetskb['Domäne'].astype(str)\n",
    "\n",
    "df_tweetskb['dom_cat'] = df_tweetskb.apply(lambda row: get_dom_categorisiert(row['Domäne']) if (row['Domäne'] != '0') else 0, axis=1)\n",
    "print('Domains!!!')\n",
    "\n"
   ]
  },
  {
   "cell_type": "code",
   "execution_count": 27,
   "metadata": {},
   "outputs": [
    {
     "data": {
      "text/html": [
       "<div>\n",
       "<style scoped>\n",
       "    .dataframe tbody tr th:only-of-type {\n",
       "        vertical-align: middle;\n",
       "    }\n",
       "\n",
       "    .dataframe tbody tr th {\n",
       "        vertical-align: top;\n",
       "    }\n",
       "\n",
       "    .dataframe thead th {\n",
       "        text-align: right;\n",
       "    }\n",
       "</style>\n",
       "<table border=\"1\" class=\"dataframe\">\n",
       "  <thead>\n",
       "    <tr style=\"text-align: right;\">\n",
       "      <th></th>\n",
       "      <th>Tweet_Id</th>\n",
       "      <th>Ist_gelöscht</th>\n",
       "      <th>Domäne</th>\n",
       "      <th>Anzahl der URLs</th>\n",
       "      <th>dom_cat</th>\n",
       "    </tr>\n",
       "  </thead>\n",
       "  <tbody>\n",
       "    <tr>\n",
       "      <th>0</th>\n",
       "      <td>1178791636039589889</td>\n",
       "      <td>False</td>\n",
       "      <td>dcuniverseinfinite.com</td>\n",
       "      <td>1</td>\n",
       "      <td>nan</td>\n",
       "    </tr>\n",
       "    <tr>\n",
       "      <th>1</th>\n",
       "      <td>1178791641265639424</td>\n",
       "      <td>True</td>\n",
       "      <td>carrd.co</td>\n",
       "      <td>1</td>\n",
       "      <td>nan</td>\n",
       "    </tr>\n",
       "    <tr>\n",
       "      <th>2</th>\n",
       "      <td>1178791640573579264</td>\n",
       "      <td>True</td>\n",
       "      <td>0</td>\n",
       "      <td>0</td>\n",
       "      <td>0</td>\n",
       "    </tr>\n",
       "    <tr>\n",
       "      <th>3</th>\n",
       "      <td>1178791644797255680</td>\n",
       "      <td>True</td>\n",
       "      <td>0</td>\n",
       "      <td>0</td>\n",
       "      <td>0</td>\n",
       "    </tr>\n",
       "    <tr>\n",
       "      <th>4</th>\n",
       "      <td>1178791648056217600</td>\n",
       "      <td>False</td>\n",
       "      <td>phenomhoopreport.com</td>\n",
       "      <td>1</td>\n",
       "      <td>nan</td>\n",
       "    </tr>\n",
       "    <tr>\n",
       "      <th>5</th>\n",
       "      <td>1178791648962236416</td>\n",
       "      <td>False</td>\n",
       "      <td>0</td>\n",
       "      <td>0</td>\n",
       "      <td>0</td>\n",
       "    </tr>\n",
       "    <tr>\n",
       "      <th>6</th>\n",
       "      <td>1178791657380044800</td>\n",
       "      <td>False</td>\n",
       "      <td>0</td>\n",
       "      <td>0</td>\n",
       "      <td>0</td>\n",
       "    </tr>\n",
       "    <tr>\n",
       "      <th>7</th>\n",
       "      <td>1178791661536722949</td>\n",
       "      <td>True</td>\n",
       "      <td>airtime.pro airtime.pro</td>\n",
       "      <td>2</td>\n",
       "      <td>nan nan</td>\n",
       "    </tr>\n",
       "    <tr>\n",
       "      <th>8</th>\n",
       "      <td>1178791662841159681</td>\n",
       "      <td>False</td>\n",
       "      <td>mobihealthnews.com</td>\n",
       "      <td>1</td>\n",
       "      <td>nan</td>\n",
       "    </tr>\n",
       "    <tr>\n",
       "      <th>9</th>\n",
       "      <td>1178791665735208960</td>\n",
       "      <td>False</td>\n",
       "      <td>dailytelegraph.com.au</td>\n",
       "      <td>1</td>\n",
       "      <td>news</td>\n",
       "    </tr>\n",
       "  </tbody>\n",
       "</table>\n",
       "</div>"
      ],
      "text/plain": [
       "              Tweet_Id  Ist_gelöscht                   Domäne  \\\n",
       "0  1178791636039589889         False   dcuniverseinfinite.com   \n",
       "1  1178791641265639424          True                 carrd.co   \n",
       "2  1178791640573579264          True                        0   \n",
       "3  1178791644797255680          True                        0   \n",
       "4  1178791648056217600         False     phenomhoopreport.com   \n",
       "5  1178791648962236416         False                        0   \n",
       "6  1178791657380044800         False                        0   \n",
       "7  1178791661536722949          True  airtime.pro airtime.pro   \n",
       "8  1178791662841159681         False       mobihealthnews.com   \n",
       "9  1178791665735208960         False    dailytelegraph.com.au   \n",
       "\n",
       "   Anzahl der URLs  dom_cat  \n",
       "0                1      nan  \n",
       "1                1      nan  \n",
       "2                0        0  \n",
       "3                0        0  \n",
       "4                1      nan  \n",
       "5                0        0  \n",
       "6                0        0  \n",
       "7                2  nan nan  \n",
       "8                1      nan  \n",
       "9                1     news  "
      ]
     },
     "execution_count": 27,
     "metadata": {},
     "output_type": "execute_result"
    }
   ],
   "source": [
    "#Die Features der Dataframe einschränken\n",
    "df_tweetskb = df_tweetskb[['Tweet_Id', 'Ist_gelöscht', 'Domäne', 'Anzahl der URLs', 'dom_cat']]\n",
    "df_tweetskb.head(10)"
   ]
  },
  {
   "cell_type": "code",
   "execution_count": 28,
   "metadata": {},
   "outputs": [],
   "source": [
    "#Daten speichern\n",
    "pfad='C:/Mo/tweetDB/tweetscov19/TweetsCov19_tsv/urls/predicted/tweetskb_domains_shalla_categorisieret.tsv'\n",
    "\n",
    "with open(pfad, 'w', newline='', encoding=\"utf-8\") as out_file:\n",
    "        tsv_writer = csv.writer(out_file, delimiter=\"\\t\")\n",
    "        for idx, row in df_tweetskb.iterrows():\n",
    "            tsv_writer.writerow(row.values.tolist())"
   ]
  },
  {
   "cell_type": "markdown",
   "metadata": {},
   "source": [
    "***"
   ]
  },
  {
   "cell_type": "markdown",
   "metadata": {},
   "source": [
    "**Die Anzahl der benutzten Domäne, die zu 10 meist benutzten Kategorien gehören, berechnen**"
   ]
  },
  {
   "cell_type": "markdown",
   "metadata": {},
   "source": [
    "***"
   ]
  },
  {
   "cell_type": "code",
   "execution_count": 17,
   "metadata": {},
   "outputs": [
    {
     "name": "stdout",
     "output_type": "stream",
     "text": [
      "(9409841, 5)\n"
     ]
    },
    {
     "data": {
      "text/html": [
       "<div>\n",
       "<style scoped>\n",
       "    .dataframe tbody tr th:only-of-type {\n",
       "        vertical-align: middle;\n",
       "    }\n",
       "\n",
       "    .dataframe tbody tr th {\n",
       "        vertical-align: top;\n",
       "    }\n",
       "\n",
       "    .dataframe thead th {\n",
       "        text-align: right;\n",
       "    }\n",
       "</style>\n",
       "<table border=\"1\" class=\"dataframe\">\n",
       "  <thead>\n",
       "    <tr style=\"text-align: right;\">\n",
       "      <th></th>\n",
       "      <th>Tweet_Id</th>\n",
       "      <th>Ist_gelöscht</th>\n",
       "      <th>Domäne</th>\n",
       "      <th>Anzahl der Domäne</th>\n",
       "      <th>dom_cat</th>\n",
       "    </tr>\n",
       "  </thead>\n",
       "  <tbody>\n",
       "    <tr>\n",
       "      <th>0</th>\n",
       "      <td>1178791636039589889</td>\n",
       "      <td>False</td>\n",
       "      <td>dcuniverseinfinite.com</td>\n",
       "      <td>1</td>\n",
       "      <td>NaN</td>\n",
       "    </tr>\n",
       "    <tr>\n",
       "      <th>1</th>\n",
       "      <td>1178791641265639424</td>\n",
       "      <td>True</td>\n",
       "      <td>carrd.co</td>\n",
       "      <td>1</td>\n",
       "      <td>NaN</td>\n",
       "    </tr>\n",
       "    <tr>\n",
       "      <th>2</th>\n",
       "      <td>1178791640573579264</td>\n",
       "      <td>True</td>\n",
       "      <td>0</td>\n",
       "      <td>0</td>\n",
       "      <td>0</td>\n",
       "    </tr>\n",
       "    <tr>\n",
       "      <th>3</th>\n",
       "      <td>1178791644797255680</td>\n",
       "      <td>True</td>\n",
       "      <td>0</td>\n",
       "      <td>0</td>\n",
       "      <td>0</td>\n",
       "    </tr>\n",
       "    <tr>\n",
       "      <th>4</th>\n",
       "      <td>1178791648056217600</td>\n",
       "      <td>False</td>\n",
       "      <td>phenomhoopreport.com</td>\n",
       "      <td>1</td>\n",
       "      <td>NaN</td>\n",
       "    </tr>\n",
       "  </tbody>\n",
       "</table>\n",
       "</div>"
      ],
      "text/plain": [
       "              Tweet_Id  Ist_gelöscht                  Domäne  \\\n",
       "0  1178791636039589889         False  dcuniverseinfinite.com   \n",
       "1  1178791641265639424          True                carrd.co   \n",
       "2  1178791640573579264          True                       0   \n",
       "3  1178791644797255680          True                       0   \n",
       "4  1178791648056217600         False    phenomhoopreport.com   \n",
       "\n",
       "   Anzahl der Domäne dom_cat  \n",
       "0                  1     NaN  \n",
       "1                  1     NaN  \n",
       "2                  0       0  \n",
       "3                  0       0  \n",
       "4                  1     NaN  "
      ]
     },
     "execution_count": 17,
     "metadata": {},
     "output_type": "execute_result"
    }
   ],
   "source": [
    "#Hier werden die Tweets mit kategorisierten Domäne gelesen. \n",
    "pfad ='C:/Mo/tweetDB/tweetscov19/TweetsCov19_tsv/urls/predicted/shalla/tweetskb_domains_shalla_categorisieret.tsv'\n",
    "\n",
    "df_tweetskb_domaene_shalla_cat = pd.read_csv(pfad, sep='\\t', error_bad_lines=False, names=['Tweet_Id', 'Ist_gelöscht', 'Domäne', 'Anzahl der Domäne', 'dom_cat'])\n",
    "print(df_tweetskb_domaene_shalla_cat.shape)\n",
    "df_tweetskb_domaene_shalla_cat.head()"
   ]
  },
  {
   "cell_type": "code",
   "execution_count": 20,
   "metadata": {},
   "outputs": [],
   "source": [
    "#Hier werden die meist benutzten Kategorien in tweetsKB berechnet.\n",
    "df_tweetskb_domaene_shalla_cat['dom_cat'] = df_tweetskb_domaene_shalla_cat['dom_cat'].astype(str)\n",
    "\n",
    "dict_tweetskb_domaene_cat = {}\n",
    "x = 0\n",
    "list_cat = []\n",
    "for idx, row in df_tweetskb_domains_shalla_cat.iterrows():\n",
    "    list_cat = (row.values.tolist()[4])\n",
    "    list_cat = str(list_cat).split()\n",
    "    for i in range(0, len(list_cat)):\n",
    "        cat = list_cat[i]\n",
    "        x += 1\n",
    "        if cat not in dict_tweetskb_domaene_cat:\n",
    "            dict_tweetskb_domaene_cat[cat] = 1\n",
    "        else :\n",
    "            dict_tweetskb_domaene_cat[cat] = dict_tweetskb_domaene_cat[cat] +1\n",
    "    #if x == 50:\n",
    "    #    break"
   ]
  },
  {
   "cell_type": "code",
   "execution_count": 21,
   "metadata": {},
   "outputs": [],
   "source": [
    "#Eine Dataframe aus die Dictionery bilden\n",
    "df_dict_tweetskb_dom_cat = pd.DataFrame(dict_tweetskb_domaene_cat.items(), columns=['Domain_kat','Zahl'])"
   ]
  },
  {
   "cell_type": "code",
   "execution_count": 22,
   "metadata": {},
   "outputs": [
    {
     "name": "stdout",
     "output_type": "stream",
     "text": [
      "Anzahl der Kategorien: 76\n"
     ]
    }
   ],
   "source": [
    "print('Anzahl der Kategorien:' ,df_dict_tweetskb_dom_cat.Domain_kat.size)"
   ]
  },
  {
   "cell_type": "code",
   "execution_count": 25,
   "metadata": {},
   "outputs": [
    {
     "data": {
      "text/plain": [
       "1460380"
      ]
     },
     "execution_count": 25,
     "metadata": {},
     "output_type": "execute_result"
    }
   ],
   "source": [
    "#Anzahl der Domäne(URLs) in TweetsKB berechnen\n",
    "domaene_sum = df_tweetskb_domains_shalla_cat['Anzahl der Domäne'].sum()\n",
    "domaene_sum"
   ]
  },
  {
   "cell_type": "code",
   "execution_count": 26,
   "metadata": {},
   "outputs": [],
   "source": [
    "#Prozentualen Anteil der beneutzten Kategorien bestimmen\n",
    "df_dict_tweetskb_dom_cat['prozent'] =  df_dict_tweetskb_dom_cat['Zahl'].apply(lambda row : ((row /domaene_sum) * 100) )"
   ]
  },
  {
   "cell_type": "code",
   "execution_count": 28,
   "metadata": {},
   "outputs": [
    {
     "data": {
      "text/html": [
       "<div>\n",
       "<style scoped>\n",
       "    .dataframe tbody tr th:only-of-type {\n",
       "        vertical-align: middle;\n",
       "    }\n",
       "\n",
       "    .dataframe tbody tr th {\n",
       "        vertical-align: top;\n",
       "    }\n",
       "\n",
       "    .dataframe thead th {\n",
       "        text-align: right;\n",
       "    }\n",
       "</style>\n",
       "<table border=\"1\" class=\"dataframe\">\n",
       "  <thead>\n",
       "    <tr style=\"text-align: right;\">\n",
       "      <th></th>\n",
       "      <th>index</th>\n",
       "      <th>Domain_kat</th>\n",
       "      <th>Zahl</th>\n",
       "      <th>prozent</th>\n",
       "    </tr>\n",
       "  </thead>\n",
       "  <tbody>\n",
       "    <tr>\n",
       "      <th>0</th>\n",
       "      <td>1</td>\n",
       "      <td>0</td>\n",
       "      <td>8024014</td>\n",
       "      <td>549.446993</td>\n",
       "    </tr>\n",
       "    <tr>\n",
       "      <th>1</th>\n",
       "      <td>0</td>\n",
       "      <td>nan</td>\n",
       "      <td>687141</td>\n",
       "      <td>47.052206</td>\n",
       "    </tr>\n",
       "    <tr>\n",
       "      <th>2</th>\n",
       "      <td>3</td>\n",
       "      <td>socialnet</td>\n",
       "      <td>333322</td>\n",
       "      <td>22.824333</td>\n",
       "    </tr>\n",
       "    <tr>\n",
       "      <th>3</th>\n",
       "      <td>2</td>\n",
       "      <td>news</td>\n",
       "      <td>138386</td>\n",
       "      <td>9.476027</td>\n",
       "    </tr>\n",
       "    <tr>\n",
       "      <th>4</th>\n",
       "      <td>6</td>\n",
       "      <td>movies</td>\n",
       "      <td>94252</td>\n",
       "      <td>6.453937</td>\n",
       "    </tr>\n",
       "    <tr>\n",
       "      <th>5</th>\n",
       "      <td>23</td>\n",
       "      <td>fortunetelling</td>\n",
       "      <td>37554</td>\n",
       "      <td>2.571522</td>\n",
       "    </tr>\n",
       "    <tr>\n",
       "      <th>6</th>\n",
       "      <td>5</td>\n",
       "      <td>porn</td>\n",
       "      <td>33848</td>\n",
       "      <td>2.317753</td>\n",
       "    </tr>\n",
       "    <tr>\n",
       "      <th>7</th>\n",
       "      <td>9</td>\n",
       "      <td>music</td>\n",
       "      <td>19686</td>\n",
       "      <td>1.348005</td>\n",
       "    </tr>\n",
       "    <tr>\n",
       "      <th>8</th>\n",
       "      <td>12</td>\n",
       "      <td>hobby/games-misc</td>\n",
       "      <td>17182</td>\n",
       "      <td>1.176543</td>\n",
       "    </tr>\n",
       "    <tr>\n",
       "      <th>9</th>\n",
       "      <td>14</td>\n",
       "      <td>urlshortener</td>\n",
       "      <td>16777</td>\n",
       "      <td>1.148811</td>\n",
       "    </tr>\n",
       "    <tr>\n",
       "      <th>10</th>\n",
       "      <td>4</td>\n",
       "      <td>shopping</td>\n",
       "      <td>16628</td>\n",
       "      <td>1.138608</td>\n",
       "    </tr>\n",
       "    <tr>\n",
       "      <th>11</th>\n",
       "      <td>7</td>\n",
       "      <td>forum</td>\n",
       "      <td>16189</td>\n",
       "      <td>1.108547</td>\n",
       "    </tr>\n",
       "    <tr>\n",
       "      <th>12</th>\n",
       "      <td>10</td>\n",
       "      <td>searchengines</td>\n",
       "      <td>13576</td>\n",
       "      <td>0.929621</td>\n",
       "    </tr>\n",
       "    <tr>\n",
       "      <th>13</th>\n",
       "      <td>17</td>\n",
       "      <td>radiotv</td>\n",
       "      <td>5091</td>\n",
       "      <td>0.348608</td>\n",
       "    </tr>\n",
       "    <tr>\n",
       "      <th>14</th>\n",
       "      <td>15</td>\n",
       "      <td>education/schools</td>\n",
       "      <td>4051</td>\n",
       "      <td>0.277394</td>\n",
       "    </tr>\n",
       "  </tbody>\n",
       "</table>\n",
       "</div>"
      ],
      "text/plain": [
       "    index         Domain_kat     Zahl     prozent\n",
       "0       1                  0  8024014  549.446993\n",
       "1       0                nan   687141   47.052206\n",
       "2       3          socialnet   333322   22.824333\n",
       "3       2               news   138386    9.476027\n",
       "4       6             movies    94252    6.453937\n",
       "5      23     fortunetelling    37554    2.571522\n",
       "6       5               porn    33848    2.317753\n",
       "7       9              music    19686    1.348005\n",
       "8      12   hobby/games-misc    17182    1.176543\n",
       "9      14       urlshortener    16777    1.148811\n",
       "10      4           shopping    16628    1.138608\n",
       "11      7              forum    16189    1.108547\n",
       "12     10      searchengines    13576    0.929621\n",
       "13     17            radiotv     5091    0.348608\n",
       "14     15  education/schools     4051    0.277394"
      ]
     },
     "execution_count": 28,
     "metadata": {},
     "output_type": "execute_result"
    }
   ],
   "source": [
    "#Dataframe aufsteigend sortieren.\n",
    "#Dataframe neu indexieren und einen Teil davon ausgeben.\n",
    "df_dict_tweetskb_dom_cat['Zahl'] = df_dict_tweetskb_dom_cat['Zahl'].astype(int) \n",
    "df_dict_tweetskb_dom_cat.sort_values(by = ['Zahl'], ascending = False, inplace = True)\n",
    "df_dict_tweetskb_dom_cat = df_dict_tweetskb_dom_cat.reset_index()\n",
    "df_dict_tweetskb_dom_cat.head(15)"
   ]
  },
  {
   "cell_type": "code",
   "execution_count": 24,
   "metadata": {},
   "outputs": [
    {
     "name": "stdout",
     "output_type": "stream",
     "text": [
      "socialnet!\n"
     ]
    }
   ],
   "source": [
    "#Die Anzahl der benutzten Domäne, die zu Kategorie soziale Netzwerke gehören wird hier berechnet\n",
    "def get_socialnet_num(dom_cat):\n",
    "    l = dom_cat.split()\n",
    "    num = l.count('socialnet')\n",
    "    return float( \"{:.2f}\".format((num / len(l) )) )\n",
    "\n",
    "df_tweetskb_domains_shalla_cat['dom_cat'] = df_tweetskb_domains_shalla_cat['dom_cat'].astype(str) \n",
    "\n",
    "df_tweetskb_domains_shalla_cat['socialnet'] = df_tweetskb_domains_shalla_cat.apply(lambda row: get_socialnet_num(row['dom_cat']), axis=1)\n",
    "print('socialnet!')"
   ]
  },
  {
   "cell_type": "code",
   "execution_count": 25,
   "metadata": {},
   "outputs": [],
   "source": [
    "#Die Anzahl der benutzten Domäne, die zu Kategorie News gehören wird hier berechnet\n",
    "def get_news_num(dom_cat):\n",
    "    l = dom_cat.split()\n",
    "    num = l.count('news')\n",
    "    return float( \"{:.2f}\".format((num / len(l) )) )\n",
    "\n",
    "\n",
    "df_tweetskb_domains_shalla_cat['news'] = df_tweetskb_domains_shalla_cat.apply(lambda row: get_news_num(row['dom_cat']), axis=1)"
   ]
  },
  {
   "cell_type": "code",
   "execution_count": 26,
   "metadata": {},
   "outputs": [
    {
     "name": "stdout",
     "output_type": "stream",
     "text": [
      "movies!\n"
     ]
    }
   ],
   "source": [
    "#Die Anzahl der benutzten Domäne, die zu Kategorie Movies gehören wird hier berechnet\n",
    "def get_movies_num(dom_cat):\n",
    "    l = dom_cat.split()\n",
    "    num = l.count('movies')\n",
    "    return float( \"{:.2f}\".format((num / len(l) )) )\n",
    "\n",
    "df_tweetskb_domains_shalla_cat['movies'] = df_tweetskb_domains_shalla_cat.apply(lambda row: get_movies_num(row['dom_cat']), axis=1)\n",
    "print('movies!')"
   ]
  },
  {
   "cell_type": "code",
   "execution_count": 27,
   "metadata": {},
   "outputs": [
    {
     "name": "stdout",
     "output_type": "stream",
     "text": [
      "fortunetelling!\n"
     ]
    }
   ],
   "source": [
    "#Die Anzahl der benutzten Domäne, die zu Kategorie Fortunetelling gehören wird hier berechnet\n",
    "def get_fortunetelling_num(dom_cat):\n",
    "    l = dom_cat.split()\n",
    "    num = l.count('fortunetelling')\n",
    "    return float( \"{:.2f}\".format((num / len(l) )) )\n",
    "\n",
    "df_tweetskb_domains_shalla_cat['fortunetelling'] = df_tweetskb_domains_shalla_cat.apply(lambda row: get_fortunetelling_num(row['dom_cat']), axis=1)\n",
    "print('fortunetelling!')"
   ]
  },
  {
   "cell_type": "code",
   "execution_count": 28,
   "metadata": {},
   "outputs": [
    {
     "name": "stdout",
     "output_type": "stream",
     "text": [
      "porn!\n"
     ]
    }
   ],
   "source": [
    "#Die Anzahl der benutzten Domäne, die zu Kategorie Porn gehören wird hier berechnet\n",
    "\n",
    "def get_porn_num(dom_cat):\n",
    "    l = dom_cat.split()\n",
    "    num = l.count('porn')\n",
    "    return float( \"{:.2f}\".format((num / len(l) )) )\n",
    "\n",
    "df_tweetskb_domains_shalla_cat['porn'] = df_tweetskb_domains_shalla_cat.apply(lambda row: get_porn_num(row['dom_cat']), axis=1)\n",
    "print('porn!')"
   ]
  },
  {
   "cell_type": "code",
   "execution_count": 29,
   "metadata": {},
   "outputs": [
    {
     "name": "stdout",
     "output_type": "stream",
     "text": [
      "music!\n"
     ]
    }
   ],
   "source": [
    "#Die Anzahl der benutzten Domäne, die zu Kategorie Music gehören wird hier berechnet\n",
    "def get_music_num(dom_cat):\n",
    "    l = dom_cat.split()\n",
    "    num = l.count('music')\n",
    "    return float( \"{:.2f}\".format((num / len(l) )) )\n",
    "\n",
    "df_tweetskb_domains_shalla_cat['music'] = df_tweetskb_domains_shalla_cat.apply(lambda row: get_music_num(row['dom_cat']), axis=1)\n",
    "print('music!')"
   ]
  },
  {
   "cell_type": "code",
   "execution_count": 30,
   "metadata": {},
   "outputs": [
    {
     "name": "stdout",
     "output_type": "stream",
     "text": [
      "hobby/games-misc!\n"
     ]
    }
   ],
   "source": [
    "#Die Anzahl der benutzten Domäne, die zu Kategorie hobby/games_misc gehören wird hier berechnet\n",
    "def get_hobby_num(dom_cat):\n",
    "    l = dom_cat.split()\n",
    "    num = l.count('hobby/games-misc')\n",
    "    return float( \"{:.2f}\".format((num / len(l) )) )\n",
    "\n",
    "df_tweetskb_domains_shalla_cat['hobby/games_misc'] = df_tweetskb_domains_shalla_cat.apply(lambda row: get_hobby_num(row['dom_cat']), axis=1)\n",
    "print('hobby/games-misc!')"
   ]
  },
  {
   "cell_type": "code",
   "execution_count": 31,
   "metadata": {},
   "outputs": [
    {
     "name": "stdout",
     "output_type": "stream",
     "text": [
      "shopping!\n"
     ]
    }
   ],
   "source": [
    "#Die Anzahl der benutzten Domäne, die zu Kategorie Shopping gehören wird hier berechnet\n",
    "def get_shopping_num(dom_cat):\n",
    "    l = dom_cat.split()\n",
    "    num = l.count('shopping')\n",
    "    return float( \"{:.2f}\".format((num / len(l) )) )\n",
    "\n",
    "df_tweetskb_domains_shalla_cat['shopping'] = df_tweetskb_domains_shalla_cat.apply(lambda row: get_shopping_num(row['dom_cat']), axis=1)\n",
    "print('shopping!')"
   ]
  },
  {
   "cell_type": "code",
   "execution_count": 32,
   "metadata": {},
   "outputs": [
    {
     "name": "stdout",
     "output_type": "stream",
     "text": [
      "forum!\n"
     ]
    }
   ],
   "source": [
    "#Die Anzahl der benutzten Domäne, die zu Kategorie Forum gehören wird hier berechnet\n",
    "def get_forum_num(dom_cat):\n",
    "    l = dom_cat.split()\n",
    "    num = l.count('forum')\n",
    "    return float( \"{:.2f}\".format((num / len(l) )) )\n",
    "\n",
    "df_tweetskb_domains_shalla_cat['forum'] = df_tweetskb_domains_shalla_cat.apply(lambda row: get_forum_num(row['dom_cat']), axis=1)\n",
    "print('forum!')"
   ]
  },
  {
   "cell_type": "code",
   "execution_count": 33,
   "metadata": {},
   "outputs": [
    {
     "name": "stdout",
     "output_type": "stream",
     "text": [
      "searchengines!\n"
     ]
    }
   ],
   "source": [
    "#Die Anzahl der benutzten Domäne, die zu Kategorie Searchengines gehören wird hier berechnet\n",
    "def get_searchengines_num(dom_cat):\n",
    "    l = dom_cat.split()\n",
    "    num = l.count('searchengines')\n",
    "    return float( \"{:.2f}\".format((num / len(l) )) )\n",
    "\n",
    "df_tweetskb_domains_shalla_cat['searchengines'] = df_tweetskb_domains_shalla_cat.apply(lambda row: get_searchengines_num(row['dom_cat']), axis=1)\n",
    "print('searchengines!')"
   ]
  },
  {
   "cell_type": "code",
   "execution_count": 34,
   "metadata": {},
   "outputs": [
    {
     "name": "stdout",
     "output_type": "stream",
     "text": [
      "others!\n"
     ]
    }
   ],
   "source": [
    "#Die Anzahl der benutzten Domäne, die alles außer bis jetzt bestimmten Kategorien sind, wird hier berechnet\n",
    "def get_others_num(dom_cat):\n",
    "    l = dom_cat.split()\n",
    "    num = l.count('socialnet') + l.count('news') + l.count('movies') + l.count('fortunetelling') + l.count('porn') + l.count('music') + l.count('hobby/games_misc') + l.count('shopping') + l.count('forum') + l.count('searchengines') + l.count('0') + l.count('nan')\n",
    "    num =  len(l) - num\n",
    "    return float( \"{:.2f}\".format((num / len(l) )) )\n",
    "\n",
    "df_tweetskb_domains_shalla_cat['others'] = df_tweetskb_domains_shalla_cat.apply(lambda row: get_others_num(row['dom_cat']), axis=1)\n",
    "print('others!')"
   ]
  },
  {
   "cell_type": "code",
   "execution_count": 35,
   "metadata": {},
   "outputs": [
    {
     "data": {
      "text/html": [
       "<div>\n",
       "<style scoped>\n",
       "    .dataframe tbody tr th:only-of-type {\n",
       "        vertical-align: middle;\n",
       "    }\n",
       "\n",
       "    .dataframe tbody tr th {\n",
       "        vertical-align: top;\n",
       "    }\n",
       "\n",
       "    .dataframe thead th {\n",
       "        text-align: right;\n",
       "    }\n",
       "</style>\n",
       "<table border=\"1\" class=\"dataframe\">\n",
       "  <thead>\n",
       "    <tr style=\"text-align: right;\">\n",
       "      <th></th>\n",
       "      <th>Tweet_Id</th>\n",
       "      <th>is_deleted</th>\n",
       "      <th>URLs_dom</th>\n",
       "      <th>URLs_num</th>\n",
       "      <th>dom_cat</th>\n",
       "      <th>socialnet</th>\n",
       "      <th>news</th>\n",
       "      <th>movies</th>\n",
       "      <th>fortunetelling</th>\n",
       "      <th>porn</th>\n",
       "      <th>music</th>\n",
       "      <th>hobby/games_misc</th>\n",
       "      <th>shopping</th>\n",
       "      <th>forum</th>\n",
       "      <th>searchengines</th>\n",
       "      <th>others</th>\n",
       "    </tr>\n",
       "  </thead>\n",
       "  <tbody>\n",
       "    <tr>\n",
       "      <th>0</th>\n",
       "      <td>1178791636039589889</td>\n",
       "      <td>False</td>\n",
       "      <td>dcuniverseinfinite.com</td>\n",
       "      <td>1</td>\n",
       "      <td>nan</td>\n",
       "      <td>0.0</td>\n",
       "      <td>0.0</td>\n",
       "      <td>0.0</td>\n",
       "      <td>0.0</td>\n",
       "      <td>0.0</td>\n",
       "      <td>0.0</td>\n",
       "      <td>0.0</td>\n",
       "      <td>0.0</td>\n",
       "      <td>0.0</td>\n",
       "      <td>0.0</td>\n",
       "      <td>0.0</td>\n",
       "    </tr>\n",
       "    <tr>\n",
       "      <th>1</th>\n",
       "      <td>1178791641265639424</td>\n",
       "      <td>True</td>\n",
       "      <td>carrd.co</td>\n",
       "      <td>1</td>\n",
       "      <td>nan</td>\n",
       "      <td>0.0</td>\n",
       "      <td>0.0</td>\n",
       "      <td>0.0</td>\n",
       "      <td>0.0</td>\n",
       "      <td>0.0</td>\n",
       "      <td>0.0</td>\n",
       "      <td>0.0</td>\n",
       "      <td>0.0</td>\n",
       "      <td>0.0</td>\n",
       "      <td>0.0</td>\n",
       "      <td>0.0</td>\n",
       "    </tr>\n",
       "    <tr>\n",
       "      <th>2</th>\n",
       "      <td>1178791640573579264</td>\n",
       "      <td>True</td>\n",
       "      <td>0</td>\n",
       "      <td>0</td>\n",
       "      <td>0</td>\n",
       "      <td>0.0</td>\n",
       "      <td>0.0</td>\n",
       "      <td>0.0</td>\n",
       "      <td>0.0</td>\n",
       "      <td>0.0</td>\n",
       "      <td>0.0</td>\n",
       "      <td>0.0</td>\n",
       "      <td>0.0</td>\n",
       "      <td>0.0</td>\n",
       "      <td>0.0</td>\n",
       "      <td>0.0</td>\n",
       "    </tr>\n",
       "    <tr>\n",
       "      <th>3</th>\n",
       "      <td>1178791644797255680</td>\n",
       "      <td>True</td>\n",
       "      <td>0</td>\n",
       "      <td>0</td>\n",
       "      <td>0</td>\n",
       "      <td>0.0</td>\n",
       "      <td>0.0</td>\n",
       "      <td>0.0</td>\n",
       "      <td>0.0</td>\n",
       "      <td>0.0</td>\n",
       "      <td>0.0</td>\n",
       "      <td>0.0</td>\n",
       "      <td>0.0</td>\n",
       "      <td>0.0</td>\n",
       "      <td>0.0</td>\n",
       "      <td>0.0</td>\n",
       "    </tr>\n",
       "    <tr>\n",
       "      <th>4</th>\n",
       "      <td>1178791648056217600</td>\n",
       "      <td>False</td>\n",
       "      <td>phenomhoopreport.com</td>\n",
       "      <td>1</td>\n",
       "      <td>nan</td>\n",
       "      <td>0.0</td>\n",
       "      <td>0.0</td>\n",
       "      <td>0.0</td>\n",
       "      <td>0.0</td>\n",
       "      <td>0.0</td>\n",
       "      <td>0.0</td>\n",
       "      <td>0.0</td>\n",
       "      <td>0.0</td>\n",
       "      <td>0.0</td>\n",
       "      <td>0.0</td>\n",
       "      <td>0.0</td>\n",
       "    </tr>\n",
       "    <tr>\n",
       "      <th>5</th>\n",
       "      <td>1178791648962236416</td>\n",
       "      <td>False</td>\n",
       "      <td>0</td>\n",
       "      <td>0</td>\n",
       "      <td>0</td>\n",
       "      <td>0.0</td>\n",
       "      <td>0.0</td>\n",
       "      <td>0.0</td>\n",
       "      <td>0.0</td>\n",
       "      <td>0.0</td>\n",
       "      <td>0.0</td>\n",
       "      <td>0.0</td>\n",
       "      <td>0.0</td>\n",
       "      <td>0.0</td>\n",
       "      <td>0.0</td>\n",
       "      <td>0.0</td>\n",
       "    </tr>\n",
       "    <tr>\n",
       "      <th>6</th>\n",
       "      <td>1178791657380044800</td>\n",
       "      <td>False</td>\n",
       "      <td>0</td>\n",
       "      <td>0</td>\n",
       "      <td>0</td>\n",
       "      <td>0.0</td>\n",
       "      <td>0.0</td>\n",
       "      <td>0.0</td>\n",
       "      <td>0.0</td>\n",
       "      <td>0.0</td>\n",
       "      <td>0.0</td>\n",
       "      <td>0.0</td>\n",
       "      <td>0.0</td>\n",
       "      <td>0.0</td>\n",
       "      <td>0.0</td>\n",
       "      <td>0.0</td>\n",
       "    </tr>\n",
       "    <tr>\n",
       "      <th>7</th>\n",
       "      <td>1178791661536722949</td>\n",
       "      <td>True</td>\n",
       "      <td>airtime.pro airtime.pro</td>\n",
       "      <td>2</td>\n",
       "      <td>nan nan</td>\n",
       "      <td>0.0</td>\n",
       "      <td>0.0</td>\n",
       "      <td>0.0</td>\n",
       "      <td>0.0</td>\n",
       "      <td>0.0</td>\n",
       "      <td>0.0</td>\n",
       "      <td>0.0</td>\n",
       "      <td>0.0</td>\n",
       "      <td>0.0</td>\n",
       "      <td>0.0</td>\n",
       "      <td>0.0</td>\n",
       "    </tr>\n",
       "    <tr>\n",
       "      <th>8</th>\n",
       "      <td>1178791662841159681</td>\n",
       "      <td>False</td>\n",
       "      <td>mobihealthnews.com</td>\n",
       "      <td>1</td>\n",
       "      <td>nan</td>\n",
       "      <td>0.0</td>\n",
       "      <td>0.0</td>\n",
       "      <td>0.0</td>\n",
       "      <td>0.0</td>\n",
       "      <td>0.0</td>\n",
       "      <td>0.0</td>\n",
       "      <td>0.0</td>\n",
       "      <td>0.0</td>\n",
       "      <td>0.0</td>\n",
       "      <td>0.0</td>\n",
       "      <td>0.0</td>\n",
       "    </tr>\n",
       "    <tr>\n",
       "      <th>9</th>\n",
       "      <td>1178791665735208960</td>\n",
       "      <td>False</td>\n",
       "      <td>dailytelegraph.com.au</td>\n",
       "      <td>1</td>\n",
       "      <td>news</td>\n",
       "      <td>0.0</td>\n",
       "      <td>1.0</td>\n",
       "      <td>0.0</td>\n",
       "      <td>0.0</td>\n",
       "      <td>0.0</td>\n",
       "      <td>0.0</td>\n",
       "      <td>0.0</td>\n",
       "      <td>0.0</td>\n",
       "      <td>0.0</td>\n",
       "      <td>0.0</td>\n",
       "      <td>0.0</td>\n",
       "    </tr>\n",
       "  </tbody>\n",
       "</table>\n",
       "</div>"
      ],
      "text/plain": [
       "              Tweet_Id  is_deleted                 URLs_dom  URLs_num  \\\n",
       "0  1178791636039589889       False   dcuniverseinfinite.com         1   \n",
       "1  1178791641265639424        True                 carrd.co         1   \n",
       "2  1178791640573579264        True                        0         0   \n",
       "3  1178791644797255680        True                        0         0   \n",
       "4  1178791648056217600       False     phenomhoopreport.com         1   \n",
       "5  1178791648962236416       False                        0         0   \n",
       "6  1178791657380044800       False                        0         0   \n",
       "7  1178791661536722949        True  airtime.pro airtime.pro         2   \n",
       "8  1178791662841159681       False       mobihealthnews.com         1   \n",
       "9  1178791665735208960       False    dailytelegraph.com.au         1   \n",
       "\n",
       "   dom_cat  socialnet  news  movies  fortunetelling  porn  music  \\\n",
       "0      nan        0.0   0.0     0.0             0.0   0.0    0.0   \n",
       "1      nan        0.0   0.0     0.0             0.0   0.0    0.0   \n",
       "2        0        0.0   0.0     0.0             0.0   0.0    0.0   \n",
       "3        0        0.0   0.0     0.0             0.0   0.0    0.0   \n",
       "4      nan        0.0   0.0     0.0             0.0   0.0    0.0   \n",
       "5        0        0.0   0.0     0.0             0.0   0.0    0.0   \n",
       "6        0        0.0   0.0     0.0             0.0   0.0    0.0   \n",
       "7  nan nan        0.0   0.0     0.0             0.0   0.0    0.0   \n",
       "8      nan        0.0   0.0     0.0             0.0   0.0    0.0   \n",
       "9     news        0.0   1.0     0.0             0.0   0.0    0.0   \n",
       "\n",
       "   hobby/games_misc  shopping  forum  searchengines  others  \n",
       "0               0.0       0.0    0.0            0.0     0.0  \n",
       "1               0.0       0.0    0.0            0.0     0.0  \n",
       "2               0.0       0.0    0.0            0.0     0.0  \n",
       "3               0.0       0.0    0.0            0.0     0.0  \n",
       "4               0.0       0.0    0.0            0.0     0.0  \n",
       "5               0.0       0.0    0.0            0.0     0.0  \n",
       "6               0.0       0.0    0.0            0.0     0.0  \n",
       "7               0.0       0.0    0.0            0.0     0.0  \n",
       "8               0.0       0.0    0.0            0.0     0.0  \n",
       "9               0.0       0.0    0.0            0.0     0.0  "
      ]
     },
     "execution_count": 35,
     "metadata": {},
     "output_type": "execute_result"
    }
   ],
   "source": [
    "df_tweetskb_domains_shalla_cat.head(10)"
   ]
  },
  {
   "cell_type": "code",
   "execution_count": 29,
   "metadata": {},
   "outputs": [],
   "source": [
    "#Die Ergebnisse wird hier berechnet.\n",
    "pfad2='C:/Mo/tweetDB/tweetscov19/TweetsCov19_tsv/urls/predicted/shalla/tweetscov19_domains_shalla_categorisieret_top_10.tsv'\n",
    "\n",
    "with open(pfad2, 'w', newline='', encoding=\"utf-8\") as out_file:\n",
    "        tsv_writer = csv.writer(out_file, delimiter=\"\\t\")\n",
    "        for idx, row in df_tweetscov19_domains_shalla_cat.iterrows():\n",
    "            tsv_writer.writerow(row.values.tolist())"
   ]
  }
 ],
 "metadata": {
  "kernelspec": {
   "display_name": "Python 3",
   "language": "python",
   "name": "python3"
  },
  "language_info": {
   "codemirror_mode": {
    "name": "ipython",
    "version": 3
   },
   "file_extension": ".py",
   "mimetype": "text/x-python",
   "name": "python",
   "nbconvert_exporter": "python",
   "pygments_lexer": "ipython3",
   "version": "3.8.8"
  }
 },
 "nbformat": 4,
 "nbformat_minor": 4
}
