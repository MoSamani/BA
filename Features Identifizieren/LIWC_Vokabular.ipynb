{
 "cells": [
  {
   "cell_type": "code",
   "execution_count": 1,
   "id": "5158939f",
   "metadata": {},
   "outputs": [],
   "source": [
    "#CSV Bibliothek importieren \n",
    "import csv\n",
    "#Pandas importieren und als pd bezeichnen\n",
    "import pandas as pd\n",
    "#Numpy importieren und als np bezeichnen \n",
    "import numpy as np\n",
    "#Json Biliothek importieren\n",
    "import json\n",
    "#Obere Schranke für die Größe der Daten auf 100,000,000 setzen  \n",
    "csv.field_size_limit(100000000)\n",
    "#Maximale Anzahl von Zeilen und Spalten Zeigen \n",
    "pd.options.display.max_columns = None\n",
    "pd.options.display.max_rows = None\n",
    "#RegEx-Bibliothek importieren importieren\n",
    "import re\n",
    "#Import counter\n",
    "from collections import Counter\n",
    "#LIWC-Python-Package importieren\n",
    "import liwc\n",
    "#Import ast um die Strings zu dictionarys umwandeln zu können\n",
    "import ast\n",
    "#Um die Warnings zu Console leiten\n",
    "import warnings\n",
    "warnings.filterwarnings('ignore')"
   ]
  },
  {
   "cell_type": "markdown",
   "id": "3dc74874",
   "metadata": {},
   "source": [
    "---"
   ]
  },
  {
   "cell_type": "markdown",
   "id": "7e9f9dd2",
   "metadata": {},
   "source": [
    "# LIWC-Kategorien\n",
    "#### Hier bearbeiten wir nur die Tweets von TweetsKB. Dieselbe Methoden wurden für die Tweets in TweetsCov19 auch benutzt"
   ]
  },
  {
   "cell_type": "markdown",
   "id": "0f400584",
   "metadata": {},
   "source": [
    "1. Dataframe(Stichprobe) wird gelesen\n",
    "2. Die Features TweetIDs, Ist_gelöscht, und Tweetinhalte werden ausgewählt.\n",
    "3. Zuerst werden LIWC-Kategorien berechenet und als ein  Dictionary gespeicert.\n",
    "4. Dannach werden die Bewertungen aus der Dictionary extrahiert.\n",
    "5. Extrahierten Daten werden gespeichert."
   ]
  },
  {
   "cell_type": "markdown",
   "id": "9cb4e296",
   "metadata": {},
   "source": [
    "---"
   ]
  },
  {
   "cell_type": "markdown",
   "id": "8557428b",
   "metadata": {},
   "source": [
    "**TweetsCov19:** *Hier werden TweetsIds, Ist_gelöscht und Tweetinhalte ausgewählt und separat gespeichert* "
   ]
  },
  {
   "cell_type": "code",
   "execution_count": 2,
   "id": "b7f4e6d1",
   "metadata": {},
   "outputs": [],
   "source": [
    "#Labels und Pfad für den TweetsCov19\n",
    "TweetsCov19_labels = ['Tweet_Id', \"Benutzername\", 'Zeitstempel', 'Abonnenten', 'Abonnierten', 'Retweets', 'Likes', 'Entities', 'Stimmung', 'Erwähnungen', 'Hashtags', 'URLs', 'Text', 'Ist_gelöscht', 'Anzahl der Erwähnungen', 'Anzahl der Hashtags', 'Anzahl der URLs', 'Domäne', 'Textlänge', 'Lesbarkeit']\n",
    "TweetsCov19_Pfad =  'C:/Mo/tweetDB/tweetscov19/TweetsCov19_tsv/data_sample/tweetscov19_sample/TweetsCov19_stichprobe_lesbarkeit.tsv'"
   ]
  },
  {
   "cell_type": "code",
   "execution_count": 4,
   "id": "39085383",
   "metadata": {},
   "outputs": [
    {
     "name": "stdout",
     "output_type": "stream",
     "text": [
      "Form: (9409841, 20)\n"
     ]
    },
    {
     "data": {
      "text/html": [
       "<div>\n",
       "<style scoped>\n",
       "    .dataframe tbody tr th:only-of-type {\n",
       "        vertical-align: middle;\n",
       "    }\n",
       "\n",
       "    .dataframe tbody tr th {\n",
       "        vertical-align: top;\n",
       "    }\n",
       "\n",
       "    .dataframe thead th {\n",
       "        text-align: right;\n",
       "    }\n",
       "</style>\n",
       "<table border=\"1\" class=\"dataframe\">\n",
       "  <thead>\n",
       "    <tr style=\"text-align: right;\">\n",
       "      <th></th>\n",
       "      <th>Tweet_Id</th>\n",
       "      <th>Benutzername</th>\n",
       "      <th>Zeitstempel</th>\n",
       "      <th>Abonnenten</th>\n",
       "      <th>Abonnierten</th>\n",
       "      <th>Retweets</th>\n",
       "      <th>Likes</th>\n",
       "      <th>Entities</th>\n",
       "      <th>Stimmung</th>\n",
       "      <th>Erwähnungen</th>\n",
       "      <th>Hashtags</th>\n",
       "      <th>URLs</th>\n",
       "      <th>Text</th>\n",
       "      <th>Ist_gelöscht</th>\n",
       "      <th>Anzahl der Erwähnungen</th>\n",
       "      <th>Anzahl der Hashtags</th>\n",
       "      <th>Anzahl der URLs</th>\n",
       "      <th>Domäne</th>\n",
       "      <th>Textlänge</th>\n",
       "      <th>Lesbarkeit</th>\n",
       "    </tr>\n",
       "  </thead>\n",
       "  <tbody>\n",
       "    <tr>\n",
       "      <th>0</th>\n",
       "      <td>1178791637348212736</td>\n",
       "      <td>c57d4fb895c5f4a33d2a2b24709f93b5</td>\n",
       "      <td>2019-09-30 22:00:01+00:00</td>\n",
       "      <td>764191</td>\n",
       "      <td>132</td>\n",
       "      <td>19</td>\n",
       "      <td>180</td>\n",
       "      <td>foodie:Foodie:-2.096663959988218;</td>\n",
       "      <td>1 -1</td>\n",
       "      <td>null;</td>\n",
       "      <td>HalloweenTime?</td>\n",
       "      <td>null;</td>\n",
       "      <td>Has your appetite materialized just as fast as...</td>\n",
       "      <td>True</td>\n",
       "      <td>0</td>\n",
       "      <td>1</td>\n",
       "      <td>0</td>\n",
       "      <td>0</td>\n",
       "      <td>155</td>\n",
       "      <td>76.553</td>\n",
       "    </tr>\n",
       "    <tr>\n",
       "      <th>1</th>\n",
       "      <td>1178791641601232896</td>\n",
       "      <td>627f7d4ef584ba33a676a4ebcb861cdb</td>\n",
       "      <td>2019-09-30 22:00:02+00:00</td>\n",
       "      <td>321189</td>\n",
       "      <td>26833</td>\n",
       "      <td>32</td>\n",
       "      <td>43</td>\n",
       "      <td>mainland china:Mainland_China:-1.6252666161640...</td>\n",
       "      <td>1 -1</td>\n",
       "      <td>null;</td>\n",
       "      <td>HongKong</td>\n",
       "      <td>https://www.catholicnewsagency.com/news/amid-h...</td>\n",
       "      <td>The persecution of Catholics in mainland China...</td>\n",
       "      <td>False</td>\n",
       "      <td>0</td>\n",
       "      <td>1</td>\n",
       "      <td>1</td>\n",
       "      <td>catholicnewsagency.com</td>\n",
       "      <td>204</td>\n",
       "      <td>29.468</td>\n",
       "    </tr>\n",
       "    <tr>\n",
       "      <th>2</th>\n",
       "      <td>1178791643509612547</td>\n",
       "      <td>7966d5716c1c4f33591b17755184e3d6</td>\n",
       "      <td>2019-09-30 22:00:03+00:00</td>\n",
       "      <td>14209</td>\n",
       "      <td>10623</td>\n",
       "      <td>90</td>\n",
       "      <td>182</td>\n",
       "      <td>brexit:Brexit:-1.582809637810362;hear hear:Hea...</td>\n",
       "      <td>1 -2</td>\n",
       "      <td>null;</td>\n",
       "      <td>Brexit</td>\n",
       "      <td>null;</td>\n",
       "      <td>Hear, hear..\\nEmily: You were an outspoken cri...</td>\n",
       "      <td>False</td>\n",
       "      <td>0</td>\n",
       "      <td>1</td>\n",
       "      <td>0</td>\n",
       "      <td>0</td>\n",
       "      <td>163</td>\n",
       "      <td>79.534</td>\n",
       "    </tr>\n",
       "    <tr>\n",
       "      <th>3</th>\n",
       "      <td>1178791644214235137</td>\n",
       "      <td>f17996c036ed4cd981f5448fe00d9ed2</td>\n",
       "      <td>2019-09-30 22:00:03+00:00</td>\n",
       "      <td>2264986</td>\n",
       "      <td>655</td>\n",
       "      <td>60</td>\n",
       "      <td>528</td>\n",
       "      <td>null;</td>\n",
       "      <td>3 -1</td>\n",
       "      <td>amstandardca.</td>\n",
       "      <td>BlueJays</td>\n",
       "      <td>null;</td>\n",
       "      <td>We wrapped up the season with a WINNING week! ...</td>\n",
       "      <td>False</td>\n",
       "      <td>1</td>\n",
       "      <td>1</td>\n",
       "      <td>0</td>\n",
       "      <td>0</td>\n",
       "      <td>132</td>\n",
       "      <td>85.889</td>\n",
       "    </tr>\n",
       "    <tr>\n",
       "      <th>4</th>\n",
       "      <td>1178791645371875329</td>\n",
       "      <td>32a54e5f6d8a67de1bffd2e689594dc8</td>\n",
       "      <td>2019-09-30 22:00:03+00:00</td>\n",
       "      <td>171</td>\n",
       "      <td>138</td>\n",
       "      <td>33</td>\n",
       "      <td>117</td>\n",
       "      <td>my family:My_Family:-2.6353832182503094;roll t...</td>\n",
       "      <td>4 -1</td>\n",
       "      <td>null;</td>\n",
       "      <td>null;</td>\n",
       "      <td>null;</td>\n",
       "      <td>Super excited to announce that I will be spend...</td>\n",
       "      <td>False</td>\n",
       "      <td>0</td>\n",
       "      <td>0</td>\n",
       "      <td>0</td>\n",
       "      <td>0</td>\n",
       "      <td>257</td>\n",
       "      <td>61.203</td>\n",
       "    </tr>\n",
       "  </tbody>\n",
       "</table>\n",
       "</div>"
      ],
      "text/plain": [
       "              Tweet_Id                      Benutzername  \\\n",
       "0  1178791637348212736  c57d4fb895c5f4a33d2a2b24709f93b5   \n",
       "1  1178791641601232896  627f7d4ef584ba33a676a4ebcb861cdb   \n",
       "2  1178791643509612547  7966d5716c1c4f33591b17755184e3d6   \n",
       "3  1178791644214235137  f17996c036ed4cd981f5448fe00d9ed2   \n",
       "4  1178791645371875329  32a54e5f6d8a67de1bffd2e689594dc8   \n",
       "\n",
       "                 Zeitstempel  Abonnenten  Abonnierten  Retweets  Likes  \\\n",
       "0  2019-09-30 22:00:01+00:00      764191          132        19    180   \n",
       "1  2019-09-30 22:00:02+00:00      321189        26833        32     43   \n",
       "2  2019-09-30 22:00:03+00:00       14209        10623        90    182   \n",
       "3  2019-09-30 22:00:03+00:00     2264986          655        60    528   \n",
       "4  2019-09-30 22:00:03+00:00         171          138        33    117   \n",
       "\n",
       "                                            Entities Stimmung    Erwähnungen  \\\n",
       "0                  foodie:Foodie:-2.096663959988218;     1 -1          null;   \n",
       "1  mainland china:Mainland_China:-1.6252666161640...     1 -1          null;   \n",
       "2  brexit:Brexit:-1.582809637810362;hear hear:Hea...     1 -2          null;   \n",
       "3                                              null;     3 -1  amstandardca.   \n",
       "4  my family:My_Family:-2.6353832182503094;roll t...     4 -1          null;   \n",
       "\n",
       "         Hashtags                                               URLs  \\\n",
       "0  HalloweenTime?                                              null;   \n",
       "1        HongKong  https://www.catholicnewsagency.com/news/amid-h...   \n",
       "2          Brexit                                              null;   \n",
       "3        BlueJays                                              null;   \n",
       "4           null;                                              null;   \n",
       "\n",
       "                                                Text  Ist_gelöscht  \\\n",
       "0  Has your appetite materialized just as fast as...          True   \n",
       "1  The persecution of Catholics in mainland China...         False   \n",
       "2  Hear, hear..\\nEmily: You were an outspoken cri...         False   \n",
       "3  We wrapped up the season with a WINNING week! ...         False   \n",
       "4  Super excited to announce that I will be spend...         False   \n",
       "\n",
       "   Anzahl der Erwähnungen  Anzahl der Hashtags  Anzahl der URLs  \\\n",
       "0                       0                    1                0   \n",
       "1                       0                    1                1   \n",
       "2                       0                    1                0   \n",
       "3                       1                    1                0   \n",
       "4                       0                    0                0   \n",
       "\n",
       "                   Domäne  Textlänge  Lesbarkeit  \n",
       "0                       0        155      76.553  \n",
       "1  catholicnewsagency.com        204      29.468  \n",
       "2                       0        163      79.534  \n",
       "3                       0        132      85.889  \n",
       "4                       0        257      61.203  "
      ]
     },
     "execution_count": 4,
     "metadata": {},
     "output_type": "execute_result"
    }
   ],
   "source": [
    "#Stichprobe von TweetsCov19 lesen\n",
    "\n",
    "df_tweetscov19 = pd.read_csv(TweetsCov19_Pfad, sep='\\t', error_bad_lines=False, names=TweetsCov19_labels)\n",
    "print('Form:', df_tweetscov19.shape)\n",
    "df_tweetscov19.head()"
   ]
  },
  {
   "cell_type": "code",
   "execution_count": 5,
   "id": "bf4a1d6c",
   "metadata": {},
   "outputs": [],
   "source": [
    "#TweetIDs und Texts werdn gespeichert.\n",
    "df_tweetscov19 = df_tweetscov19[['Tweet_Id' , 'Ist_gelöscht', 'Text']]\n",
    "\n",
    "pfad_tsv2 = 'C:/Mo/tweetDB/tweetscov19/TweetsCov19_tsv/data_sample/TweetsCov19_sample/TweetsCov19_stichprobe_IDsText.tsv'\n",
    "with open(pfad_tsv2, 'w', newline='', encoding=\"utf-8\") as out_file:\n",
    "        tsv_writer = csv.writer(out_file, delimiter=\"\\t\")\n",
    "        for idx, row in df_tweetscov19.iterrows():\n",
    "            tsv_writer.writerow(row.values.tolist())"
   ]
  },
  {
   "cell_type": "markdown",
   "id": "7971865d",
   "metadata": {},
   "source": [
    "***"
   ]
  },
  {
   "cell_type": "markdown",
   "id": "36b472b4",
   "metadata": {},
   "source": [
    "**TweetsKB:** *Hier werden TweetsIds, Ist_gelöscht und Tweetinhalte ausgewählt und separat gespeichert* "
   ]
  },
  {
   "cell_type": "code",
   "execution_count": 2,
   "id": "2273c354",
   "metadata": {},
   "outputs": [],
   "source": [
    "#Labels und Pfad für den TweetsKB\n",
    "\n",
    "TweetsKB_labels    = ['Tweet Id', 'Benutzername', 'Zeitstempel', 'Abonnenten', 'Abonnierten', 'Retweets', 'Likes', 'Text', 'URLs', 'Ist_gelöscht' ]\n",
    "TweetsKB_Pfad =  'C:/Mo/tweetDB/tweetscov19/TweetsCov19_tsv/data_sample/TweetsKB_stichprobe.tsv'"
   ]
  },
  {
   "cell_type": "code",
   "execution_count": 3,
   "id": "b0f02d99",
   "metadata": {},
   "outputs": [
    {
     "name": "stdout",
     "output_type": "stream",
     "text": [
      "Form : (9409841, 10)\n"
     ]
    },
    {
     "data": {
      "text/html": [
       "<div>\n",
       "<style scoped>\n",
       "    .dataframe tbody tr th:only-of-type {\n",
       "        vertical-align: middle;\n",
       "    }\n",
       "\n",
       "    .dataframe tbody tr th {\n",
       "        vertical-align: top;\n",
       "    }\n",
       "\n",
       "    .dataframe thead th {\n",
       "        text-align: right;\n",
       "    }\n",
       "</style>\n",
       "<table border=\"1\" class=\"dataframe\">\n",
       "  <thead>\n",
       "    <tr style=\"text-align: right;\">\n",
       "      <th></th>\n",
       "      <th>Tweet Id</th>\n",
       "      <th>Benutzername</th>\n",
       "      <th>Zeitstempel</th>\n",
       "      <th>Abonnenten</th>\n",
       "      <th>Abonnierten</th>\n",
       "      <th>Retweets</th>\n",
       "      <th>Likes</th>\n",
       "      <th>Text</th>\n",
       "      <th>URLs</th>\n",
       "      <th>Ist_gelöscht</th>\n",
       "    </tr>\n",
       "  </thead>\n",
       "  <tbody>\n",
       "    <tr>\n",
       "      <th>0</th>\n",
       "      <td>1178791636039589889</td>\n",
       "      <td>DCComics</td>\n",
       "      <td>2019-09-30 22:00:01+00:00</td>\n",
       "      <td>3349606</td>\n",
       "      <td>563</td>\n",
       "      <td>2</td>\n",
       "      <td>13</td>\n",
       "      <td>Today on #DCDaily, the crew takes a deep dive ...</td>\n",
       "      <td>http://bit.ly/2mlNYpS:-:</td>\n",
       "      <td>False</td>\n",
       "    </tr>\n",
       "    <tr>\n",
       "      <th>1</th>\n",
       "      <td>1178791641265639424</td>\n",
       "      <td>seanberdyz</td>\n",
       "      <td>2019-09-30 22:00:02+00:00</td>\n",
       "      <td>1203</td>\n",
       "      <td>499</td>\n",
       "      <td>4</td>\n",
       "      <td>20</td>\n",
       "      <td>𝘪’𝘮 𝘨𝘰𝘯𝘯𝘢 𝘣𝘦 𝘳𝘪𝘨𝘩𝘵 𝘩𝘦𝘳𝘦 ⟶ https://t.co/kOxWQL5...</td>\n",
       "      <td>http://ourownside.carrd.co:-:</td>\n",
       "      <td>True</td>\n",
       "    </tr>\n",
       "    <tr>\n",
       "      <th>2</th>\n",
       "      <td>1178791640573579264</td>\n",
       "      <td>AnArtistAtBirth</td>\n",
       "      <td>2019-09-30 22:00:02+00:00</td>\n",
       "      <td>109</td>\n",
       "      <td>215</td>\n",
       "      <td>0</td>\n",
       "      <td>0</td>\n",
       "      <td>❛ 𝘠𝘰𝘶'𝘳𝘦 𝘴𝘪𝘵𝘵𝘪𝘯' 𝘰𝘯 𝘺𝘰𝘶𝘳 𝘧𝘦𝘦𝘭𝘪𝘯𝘨𝘴 . . . 𝘐'𝘮 𝘴𝘪...</td>\n",
       "      <td>null;</td>\n",
       "      <td>True</td>\n",
       "    </tr>\n",
       "    <tr>\n",
       "      <th>3</th>\n",
       "      <td>1178791644797255680</td>\n",
       "      <td>lagosboygang</td>\n",
       "      <td>2019-09-30 22:00:03+00:00</td>\n",
       "      <td>571</td>\n",
       "      <td>1401</td>\n",
       "      <td>0</td>\n",
       "      <td>0</td>\n",
       "      <td>@Tiffany_o_ @UG_derrick That's the one i wanna...</td>\n",
       "      <td>null;</td>\n",
       "      <td>True</td>\n",
       "    </tr>\n",
       "    <tr>\n",
       "      <th>4</th>\n",
       "      <td>1178791648056217600</td>\n",
       "      <td>Phenom_Hoops</td>\n",
       "      <td>2019-09-30 22:00:04+00:00</td>\n",
       "      <td>25630</td>\n",
       "      <td>1674</td>\n",
       "      <td>1</td>\n",
       "      <td>1</td>\n",
       "      <td>2022 6’9 Perry Smith Jr. showcasing his high-m...</td>\n",
       "      <td>https://www.phenomhoopreport.com/2022-69-perry...</td>\n",
       "      <td>False</td>\n",
       "    </tr>\n",
       "  </tbody>\n",
       "</table>\n",
       "</div>"
      ],
      "text/plain": [
       "              Tweet Id     Benutzername                Zeitstempel  \\\n",
       "0  1178791636039589889         DCComics  2019-09-30 22:00:01+00:00   \n",
       "1  1178791641265639424       seanberdyz  2019-09-30 22:00:02+00:00   \n",
       "2  1178791640573579264  AnArtistAtBirth  2019-09-30 22:00:02+00:00   \n",
       "3  1178791644797255680     lagosboygang  2019-09-30 22:00:03+00:00   \n",
       "4  1178791648056217600     Phenom_Hoops  2019-09-30 22:00:04+00:00   \n",
       "\n",
       "   Abonnenten  Abonnierten  Retweets  Likes  \\\n",
       "0     3349606          563         2     13   \n",
       "1        1203          499         4     20   \n",
       "2         109          215         0      0   \n",
       "3         571         1401         0      0   \n",
       "4       25630         1674         1      1   \n",
       "\n",
       "                                                Text  \\\n",
       "0  Today on #DCDaily, the crew takes a deep dive ...   \n",
       "1  𝘪’𝘮 𝘨𝘰𝘯𝘯𝘢 𝘣𝘦 𝘳𝘪𝘨𝘩𝘵 𝘩𝘦𝘳𝘦 ⟶ https://t.co/kOxWQL5...   \n",
       "2  ❛ 𝘠𝘰𝘶'𝘳𝘦 𝘴𝘪𝘵𝘵𝘪𝘯' 𝘰𝘯 𝘺𝘰𝘶𝘳 𝘧𝘦𝘦𝘭𝘪𝘯𝘨𝘴 . . . 𝘐'𝘮 𝘴𝘪...   \n",
       "3  @Tiffany_o_ @UG_derrick That's the one i wanna...   \n",
       "4  2022 6’9 Perry Smith Jr. showcasing his high-m...   \n",
       "\n",
       "                                                URLs  Ist_gelöscht  \n",
       "0                           http://bit.ly/2mlNYpS:-:         False  \n",
       "1                      http://ourownside.carrd.co:-:          True  \n",
       "2                                              null;          True  \n",
       "3                                              null;          True  \n",
       "4  https://www.phenomhoopreport.com/2022-69-perry...         False  "
      ]
     },
     "execution_count": 3,
     "metadata": {},
     "output_type": "execute_result"
    }
   ],
   "source": [
    "#TweetsKB wird gelesen\n",
    "\n",
    "df_tweetskb = pd.read_csv(TweetsKB_Pfad, sep='\\t', error_bad_lines=False, names=TweetsKB_labels)\n",
    "print('Form :', df_tweetskb.shape)\n",
    "df_tweetskb.head()"
   ]
  },
  {
   "cell_type": "code",
   "execution_count": 4,
   "id": "007761b5",
   "metadata": {},
   "outputs": [],
   "source": [
    "#Dataframe wird hier gespeichert.\n",
    "\n",
    "df_tweetskb= df_tweetskb[['Tweet Id', 'Ist_gelöscht', 'Text']]\n",
    "\n",
    "TweetsKB_Pfad =  'C:/Mo/tweetDB/tweetscov19/TweetsCov19_tsv/data_sample/TweetsKB_stichprobe_IDsText.tsv'\n",
    "with open(TweetsKB_Pfad, 'w', newline='', encoding=\"utf-8\") as out_file:\n",
    "    tsv_writer = csv.writer(out_file, delimiter=\"\\t\")\n",
    "    for idx, row in df_tweetskb.iterrows():\n",
    "        tsv_writer.writerow(row.values.tolist())"
   ]
  },
  {
   "cell_type": "markdown",
   "id": "c7db969b",
   "metadata": {},
   "source": [
    "---"
   ]
  },
  {
   "cell_type": "code",
   "execution_count": 2,
   "id": "0977f292",
   "metadata": {},
   "outputs": [
    {
     "data": {
      "text/plain": [
       "{'verb': 20.0,\n",
       " 'affect': 20.0,\n",
       " 'posemo': 20.0,\n",
       " 'focuspresent': 20.0,\n",
       " 'function': 40.0,\n",
       " 'prep': 20.0,\n",
       " 'pronoun': 20.0,\n",
       " 'ppron': 20.0,\n",
       " 'you': 20.0,\n",
       " 'social': 40.0,\n",
       " 'family': 20.0,\n",
       " 'male': 20.0,\n",
       " 'drives': 20.0,\n",
       " 'affiliation': 20.0,\n",
       " 'informal': 20.0}"
      ]
     },
     "execution_count": 2,
     "metadata": {},
     "output_type": "execute_result"
    }
   ],
   "source": [
    "#Diese Teil-Code habe ich von dem Github von chbrown/liwc-python bekommen.\n",
    "# Die Linke is : https://github.com/chbrown/liwc-python\n",
    "#Hier werden die LIWC-Kategorien für die gegebene Wörter im Text berechnet und und als eine Dictionary zurückgegeben.\n",
    "\n",
    "def tokenize(text):\n",
    "    # you may want to use a smarter tokenizer\n",
    "    for match in re.finditer(r'\\w+', text, re.UNICODE):\n",
    "        yield match.group(0)\n",
    "\n",
    "parser, Kategorie_namen = liwc.load_token_parser('C:/Mo/tweetDB/tweetscov19/TweetsCov19_tsv/liwc_dictionary/LIWC2015 Dictionary.dic')\n",
    "\n",
    "def get_liwc(text):\n",
    "    t_tokens = tokenize(text)\n",
    "    # now flatmap over all the categories in all of the tokens using a generator:\n",
    "    t_counts = Counter(Kategorie for token in t_tokens for Kategorie in parser(token))\n",
    "    # and print the results:\n",
    "    #print(text_counts)\n",
    "    d= {}\n",
    "    d=  dict(t_counts)\n",
    "    text_len = len(list(tokenize(text)))\n",
    "    for key in d.keys():\n",
    "        d[key] = float(\"{:.2f}\".format( (d[key] / text_len) * 100 ))\n",
    "        #d[key] = (d[key] / text_len) * 100 \n",
    "    return d\n",
    "\n",
    "t = 'I love You babe!'\n",
    "t1 = 'Take care of yourself bro!' \n",
    "get_liwc(t1)"
   ]
  },
  {
   "cell_type": "markdown",
   "id": "3b73f5ea",
   "metadata": {},
   "source": [
    "***"
   ]
  },
  {
   "cell_type": "markdown",
   "id": "ffb0b053",
   "metadata": {},
   "source": [
    "**TweetsCov19:** *Hier werden Liwc-Kategories für die Inhalte berechnet und gespeichert* "
   ]
  },
  {
   "cell_type": "code",
   "execution_count": 3,
   "id": "eb9652d2",
   "metadata": {},
   "outputs": [
    {
     "name": "stdout",
     "output_type": "stream",
     "text": [
      "Form: (9409841, 3)\n"
     ]
    },
    {
     "data": {
      "text/html": [
       "<div>\n",
       "<style scoped>\n",
       "    .dataframe tbody tr th:only-of-type {\n",
       "        vertical-align: middle;\n",
       "    }\n",
       "\n",
       "    .dataframe tbody tr th {\n",
       "        vertical-align: top;\n",
       "    }\n",
       "\n",
       "    .dataframe thead th {\n",
       "        text-align: right;\n",
       "    }\n",
       "</style>\n",
       "<table border=\"1\" class=\"dataframe\">\n",
       "  <thead>\n",
       "    <tr style=\"text-align: right;\">\n",
       "      <th></th>\n",
       "      <th>Tweet Id</th>\n",
       "      <th>Ist_gelöscht</th>\n",
       "      <th>Text</th>\n",
       "    </tr>\n",
       "  </thead>\n",
       "  <tbody>\n",
       "    <tr>\n",
       "      <th>0</th>\n",
       "      <td>1178791637348212736</td>\n",
       "      <td>True</td>\n",
       "      <td>Has your appetite materialized just as fast as...</td>\n",
       "    </tr>\n",
       "    <tr>\n",
       "      <th>1</th>\n",
       "      <td>1178791641601232896</td>\n",
       "      <td>False</td>\n",
       "      <td>The persecution of Catholics in mainland China...</td>\n",
       "    </tr>\n",
       "    <tr>\n",
       "      <th>2</th>\n",
       "      <td>1178791643509612547</td>\n",
       "      <td>False</td>\n",
       "      <td>Hear, hear..\\nEmily: You were an outspoken cri...</td>\n",
       "    </tr>\n",
       "    <tr>\n",
       "      <th>3</th>\n",
       "      <td>1178791644214235137</td>\n",
       "      <td>False</td>\n",
       "      <td>We wrapped up the season with a WINNING week! ...</td>\n",
       "    </tr>\n",
       "    <tr>\n",
       "      <th>4</th>\n",
       "      <td>1178791645371875329</td>\n",
       "      <td>False</td>\n",
       "      <td>Super excited to announce that I will be spend...</td>\n",
       "    </tr>\n",
       "  </tbody>\n",
       "</table>\n",
       "</div>"
      ],
      "text/plain": [
       "              Tweet Id  Ist_gelöscht  \\\n",
       "0  1178791637348212736          True   \n",
       "1  1178791641601232896         False   \n",
       "2  1178791643509612547         False   \n",
       "3  1178791644214235137         False   \n",
       "4  1178791645371875329         False   \n",
       "\n",
       "                                                Text  \n",
       "0  Has your appetite materialized just as fast as...  \n",
       "1  The persecution of Catholics in mainland China...  \n",
       "2  Hear, hear..\\nEmily: You were an outspoken cri...  \n",
       "3  We wrapped up the season with a WINNING week! ...  \n",
       "4  Super excited to announce that I will be spend...  "
      ]
     },
     "execution_count": 3,
     "metadata": {},
     "output_type": "execute_result"
    }
   ],
   "source": [
    "TweetsCov19_Pfad = 'C:/Mo/tweetDB/tweetscov19/TweetsCov19_tsv/data_sample/TweetsCov19_sample/TweetsCov19_stichprobe_IDsText.tsv'\n",
    "df_tweetscov19 = pd.read_csv(TweetsCov19_Pfad, sep='\\t', error_bad_lines=False, names=['Tweet Id', 'Ist_gelöscht', 'Text'])\n",
    "print('Form:', df_tweetscov19.shape)\n",
    "df_tweetscov19.head()"
   ]
  },
  {
   "cell_type": "code",
   "execution_count": 5,
   "id": "87f507d6",
   "metadata": {},
   "outputs": [
    {
     "name": "stdout",
     "output_type": "stream",
     "text": [
      "Text_Liwc wurde extrahiert!\n"
     ]
    }
   ],
   "source": [
    "df_tweetscov19['Text'] = df_tweetscov19['Text'].astype(str)\n",
    "df_tweetscov19['liwc'] = df_tweetscov19.apply(lambda row: get_liwc(row['Text']) , axis=1)\n",
    "\n",
    "print('Text_Liwc wurde extrahiert!')"
   ]
  },
  {
   "cell_type": "code",
   "execution_count": 6,
   "id": "5d3b8495",
   "metadata": {},
   "outputs": [
    {
     "data": {
      "text/html": [
       "<div>\n",
       "<style scoped>\n",
       "    .dataframe tbody tr th:only-of-type {\n",
       "        vertical-align: middle;\n",
       "    }\n",
       "\n",
       "    .dataframe tbody tr th {\n",
       "        vertical-align: top;\n",
       "    }\n",
       "\n",
       "    .dataframe thead th {\n",
       "        text-align: right;\n",
       "    }\n",
       "</style>\n",
       "<table border=\"1\" class=\"dataframe\">\n",
       "  <thead>\n",
       "    <tr style=\"text-align: right;\">\n",
       "      <th></th>\n",
       "      <th>Tweet Id</th>\n",
       "      <th>Ist_gelöscht</th>\n",
       "      <th>Text</th>\n",
       "      <th>liwc</th>\n",
       "    </tr>\n",
       "  </thead>\n",
       "  <tbody>\n",
       "    <tr>\n",
       "      <th>0</th>\n",
       "      <td>1178791637348212736</td>\n",
       "      <td>True</td>\n",
       "      <td>Has your appetite materialized just as fast as...</td>\n",
       "      <td>{'function': 38.46, 'pronoun': 7.69, 'ppron': ...</td>\n",
       "    </tr>\n",
       "    <tr>\n",
       "      <th>1</th>\n",
       "      <td>1178791641601232896</td>\n",
       "      <td>False</td>\n",
       "      <td>The persecution of Catholics in mainland China...</td>\n",
       "      <td>{'function': 33.33, 'prep': 26.67, 'relativ': ...</td>\n",
       "    </tr>\n",
       "    <tr>\n",
       "      <th>2</th>\n",
       "      <td>1178791643509612547</td>\n",
       "      <td>False</td>\n",
       "      <td>Hear, hear..\\nEmily: You were an outspoken cri...</td>\n",
       "      <td>{'verb': 18.52, 'social': 11.11, 'percept': 3....</td>\n",
       "    </tr>\n",
       "    <tr>\n",
       "      <th>3</th>\n",
       "      <td>1178791644214235137</td>\n",
       "      <td>False</td>\n",
       "      <td>We wrapped up the season with a WINNING week! ...</td>\n",
       "      <td>{'function': 27.27, 'prep': 13.64, 'drives': 9...</td>\n",
       "    </tr>\n",
       "    <tr>\n",
       "      <th>4</th>\n",
       "      <td>1178791645371875329</td>\n",
       "      <td>False</td>\n",
       "      <td>Super excited to announce that I will be spend...</td>\n",
       "      <td>{'adj': 8.89, 'affect': 4.44, 'posemo': 4.44, ...</td>\n",
       "    </tr>\n",
       "  </tbody>\n",
       "</table>\n",
       "</div>"
      ],
      "text/plain": [
       "              Tweet Id  Ist_gelöscht  \\\n",
       "0  1178791637348212736          True   \n",
       "1  1178791641601232896         False   \n",
       "2  1178791643509612547         False   \n",
       "3  1178791644214235137         False   \n",
       "4  1178791645371875329         False   \n",
       "\n",
       "                                                Text  \\\n",
       "0  Has your appetite materialized just as fast as...   \n",
       "1  The persecution of Catholics in mainland China...   \n",
       "2  Hear, hear..\\nEmily: You were an outspoken cri...   \n",
       "3  We wrapped up the season with a WINNING week! ...   \n",
       "4  Super excited to announce that I will be spend...   \n",
       "\n",
       "                                                liwc  \n",
       "0  {'function': 38.46, 'pronoun': 7.69, 'ppron': ...  \n",
       "1  {'function': 33.33, 'prep': 26.67, 'relativ': ...  \n",
       "2  {'verb': 18.52, 'social': 11.11, 'percept': 3....  \n",
       "3  {'function': 27.27, 'prep': 13.64, 'drives': 9...  \n",
       "4  {'adj': 8.89, 'affect': 4.44, 'posemo': 4.44, ...  "
      ]
     },
     "execution_count": 6,
     "metadata": {},
     "output_type": "execute_result"
    }
   ],
   "source": [
    "df_tweetscov19.head()"
   ]
  },
  {
   "cell_type": "code",
   "execution_count": 8,
   "id": "6e0b759e",
   "metadata": {},
   "outputs": [],
   "source": [
    "#TweetIDs und Texts werdn gespeichert.\n",
    "df_tweetscov19 = df_tweetscov19[['Tweet Id' , 'Ist_gelöscht', 'liwc']]\n",
    "\n",
    "pfad_tsv2 = 'C:/Mo/tweetDB/tweetscov19/TweetsCov19_tsv/data_sample/TweetsCov19_sample/TweetsCov19_stichprobe_liwc.tsv'\n",
    "with open(pfad_tsv2, 'w', newline='', encoding=\"utf-8\") as out_file:\n",
    "        tsv_writer = csv.writer(out_file, delimiter=\"\\t\")\n",
    "        for idx, row in df_tweetscov19.iterrows():\n",
    "            tsv_writer.writerow(row.values.tolist())"
   ]
  },
  {
   "cell_type": "markdown",
   "id": "bdd500d0",
   "metadata": {},
   "source": [
    "***"
   ]
  },
  {
   "cell_type": "markdown",
   "id": "9b372c50",
   "metadata": {},
   "source": [
    "**TweetsKB:** *Hier werden Liwc-Kategories für die Inhalte berechnet und gespeichert* "
   ]
  },
  {
   "cell_type": "code",
   "execution_count": 3,
   "id": "34a284da",
   "metadata": {},
   "outputs": [
    {
     "name": "stdout",
     "output_type": "stream",
     "text": [
      "Form : (9409841, 3)\n"
     ]
    },
    {
     "data": {
      "text/html": [
       "<div>\n",
       "<style scoped>\n",
       "    .dataframe tbody tr th:only-of-type {\n",
       "        vertical-align: middle;\n",
       "    }\n",
       "\n",
       "    .dataframe tbody tr th {\n",
       "        vertical-align: top;\n",
       "    }\n",
       "\n",
       "    .dataframe thead th {\n",
       "        text-align: right;\n",
       "    }\n",
       "</style>\n",
       "<table border=\"1\" class=\"dataframe\">\n",
       "  <thead>\n",
       "    <tr style=\"text-align: right;\">\n",
       "      <th></th>\n",
       "      <th>Tweet_Id</th>\n",
       "      <th>Ist_gelöscht</th>\n",
       "      <th>Text</th>\n",
       "    </tr>\n",
       "  </thead>\n",
       "  <tbody>\n",
       "    <tr>\n",
       "      <th>0</th>\n",
       "      <td>1178791636039589889</td>\n",
       "      <td>False</td>\n",
       "      <td>Today on #DCDaily, the crew takes a deep dive ...</td>\n",
       "    </tr>\n",
       "    <tr>\n",
       "      <th>1</th>\n",
       "      <td>1178791641265639424</td>\n",
       "      <td>True</td>\n",
       "      <td>𝘪’𝘮 𝘨𝘰𝘯𝘯𝘢 𝘣𝘦 𝘳𝘪𝘨𝘩𝘵 𝘩𝘦𝘳𝘦 ⟶ https://t.co/kOxWQL5...</td>\n",
       "    </tr>\n",
       "    <tr>\n",
       "      <th>2</th>\n",
       "      <td>1178791640573579264</td>\n",
       "      <td>True</td>\n",
       "      <td>❛ 𝘠𝘰𝘶'𝘳𝘦 𝘴𝘪𝘵𝘵𝘪𝘯' 𝘰𝘯 𝘺𝘰𝘶𝘳 𝘧𝘦𝘦𝘭𝘪𝘯𝘨𝘴 . . . 𝘐'𝘮 𝘴𝘪...</td>\n",
       "    </tr>\n",
       "    <tr>\n",
       "      <th>3</th>\n",
       "      <td>1178791644797255680</td>\n",
       "      <td>True</td>\n",
       "      <td>@Tiffany_o_ @UG_derrick That's the one i wanna...</td>\n",
       "    </tr>\n",
       "    <tr>\n",
       "      <th>4</th>\n",
       "      <td>1178791648056217600</td>\n",
       "      <td>False</td>\n",
       "      <td>2022 6’9 Perry Smith Jr. showcasing his high-m...</td>\n",
       "    </tr>\n",
       "  </tbody>\n",
       "</table>\n",
       "</div>"
      ],
      "text/plain": [
       "              Tweet_Id  Ist_gelöscht  \\\n",
       "0  1178791636039589889         False   \n",
       "1  1178791641265639424          True   \n",
       "2  1178791640573579264          True   \n",
       "3  1178791644797255680          True   \n",
       "4  1178791648056217600         False   \n",
       "\n",
       "                                                Text  \n",
       "0  Today on #DCDaily, the crew takes a deep dive ...  \n",
       "1  𝘪’𝘮 𝘨𝘰𝘯𝘯𝘢 𝘣𝘦 𝘳𝘪𝘨𝘩𝘵 𝘩𝘦𝘳𝘦 ⟶ https://t.co/kOxWQL5...  \n",
       "2  ❛ 𝘠𝘰𝘶'𝘳𝘦 𝘴𝘪𝘵𝘵𝘪𝘯' 𝘰𝘯 𝘺𝘰𝘶𝘳 𝘧𝘦𝘦𝘭𝘪𝘯𝘨𝘴 . . . 𝘐'𝘮 𝘴𝘪...  \n",
       "3  @Tiffany_o_ @UG_derrick That's the one i wanna...  \n",
       "4  2022 6’9 Perry Smith Jr. showcasing his high-m...  "
      ]
     },
     "execution_count": 3,
     "metadata": {},
     "output_type": "execute_result"
    }
   ],
   "source": [
    "TweetsKB_Pfad =  'C:/Mo/tweetDB/tweetscov19/TweetsCov19_tsv/data_sample/TweetsKB_stichprobe_IDsText.tsv'\n",
    "df_tweetskb = pd.read_csv(TweetsKB_Pfad, sep='\\t', error_bad_lines=False, names=['Tweet_Id', 'Ist_gelöscht', 'Text'])\n",
    "print('Form :', df_tweetskb.shape)\n",
    "df_tweetskb.head()"
   ]
  },
  {
   "cell_type": "code",
   "execution_count": 4,
   "id": "e356aaa9",
   "metadata": {},
   "outputs": [
    {
     "name": "stdout",
     "output_type": "stream",
     "text": [
      "Text_Liwc wurde extrahiert!\n"
     ]
    }
   ],
   "source": [
    "df_tweetskb['Text'] = df_tweetskb['Text'].astype(str)\n",
    "df_tweetskb['liwc'] = df_tweetskb.apply(lambda row: get_liwc(row['Text']) , axis=1)\n",
    "\n",
    "print('Text_Liwc wurde extrahiert!')"
   ]
  },
  {
   "cell_type": "code",
   "execution_count": 5,
   "id": "98e75386",
   "metadata": {},
   "outputs": [
    {
     "data": {
      "text/html": [
       "<div>\n",
       "<style scoped>\n",
       "    .dataframe tbody tr th:only-of-type {\n",
       "        vertical-align: middle;\n",
       "    }\n",
       "\n",
       "    .dataframe tbody tr th {\n",
       "        vertical-align: top;\n",
       "    }\n",
       "\n",
       "    .dataframe thead th {\n",
       "        text-align: right;\n",
       "    }\n",
       "</style>\n",
       "<table border=\"1\" class=\"dataframe\">\n",
       "  <thead>\n",
       "    <tr style=\"text-align: right;\">\n",
       "      <th></th>\n",
       "      <th>Tweet_Id</th>\n",
       "      <th>Ist_gelöscht</th>\n",
       "      <th>Text</th>\n",
       "      <th>liwc</th>\n",
       "    </tr>\n",
       "  </thead>\n",
       "  <tbody>\n",
       "    <tr>\n",
       "      <th>0</th>\n",
       "      <td>1178791636039589889</td>\n",
       "      <td>False</td>\n",
       "      <td>Today on #DCDaily, the crew takes a deep dive ...</td>\n",
       "      <td>{'function': 28.57, 'prep': 11.43, 'relativ': ...</td>\n",
       "    </tr>\n",
       "    <tr>\n",
       "      <th>1</th>\n",
       "      <td>1178791641265639424</td>\n",
       "      <td>True</td>\n",
       "      <td>𝘪’𝘮 𝘨𝘰𝘯𝘯𝘢 𝘣𝘦 𝘳𝘪𝘨𝘩𝘵 𝘩𝘦𝘳𝘦 ⟶ https://t.co/kOxWQL5...</td>\n",
       "      <td>{}</td>\n",
       "    </tr>\n",
       "    <tr>\n",
       "      <th>2</th>\n",
       "      <td>1178791640573579264</td>\n",
       "      <td>True</td>\n",
       "      <td>❛ 𝘠𝘰𝘶'𝘳𝘦 𝘴𝘪𝘵𝘵𝘪𝘯' 𝘰𝘯 𝘺𝘰𝘶𝘳 𝘧𝘦𝘦𝘭𝘪𝘯𝘨𝘴 . . . 𝘐'𝘮 𝘴𝘪...</td>\n",
       "      <td>{}</td>\n",
       "    </tr>\n",
       "    <tr>\n",
       "      <th>3</th>\n",
       "      <td>1178791644797255680</td>\n",
       "      <td>True</td>\n",
       "      <td>@Tiffany_o_ @UG_derrick That's the one i wanna...</td>\n",
       "      <td>{'function': 23.08, 'article': 7.69, 'number':...</td>\n",
       "    </tr>\n",
       "    <tr>\n",
       "      <th>4</th>\n",
       "      <td>1178791648056217600</td>\n",
       "      <td>False</td>\n",
       "      <td>2022 6’9 Perry Smith Jr. showcasing his high-m...</td>\n",
       "      <td>{'function': 23.08, 'pronoun': 10.26, 'ppron':...</td>\n",
       "    </tr>\n",
       "  </tbody>\n",
       "</table>\n",
       "</div>"
      ],
      "text/plain": [
       "              Tweet_Id  Ist_gelöscht  \\\n",
       "0  1178791636039589889         False   \n",
       "1  1178791641265639424          True   \n",
       "2  1178791640573579264          True   \n",
       "3  1178791644797255680          True   \n",
       "4  1178791648056217600         False   \n",
       "\n",
       "                                                Text  \\\n",
       "0  Today on #DCDaily, the crew takes a deep dive ...   \n",
       "1  𝘪’𝘮 𝘨𝘰𝘯𝘯𝘢 𝘣𝘦 𝘳𝘪𝘨𝘩𝘵 𝘩𝘦𝘳𝘦 ⟶ https://t.co/kOxWQL5...   \n",
       "2  ❛ 𝘠𝘰𝘶'𝘳𝘦 𝘴𝘪𝘵𝘵𝘪𝘯' 𝘰𝘯 𝘺𝘰𝘶𝘳 𝘧𝘦𝘦𝘭𝘪𝘯𝘨𝘴 . . . 𝘐'𝘮 𝘴𝘪...   \n",
       "3  @Tiffany_o_ @UG_derrick That's the one i wanna...   \n",
       "4  2022 6’9 Perry Smith Jr. showcasing his high-m...   \n",
       "\n",
       "                                                liwc  \n",
       "0  {'function': 28.57, 'prep': 11.43, 'relativ': ...  \n",
       "1                                                 {}  \n",
       "2                                                 {}  \n",
       "3  {'function': 23.08, 'article': 7.69, 'number':...  \n",
       "4  {'function': 23.08, 'pronoun': 10.26, 'ppron':...  "
      ]
     },
     "execution_count": 5,
     "metadata": {},
     "output_type": "execute_result"
    }
   ],
   "source": [
    "df_tweetskb.head()"
   ]
  },
  {
   "cell_type": "code",
   "execution_count": 6,
   "id": "450514b4",
   "metadata": {},
   "outputs": [],
   "source": [
    "df_tweetskb = df_tweetskb[['Tweet_Id' , 'Ist_gelöscht', 'liwc']]\n",
    "\n",
    "TweetsKB_Pfad =  'C:/Mo/tweetDB/tweetscov19/TweetsCov19_tsv/data_sample/TweetsKB_stichprobe_liwc.tsv'\n",
    "\n",
    "with open(TweetsKB_Pfad, 'w', newline='', encoding=\"utf-8\") as out_file:\n",
    "    tsv_writer = csv.writer(out_file, delimiter=\"\\t\")\n",
    "    for idx, row in df_tweetskb.iterrows():\n",
    "        tsv_writer.writerow(row.values.tolist())"
   ]
  },
  {
   "cell_type": "markdown",
   "id": "e015f048",
   "metadata": {},
   "source": [
    "***"
   ]
  },
  {
   "cell_type": "code",
   "execution_count": 3,
   "id": "f9b8d504",
   "metadata": {},
   "outputs": [
    {
     "name": "stdout",
     "output_type": "stream",
     "text": [
      "Form: (9409841, 3)\n"
     ]
    },
    {
     "data": {
      "text/html": [
       "<div>\n",
       "<style scoped>\n",
       "    .dataframe tbody tr th:only-of-type {\n",
       "        vertical-align: middle;\n",
       "    }\n",
       "\n",
       "    .dataframe tbody tr th {\n",
       "        vertical-align: top;\n",
       "    }\n",
       "\n",
       "    .dataframe thead th {\n",
       "        text-align: right;\n",
       "    }\n",
       "</style>\n",
       "<table border=\"1\" class=\"dataframe\">\n",
       "  <thead>\n",
       "    <tr style=\"text-align: right;\">\n",
       "      <th></th>\n",
       "      <th>Tweet_Id</th>\n",
       "      <th>Ist_gelöscht</th>\n",
       "      <th>liwc</th>\n",
       "    </tr>\n",
       "  </thead>\n",
       "  <tbody>\n",
       "    <tr>\n",
       "      <th>0</th>\n",
       "      <td>1178791637348212736</td>\n",
       "      <td>True</td>\n",
       "      <td>{'function': 38.46, 'pronoun': 7.69, 'ppron': ...</td>\n",
       "    </tr>\n",
       "    <tr>\n",
       "      <th>1</th>\n",
       "      <td>1178791641601232896</td>\n",
       "      <td>False</td>\n",
       "      <td>{'function': 33.33, 'prep': 26.67, 'relativ': ...</td>\n",
       "    </tr>\n",
       "    <tr>\n",
       "      <th>2</th>\n",
       "      <td>1178791643509612547</td>\n",
       "      <td>False</td>\n",
       "      <td>{'verb': 18.52, 'social': 11.11, 'percept': 3....</td>\n",
       "    </tr>\n",
       "    <tr>\n",
       "      <th>3</th>\n",
       "      <td>1178791644214235137</td>\n",
       "      <td>False</td>\n",
       "      <td>{'function': 27.27, 'prep': 13.64, 'drives': 9...</td>\n",
       "    </tr>\n",
       "    <tr>\n",
       "      <th>4</th>\n",
       "      <td>1178791645371875329</td>\n",
       "      <td>False</td>\n",
       "      <td>{'adj': 8.89, 'affect': 4.44, 'posemo': 4.44, ...</td>\n",
       "    </tr>\n",
       "  </tbody>\n",
       "</table>\n",
       "</div>"
      ],
      "text/plain": [
       "              Tweet_Id  Ist_gelöscht  \\\n",
       "0  1178791637348212736          True   \n",
       "1  1178791641601232896         False   \n",
       "2  1178791643509612547         False   \n",
       "3  1178791644214235137         False   \n",
       "4  1178791645371875329         False   \n",
       "\n",
       "                                                liwc  \n",
       "0  {'function': 38.46, 'pronoun': 7.69, 'ppron': ...  \n",
       "1  {'function': 33.33, 'prep': 26.67, 'relativ': ...  \n",
       "2  {'verb': 18.52, 'social': 11.11, 'percept': 3....  \n",
       "3  {'function': 27.27, 'prep': 13.64, 'drives': 9...  \n",
       "4  {'adj': 8.89, 'affect': 4.44, 'posemo': 4.44, ...  "
      ]
     },
     "execution_count": 3,
     "metadata": {},
     "output_type": "execute_result"
    }
   ],
   "source": [
    "TweetsCov19_Pfad = 'C:/Mo/tweetDB/tweetscov19/TweetsCov19_tsv/data_sample/TweetsCov19_sample/TweetsCov19_stichprobe_liwc.tsv'\n",
    "df_tweetscov19 = pd.read_csv(TweetsCov19_Pfad, sep='\\t', error_bad_lines=False, names=['Tweet_Id', 'Ist_gelöscht', 'liwc'])\n",
    "print('Form:', df_tweetscov19.shape)\n",
    "df_tweetscov19.head()"
   ]
  },
  {
   "cell_type": "code",
   "execution_count": 2,
   "id": "752a85c9",
   "metadata": {},
   "outputs": [
    {
     "name": "stdout",
     "output_type": "stream",
     "text": [
      "Form : (9409841, 3)\n"
     ]
    },
    {
     "data": {
      "text/html": [
       "<div>\n",
       "<style scoped>\n",
       "    .dataframe tbody tr th:only-of-type {\n",
       "        vertical-align: middle;\n",
       "    }\n",
       "\n",
       "    .dataframe tbody tr th {\n",
       "        vertical-align: top;\n",
       "    }\n",
       "\n",
       "    .dataframe thead th {\n",
       "        text-align: right;\n",
       "    }\n",
       "</style>\n",
       "<table border=\"1\" class=\"dataframe\">\n",
       "  <thead>\n",
       "    <tr style=\"text-align: right;\">\n",
       "      <th></th>\n",
       "      <th>Tweet_Id</th>\n",
       "      <th>Ist_gelöscht</th>\n",
       "      <th>liwc</th>\n",
       "    </tr>\n",
       "  </thead>\n",
       "  <tbody>\n",
       "    <tr>\n",
       "      <th>0</th>\n",
       "      <td>1178791636039589889</td>\n",
       "      <td>False</td>\n",
       "      <td>{'function': 28.57, 'prep': 11.43, 'relativ': ...</td>\n",
       "    </tr>\n",
       "    <tr>\n",
       "      <th>1</th>\n",
       "      <td>1178791641265639424</td>\n",
       "      <td>True</td>\n",
       "      <td>{}</td>\n",
       "    </tr>\n",
       "    <tr>\n",
       "      <th>2</th>\n",
       "      <td>1178791640573579264</td>\n",
       "      <td>True</td>\n",
       "      <td>{}</td>\n",
       "    </tr>\n",
       "    <tr>\n",
       "      <th>3</th>\n",
       "      <td>1178791644797255680</td>\n",
       "      <td>True</td>\n",
       "      <td>{'function': 23.08, 'article': 7.69, 'number':...</td>\n",
       "    </tr>\n",
       "    <tr>\n",
       "      <th>4</th>\n",
       "      <td>1178791648056217600</td>\n",
       "      <td>False</td>\n",
       "      <td>{'function': 23.08, 'pronoun': 10.26, 'ppron':...</td>\n",
       "    </tr>\n",
       "  </tbody>\n",
       "</table>\n",
       "</div>"
      ],
      "text/plain": [
       "              Tweet_Id  Ist_gelöscht  \\\n",
       "0  1178791636039589889         False   \n",
       "1  1178791641265639424          True   \n",
       "2  1178791640573579264          True   \n",
       "3  1178791644797255680          True   \n",
       "4  1178791648056217600         False   \n",
       "\n",
       "                                                liwc  \n",
       "0  {'function': 28.57, 'prep': 11.43, 'relativ': ...  \n",
       "1                                                 {}  \n",
       "2                                                 {}  \n",
       "3  {'function': 23.08, 'article': 7.69, 'number':...  \n",
       "4  {'function': 23.08, 'pronoun': 10.26, 'ppron':...  "
      ]
     },
     "execution_count": 2,
     "metadata": {},
     "output_type": "execute_result"
    }
   ],
   "source": [
    "TweetsKB_Pfad =  'C:/Mo/tweetDB/tweetscov19/TweetsCov19_tsv/data_sample/TweetsKB_stichprobe_liwc.tsv'\n",
    "df_tweetskb = pd.read_csv(TweetsKB_Pfad, sep='\\t', error_bad_lines=False, names=['Tweet_Id', 'Ist_gelöscht', 'liwc'])\n",
    "print('Form :', df_tweetskb.shape)\n",
    "df_tweetskb.head()"
   ]
  },
  {
   "cell_type": "markdown",
   "id": "3cf54924",
   "metadata": {},
   "source": [
    "<br>"
   ]
  },
  {
   "cell_type": "markdown",
   "id": "2eb73d6c",
   "metadata": {},
   "source": [
    "- Da die Daten relativ viel sind, werden sie in zwei Teilen bearbeitet und gespeichert."
   ]
  },
  {
   "cell_type": "markdown",
   "id": "d7a1c10e",
   "metadata": {},
   "source": [
    "### Teil 1"
   ]
  },
  {
   "cell_type": "code",
   "execution_count": 3,
   "id": "9bacbf5d",
   "metadata": {},
   "outputs": [],
   "source": [
    "df = df_tweetskb\n",
    "#df = df_tweetscov19"
   ]
  },
  {
   "cell_type": "markdown",
   "id": "b0a5ea14",
   "metadata": {},
   "source": [
    " *Im folgenden sind 37 Methoden geschrieben, die die Ergebnisse für bestimmte Subkategorie lesen und zurückgeben.*\n",
    " *Fals kein Ergebnis für eine bestimmte Kategorie gibt, dann wird 0 zurückgegeben.*"
   ]
  },
  {
   "cell_type": "code",
   "execution_count": 4,
   "id": "2c0d20b5",
   "metadata": {},
   "outputs": [],
   "source": [
    "#Das Ergebnis für soziale Wörter wird zurückgegeben.\n",
    "def get_liwc_social(dic):\n",
    "    d = ast.literal_eval(dic)\n",
    "    try:\n",
    "        return d['social']\n",
    "    except KeyError:\n",
    "        return 0"
   ]
  },
  {
   "cell_type": "code",
   "execution_count": 5,
   "id": "5f0fccf4",
   "metadata": {},
   "outputs": [],
   "source": [
    "#Das Ergebnis für die Subkategorie Familie wird zurückgegeben.\n",
    "def get_liwc_family(dic):\n",
    "    d = ast.literal_eval(dic)\n",
    "    try:\n",
    "        return d['family']\n",
    "    except KeyError:\n",
    "        return 0"
   ]
  },
  {
   "cell_type": "code",
   "execution_count": 6,
   "id": "1e439c83",
   "metadata": {},
   "outputs": [],
   "source": [
    "#Das Ergebnis für die Subkategorie Freunde wird zurückgegeben.\n",
    "def get_liwc_friend(dic):\n",
    "    d = ast.literal_eval(dic)\n",
    "    try:\n",
    "        return d['friend']\n",
    "    except KeyError:\n",
    "        return 0"
   ]
  },
  {
   "cell_type": "code",
   "execution_count": 7,
   "id": "582fa242",
   "metadata": {},
   "outputs": [],
   "source": [
    "#Das Ergebnis für die Subkategorie Weibliche wörter wird zurückgegeben.\n",
    "def get_liwc_female(dic):\n",
    "    d = ast.literal_eval(dic)\n",
    "    try:\n",
    "        return d['female']\n",
    "    except KeyError:\n",
    "        return 0"
   ]
  },
  {
   "cell_type": "code",
   "execution_count": 8,
   "id": "e28de9ef",
   "metadata": {},
   "outputs": [],
   "source": [
    "#Das Ergebnis für die Subkategorie mänliche Wörter wird zurückgegeben.\n",
    "def get_liwc_male(dic):\n",
    "    d = ast.literal_eval(dic)\n",
    "    try:\n",
    "        return d['male']\n",
    "    except KeyError:\n",
    "        return 0\n"
   ]
  },
  {
   "cell_type": "code",
   "execution_count": 9,
   "id": "b4897bf2",
   "metadata": {},
   "outputs": [],
   "source": [
    "#Das Ergebnis für die Subkategorie Arbeit wird zurückgegeben.\n",
    "def get_liwc_work(dic):\n",
    "    d = ast.literal_eval(dic)\n",
    "    try:\n",
    "        return d['work']\n",
    "    except KeyError:\n",
    "        return 0"
   ]
  },
  {
   "cell_type": "code",
   "execution_count": 10,
   "id": "eb2bbf7f",
   "metadata": {},
   "outputs": [],
   "source": [
    "#Das Ergebnis für die Subkategorie Freizeit wird zurückgegeben.\n",
    "def get_liwc_leisure(dic):\n",
    "    d = ast.literal_eval(dic)\n",
    "    try:\n",
    "        return d['leisure']\n",
    "    except KeyError:\n",
    "        return 0\n"
   ]
  },
  {
   "cell_type": "code",
   "execution_count": 11,
   "id": "56e1a675",
   "metadata": {},
   "outputs": [],
   "source": [
    "#Das Ergebnis für die Subkategorie Zuhause wird zurückgegeben.\n",
    "def get_liwc_home(dic):\n",
    "    d = ast.literal_eval(dic)\n",
    "    try:\n",
    "        return d['home']\n",
    "    except KeyError:\n",
    "        return 0"
   ]
  },
  {
   "cell_type": "code",
   "execution_count": 12,
   "id": "5c022eac",
   "metadata": {},
   "outputs": [],
   "source": [
    "#Das Ergebnis für die Subkategorie Geld wird zurückgegeben.\n",
    "def get_liwc_money(dic):\n",
    "    d = ast.literal_eval(dic)\n",
    "    try:\n",
    "        return d['money']\n",
    "    except KeyError:\n",
    "        return 0"
   ]
  },
  {
   "cell_type": "code",
   "execution_count": 13,
   "id": "aa497a6c",
   "metadata": {},
   "outputs": [],
   "source": [
    "#Das Ergebnis für die Subkategorie Relegion wird zurückgegeben.\n",
    "def get_liwc_religion(dic):\n",
    "    d = ast.literal_eval(dic)\n",
    "    try:\n",
    "        return d['relig']\n",
    "    except KeyError:\n",
    "        return 0\n"
   ]
  },
  {
   "cell_type": "code",
   "execution_count": 14,
   "id": "dc40b2de",
   "metadata": {},
   "outputs": [],
   "source": [
    "#Das Ergebnis für die Subkategorie Tod wird zurückgegeben.\n",
    "def get_liwc_death(dic):\n",
    "    d = ast.literal_eval(dic)\n",
    "    try:\n",
    "        return d['death']\n",
    "    except KeyError:\n",
    "        return 0"
   ]
  },
  {
   "cell_type": "code",
   "execution_count": 15,
   "id": "a03f003d",
   "metadata": {},
   "outputs": [],
   "source": [
    "#Das Ergebnis für die Subkategorie informelle Sprache wird zurückgegeben.\n",
    "def get_liwc_informal(dic):\n",
    "    d = ast.literal_eval(dic)\n",
    "    try:\n",
    "        return d['informal']\n",
    "    except KeyError:\n",
    "        return 0"
   ]
  },
  {
   "cell_type": "code",
   "execution_count": 16,
   "id": "754a02fc",
   "metadata": {},
   "outputs": [],
   "source": [
    "#Das Ergebnis für die Subkategorie Schimpfwörter wird zurückgegeben.\n",
    "def get_liwc_swear(dic):\n",
    "    d = ast.literal_eval(dic)\n",
    "    try:\n",
    "        return d['swear']\n",
    "    except KeyError:\n",
    "        return 0\n"
   ]
  },
  {
   "cell_type": "code",
   "execution_count": 17,
   "id": "f6b18913",
   "metadata": {},
   "outputs": [],
   "source": [
    "#Das Ergebnis für die Subkategorie Netspeak wird zurückgegeben.\n",
    "def get_liwc_netspeak(dic):\n",
    "    d = ast.literal_eval(dic)\n",
    "    try:\n",
    "        return d['netspeak']\n",
    "    except KeyError:\n",
    "        return 0\n"
   ]
  },
  {
   "cell_type": "code",
   "execution_count": 18,
   "id": "d126eaf3",
   "metadata": {},
   "outputs": [],
   "source": [
    "#Das Ergebnis für die Subkategorie Einnverständis wird zurückgegeben.\n",
    "def get_liwc_assent(dic):\n",
    "    d = ast.literal_eval(dic)\n",
    "    try:\n",
    "        return d['assent']\n",
    "    except KeyError:\n",
    "        return 0"
   ]
  },
  {
   "cell_type": "code",
   "execution_count": 19,
   "id": "339c447e",
   "metadata": {},
   "outputs": [],
   "source": [
    "#Das Ergebnis für die Subkategorie nicht fließende Wörter wird zurückgegeben.\n",
    "def get_liwc_nonfl(dic):\n",
    "    d = ast.literal_eval(dic)\n",
    "    try:\n",
    "        return d['nonflu']\n",
    "    except KeyError:\n",
    "        return 0"
   ]
  },
  {
   "cell_type": "code",
   "execution_count": 20,
   "id": "4bfe0c61",
   "metadata": {},
   "outputs": [],
   "source": [
    "#Das Ergebnis für die Subkategorie füllwörter wird zurückgegeben.\n",
    "def get_liwc_filler(dic):\n",
    "    d = ast.literal_eval(dic)\n",
    "    try:\n",
    "        return d['filler']\n",
    "    except KeyError:\n",
    "        return 0\n"
   ]
  },
  {
   "cell_type": "code",
   "execution_count": 21,
   "id": "60b568f3",
   "metadata": {},
   "outputs": [],
   "source": [
    "#Das Ergebnis für die Subkategorie Körper wird zurückgegeben.\n",
    "def get_liwc_body(dic):\n",
    "    d = ast.literal_eval(dic)\n",
    "    try:\n",
    "        return d['body']\n",
    "    except KeyError:\n",
    "        return 0"
   ]
  },
  {
   "cell_type": "code",
   "execution_count": 22,
   "id": "a463c1e0",
   "metadata": {},
   "outputs": [],
   "source": [
    "#Das Ergebnis für die Subkategorie Gesunheit wird zurückgegeben.\n",
    "def get_liwc_health(dic):\n",
    "    d = ast.literal_eval(dic)\n",
    "    try:\n",
    "        return d['health']\n",
    "    except KeyError:\n",
    "        return 0\n"
   ]
  },
  {
   "cell_type": "code",
   "execution_count": 23,
   "id": "b481e4eb",
   "metadata": {},
   "outputs": [],
   "source": [
    "#Das Ergebnis für die Subkategorie Sexual wird zurückgegeben.\n",
    "def get_liwc_sexual(dic):\n",
    "    d = ast.literal_eval(dic)\n",
    "    try:\n",
    "        return d['sexual']\n",
    "    except KeyError:\n",
    "        return 0"
   ]
  },
  {
   "cell_type": "code",
   "execution_count": 24,
   "id": "22a39e72",
   "metadata": {},
   "outputs": [],
   "source": [
    "#Das Ergebnis für die Subkategorie Ingestieren wird zurückgegeben.\n",
    "def get_liwc_ingest(dic):\n",
    "    d = ast.literal_eval(dic)\n",
    "    try:\n",
    "        return d['ingest']\n",
    "    except KeyError:\n",
    "        return 0"
   ]
  },
  {
   "cell_type": "code",
   "execution_count": 25,
   "id": "79d3d900",
   "metadata": {},
   "outputs": [],
   "source": [
    "#Das Ergebnis für die Subkategorie positive Emotionen wird zurückgegeben.\n",
    "def get_liwc_posemo(dic):\n",
    "    d = ast.literal_eval(dic)\n",
    "    try:\n",
    "        return d['posemo']\n",
    "    except KeyError:\n",
    "        return 0"
   ]
  },
  {
   "cell_type": "code",
   "execution_count": 26,
   "id": "93dea6bb",
   "metadata": {},
   "outputs": [],
   "source": [
    "#Das Ergebnis für die Subkategorie Negative emotionen wird zurückgegeben.\n",
    "def get_liwc_negemo(dic):\n",
    "    d = ast.literal_eval(dic)\n",
    "    try:\n",
    "        return d['negemo']\n",
    "    except KeyError:\n",
    "        return 0\n"
   ]
  },
  {
   "cell_type": "code",
   "execution_count": 27,
   "id": "69c5a3ba",
   "metadata": {},
   "outputs": [],
   "source": [
    "#Das Ergebnis für die Subkategorie Angst wird zurückgegeben.\n",
    "def get_liwc_anx(dic):\n",
    "    d = ast.literal_eval(dic)\n",
    "    try:\n",
    "        return d['anx']\n",
    "    except KeyError:\n",
    "        return 0\n"
   ]
  },
  {
   "cell_type": "code",
   "execution_count": 28,
   "id": "5468185d",
   "metadata": {},
   "outputs": [],
   "source": [
    "#Das Ergebnis für die Subkategorie Zorn wird zurückgegeben.\n",
    "def get_liwc_anger(dic):\n",
    "    d = ast.literal_eval(dic)\n",
    "    try:\n",
    "        return d['anger']\n",
    "    except KeyError:\n",
    "        return 0"
   ]
  },
  {
   "cell_type": "code",
   "execution_count": 29,
   "id": "b6435f87",
   "metadata": {},
   "outputs": [],
   "source": [
    "#Das Ergebnis für die Subkategorie Traurigkeit wird zurückgegeben.\n",
    "def get_liwc_sad(dic):\n",
    "    d = ast.literal_eval(dic)\n",
    "    try:\n",
    "        return d['sad']\n",
    "    except KeyError:\n",
    "        return 0"
   ]
  },
  {
   "cell_type": "code",
   "execution_count": 30,
   "id": "f823df3d",
   "metadata": {},
   "outputs": [],
   "source": [
    "#Das Ergebnis für die Subkategorie Einblick wird zurückgegeben.\n",
    "def get_liwc_insight(dic):\n",
    "    d = ast.literal_eval(dic)\n",
    "    try:\n",
    "        return d['insight']\n",
    "    except KeyError:\n",
    "        return 0"
   ]
  },
  {
   "cell_type": "code",
   "execution_count": 31,
   "id": "5230400f",
   "metadata": {},
   "outputs": [],
   "source": [
    "#Das Ergebnis für die Subkategorie Ursache wird zurückgegeben.\n",
    "def get_liwc_cause(dic):\n",
    "    d = ast.literal_eval(dic)\n",
    "    try:\n",
    "        return d['cause']\n",
    "    except KeyError:\n",
    "        return 0"
   ]
  },
  {
   "cell_type": "code",
   "execution_count": 32,
   "id": "d0a81789",
   "metadata": {},
   "outputs": [],
   "source": [
    "#Das Ergebnis für die Subkategorie Unstimmigkeit wird zurückgegeben.\n",
    "def get_liwc_discrep(dic):\n",
    "    d = ast.literal_eval(dic)\n",
    "    try:\n",
    "        return d['discrep']\n",
    "    except KeyError:\n",
    "        return 0"
   ]
  },
  {
   "cell_type": "code",
   "execution_count": 33,
   "id": "4bcd9f5e",
   "metadata": {},
   "outputs": [],
   "source": [
    "#Das Ergebnis für die Subkategorie Unsicherheit wird zurückgegeben.\n",
    "def get_liwc_tentat(dic):\n",
    "    d = ast.literal_eval(dic)\n",
    "    try:\n",
    "        return d['tentat']\n",
    "    except KeyError:\n",
    "        return 0"
   ]
  },
  {
   "cell_type": "code",
   "execution_count": 34,
   "id": "e731ab7f",
   "metadata": {},
   "outputs": [],
   "source": [
    "#Das Ergebnis für die Subkategorie Sicherheit wird zurückgegeben.\n",
    "def get_liwc_certain(dic):\n",
    "    d = ast.literal_eval(dic)\n",
    "    try:\n",
    "        return d['certain']\n",
    "    except KeyError:\n",
    "        return 0"
   ]
  },
  {
   "cell_type": "code",
   "execution_count": 35,
   "id": "b52e927a",
   "metadata": {},
   "outputs": [],
   "source": [
    "#Das Ergebnis für die Subkategorie Abgerenzung wird zurückgegeben.\n",
    "def get_liwc_differ(dic):\n",
    "    d = ast.literal_eval(dic)\n",
    "    try:\n",
    "        return d['differ']\n",
    "    except KeyError:\n",
    "        return 0"
   ]
  },
  {
   "cell_type": "code",
   "execution_count": 36,
   "id": "9e2299ac",
   "metadata": {},
   "outputs": [],
   "source": [
    "#Das Ergebnis für die Subkategorie Zugehörigkeit wird zurückgegeben.\n",
    "def get_liwc_affiliation(dic):\n",
    "    d = ast.literal_eval(dic)\n",
    "    try:\n",
    "        return d['affiliation']\n",
    "    except KeyError:\n",
    "        return 0"
   ]
  },
  {
   "cell_type": "code",
   "execution_count": 37,
   "id": "eaf4e849",
   "metadata": {},
   "outputs": [],
   "source": [
    "#Das Ergebnis für die Subkategorie Erreichen wird zurückgegeben.\n",
    "def get_liwc_achiev(dic):\n",
    "    d = ast.literal_eval(dic)\n",
    "    try:\n",
    "        return d['achiev']\n",
    "    except KeyError:\n",
    "        return 0"
   ]
  },
  {
   "cell_type": "code",
   "execution_count": 38,
   "id": "59dbd5fd",
   "metadata": {},
   "outputs": [],
   "source": [
    "#Das Ergebnis für die Subkategorie Power wird zurückgegeben.\n",
    "def get_liwc_power(dic):\n",
    "    d = ast.literal_eval(dic)\n",
    "    try:\n",
    "        return d['power']\n",
    "    except KeyError:\n",
    "        return 0"
   ]
  },
  {
   "cell_type": "code",
   "execution_count": 39,
   "id": "df61f505",
   "metadata": {},
   "outputs": [],
   "source": [
    "#Das Ergebnis für die Subkategorie Belohnung wird zurückgegeben.\n",
    "def get_liwc_reward(dic):\n",
    "    d = ast.literal_eval(dic)\n",
    "    try:\n",
    "        return d['reward']\n",
    "    except KeyError:\n",
    "        return 0\n"
   ]
  },
  {
   "cell_type": "code",
   "execution_count": 40,
   "id": "e3a5e57d",
   "metadata": {},
   "outputs": [],
   "source": [
    "#Das Ergebnis für die Subkategorie Risiko wird zurückgegeben.\n",
    "def get_liwc_risk(dic):\n",
    "    d = ast.literal_eval(dic)\n",
    "    try:\n",
    "        return d['risk']\n",
    "    except KeyError:\n",
    "        return 0"
   ]
  },
  {
   "cell_type": "markdown",
   "id": "50a7ef4a",
   "metadata": {},
   "source": [
    "---"
   ]
  },
  {
   "cell_type": "code",
   "execution_count": 41,
   "id": "cedaceda",
   "metadata": {},
   "outputs": [
    {
     "name": "stdout",
     "output_type": "stream",
     "text": [
      "Liwc_social wurde extrahiert!\n"
     ]
    }
   ],
   "source": [
    "#Für alle Tweets die Methode get_liwc_social() wird gerufen. Die Ausgabe der Methode wird gespeichert. \n",
    "df['social'] = df.apply(lambda row: get_liwc_social(row['liwc']), axis=1)\n",
    "print('Liwc_social wurde extrahiert!')   "
   ]
  },
  {
   "cell_type": "code",
   "execution_count": 42,
   "id": "e11e761c",
   "metadata": {},
   "outputs": [
    {
     "name": "stdout",
     "output_type": "stream",
     "text": [
      "Liwc_family wurde extrahiert!\n"
     ]
    }
   ],
   "source": [
    "#Für alle Tweets die Methode get_liwc_family() wird gerufen. Die Ausgabe der Methode wird gespeichert. \n",
    "df['family'] = df.apply(lambda row: get_liwc_family(row['liwc']), axis=1)\n",
    "print('Liwc_family wurde extrahiert!')"
   ]
  },
  {
   "cell_type": "code",
   "execution_count": 43,
   "id": "70973eda",
   "metadata": {},
   "outputs": [
    {
     "name": "stdout",
     "output_type": "stream",
     "text": [
      "Liwc_friend wurde extrahiert!\n"
     ]
    }
   ],
   "source": [
    "#Für alle Tweets die Methode get_liwc_friend() wird gerufen. Die Ausgabe der Methode wird gespeichert. \n",
    "df['friend'] = df.apply(lambda row: get_liwc_friend(row['liwc']), axis=1)\n",
    "print('Liwc_friend wurde extrahiert!')"
   ]
  },
  {
   "cell_type": "code",
   "execution_count": 44,
   "id": "90398b91",
   "metadata": {},
   "outputs": [
    {
     "name": "stdout",
     "output_type": "stream",
     "text": [
      "Liwc_female wurde extrahiert!\n"
     ]
    }
   ],
   "source": [
    "#Für alle Tweets die Methode get_liwc_female() wird gerufen. Die Ausgabe der Methode wird gespeichert. \n",
    "df['female'] = df.apply(lambda row: get_liwc_female(row['liwc']), axis=1)\n",
    "print('Liwc_female wurde extrahiert!')"
   ]
  },
  {
   "cell_type": "code",
   "execution_count": 45,
   "id": "bbb084e8",
   "metadata": {},
   "outputs": [
    {
     "name": "stdout",
     "output_type": "stream",
     "text": [
      "Liwc_male wurde extrahiert!\n"
     ]
    }
   ],
   "source": [
    "#Für alle Tweets die Methode get_liwc_male() wird gerufen. Die Ausgabe der Methode wird gespeichert. \n",
    "df['male'] = df.apply(lambda row: get_liwc_male(row['liwc']), axis=1)\n",
    "print('Liwc_male wurde extrahiert!')"
   ]
  },
  {
   "cell_type": "code",
   "execution_count": 46,
   "id": "823a1d37",
   "metadata": {},
   "outputs": [
    {
     "name": "stdout",
     "output_type": "stream",
     "text": [
      "Liwc_work wurde extrahiert!\n"
     ]
    }
   ],
   "source": [
    "#Für alle Tweets die Methode get_liwc_work() wird gerufen. Die Ausgabe der Methode wird gespeichert. \n",
    "df['work'] = df.apply(lambda row: get_liwc_work(row['liwc']), axis=1)\n",
    "print('Liwc_work wurde extrahiert!')"
   ]
  },
  {
   "cell_type": "code",
   "execution_count": 47,
   "id": "3e5f3507",
   "metadata": {},
   "outputs": [
    {
     "name": "stdout",
     "output_type": "stream",
     "text": [
      "Liwc_leisure wurde extrahiert!\n"
     ]
    }
   ],
   "source": [
    "#Für alle Tweets die Methode get_liwc_leisure() wird gerufen. Die Ausgabe der Methode wird gespeichert. \n",
    "df['leisure'] = df.apply(lambda row: get_liwc_leisure(row['liwc']), axis=1)\n",
    "print('Liwc_leisure wurde extrahiert!')"
   ]
  },
  {
   "cell_type": "code",
   "execution_count": 48,
   "id": "bf73d86e",
   "metadata": {},
   "outputs": [
    {
     "name": "stdout",
     "output_type": "stream",
     "text": [
      "Liwc_home wurde extrahiert!\n"
     ]
    }
   ],
   "source": [
    "#Für alle Tweets die Methode get_liwc_home() wird gerufen. Die Ausgabe der Methode wird gespeichert. \n",
    "df['home'] = df.apply(lambda row: get_liwc_home(row['liwc']), axis=1)\n",
    "print('Liwc_home wurde extrahiert!')"
   ]
  },
  {
   "cell_type": "code",
   "execution_count": 49,
   "id": "eec6fe97",
   "metadata": {},
   "outputs": [
    {
     "name": "stdout",
     "output_type": "stream",
     "text": [
      "Liwc_home wurde extrahiert!\n"
     ]
    }
   ],
   "source": [
    "#Für alle Tweets die Methode get_liwc_money() wird gerufen. Die Ausgabe der Methode wird gespeichert. \n",
    "df['money'] = df.apply(lambda row: get_liwc_money(row['liwc']), axis=1)\n",
    "print('Liwc_home wurde extrahiert!')"
   ]
  },
  {
   "cell_type": "code",
   "execution_count": 50,
   "id": "958351e9",
   "metadata": {},
   "outputs": [
    {
     "name": "stdout",
     "output_type": "stream",
     "text": [
      "Liwc_religion wurde extrahiert!\n"
     ]
    }
   ],
   "source": [
    "#Für alle Tweets die Methode get_liwc_religion() wird gerufen. Die Ausgabe der Methode wird gespeichert. \n",
    "df['religion'] = df.apply(lambda row: get_liwc_religion(row['liwc']), axis=1)\n",
    "print('Liwc_religion wurde extrahiert!')"
   ]
  },
  {
   "cell_type": "code",
   "execution_count": 51,
   "id": "c43a3a90",
   "metadata": {},
   "outputs": [
    {
     "name": "stdout",
     "output_type": "stream",
     "text": [
      "Liwc_death wurde extrahiert!\n"
     ]
    }
   ],
   "source": [
    "#Für alle Tweets die Methode get_liwc_death() wird gerufen. Die Ausgabe der Methode wird gespeichert. \n",
    "df['death'] = df.apply(lambda row: get_liwc_death(row['liwc']), axis=1)\n",
    "print('Liwc_death wurde extrahiert!')"
   ]
  },
  {
   "cell_type": "code",
   "execution_count": 52,
   "id": "382339ed",
   "metadata": {},
   "outputs": [
    {
     "name": "stdout",
     "output_type": "stream",
     "text": [
      "Liwc_informal wurde extrahiert!\n"
     ]
    }
   ],
   "source": [
    "#Für alle Tweets die Methode get_liwc_informal() wird gerufen. Die Ausgabe der Methode wird gespeichert. \n",
    "df['informal'] = df.apply(lambda row: get_liwc_informal(row['liwc']), axis=1)\n",
    "print('Liwc_informal wurde extrahiert!')"
   ]
  },
  {
   "cell_type": "code",
   "execution_count": 53,
   "id": "23f3b83b",
   "metadata": {},
   "outputs": [
    {
     "name": "stdout",
     "output_type": "stream",
     "text": [
      "Liwc_swear wurde extrahiert!\n"
     ]
    }
   ],
   "source": [
    "#Für alle Tweets die Methode get_liwc_swear() wird gerufen. Die Ausgabe der Methode wird gespeichert. \n",
    "df['swear'] = df.apply(lambda row: get_liwc_swear(row['liwc']), axis=1)\n",
    "print('Liwc_swear wurde extrahiert!')"
   ]
  },
  {
   "cell_type": "code",
   "execution_count": 54,
   "id": "86d2c4b7",
   "metadata": {},
   "outputs": [
    {
     "name": "stdout",
     "output_type": "stream",
     "text": [
      "Liwc_netspeak wurde extrahiert!\n"
     ]
    }
   ],
   "source": [
    "#Für alle Tweets die Methode get_liwc_netspeak() wird gerufen. Die Ausgabe der Methode wird gespeichert. \n",
    "df['netspeak'] = df.apply(lambda row: get_liwc_netspeak(row['liwc']), axis=1)\n",
    "print('Liwc_netspeak wurde extrahiert!')"
   ]
  },
  {
   "cell_type": "code",
   "execution_count": 55,
   "id": "ecd0bace",
   "metadata": {},
   "outputs": [
    {
     "name": "stdout",
     "output_type": "stream",
     "text": [
      "Liwc_assent wurde extrahiert!\n"
     ]
    }
   ],
   "source": [
    "#Für alle Tweets die Methode get_liwc_assent() wird gerufen. Die Ausgabe der Methode wird gespeichert. \n",
    "df['assent'] = df.apply(lambda row: get_liwc_assent(row['liwc']), axis=1)\n",
    "print('Liwc_assent wurde extrahiert!')"
   ]
  },
  {
   "cell_type": "code",
   "execution_count": 56,
   "id": "ef5956b6",
   "metadata": {},
   "outputs": [
    {
     "name": "stdout",
     "output_type": "stream",
     "text": [
      "Liwc_nonfl wurde extrahiert!\n"
     ]
    }
   ],
   "source": [
    "#Für alle Tweets die Methode get_liwc_nonfl() wird gerufen. Die Ausgabe der Methode wird gespeichert. \n",
    "df['nonfl'] = df.apply(lambda row: get_liwc_nonfl(row['liwc']), axis=1)\n",
    "print('Liwc_nonfl wurde extrahiert!')\n"
   ]
  },
  {
   "cell_type": "code",
   "execution_count": 57,
   "id": "0b18dd86",
   "metadata": {},
   "outputs": [
    {
     "name": "stdout",
     "output_type": "stream",
     "text": [
      "Liwc_filler wurde extrahiert!\n"
     ]
    }
   ],
   "source": [
    "#Für alle Tweets die Methode get_liwc_filler() wird gerufen. Die Ausgabe der Methode wird gespeichert. \n",
    "df['filler'] = df.apply(lambda row: get_liwc_filler(row['liwc']), axis=1)\n",
    "print('Liwc_filler wurde extrahiert!')"
   ]
  },
  {
   "cell_type": "code",
   "execution_count": 58,
   "id": "403c27a5",
   "metadata": {},
   "outputs": [
    {
     "name": "stdout",
     "output_type": "stream",
     "text": [
      "Liwc_body wurde extrahiert!\n"
     ]
    }
   ],
   "source": [
    "#Für alle Tweets die Methode get_liwc_body() wird gerufen. Die Ausgabe der Methode wird gespeichert. \n",
    "df['body'] = df.apply(lambda row: get_liwc_body(row['liwc']), axis=1)\n",
    "print('Liwc_body wurde extrahiert!')"
   ]
  },
  {
   "cell_type": "code",
   "execution_count": 59,
   "id": "a95948b1",
   "metadata": {},
   "outputs": [
    {
     "name": "stdout",
     "output_type": "stream",
     "text": [
      "Liwc_health wurde extrahiert!\n"
     ]
    }
   ],
   "source": [
    "#Für alle Tweets die Methode get_liwc_health() wird gerufen. Die Ausgabe der Methode wird gespeichert. \n",
    "df['health'] = df.apply(lambda row: get_liwc_health(row['liwc']), axis=1)\n",
    "print('Liwc_health wurde extrahiert!')"
   ]
  },
  {
   "cell_type": "code",
   "execution_count": 60,
   "id": "85783700",
   "metadata": {},
   "outputs": [
    {
     "name": "stdout",
     "output_type": "stream",
     "text": [
      "Liwc_sexual wurde extrahiert!\n"
     ]
    }
   ],
   "source": [
    "#Für alle Tweets die Methode get_liwc_sexual() wird gerufen. Die Ausgabe der Methode wird gespeichert. \n",
    "df['sexual'] = df.apply(lambda row: get_liwc_sexual(row['liwc']), axis=1)\n",
    "print('Liwc_sexual wurde extrahiert!')"
   ]
  },
  {
   "cell_type": "code",
   "execution_count": 61,
   "id": "0f0044eb",
   "metadata": {},
   "outputs": [
    {
     "name": "stdout",
     "output_type": "stream",
     "text": [
      "Liwc_ingest wurde extrahiert!\n"
     ]
    }
   ],
   "source": [
    "#Für alle Tweets die Methode get_liwc_ingest() wird gerufen. Die Ausgabe der Methode wird gespeichert. \n",
    "df['ingest'] = df.apply(lambda row: get_liwc_ingest(row['liwc']), axis=1)\n",
    "print('Liwc_ingest wurde extrahiert!')"
   ]
  },
  {
   "cell_type": "code",
   "execution_count": 62,
   "id": "b8acf6b0",
   "metadata": {},
   "outputs": [
    {
     "name": "stdout",
     "output_type": "stream",
     "text": [
      "Liwc_posemo wurde extrahiert!\n"
     ]
    }
   ],
   "source": [
    "#Für alle Tweets die Methode get_liwc_posemo() wird gerufen. Die Ausgabe der Methode wird gespeichert. \n",
    "df['posemo'] = df.apply(lambda row: get_liwc_posemo(row['liwc']), axis=1)\n",
    "print('Liwc_posemo wurde extrahiert!')"
   ]
  },
  {
   "cell_type": "code",
   "execution_count": 63,
   "id": "008adea8",
   "metadata": {},
   "outputs": [
    {
     "name": "stdout",
     "output_type": "stream",
     "text": [
      "Liwc_negemo wurde extrahiert!\n"
     ]
    }
   ],
   "source": [
    "#Für alle Tweets die Methode get_liwc_negemo() wird gerufen. Die Ausgabe der Methode wird gespeichert. \n",
    "df['negemo'] = df.apply(lambda row: get_liwc_negemo(row['liwc']), axis=1)\n",
    "print('Liwc_negemo wurde extrahiert!')"
   ]
  },
  {
   "cell_type": "code",
   "execution_count": 64,
   "id": "48fd35f9",
   "metadata": {},
   "outputs": [
    {
     "name": "stdout",
     "output_type": "stream",
     "text": [
      "Liwc_anx wurde extrahiert!\n"
     ]
    }
   ],
   "source": [
    "#Für alle Tweets die Methode get_liwc_anx() wird gerufen. Die Ausgabe der Methode wird gespeichert. \n",
    "df['anx'] = df.apply(lambda row: get_liwc_anx(row['liwc']), axis=1)\n",
    "print('Liwc_anx wurde extrahiert!')"
   ]
  },
  {
   "cell_type": "code",
   "execution_count": 65,
   "id": "d80f5808",
   "metadata": {},
   "outputs": [
    {
     "name": "stdout",
     "output_type": "stream",
     "text": [
      "Liwc_anger wurde extrahiert!\n"
     ]
    }
   ],
   "source": [
    "#Für alle Tweets die Methode get_liwc_anger() wird gerufen. Die Ausgabe der Methode wird gespeichert. \n",
    "df['anger'] = df.apply(lambda row: get_liwc_anger(row['liwc']), axis=1)\n",
    "print('Liwc_anger wurde extrahiert!')"
   ]
  },
  {
   "cell_type": "code",
   "execution_count": 66,
   "id": "e4f3e118",
   "metadata": {},
   "outputs": [
    {
     "name": "stdout",
     "output_type": "stream",
     "text": [
      "Liwc_sad wurde extrahiert!\n"
     ]
    }
   ],
   "source": [
    "#Für alle Tweets die Methode get_liwc_sad() wird gerufen. Die Ausgabe der Methode wird gespeichert. \n",
    "df['sad'] = df.apply(lambda row: get_liwc_sad(row['liwc']), axis=1)\n",
    "print('Liwc_sad wurde extrahiert!')"
   ]
  },
  {
   "cell_type": "code",
   "execution_count": 67,
   "id": "e05d9828",
   "metadata": {},
   "outputs": [
    {
     "name": "stdout",
     "output_type": "stream",
     "text": [
      "Liwc_insight wurde extrahiert!\n"
     ]
    }
   ],
   "source": [
    "#Für alle Tweets die Methode get_liwc_insight() wird gerufen. Die Ausgabe der Methode wird gespeichert. \n",
    "df['insight'] = df.apply(lambda row: get_liwc_insight(row['liwc']), axis=1)\n",
    "print('Liwc_insight wurde extrahiert!')"
   ]
  },
  {
   "cell_type": "code",
   "execution_count": 68,
   "id": "a9a53ff7",
   "metadata": {},
   "outputs": [
    {
     "name": "stdout",
     "output_type": "stream",
     "text": [
      "Liwc_cause wurde extrahiert!\n"
     ]
    }
   ],
   "source": [
    "#Für alle Tweets die Methode get_liwc_cause() wird gerufen. Die Ausgabe der Methode wird gespeichert. \n",
    "df['cause'] = df.apply(lambda row: get_liwc_cause(row['liwc']), axis=1)\n",
    "print('Liwc_cause wurde extrahiert!')"
   ]
  },
  {
   "cell_type": "code",
   "execution_count": 69,
   "id": "edb71521",
   "metadata": {},
   "outputs": [
    {
     "name": "stdout",
     "output_type": "stream",
     "text": [
      "Liwc_discrep wurde extrahiert!\n"
     ]
    }
   ],
   "source": [
    "#Für alle Tweets die Methode get_liwc_discrep() wird gerufen. Die Ausgabe der Methode wird gespeichert. \n",
    "df['discrep'] = df.apply(lambda row: get_liwc_discrep(row['liwc']), axis=1)\n",
    "print('Liwc_discrep wurde extrahiert!')"
   ]
  },
  {
   "cell_type": "code",
   "execution_count": 70,
   "id": "b8fe70bd",
   "metadata": {},
   "outputs": [
    {
     "name": "stdout",
     "output_type": "stream",
     "text": [
      "Liwc_tentat wurde extrahiert!\n"
     ]
    }
   ],
   "source": [
    "#Für alle Tweets die Methode get_liwc_tentat() wird gerufen. Die Ausgabe der Methode wird gespeichert. \n",
    "df['tentat'] = df.apply(lambda row: get_liwc_tentat(row['liwc']), axis=1)\n",
    "print('Liwc_tentat wurde extrahiert!')"
   ]
  },
  {
   "cell_type": "code",
   "execution_count": 71,
   "id": "8b15a19c",
   "metadata": {},
   "outputs": [
    {
     "name": "stdout",
     "output_type": "stream",
     "text": [
      "Liwc_certain wurde extrahiert!\n"
     ]
    }
   ],
   "source": [
    "#Für alle Tweets die Methode get_liwc_certain() wird gerufen. Die Ausgabe der Methode wird gespeichert. \n",
    "df['certain'] = df.apply(lambda row: get_liwc_certain(row['liwc']), axis=1)\n",
    "print('Liwc_certain wurde extrahiert!')"
   ]
  },
  {
   "cell_type": "code",
   "execution_count": 72,
   "id": "a5fd5d16",
   "metadata": {},
   "outputs": [
    {
     "name": "stdout",
     "output_type": "stream",
     "text": [
      "Liwc_differ wurde extrahiert!\n"
     ]
    }
   ],
   "source": [
    "#Für alle Tweets die Methode get_liwc_differ() wird gerufen. Die Ausgabe der Methode wird gespeichert. \n",
    "df['differ'] = df.apply(lambda row: get_liwc_differ(row['liwc']), axis=1)\n",
    "print('Liwc_differ wurde extrahiert!')"
   ]
  },
  {
   "cell_type": "code",
   "execution_count": 73,
   "id": "586a026c",
   "metadata": {},
   "outputs": [
    {
     "name": "stdout",
     "output_type": "stream",
     "text": [
      "Liwc_affiliation wurde extrahiert!\n"
     ]
    }
   ],
   "source": [
    "#Für alle Tweets die Methode get_liwc_affiliation() wird gerufen. Die Ausgabe der Methode wird gespeichert. \n",
    "df['affiliation'] = df.apply(lambda row: get_liwc_affiliation(row['liwc']), axis=1)\n",
    "print('Liwc_affiliation wurde extrahiert!')"
   ]
  },
  {
   "cell_type": "code",
   "execution_count": 74,
   "id": "808b0611",
   "metadata": {},
   "outputs": [
    {
     "name": "stdout",
     "output_type": "stream",
     "text": [
      "Liwc_achiev wurde extrahiert!\n"
     ]
    }
   ],
   "source": [
    "#Für alle Tweets die Methode get_liwc_achiev() wird gerufen. Die Ausgabe der Methode wird gespeichert. \n",
    "df['achiev'] = df.apply(lambda row: get_liwc_achiev(row['liwc']), axis=1)\n",
    "print('Liwc_achiev wurde extrahiert!')"
   ]
  },
  {
   "cell_type": "code",
   "execution_count": 75,
   "id": "548cc5a9",
   "metadata": {},
   "outputs": [
    {
     "name": "stdout",
     "output_type": "stream",
     "text": [
      "Liwc_power wurde extrahiert!\n"
     ]
    }
   ],
   "source": [
    "#Für alle Tweets die Methode get_liwc_power() wird gerufen. Die Ausgabe der Methode wird gespeichert. \n",
    "df['power'] = df.apply(lambda row: get_liwc_power(row['liwc']), axis=1)\n",
    "print('Liwc_power wurde extrahiert!')"
   ]
  },
  {
   "cell_type": "code",
   "execution_count": 76,
   "id": "887fe9d7",
   "metadata": {},
   "outputs": [
    {
     "name": "stdout",
     "output_type": "stream",
     "text": [
      "Liwc_reward wurde extrahiert!\n"
     ]
    }
   ],
   "source": [
    "#Für alle Tweets die Methode get_liwc_power() wird gerufen. Die Ausgabe der Methode wird gespeichert. \n",
    "df['reward'] = df.apply(lambda row: get_liwc_power(row['liwc']), axis=1)\n",
    "print('Liwc_reward wurde extrahiert!')"
   ]
  },
  {
   "cell_type": "code",
   "execution_count": 77,
   "id": "1e087244",
   "metadata": {},
   "outputs": [
    {
     "name": "stdout",
     "output_type": "stream",
     "text": [
      "Liwc_risk wurde extrahiert!\n"
     ]
    }
   ],
   "source": [
    "#Für alle Tweets die Methode get_liwc_risk() wird gerufen. Die Ausgabe der Methode wird gespeichert. \n",
    "df['risk'] = df.apply(lambda row: get_liwc_risk(row['liwc']), axis=1)\n",
    "print('Liwc_risk wurde extrahiert!')"
   ]
  },
  {
   "cell_type": "code",
   "execution_count": 78,
   "id": "54a2df21",
   "metadata": {},
   "outputs": [],
   "source": [
    "#Die Ergebnisse Speichern.\n",
    "TweetsKB_Pfad =  'C:/Mo/tweetDB/tweetscov19/TweetsCov19_tsv/data_sample/TweetsKB_stichprobe_liwc_risk.tsv'\n",
    "\n",
    "with open(TweetsKB_Pfad, 'w', newline='', encoding=\"utf-8\") as out_file:\n",
    "    tsv_writer = csv.writer(out_file, delimiter=\"\\t\")\n",
    "    for idx, row in df.iterrows():\n",
    "        tsv_writer.writerow(row.values.tolist())"
   ]
  },
  {
   "cell_type": "markdown",
   "id": "f379477c",
   "metadata": {},
   "source": [
    "----"
   ]
  },
  {
   "cell_type": "code",
   "execution_count": 3,
   "id": "2ecba4d4",
   "metadata": {},
   "outputs": [
    {
     "name": "stdout",
     "output_type": "stream",
     "text": [
      "Form: (9409841, 3)\n"
     ]
    },
    {
     "data": {
      "text/html": [
       "<div>\n",
       "<style scoped>\n",
       "    .dataframe tbody tr th:only-of-type {\n",
       "        vertical-align: middle;\n",
       "    }\n",
       "\n",
       "    .dataframe tbody tr th {\n",
       "        vertical-align: top;\n",
       "    }\n",
       "\n",
       "    .dataframe thead th {\n",
       "        text-align: right;\n",
       "    }\n",
       "</style>\n",
       "<table border=\"1\" class=\"dataframe\">\n",
       "  <thead>\n",
       "    <tr style=\"text-align: right;\">\n",
       "      <th></th>\n",
       "      <th>Tweet_Id</th>\n",
       "      <th>Ist_gelöscht</th>\n",
       "      <th>liwc</th>\n",
       "    </tr>\n",
       "  </thead>\n",
       "  <tbody>\n",
       "    <tr>\n",
       "      <th>0</th>\n",
       "      <td>1178791637348212736</td>\n",
       "      <td>True</td>\n",
       "      <td>{'function': 38.46, 'pronoun': 7.69, 'ppron': ...</td>\n",
       "    </tr>\n",
       "    <tr>\n",
       "      <th>1</th>\n",
       "      <td>1178791641601232896</td>\n",
       "      <td>False</td>\n",
       "      <td>{'function': 33.33, 'prep': 26.67, 'relativ': ...</td>\n",
       "    </tr>\n",
       "    <tr>\n",
       "      <th>2</th>\n",
       "      <td>1178791643509612547</td>\n",
       "      <td>False</td>\n",
       "      <td>{'verb': 18.52, 'social': 11.11, 'percept': 3....</td>\n",
       "    </tr>\n",
       "    <tr>\n",
       "      <th>3</th>\n",
       "      <td>1178791644214235137</td>\n",
       "      <td>False</td>\n",
       "      <td>{'function': 27.27, 'prep': 13.64, 'drives': 9...</td>\n",
       "    </tr>\n",
       "    <tr>\n",
       "      <th>4</th>\n",
       "      <td>1178791645371875329</td>\n",
       "      <td>False</td>\n",
       "      <td>{'adj': 8.89, 'affect': 4.44, 'posemo': 4.44, ...</td>\n",
       "    </tr>\n",
       "  </tbody>\n",
       "</table>\n",
       "</div>"
      ],
      "text/plain": [
       "              Tweet_Id  Ist_gelöscht  \\\n",
       "0  1178791637348212736          True   \n",
       "1  1178791641601232896         False   \n",
       "2  1178791643509612547         False   \n",
       "3  1178791644214235137         False   \n",
       "4  1178791645371875329         False   \n",
       "\n",
       "                                                liwc  \n",
       "0  {'function': 38.46, 'pronoun': 7.69, 'ppron': ...  \n",
       "1  {'function': 33.33, 'prep': 26.67, 'relativ': ...  \n",
       "2  {'verb': 18.52, 'social': 11.11, 'percept': 3....  \n",
       "3  {'function': 27.27, 'prep': 13.64, 'drives': 9...  \n",
       "4  {'adj': 8.89, 'affect': 4.44, 'posemo': 4.44, ...  "
      ]
     },
     "execution_count": 3,
     "metadata": {},
     "output_type": "execute_result"
    }
   ],
   "source": [
    "TweetsCov19_Pfad = 'C:/Mo/tweetDB/tweetscov19/TweetsCov19_tsv/data_sample/TweetsCov19_sample/TweetsCov19_stichprobe_liwc.tsv'\n",
    "df_tweetscov19 = pd.read_csv(TweetsCov19_Pfad, sep='\\t', error_bad_lines=False, names=['Tweet_Id', 'Ist_gelöscht', 'liwc'])\n",
    "print('Form:', df_tweetscov19.shape)\n",
    "df_tweetscov19.head()"
   ]
  },
  {
   "cell_type": "markdown",
   "id": "25ed3743",
   "metadata": {},
   "source": [
    "***"
   ]
  },
  {
   "cell_type": "code",
   "execution_count": 2,
   "id": "51d66e99",
   "metadata": {},
   "outputs": [
    {
     "name": "stdout",
     "output_type": "stream",
     "text": [
      "Form : (9409841, 3)\n"
     ]
    },
    {
     "data": {
      "text/html": [
       "<div>\n",
       "<style scoped>\n",
       "    .dataframe tbody tr th:only-of-type {\n",
       "        vertical-align: middle;\n",
       "    }\n",
       "\n",
       "    .dataframe tbody tr th {\n",
       "        vertical-align: top;\n",
       "    }\n",
       "\n",
       "    .dataframe thead th {\n",
       "        text-align: right;\n",
       "    }\n",
       "</style>\n",
       "<table border=\"1\" class=\"dataframe\">\n",
       "  <thead>\n",
       "    <tr style=\"text-align: right;\">\n",
       "      <th></th>\n",
       "      <th>Tweet_Id</th>\n",
       "      <th>Ist_gelöscht</th>\n",
       "      <th>liwc</th>\n",
       "    </tr>\n",
       "  </thead>\n",
       "  <tbody>\n",
       "    <tr>\n",
       "      <th>0</th>\n",
       "      <td>1178791636039589889</td>\n",
       "      <td>False</td>\n",
       "      <td>{'function': 28.57, 'prep': 11.43, 'relativ': ...</td>\n",
       "    </tr>\n",
       "    <tr>\n",
       "      <th>1</th>\n",
       "      <td>1178791641265639424</td>\n",
       "      <td>True</td>\n",
       "      <td>{}</td>\n",
       "    </tr>\n",
       "    <tr>\n",
       "      <th>2</th>\n",
       "      <td>1178791640573579264</td>\n",
       "      <td>True</td>\n",
       "      <td>{}</td>\n",
       "    </tr>\n",
       "    <tr>\n",
       "      <th>3</th>\n",
       "      <td>1178791644797255680</td>\n",
       "      <td>True</td>\n",
       "      <td>{'function': 23.08, 'article': 7.69, 'number':...</td>\n",
       "    </tr>\n",
       "    <tr>\n",
       "      <th>4</th>\n",
       "      <td>1178791648056217600</td>\n",
       "      <td>False</td>\n",
       "      <td>{'function': 23.08, 'pronoun': 10.26, 'ppron':...</td>\n",
       "    </tr>\n",
       "  </tbody>\n",
       "</table>\n",
       "</div>"
      ],
      "text/plain": [
       "              Tweet_Id  Ist_gelöscht  \\\n",
       "0  1178791636039589889         False   \n",
       "1  1178791641265639424          True   \n",
       "2  1178791640573579264          True   \n",
       "3  1178791644797255680          True   \n",
       "4  1178791648056217600         False   \n",
       "\n",
       "                                                liwc  \n",
       "0  {'function': 28.57, 'prep': 11.43, 'relativ': ...  \n",
       "1                                                 {}  \n",
       "2                                                 {}  \n",
       "3  {'function': 23.08, 'article': 7.69, 'number':...  \n",
       "4  {'function': 23.08, 'pronoun': 10.26, 'ppron':...  "
      ]
     },
     "execution_count": 2,
     "metadata": {},
     "output_type": "execute_result"
    }
   ],
   "source": [
    "TweetsKB_Pfad =  'C:/Mo/tweetDB/tweetscov19/TweetsCov19_tsv/data_sample/TweetsKB_stichprobe_liwc.tsv'\n",
    "df_tweetskb = pd.read_csv(TweetsKB_Pfad, sep='\\t', error_bad_lines=False, names=['Tweet_Id', 'Ist_gelöscht', 'liwc'])\n",
    "print('Form :', df_tweetskb.shape)\n",
    "df_tweetskb.head()"
   ]
  },
  {
   "cell_type": "markdown",
   "id": "f305a4a6",
   "metadata": {},
   "source": [
    "***"
   ]
  },
  {
   "cell_type": "markdown",
   "id": "0302da6a",
   "metadata": {},
   "source": [
    "### Teil 2"
   ]
  },
  {
   "cell_type": "code",
   "execution_count": 5,
   "id": "ca4a9385",
   "metadata": {},
   "outputs": [],
   "source": [
    "df = df_tweetskb\n",
    "#df = df_tweetscov19"
   ]
  },
  {
   "cell_type": "code",
   "execution_count": 6,
   "id": "43072848",
   "metadata": {},
   "outputs": [],
   "source": [
    "#Das Ergebnis für die Subkategorie Fokus auf die Vergangenheit wird zurückgegeben.\n",
    "def get_liwc_focuspast(dic):\n",
    "    d = ast.literal_eval(dic)\n",
    "    try:\n",
    "        return d['focuspast']\n",
    "    except KeyError:\n",
    "        return 0"
   ]
  },
  {
   "cell_type": "code",
   "execution_count": 7,
   "id": "b3f22cfe",
   "metadata": {},
   "outputs": [],
   "source": [
    "#Das Ergebnis für die Subkategorie Fokus auf die Peresent wird zurückgegeben.\n",
    "def get_liwc_focuspresent(dic):\n",
    "    d = ast.literal_eval(dic)\n",
    "    try:\n",
    "        return d['focuspresent']\n",
    "    except KeyError:\n",
    "        return 0\n"
   ]
  },
  {
   "cell_type": "code",
   "execution_count": 8,
   "id": "d9460ee7",
   "metadata": {},
   "outputs": [],
   "source": [
    "#Das Ergebnis für die Subkategorie Fokus auf die Zukunft wird zurückgegeben.\n",
    "def get_liwc_focusfuture(dic):\n",
    "    d = ast.literal_eval(dic)\n",
    "    try:\n",
    "        return d['focusfuture']\n",
    "    except KeyError:\n",
    "        return 0\n"
   ]
  },
  {
   "cell_type": "code",
   "execution_count": 9,
   "id": "31528554",
   "metadata": {},
   "outputs": [],
   "source": [
    "#Das Ergebnis für die Subkategorie Ich wird zurückgegeben.\n",
    "def get_liwc_i(dic):\n",
    "    d = ast.literal_eval(dic)\n",
    "    try:\n",
    "        return d['i']\n",
    "    except KeyError:\n",
    "        return 0"
   ]
  },
  {
   "cell_type": "code",
   "execution_count": 10,
   "id": "d925a28b",
   "metadata": {},
   "outputs": [],
   "source": [
    "#Das Ergebnis für die Subkategorie We wird zurückgegeben.\n",
    "def get_liwc_we(dic):\n",
    "    d = ast.literal_eval(dic)\n",
    "    try:\n",
    "        return d['we']\n",
    "    except KeyError:\n",
    "        return 0"
   ]
  },
  {
   "cell_type": "code",
   "execution_count": 11,
   "id": "fb9e10cc",
   "metadata": {},
   "outputs": [],
   "source": [
    "#Das Ergebnis für die Subkategorie You wird zurückgegeben.\n",
    "def get_liwc_you(dic):\n",
    "    d = ast.literal_eval(dic)\n",
    "    try:\n",
    "        return d['you']\n",
    "    except KeyError:\n",
    "        return 0"
   ]
  },
  {
   "cell_type": "code",
   "execution_count": 12,
   "id": "ff87e8c9",
   "metadata": {},
   "outputs": [],
   "source": [
    "#Das Ergebnis für die Subkategorie Schehe wird zurückgegeben.\n",
    "def get_liwc_shehe(dic):\n",
    "    d = ast.literal_eval(dic)\n",
    "    try:\n",
    "        return d['shehe']\n",
    "    except KeyError:\n",
    "        return 0"
   ]
  },
  {
   "cell_type": "code",
   "execution_count": 13,
   "id": "245d218c",
   "metadata": {},
   "outputs": [],
   "source": [
    "#Das Ergebnis für die Subkategorie They wird zurückgegeben.\n",
    "def get_liwc_they(dic):\n",
    "    d = ast.literal_eval(dic)\n",
    "    try:\n",
    "        return d['they']\n",
    "    except KeyError:\n",
    "        return 0"
   ]
  },
  {
   "cell_type": "code",
   "execution_count": 14,
   "id": "76640e84",
   "metadata": {},
   "outputs": [],
   "source": [
    "#Das Ergebnis für die Subkategorie IPron wird zurückgegeben.\n",
    "def get_liwc_ipron(dic):\n",
    "    d = ast.literal_eval(dic)\n",
    "    try:\n",
    "        return d['ipron']\n",
    "    except KeyError:\n",
    "        return 0"
   ]
  },
  {
   "cell_type": "code",
   "execution_count": 15,
   "id": "36a2cf42",
   "metadata": {},
   "outputs": [],
   "source": [
    "#Das Ergebnis für die Subkategorie die Artikel wird zurückgegeben.\n",
    "def get_liwc_article(dic):\n",
    "    d = ast.literal_eval(dic)\n",
    "    try:\n",
    "        return d['article']\n",
    "    except KeyError:\n",
    "        return 0"
   ]
  },
  {
   "cell_type": "code",
   "execution_count": 16,
   "id": "edac2104",
   "metadata": {},
   "outputs": [],
   "source": [
    "#Das Ergebnis für die Subkategorie Preposition wird zurückgegeben.\n",
    "def get_liwc_prep(dic):\n",
    "    d = ast.literal_eval(dic)\n",
    "    try:\n",
    "        return d['prep']\n",
    "    except KeyError:\n",
    "        return 0"
   ]
  },
  {
   "cell_type": "code",
   "execution_count": 17,
   "id": "d6c8291e",
   "metadata": {},
   "outputs": [],
   "source": [
    "#Das Ergebnis für die Subkategorie Hilfsverb wird zurückgegeben.\n",
    "def get_liwc_auxverb(dic):\n",
    "    d = ast.literal_eval(dic)\n",
    "    try:\n",
    "        return d['auxverb']\n",
    "    except KeyError:\n",
    "        return 0"
   ]
  },
  {
   "cell_type": "code",
   "execution_count": 18,
   "id": "da74442d",
   "metadata": {},
   "outputs": [],
   "source": [
    "#Das Ergebnis für die Subkategorie Adverb wird zurückgegeben.\n",
    "def get_liwc_adverb(dic):\n",
    "    d = ast.literal_eval(dic)\n",
    "    try:\n",
    "        return d['adverb']\n",
    "    except KeyError:\n",
    "        return 0"
   ]
  },
  {
   "cell_type": "code",
   "execution_count": 19,
   "id": "fd7203dd",
   "metadata": {},
   "outputs": [],
   "source": [
    "#Das Ergebnis für die Subkategorie Familie Konijugation wird zurückgegeben.\n",
    "def get_liwc_conj(dic):\n",
    "    d = ast.literal_eval(dic)\n",
    "    try:\n",
    "        return d['conj']\n",
    "    except KeyError:\n",
    "        return 0"
   ]
  },
  {
   "cell_type": "code",
   "execution_count": 20,
   "id": "94827040",
   "metadata": {},
   "outputs": [],
   "source": [
    "#Das Ergebnis für die Subkategorie Neation wird zurückgegeben.\n",
    "def get_liwc_negate(dic):\n",
    "    d = ast.literal_eval(dic)\n",
    "    try:\n",
    "        return d['negate']\n",
    "    except KeyError:\n",
    "        return 0\n"
   ]
  },
  {
   "cell_type": "code",
   "execution_count": 21,
   "id": "aaffad24",
   "metadata": {},
   "outputs": [],
   "source": [
    "#Das Ergebnis für die Subkategorie Verb wird zurückgegeben.\n",
    "def get_liwc_verb(dic):\n",
    "    d = ast.literal_eval(dic)\n",
    "    try:\n",
    "        return d['verb']\n",
    "    except KeyError:\n",
    "        return 0"
   ]
  },
  {
   "cell_type": "code",
   "execution_count": 22,
   "id": "0f99025d",
   "metadata": {},
   "outputs": [],
   "source": [
    "#Das Ergebnis für die Subkategorie Adjectiv wird zurückgegeben.\n",
    "def get_liwc_adj(dic):\n",
    "    d = ast.literal_eval(dic)\n",
    "    try:\n",
    "        return d['adj']\n",
    "    except KeyError:\n",
    "        return 0"
   ]
  },
  {
   "cell_type": "code",
   "execution_count": 23,
   "id": "f8170b3c",
   "metadata": {},
   "outputs": [],
   "source": [
    "#Das Ergebnis für die Subkategorie Komparativ wird zurückgegeben.\n",
    "def get_liwc_compare(dic):\n",
    "    d = ast.literal_eval(dic)\n",
    "    try:\n",
    "        return d['compare']\n",
    "    except KeyError:\n",
    "        return 0"
   ]
  },
  {
   "cell_type": "code",
   "execution_count": 24,
   "id": "8dc7f7d8",
   "metadata": {},
   "outputs": [],
   "source": [
    "#Das Ergebnis für die Subkategorie Interogativ wird zurückgegeben.\n",
    "def get_liwc_interrog(dic):\n",
    "    d = ast.literal_eval(dic)\n",
    "    try:\n",
    "        return d['interrog']\n",
    "    except KeyError:\n",
    "        return 0"
   ]
  },
  {
   "cell_type": "code",
   "execution_count": 25,
   "id": "8bdd23e7",
   "metadata": {},
   "outputs": [],
   "source": [
    "#Das Ergebnis für die Subkategorie Zahlen wird zurückgegeben.\n",
    "def get_liwc_number(dic):\n",
    "    d = ast.literal_eval(dic)\n",
    "    try:\n",
    "        return d['number']\n",
    "    except KeyError:\n",
    "        return 0"
   ]
  },
  {
   "cell_type": "code",
   "execution_count": 26,
   "id": "d1ddb653",
   "metadata": {},
   "outputs": [],
   "source": [
    "#Das Ergebnis für die Subkategorie Quantitaiv wird zurückgegeben.\n",
    "def get_liwc_quant(dic):\n",
    "    d = ast.literal_eval(dic)\n",
    "    try:\n",
    "        return d['quant']\n",
    "    except KeyError:\n",
    "        return 0"
   ]
  },
  {
   "cell_type": "code",
   "execution_count": 27,
   "id": "ab6f6c83",
   "metadata": {},
   "outputs": [],
   "source": [
    "#Das Ergebnis für die Subkategorie Sehen wird zurückgegeben.\n",
    "def get_liwc_see(dic):\n",
    "    d = ast.literal_eval(dic)\n",
    "    try:\n",
    "        return d['see']\n",
    "    except KeyError:\n",
    "        return 0"
   ]
  },
  {
   "cell_type": "code",
   "execution_count": 28,
   "id": "3544d425",
   "metadata": {},
   "outputs": [],
   "source": [
    "#Das Ergebnis für die Subkategorie Hören wird zurückgegeben.\n",
    "def get_liwc_hear(dic):\n",
    "    d = ast.literal_eval(dic)\n",
    "    try:\n",
    "        return d['hear']\n",
    "    except KeyError:\n",
    "        return 0"
   ]
  },
  {
   "cell_type": "code",
   "execution_count": 29,
   "id": "87bbceea",
   "metadata": {},
   "outputs": [],
   "source": [
    "#Das Ergebnis für die Subkategorie Fühlen wird zurückgegeben.\n",
    "def get_liwc_feel(dic):\n",
    "    d = ast.literal_eval(dic)\n",
    "    try:\n",
    "        return d['feel']\n",
    "    except KeyError:\n",
    "        return 0"
   ]
  },
  {
   "cell_type": "code",
   "execution_count": 30,
   "id": "8f23fecd",
   "metadata": {},
   "outputs": [],
   "source": [
    "#Das Ergebnis für die Subkategorie Emotion wird zurückgegeben.\n",
    "def get_liwc_motion(dic):\n",
    "    d = ast.literal_eval(dic)\n",
    "    try:\n",
    "        return d['motion']\n",
    "    except KeyError:\n",
    "        return 0"
   ]
  },
  {
   "cell_type": "code",
   "execution_count": 31,
   "id": "9793b069",
   "metadata": {},
   "outputs": [],
   "source": [
    "#Das Ergebnis für die Subkategorie Raum wird zurückgegeben.\n",
    "def get_liwc_space(dic):\n",
    "    d = ast.literal_eval(dic)\n",
    "    try:\n",
    "        return d['space']\n",
    "    except KeyError:\n",
    "        return 0"
   ]
  },
  {
   "cell_type": "code",
   "execution_count": 32,
   "id": "47235c72",
   "metadata": {},
   "outputs": [],
   "source": [
    "#Das Ergebnis für die Subkategorie Zeit wird zurückgegeben.\n",
    "def get_liwc_time(dic):\n",
    "    d = ast.literal_eval(dic)\n",
    "    try:\n",
    "        return d['time']\n",
    "    except KeyError:\n",
    "        return 0\n"
   ]
  },
  {
   "cell_type": "code",
   "execution_count": 33,
   "id": "65364b78",
   "metadata": {},
   "outputs": [
    {
     "name": "stdout",
     "output_type": "stream",
     "text": [
      "Liwc_focuspast wurde extrahiert!\n"
     ]
    }
   ],
   "source": [
    "#Für alle Tweets die Methode get_liwc_focuspast() wird gerufen. Die Ausgabe der Methode wird gespeichert. \n",
    "df['focuspast'] = df.apply(lambda row: get_liwc_focuspast(row['liwc']), axis=1)\n",
    "print('Liwc_focuspast wurde extrahiert!')"
   ]
  },
  {
   "cell_type": "code",
   "execution_count": 34,
   "id": "b091e74d",
   "metadata": {},
   "outputs": [
    {
     "name": "stdout",
     "output_type": "stream",
     "text": [
      "Liwc_focuspresent wurde extrahiert!\n"
     ]
    }
   ],
   "source": [
    "#Für alle Tweets die Methode get_liwc_focuspresent() wird gerufen. Die Ausgabe der Methode wird gespeichert. \n",
    "df['focuspresent'] = df.apply(lambda row: get_liwc_focuspresent(row['liwc']), axis=1)\n",
    "print('Liwc_focuspresent wurde extrahiert!')"
   ]
  },
  {
   "cell_type": "code",
   "execution_count": 35,
   "id": "4ae92b95",
   "metadata": {},
   "outputs": [
    {
     "name": "stdout",
     "output_type": "stream",
     "text": [
      "Liwc_focusfuture wurde extrahiert!\n"
     ]
    }
   ],
   "source": [
    "#Für alle Tweets die Methode get_liwc_focusfuture() wird gerufen. Die Ausgabe der Methode wird gespeichert. \n",
    "df['focusfuture'] = df.apply(lambda row: get_liwc_focusfuture(row['liwc']), axis=1)\n",
    "print('Liwc_focusfuture wurde extrahiert!')"
   ]
  },
  {
   "cell_type": "code",
   "execution_count": 36,
   "id": "1fb2a95c",
   "metadata": {},
   "outputs": [
    {
     "name": "stdout",
     "output_type": "stream",
     "text": [
      "Liwc_i wurde extrahiert!\n"
     ]
    }
   ],
   "source": [
    "#Für alle Tweets die Methode get_liwc_i() wird gerufen. Die Ausgabe der Methode wird gespeichert. \n",
    "df['i'] = df.apply(lambda row: get_liwc_i(row['liwc']), axis=1)\n",
    "print('Liwc_i wurde extrahiert!')"
   ]
  },
  {
   "cell_type": "code",
   "execution_count": 37,
   "id": "30b60c89",
   "metadata": {},
   "outputs": [
    {
     "name": "stdout",
     "output_type": "stream",
     "text": [
      "Liwc_we wurde extrahiert!\n"
     ]
    }
   ],
   "source": [
    "#Für alle Tweets die Methode get_liwc_we() wird gerufen. Die Ausgabe der Methode wird gespeichert. \n",
    "df['we'] = df.apply(lambda row: get_liwc_we(row['liwc']), axis=1)\n",
    "print('Liwc_we wurde extrahiert!')"
   ]
  },
  {
   "cell_type": "code",
   "execution_count": 38,
   "id": "0b9f1000",
   "metadata": {},
   "outputs": [
    {
     "name": "stdout",
     "output_type": "stream",
     "text": [
      "Liwc_you wurde extrahiert!\n"
     ]
    }
   ],
   "source": [
    "#Für alle Tweets die Methode get_liwc_you() wird gerufen. Die Ausgabe der Methode wird gespeichert. \n",
    "df['you'] = df.apply(lambda row: get_liwc_you(row['liwc']), axis=1)\n",
    "print('Liwc_you wurde extrahiert!')"
   ]
  },
  {
   "cell_type": "code",
   "execution_count": 39,
   "id": "21fe1019",
   "metadata": {},
   "outputs": [
    {
     "name": "stdout",
     "output_type": "stream",
     "text": [
      "Liwc_shehe wurde extrahiert!\n"
     ]
    }
   ],
   "source": [
    "#Für alle Tweets die Methode get_liwc_shehe() wird gerufen. Die Ausgabe der Methode wird gespeichert. \n",
    "df['shehe'] = df.apply(lambda row: get_liwc_shehe(row['liwc']), axis=1)\n",
    "print('Liwc_shehe wurde extrahiert!')"
   ]
  },
  {
   "cell_type": "code",
   "execution_count": 40,
   "id": "843d6814",
   "metadata": {},
   "outputs": [
    {
     "name": "stdout",
     "output_type": "stream",
     "text": [
      "Liwc_they wurde extrahiert!\n"
     ]
    }
   ],
   "source": [
    "#Für alle Tweets die Methode get_liwc_they() wird gerufen. Die Ausgabe der Methode wird gespeichert. \n",
    "df['they'] = df.apply(lambda row: get_liwc_they(row['liwc']), axis=1)\n",
    "print('Liwc_they wurde extrahiert!')"
   ]
  },
  {
   "cell_type": "code",
   "execution_count": 41,
   "id": "091459db",
   "metadata": {},
   "outputs": [
    {
     "name": "stdout",
     "output_type": "stream",
     "text": [
      "Liwc_ipron wurde extrahiert!\n"
     ]
    }
   ],
   "source": [
    "#Für alle Tweets die Methode get_liwc_ipron() wird gerufen. Die Ausgabe der Methode wird gespeichert. \n",
    "df['ipron'] = df.apply(lambda row: get_liwc_ipron(row['liwc']), axis=1)\n",
    "print('Liwc_ipron wurde extrahiert!')"
   ]
  },
  {
   "cell_type": "code",
   "execution_count": 42,
   "id": "2203f3f7",
   "metadata": {},
   "outputs": [
    {
     "name": "stdout",
     "output_type": "stream",
     "text": [
      "Liwc_article wurde extrahiert!\n"
     ]
    }
   ],
   "source": [
    "#Für alle Tweets die Methode get_liwc_article() wird gerufen. Die Ausgabe der Methode wird gespeichert. \n",
    "df['article'] = df.apply(lambda row: get_liwc_article(row['liwc']), axis=1)\n",
    "print('Liwc_article wurde extrahiert!')"
   ]
  },
  {
   "cell_type": "code",
   "execution_count": 43,
   "id": "e990bbd4",
   "metadata": {},
   "outputs": [
    {
     "name": "stdout",
     "output_type": "stream",
     "text": [
      "Liwc_prep wurde extrahiert!\n"
     ]
    }
   ],
   "source": [
    "#Für alle Tweets die Methode get_liwc_prep() wird gerufen. Die Ausgabe der Methode wird gespeichert. \n",
    "df['prep'] = df.apply(lambda row: get_liwc_prep(row['liwc']), axis=1)\n",
    "print('Liwc_prep wurde extrahiert!')"
   ]
  },
  {
   "cell_type": "code",
   "execution_count": 44,
   "id": "ad226b62",
   "metadata": {},
   "outputs": [
    {
     "name": "stdout",
     "output_type": "stream",
     "text": [
      "Liwc_auxverb wurde extrahiert!\n"
     ]
    }
   ],
   "source": [
    "#Für alle Tweets die Methode get_liwc_auxverb() wird gerufen. Die Ausgabe der Methode wird gespeichert. \n",
    "df['auxverb'] = df.apply(lambda row: get_liwc_auxverb(row['liwc']), axis=1)\n",
    "print('Liwc_auxverb wurde extrahiert!')"
   ]
  },
  {
   "cell_type": "code",
   "execution_count": 45,
   "id": "3de0cb52",
   "metadata": {},
   "outputs": [
    {
     "name": "stdout",
     "output_type": "stream",
     "text": [
      "Liwc_adverb wurde extrahiert!\n"
     ]
    }
   ],
   "source": [
    "#Für alle Tweets die Methode get_liwc_adverb() wird gerufen. Die Ausgabe der Methode wird gespeichert. \n",
    "df['adverb'] = df.apply(lambda row: get_liwc_adverb(row['liwc']), axis=1)\n",
    "print('Liwc_adverb wurde extrahiert!')"
   ]
  },
  {
   "cell_type": "code",
   "execution_count": 46,
   "id": "aba4c92d",
   "metadata": {},
   "outputs": [
    {
     "name": "stdout",
     "output_type": "stream",
     "text": [
      "Liwc_conj wurde extrahiert!\n"
     ]
    }
   ],
   "source": [
    "#Für alle Tweets die Methode get_liwc_conj() wird gerufen. Die Ausgabe der Methode wird gespeichert. \n",
    "df['conj'] = df.apply(lambda row: get_liwc_conj(row['liwc']), axis=1)\n",
    "print('Liwc_conj wurde extrahiert!')"
   ]
  },
  {
   "cell_type": "code",
   "execution_count": 47,
   "id": "80195107",
   "metadata": {},
   "outputs": [
    {
     "name": "stdout",
     "output_type": "stream",
     "text": [
      "Liwc_negate wurde extrahiert!\n"
     ]
    }
   ],
   "source": [
    "#Für alle Tweets die Methode get_liwc_negate() wird gerufen. Die Ausgabe der Methode wird gespeichert. \n",
    "df['negate'] = df.apply(lambda row: get_liwc_negate(row['liwc']), axis=1)\n",
    "print('Liwc_negate wurde extrahiert!')"
   ]
  },
  {
   "cell_type": "code",
   "execution_count": 48,
   "id": "73e2efaf",
   "metadata": {},
   "outputs": [
    {
     "name": "stdout",
     "output_type": "stream",
     "text": [
      "Liwc_verb wurde extrahiert!\n"
     ]
    }
   ],
   "source": [
    "#Für alle Tweets die Methode get_liwc_verb() wird gerufen. Die Ausgabe der Methode wird gespeichert. \n",
    "df['verb'] = df.apply(lambda row: get_liwc_verb(row['liwc']), axis=1)\n",
    "print('Liwc_verb wurde extrahiert!')"
   ]
  },
  {
   "cell_type": "code",
   "execution_count": 49,
   "id": "aa918a30",
   "metadata": {},
   "outputs": [
    {
     "name": "stdout",
     "output_type": "stream",
     "text": [
      "Liwc_adj wurde extrahiert!\n"
     ]
    }
   ],
   "source": [
    "#Für alle Tweets die Methode get_liwc_adj() wird gerufen. Die Ausgabe der Methode wird gespeichert. \n",
    "df['adj'] = df.apply(lambda row: get_liwc_adj(row['liwc']), axis=1)\n",
    "print('Liwc_adj wurde extrahiert!')"
   ]
  },
  {
   "cell_type": "code",
   "execution_count": 50,
   "id": "f5c522de",
   "metadata": {},
   "outputs": [
    {
     "name": "stdout",
     "output_type": "stream",
     "text": [
      "Liwc_compare wurde extrahiert!\n"
     ]
    }
   ],
   "source": [
    "#Für alle Tweets die Methode get_liwc_compare() wird gerufen. Die Ausgabe der Methode wird gespeichert. \n",
    "df['compare'] = df.apply(lambda row: get_liwc_compare(row['liwc']), axis=1)\n",
    "print('Liwc_compare wurde extrahiert!')"
   ]
  },
  {
   "cell_type": "code",
   "execution_count": 51,
   "id": "d17edd57",
   "metadata": {},
   "outputs": [
    {
     "name": "stdout",
     "output_type": "stream",
     "text": [
      "Liwc_interrog wurde extrahiert!\n"
     ]
    }
   ],
   "source": [
    "#Für alle Tweets die Methode get_liwc_interrog() wird gerufen. Die Ausgabe der Methode wird gespeichert. \n",
    "df['interrog'] = df.apply(lambda row: get_liwc_interrog(row['liwc']), axis=1)\n",
    "print('Liwc_interrog wurde extrahiert!')"
   ]
  },
  {
   "cell_type": "code",
   "execution_count": 52,
   "id": "f6c6988e",
   "metadata": {},
   "outputs": [
    {
     "name": "stdout",
     "output_type": "stream",
     "text": [
      "Liwc_number wurde extrahiert!\n"
     ]
    }
   ],
   "source": [
    "#Für alle Tweets die Methode get_liwc_number() wird gerufen. Die Ausgabe der Methode wird gespeichert. \n",
    "df['number'] = df.apply(lambda row: get_liwc_number(row['liwc']), axis=1)\n",
    "print('Liwc_number wurde extrahiert!')"
   ]
  },
  {
   "cell_type": "code",
   "execution_count": 53,
   "id": "992849c1",
   "metadata": {},
   "outputs": [
    {
     "name": "stdout",
     "output_type": "stream",
     "text": [
      "Liwc_quant wurde extrahiert!\n"
     ]
    }
   ],
   "source": [
    "#Für alle Tweets die Methode get_liwc_quant() wird gerufen. Die Ausgabe der Methode wird gespeichert. \n",
    "df['quant'] = df.apply(lambda row: get_liwc_quant(row['liwc']), axis=1)\n",
    "print('Liwc_quant wurde extrahiert!')"
   ]
  },
  {
   "cell_type": "code",
   "execution_count": 54,
   "id": "9793f89b",
   "metadata": {},
   "outputs": [
    {
     "name": "stdout",
     "output_type": "stream",
     "text": [
      "Liwc_see wurde extrahiert!\n"
     ]
    }
   ],
   "source": [
    "#Für alle Tweets die Methode get_liwc_see() wird gerufen. Die Ausgabe der Methode wird gespeichert. \n",
    "df['see'] = df.apply(lambda row: get_liwc_see(row['liwc']), axis=1)\n",
    "print('Liwc_see wurde extrahiert!')"
   ]
  },
  {
   "cell_type": "code",
   "execution_count": 55,
   "id": "be711db9",
   "metadata": {},
   "outputs": [
    {
     "name": "stdout",
     "output_type": "stream",
     "text": [
      "Liwc_hear wurde extrahiert!\n"
     ]
    }
   ],
   "source": [
    "#Für alle Tweets die Methode get_liwc_hear() wird gerufen. Die Ausgabe der Methode wird gespeichert. \n",
    "df['hear'] = df.apply(lambda row: get_liwc_hear(row['liwc']), axis=1)\n",
    "print('Liwc_hear wurde extrahiert!')"
   ]
  },
  {
   "cell_type": "code",
   "execution_count": 56,
   "id": "83071ffa",
   "metadata": {},
   "outputs": [
    {
     "name": "stdout",
     "output_type": "stream",
     "text": [
      "Liwc_feel wurde extrahiert!\n"
     ]
    }
   ],
   "source": [
    "#Für alle Tweets die Methode get_liwc_feel() wird gerufen. Die Ausgabe der Methode wird gespeichert. \n",
    "df['feel'] = df.apply(lambda row: get_liwc_feel(row['liwc']), axis=1)\n",
    "print('Liwc_feel wurde extrahiert!')"
   ]
  },
  {
   "cell_type": "code",
   "execution_count": 57,
   "id": "533b71b2",
   "metadata": {},
   "outputs": [
    {
     "name": "stdout",
     "output_type": "stream",
     "text": [
      "Liwc_motion wurde extrahiert!\n"
     ]
    }
   ],
   "source": [
    "#Für alle Tweets die Methode get_liwc_motion() wird gerufen. Die Ausgabe der Methode wird gespeichert. \n",
    "df['motion'] = df.apply(lambda row: get_liwc_motion(row['liwc']), axis=1)\n",
    "print('Liwc_motion wurde extrahiert!')"
   ]
  },
  {
   "cell_type": "code",
   "execution_count": 58,
   "id": "726b6316",
   "metadata": {},
   "outputs": [
    {
     "name": "stdout",
     "output_type": "stream",
     "text": [
      "Liwc_space wurde extrahiert!\n"
     ]
    }
   ],
   "source": [
    "#Für alle Tweets die Methode get_liwc_space() wird gerufen. Die Ausgabe der Methode wird gespeichert. \n",
    "df['space'] = df.apply(lambda row: get_liwc_space(row['liwc']), axis=1)\n",
    "print('Liwc_space wurde extrahiert!')"
   ]
  },
  {
   "cell_type": "code",
   "execution_count": 59,
   "id": "11c07519",
   "metadata": {},
   "outputs": [
    {
     "name": "stdout",
     "output_type": "stream",
     "text": [
      "Liwc_time wurde extrahiert!\n"
     ]
    }
   ],
   "source": [
    "#Für alle Tweets die Methode get_liwc_time() wird gerufen. Die Ausgabe der Methode wird gespeichert. \n",
    "df['time'] = df.apply(lambda row: get_liwc_time(row['liwc']), axis=1)\n",
    "print('Liwc_time wurde extrahiert!')"
   ]
  },
  {
   "cell_type": "code",
   "execution_count": 60,
   "id": "f61413d1",
   "metadata": {},
   "outputs": [],
   "source": [
    "#Die Resultaten speichern.\n",
    "TweetsKB_Pfad =  'C:/Mo/tweetDB/tweetscov19/TweetsCov19_tsv/data_sample/TweetsKB_stichprobe_liwc_time.tsv'\n",
    "\n",
    "with open(TweetsKB_Pfad, 'w', newline='', encoding=\"utf-8\") as out_file:\n",
    "    tsv_writer = csv.writer(out_file, delimiter=\"\\t\")\n",
    "    for idx, row in df.iterrows():\n",
    "        tsv_writer.writerow(row.values.tolist())"
   ]
  }
 ],
 "metadata": {
  "kernelspec": {
   "display_name": "Python 3",
   "language": "python",
   "name": "python3"
  },
  "language_info": {
   "codemirror_mode": {
    "name": "ipython",
    "version": 3
   },
   "file_extension": ".py",
   "mimetype": "text/x-python",
   "name": "python",
   "nbconvert_exporter": "python",
   "pygments_lexer": "ipython3",
   "version": "3.8.8"
  }
 },
 "nbformat": 4,
 "nbformat_minor": 5
}
